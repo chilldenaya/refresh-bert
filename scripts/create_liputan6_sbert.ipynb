{
 "cells": [
  {
   "cell_type": "code",
   "execution_count": 2,
   "id": "native-donna",
   "metadata": {},
   "outputs": [],
   "source": [
    "from sentence_transformers import SentenceTransformer, util\n",
    "\n",
    "model = SentenceTransformer('/home/jupyter-23521027/refresh-bert/data/sbert/indobert-large-p1_dense_trained-epoch14', device='cuda:0')"
   ]
  },
  {
   "cell_type": "code",
   "execution_count": 3,
   "id": "driving-shopper",
   "metadata": {},
   "outputs": [
    {
     "data": {
      "text/html": [
       "<div>\n",
       "<style scoped>\n",
       "    .dataframe tbody tr th:only-of-type {\n",
       "        vertical-align: middle;\n",
       "    }\n",
       "\n",
       "    .dataframe tbody tr th {\n",
       "        vertical-align: top;\n",
       "    }\n",
       "\n",
       "    .dataframe thead th {\n",
       "        text-align: right;\n",
       "    }\n",
       "</style>\n",
       "<table border=\"1\" class=\"dataframe\">\n",
       "  <thead>\n",
       "    <tr style=\"text-align: right;\">\n",
       "      <th></th>\n",
       "      <th>id</th>\n",
       "      <th>url</th>\n",
       "      <th>clean_article</th>\n",
       "      <th>clean_summary</th>\n",
       "      <th>extractive_summary</th>\n",
       "      <th>sentences</th>\n",
       "    </tr>\n",
       "  </thead>\n",
       "  <tbody>\n",
       "    <tr>\n",
       "      <th>193882</th>\n",
       "      <td>65953</td>\n",
       "      <td>https://www.liputan6.com/news/read/65953/ditem...</td>\n",
       "      <td>[[Liputan6, ., com, ,, Langkat, :, Tim, Search...</td>\n",
       "      <td>[[Tim, SAR, kembali, menemukan, satu, jenazah,...</td>\n",
       "      <td>[1, 2, 3]</td>\n",
       "      <td>[Liputan6 . com , Langkat : Tim Search and Res...</td>\n",
       "    </tr>\n",
       "  </tbody>\n",
       "</table>\n",
       "</div>"
      ],
      "text/plain": [
       "           id                                                url  \\\n",
       "193882  65953  https://www.liputan6.com/news/read/65953/ditem...   \n",
       "\n",
       "                                            clean_article  \\\n",
       "193882  [[Liputan6, ., com, ,, Langkat, :, Tim, Search...   \n",
       "\n",
       "                                            clean_summary extractive_summary  \\\n",
       "193882  [[Tim, SAR, kembali, menemukan, satu, jenazah,...          [1, 2, 3]   \n",
       "\n",
       "                                                sentences  \n",
       "193882  [Liputan6 . com , Langkat : Tim Search and Res...  "
      ]
     },
     "execution_count": 3,
     "metadata": {},
     "output_type": "execute_result"
    }
   ],
   "source": [
    "import os\n",
    "import json\n",
    "import pandas as pd\n",
    "\n",
    "folder_path = '/home/jupyter-23521027/refresh-bert/data/liputan6_data/canonical/train' \n",
    "\n",
    "file_list = os.listdir(folder_path)\n",
    "json_data_list = []\n",
    "file_list = os.listdir(folder_path)\n",
    "\n",
    "for file_name in file_list:\n",
    "    file_path = os.path.join(folder_path, file_name) \n",
    "\n",
    "    if os.path.isfile(file_path):\n",
    "        with open(file_path, 'r') as file:\n",
    "            json_data = json.load(file)\n",
    "            json_data_list.append(json_data)\n",
    "\n",
    "df = pd.DataFrame(json_data_list)\n",
    "df['sentences'] = df['clean_article'].apply(lambda x: [' '.join(sentence) for sentence in x])\n",
    "df.tail(1)"
   ]
  },
  {
   "cell_type": "code",
   "execution_count": null,
   "id": "young-center",
   "metadata": {},
   "outputs": [],
   "source": [
    "file_path = \"/home/jupyter-23521027/refresh-bert/data/preprocessed-input-directory/liputan6.training.indobertlargep1.sbert\"\n",
    "\n",
    "existing_ids = []\n",
    "with open(file_path, 'r') as file:\n",
    "    lines = file.readlines()\n",
    "\n",
    "    for line in lines:\n",
    "        line = line.strip()\n",
    "\n",
    "        if line and ' ' not in line:\n",
    "            existing_ids.append(line.split(\"-\")[1])\n",
    "            \n",
    "print(existing_ids[:5])\n",
    "print(len(existing_ids))"
   ]
  },
  {
   "cell_type": "code",
   "execution_count": 5,
   "id": "human-medium",
   "metadata": {},
   "outputs": [
    {
     "name": "stdout",
     "output_type": "stream",
     "text": [
      "[]\n"
     ]
    }
   ],
   "source": [
    "print(existing_ids[-5:])\n"
   ]
  },
  {
   "cell_type": "code",
   "execution_count": null,
   "id": "continuous-lyric",
   "metadata": {},
   "outputs": [
    {
     "name": "stdout",
     "output_type": "stream",
     "text": [
      "processing 1000 with time: 0:06:16.355109\n",
      "processing 2000 with time: 0:12:26.768287\n",
      "processing 3000 with time: 0:18:30.343420\n",
      "processing 4000 with time: 0:24:29.152993\n",
      "processing 5000 with time: 0:30:32.568734\n",
      "processing 6000 with time: 0:36:31.627195\n",
      "processing 7000 with time: 0:42:45.353220\n",
      "processing 8000 with time: 0:48:50.320470\n",
      "processing 9000 with time: 0:54:46.456782\n",
      "processing 10000 with time: 1:01:02.777158\n",
      "processing 11000 with time: 1:07:15.687578\n",
      "processing 12000 with time: 1:13:30.405016\n",
      "processing 13000 with time: 1:19:27.909411\n",
      "processing 14000 with time: 1:25:23.646172\n",
      "processing 15000 with time: 1:31:33.967622\n",
      "processing 16000 with time: 1:37:22.638197\n",
      "processing 17000 with time: 1:43:28.202540\n",
      "processing 18000 with time: 1:49:24.337046\n",
      "processing 19000 with time: 1:55:45.195093\n",
      "processing 20000 with time: 2:01:58.887874\n",
      "processing 21000 with time: 2:07:56.833970\n",
      "processing 22000 with time: 2:13:51.090864\n",
      "processing 23000 with time: 2:19:39.466027\n",
      "processing 24000 with time: 2:25:48.921243\n",
      "processing 25000 with time: 2:32:16.257351\n",
      "processing 26000 with time: 2:38:21.790985\n",
      "processing 27000 with time: 2:44:31.811653\n",
      "processing 28000 with time: 2:50:39.513720\n",
      "processing 29000 with time: 2:57:02.907794\n",
      "processing 30000 with time: 3:04:09.212748\n",
      "processing 31000 with time: 3:10:59.032358\n",
      "processing 32000 with time: 3:17:42.696071\n",
      "processing 33000 with time: 3:24:13.357450\n",
      "processing 34000 with time: 3:30:16.415186\n",
      "processing 35000 with time: 3:36:22.482998\n",
      "processing 36000 with time: 3:42:47.532955\n",
      "processing 37000 with time: 3:48:57.687326\n",
      "processing 38000 with time: 3:54:58.272597\n",
      "processing 39000 with time: 4:01:14.430631\n",
      "processing 40000 with time: 4:07:27.580421\n",
      "processing 41000 with time: 4:14:12.338344\n",
      "processing 42000 with time: 4:20:32.051033\n",
      "processing 43000 with time: 4:27:04.811470\n",
      "processing 44000 with time: 4:33:38.457741\n",
      "processing 45000 with time: 4:39:57.923110\n",
      "processing 46000 with time: 4:46:13.662645\n",
      "processing 47000 with time: 4:52:39.679371\n",
      "processing 48000 with time: 4:58:48.965989\n",
      "processing 49000 with time: 5:04:55.349565\n",
      "processing 50000 with time: 5:11:22.733396\n",
      "processing 51000 with time: 5:17:35.473301\n",
      "processing 52000 with time: 5:23:54.451356\n",
      "processing 53000 with time: 5:30:24.400030\n",
      "processing 54000 with time: 5:36:53.395168\n",
      "processing 55000 with time: 5:43:28.177908\n",
      "processing 56000 with time: 5:50:04.059553\n",
      "processing 57000 with time: 5:56:30.744152\n",
      "processing 58000 with time: 6:02:50.995970\n",
      "processing 59000 with time: 6:09:06.212441\n",
      "processing 60000 with time: 6:14:45.836056\n",
      "processing 61000 with time: 6:20:52.298037\n",
      "processing 62000 with time: 6:27:01.410596\n",
      "processing 63000 with time: 6:33:00.292951\n",
      "processing 64000 with time: 6:39:27.101375\n",
      "processing 65000 with time: 6:46:24.442364\n",
      "processing 66000 with time: 6:53:09.057863\n",
      "processing 67000 with time: 6:59:21.049346\n"
     ]
    }
   ],
   "source": [
    "from datetime import datetime\n",
    "\n",
    "MAX_DOC_LENGTH = 100\n",
    "MAX_SENT_EMBEDDING_LENGTH = 250\n",
    "DATASET_SIZE = 999999\n",
    "\n",
    "now = datetime.now()\n",
    "file = open(file_path , 'a')\n",
    "file.write(\"\\n\")\n",
    "\n",
    "for i, row in df.iterrows():\n",
    "    if str(row['id']) in existing_ids:\n",
    "        continue\n",
    "\n",
    "    file.write(f\"liputan6-{str(row['id'])}\\n\")\n",
    "\n",
    "    for sent_txt in row[\"sentences\"][:MAX_DOC_LENGTH]:\n",
    "        sent_embedding = model.encode(sent_txt, convert_to_numpy=True).tolist()[:MAX_SENT_EMBEDDING_LENGTH]\n",
    "\n",
    "        for element in sent_embedding:\n",
    "            file.write(str(element) + \" \")\n",
    "            \n",
    "        file.write(\"\\n\")\n",
    "    \n",
    "    if (i + 1) % 1000 == 0:\n",
    "        print(f\"processing {i + 1} with time: {datetime.now() - now}\")\n",
    "    \n",
    "    if (i + 1) == DATASET_SIZE:\n",
    "        break\n",
    "    \n",
    "    file.write(\"\\n\")\n",
    "        \n",
    "file.close()"
   ]
  },
  {
   "cell_type": "code",
   "execution_count": null,
   "id": "innovative-distributor",
   "metadata": {},
   "outputs": [],
   "source": [
    "!cat /home/jupyter-23521027/refresh-bert/data/preprocessed-input-directory/liputan6.training.indobertlargep1.sbert | tail -c 100000"
   ]
  },
  {
   "cell_type": "code",
   "execution_count": null,
   "id": "ongoing-quest",
   "metadata": {},
   "outputs": [],
   "source": []
  }
 ],
 "metadata": {
  "kernelspec": {
   "display_name": "Python 3",
   "language": "python",
   "name": "python3"
  },
  "language_info": {
   "codemirror_mode": {
    "name": "ipython",
    "version": 3
   },
   "file_extension": ".py",
   "mimetype": "text/x-python",
   "name": "python",
   "nbconvert_exporter": "python",
   "pygments_lexer": "ipython3",
   "version": "3.7.9"
  }
 },
 "nbformat": 4,
 "nbformat_minor": 5
}

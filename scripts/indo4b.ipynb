{
 "cells": [
  {
   "cell_type": "code",
   "execution_count": 31,
   "id": "controlling-validation",
   "metadata": {},
   "outputs": [
    {
     "name": "stdout",
     "output_type": "stream",
     "text": [
      "processed 100000 files in : 0:00:11.600052\n",
      "processed 200000 files in : 0:00:11.579006\n",
      "processed 300000 files in : 0:00:11.571496\n",
      "processed 400000 files in : 0:00:11.530318\n",
      "processed 500000 files in : 0:00:11.418972\n"
     ]
    }
   ],
   "source": [
    "import nltk\n",
    "from nltk.tokenize import word_tokenize\n",
    "from datetime import datetime\n",
    "\n",
    "# Preprocessing step: tokenization and cleaning\n",
    "\n",
    "# Define the context window size\n",
    "window_size = 2\n",
    "\n",
    "# Open the text file\n",
    "with open('/home/jupyter-23521027/refresh-bert/data/indo4b/dataset_all_uncased_blankline.txt', 'r') as file:\n",
    "    # Iterate over each line in the file\n",
    "    now = datetime.now()\n",
    "    for l, line in enumerate(file):\n",
    "        # Tokenize the line into words\n",
    "        words = word_tokenize(line)\n",
    "        \n",
    "        # Generate word pairs\n",
    "        word_pairs = []\n",
    "        for i, target_word in enumerate(words):\n",
    "            for j in range(i - window_size, i + window_size + 1):\n",
    "                if j != i and j >= 0 and j < len(words):\n",
    "                    context_word = words[j]\n",
    "                    word_pairs.append((target_word, context_word))\n",
    "                    \n",
    "        if ( l + 1 ) % 100000 == 0:\n",
    "            print(f\"processed {l+1} files in : {datetime.now() - now}\")\n",
    "            now = datetime.now()\n",
    "        \n",
    "        if l == 500000:\n",
    "            break"
   ]
  },
  {
   "cell_type": "code",
   "execution_count": 32,
   "id": "registered-benjamin",
   "metadata": {},
   "outputs": [],
   "source": [
    "# # Open the text file and count the lines\n",
    "# with open('/home/jupyter-23521027/refresh-bert/data/indo4b/dataset_all_uncased_blankline.txt', 'r') as file:\n",
    "#     line_count = sum(1 for line in file)\n",
    "\n",
    "# # Print the number of lines\n",
    "# print(\"Number of lines:\", line_count)"
   ]
  },
  {
   "cell_type": "code",
   "execution_count": 33,
   "id": "equipped-newsletter",
   "metadata": {},
   "outputs": [
    {
     "data": {
      "text/plain": [
       "[('gunakan', 'waktu'), ('gunakan', 'anda')]"
      ]
     },
     "execution_count": 33,
     "metadata": {},
     "output_type": "execute_result"
    }
   ],
   "source": [
    "word_pairs[:2]"
   ]
  },
  {
   "cell_type": "code",
   "execution_count": 34,
   "id": "exempt-bullet",
   "metadata": {},
   "outputs": [
    {
     "name": "stdout",
     "output_type": "stream",
     "text": [
      "{'amati', 'sebelum', 'dalam', '.', 'dengan', 'bagian', 'setiap', 'gunakan', 'proses', 'pemeriksaan', 'ini', 'dan', 'teliti', 'menyelesaikan', 'waktu', 'anda', 'baik', 'pendaftaran'}\n"
     ]
    }
   ],
   "source": [
    "# Assuming you have word_pairs as a list of word pairs\n",
    "\n",
    "# Create word-to-index and index-to-word mappings\n",
    "words = set([pair[0] for pair in word_pairs] + [pair[1] for pair in word_pairs])\n",
    "print(words)\n",
    "word_to_index = {word: index for index, word in enumerate(words)}\n",
    "index_to_word = {index: word for index, word in enumerate(words)}\n",
    "\n",
    "# Convert word pairs to numerical representations\n",
    "numeric_pairs = [(word_to_index[pair[0]], word_to_index[pair[1]]) for pair in word_pairs]"
   ]
  },
  {
   "cell_type": "code",
   "execution_count": 35,
   "id": "immediate-sample",
   "metadata": {},
   "outputs": [
    {
     "data": {
      "text/plain": [
       "{'amati': 0,\n",
       " 'sebelum': 1,\n",
       " 'dalam': 2,\n",
       " '.': 3,\n",
       " 'dengan': 4,\n",
       " 'bagian': 5,\n",
       " 'setiap': 6,\n",
       " 'gunakan': 7,\n",
       " 'proses': 8,\n",
       " 'pemeriksaan': 9,\n",
       " 'ini': 10,\n",
       " 'dan': 11,\n",
       " 'teliti': 12,\n",
       " 'menyelesaikan': 13,\n",
       " 'waktu': 14,\n",
       " 'anda': 15,\n",
       " 'baik': 16,\n",
       " 'pendaftaran': 17}"
      ]
     },
     "execution_count": 35,
     "metadata": {},
     "output_type": "execute_result"
    }
   ],
   "source": [
    "word_to_index"
   ]
  },
  {
   "cell_type": "code",
   "execution_count": 55,
   "id": "modern-drawing",
   "metadata": {},
   "outputs": [],
   "source": [
    "import numpy as np\n",
    "from keras.models import Sequential\n",
    "from keras.layers import Embedding, Dense, Flatten, Activation\n",
    "\n",
    "# Convert numeric pairs to numpy arrays\n",
    "target_words = np.array([pair[0] for pair in numeric_pairs])\n",
    "context_words = np.array([pair[1] for pair in numeric_pairs])"
   ]
  },
  {
   "cell_type": "code",
   "execution_count": 73,
   "id": "covered-merchandise",
   "metadata": {},
   "outputs": [],
   "source": [
    "# Build the skip-gram model\n",
    "vocab_size = len(word_to_index)\n",
    "embedding_dim = 100\n",
    "\n",
    "model = Sequential()\n",
    "model.add(Embedding(input_dim=vocab_size, output_dim=embedding_dim, input_length=1, embeddings_initializer=\"glorot_uniform\",))\n",
    "model.add(Dense(units=1000, activation='tanh'))\n",
    "model.add(Dense(units=1000, activation='tanh'))\n",
    "model.add(Dense(units=1000, activation='tanh'))\n",
    "model.add(Dense(units=vocab_size, activation='softmax'))\n",
    "model.compile(optimizer='rmsprop', loss='sparse_categorical_crossentropy')"
   ]
  },
  {
   "cell_type": "code",
   "execution_count": 74,
   "id": "sustained-rapid",
   "metadata": {},
   "outputs": [
    {
     "name": "stdout",
     "output_type": "stream",
     "text": [
      "Epoch 1/10\n",
      "1/1 [==============================] - 1s 732ms/step - loss: 2.9011\n",
      "Epoch 2/10\n",
      "1/1 [==============================] - 0s 9ms/step - loss: 2.0188\n",
      "Epoch 3/10\n",
      "1/1 [==============================] - 0s 10ms/step - loss: 1.8503\n",
      "Epoch 4/10\n",
      "1/1 [==============================] - 0s 13ms/step - loss: 2.3888\n",
      "Epoch 5/10\n",
      "1/1 [==============================] - 0s 11ms/step - loss: 2.2429\n",
      "Epoch 6/10\n",
      "1/1 [==============================] - 0s 10ms/step - loss: 1.9531\n",
      "Epoch 7/10\n",
      "1/1 [==============================] - 0s 11ms/step - loss: 1.8043\n",
      "Epoch 8/10\n",
      "1/1 [==============================] - 0s 11ms/step - loss: 1.7905\n",
      "Epoch 9/10\n",
      "1/1 [==============================] - 0s 11ms/step - loss: 1.8702\n",
      "Epoch 10/10\n",
      "1/1 [==============================] - 0s 11ms/step - loss: 1.8406\n"
     ]
    },
    {
     "data": {
      "text/plain": [
       "<keras.callbacks.History at 0x7fab34654a10>"
      ]
     },
     "execution_count": 74,
     "metadata": {},
     "output_type": "execute_result"
    }
   ],
   "source": [
    "# Train the model\n",
    "model.fit(target_words, context_words, epochs=10, batch_size=128)\n"
   ]
  },
  {
   "cell_type": "code",
   "execution_count": 58,
   "id": "upper-conversation",
   "metadata": {},
   "outputs": [
    {
     "name": "stdout",
     "output_type": "stream",
     "text": [
      "Model: \"sequential_9\"\n",
      "_________________________________________________________________\n",
      " Layer (type)                Output Shape              Param #   \n",
      "=================================================================\n",
      " embedding_7 (Embedding)     (None, 1, 100)            1800      \n",
      "                                                                 \n",
      " flatten (Flatten)           (None, 100)               0         \n",
      "                                                                 \n",
      " dense_11 (Dense)            (None, 100)               10100     \n",
      "                                                                 \n",
      " dense_12 (Dense)            (None, 100)               10100     \n",
      "                                                                 \n",
      " dense_13 (Dense)            (None, 18)                1818      \n",
      "                                                                 \n",
      "=================================================================\n",
      "Total params: 23,818\n",
      "Trainable params: 23,818\n",
      "Non-trainable params: 0\n",
      "_________________________________________________________________\n",
      "None\n"
     ]
    }
   ],
   "source": [
    "print(model.summary())\n"
   ]
  },
  {
   "cell_type": "markdown",
   "id": "educated-socket",
   "metadata": {},
   "source": [
    "# KERAS"
   ]
  },
  {
   "cell_type": "code",
   "execution_count": 53,
   "id": "spanish-minister",
   "metadata": {},
   "outputs": [
    {
     "name": "stdout",
     "output_type": "stream",
     "text": [
      "processed 100000 files in : 0:00:39.277896\n",
      "processed 200000 files in : 0:00:39.283233\n",
      "processed 300000 files in : 0:00:39.787249\n",
      "processed 400000 files in : 0:00:39.922578\n",
      "processed 500000 files in : 0:00:38.630386\n"
     ]
    },
    {
     "ename": "NameError",
     "evalue": "name 'norm_bible' is not defined",
     "output_type": "error",
     "traceback": [
      "\u001b[0;31m---------------------------------------------------------------------------\u001b[0m",
      "\u001b[0;31mNameError\u001b[0m                                 Traceback (most recent call last)",
      "\u001b[0;32m<ipython-input-53-6e1594ccdb6f>\u001b[0m in \u001b[0;36m<module>\u001b[0;34m\u001b[0m\n\u001b[1;32m     24\u001b[0m \u001b[0membed_size\u001b[0m \u001b[0;34m=\u001b[0m \u001b[0;36m100\u001b[0m\u001b[0;34m\u001b[0m\u001b[0;34m\u001b[0m\u001b[0m\n\u001b[1;32m     25\u001b[0m \u001b[0;34m\u001b[0m\u001b[0m\n\u001b[0;32m---> 26\u001b[0;31m \u001b[0mwids\u001b[0m \u001b[0;34m=\u001b[0m \u001b[0;34m[\u001b[0m\u001b[0;34m[\u001b[0m\u001b[0mword2id\u001b[0m\u001b[0;34m[\u001b[0m\u001b[0mw\u001b[0m\u001b[0;34m]\u001b[0m \u001b[0;32mfor\u001b[0m \u001b[0mw\u001b[0m \u001b[0;32min\u001b[0m \u001b[0mtext\u001b[0m\u001b[0;34m.\u001b[0m\u001b[0mtext_to_word_sequence\u001b[0m\u001b[0;34m(\u001b[0m\u001b[0mdoc\u001b[0m\u001b[0;34m)\u001b[0m\u001b[0;34m]\u001b[0m \u001b[0;32mfor\u001b[0m \u001b[0mdoc\u001b[0m \u001b[0;32min\u001b[0m \u001b[0mnorm_bible\u001b[0m\u001b[0;34m]\u001b[0m\u001b[0;34m\u001b[0m\u001b[0;34m\u001b[0m\u001b[0m\n\u001b[0m\u001b[1;32m     27\u001b[0m \u001b[0mprint\u001b[0m\u001b[0;34m(\u001b[0m\u001b[0;34m'Vocabulary Size:'\u001b[0m\u001b[0;34m,\u001b[0m \u001b[0mvocab_size\u001b[0m\u001b[0;34m)\u001b[0m\u001b[0;34m\u001b[0m\u001b[0;34m\u001b[0m\u001b[0m\n\u001b[1;32m     28\u001b[0m \u001b[0mprint\u001b[0m\u001b[0;34m(\u001b[0m\u001b[0;34m'Vocabulary Sample:'\u001b[0m\u001b[0;34m,\u001b[0m \u001b[0mlist\u001b[0m\u001b[0;34m(\u001b[0m\u001b[0mword2id\u001b[0m\u001b[0;34m.\u001b[0m\u001b[0mitems\u001b[0m\u001b[0;34m(\u001b[0m\u001b[0;34m)\u001b[0m\u001b[0;34m)\u001b[0m\u001b[0;34m[\u001b[0m\u001b[0;34m:\u001b[0m\u001b[0;36m10\u001b[0m\u001b[0;34m]\u001b[0m\u001b[0;34m)\u001b[0m\u001b[0;34m\u001b[0m\u001b[0;34m\u001b[0m\u001b[0m\n",
      "\u001b[0;31mNameError\u001b[0m: name 'norm_bible' is not defined"
     ]
    }
   ],
   "source": [
    "from keras.preprocessing import text\n",
    "\n",
    "# Open the text file\n",
    "with open('/home/jupyter-23521027/refresh-bert/data/indo4b/dataset_all_uncased_blankline.txt', 'r') as file:\n",
    "    # Iterate over each line in the file\n",
    "    now = datetime.now()\n",
    "    for l, line in enumerate(file):\n",
    "                    \n",
    "        tokenizer = text.Tokenizer()\n",
    "        tokenizer.fit_on_texts(line)\n",
    "                    \n",
    "        if ( l + 1 ) % 100000 == 0:\n",
    "            print(f\"processed {l+1} files in : {datetime.now() - now}\")\n",
    "            now = datetime.now()\n",
    "        \n",
    "        if l == 500000:\n",
    "            break"
   ]
  },
  {
   "cell_type": "code",
   "execution_count": null,
   "id": "joined-sellers",
   "metadata": {},
   "outputs": [],
   "source": [
    "word2id = tokenizer.word_index\n",
    "id2word = {v:k for k, v in word2id.items()}\n",
    "\n",
    "vocab_size = len(word2id) + 1 \n",
    "embed_size = 100\n",
    "\n",
    "wids = [[word2id[w] for w in text.text_to_word_sequence(doc)] for doc in norm_bible]\n",
    "print('Vocabulary Size:', vocab_size)\n",
    "print('Vocabulary Sample:', list(word2id.items())[:10])"
   ]
  },
  {
   "cell_type": "code",
   "execution_count": 54,
   "id": "unsigned-ownership",
   "metadata": {},
   "outputs": [
    {
     "ename": "NameError",
     "evalue": "name 'wids' is not defined",
     "output_type": "error",
     "traceback": [
      "\u001b[0;31m---------------------------------------------------------------------------\u001b[0m",
      "\u001b[0;31mNameError\u001b[0m                                 Traceback (most recent call last)",
      "\u001b[0;32m<ipython-input-54-f1fb4c26b98b>\u001b[0m in \u001b[0;36m<module>\u001b[0;34m\u001b[0m\n\u001b[1;32m      2\u001b[0m \u001b[0;34m\u001b[0m\u001b[0m\n\u001b[1;32m      3\u001b[0m \u001b[0;31m# generate skip-grams\u001b[0m\u001b[0;34m\u001b[0m\u001b[0;34m\u001b[0m\u001b[0;34m\u001b[0m\u001b[0m\n\u001b[0;32m----> 4\u001b[0;31m \u001b[0mskip_grams\u001b[0m \u001b[0;34m=\u001b[0m \u001b[0;34m[\u001b[0m\u001b[0mskipgrams\u001b[0m\u001b[0;34m(\u001b[0m\u001b[0mwid\u001b[0m\u001b[0;34m,\u001b[0m \u001b[0mvocabulary_size\u001b[0m\u001b[0;34m=\u001b[0m\u001b[0mvocab_size\u001b[0m\u001b[0;34m,\u001b[0m \u001b[0mwindow_size\u001b[0m\u001b[0;34m=\u001b[0m\u001b[0;36m10\u001b[0m\u001b[0;34m)\u001b[0m \u001b[0;32mfor\u001b[0m \u001b[0mwid\u001b[0m \u001b[0;32min\u001b[0m \u001b[0mwids\u001b[0m\u001b[0;34m]\u001b[0m\u001b[0;34m\u001b[0m\u001b[0;34m\u001b[0m\u001b[0m\n\u001b[0m\u001b[1;32m      5\u001b[0m \u001b[0;34m\u001b[0m\u001b[0m\n\u001b[1;32m      6\u001b[0m \u001b[0;31m# view sample skip-grams\u001b[0m\u001b[0;34m\u001b[0m\u001b[0;34m\u001b[0m\u001b[0;34m\u001b[0m\u001b[0m\n",
      "\u001b[0;31mNameError\u001b[0m: name 'wids' is not defined"
     ]
    }
   ],
   "source": [
    "from keras.preprocessing.sequence import skipgrams\n",
    "\n",
    "# generate skip-grams\n",
    "skip_grams = [skipgrams(wid, vocabulary_size=vocab_size, window_size=10) for wid in wids]\n",
    "\n",
    "# view sample skip-grams\n",
    "pairs, labels = skip_grams[0][0], skip_grams[0][1]\n",
    "for i in range(10):\n",
    "    print(\"({:s} ({:d}), {:s} ({:d})) -> {:d}\".format(\n",
    "          id2word[pairs[i][0]], pairs[i][0], \n",
    "          id2word[pairs[i][1]], pairs[i][1], \n",
    "          labels[i]))"
   ]
  },
  {
   "cell_type": "code",
   "execution_count": null,
   "id": "brave-asthma",
   "metadata": {},
   "outputs": [],
   "source": [
    "from keras.layers import Merge\n",
    "from keras.layers.core import Dense, Reshape\n",
    "from keras.layers.embeddings import Embedding\n",
    "from keras.models import Sequential\n",
    "\n",
    "# build skip-gram architecture\n",
    "word_model = Sequential()\n",
    "word_model.add(Embedding(vocab_size, embed_size,\n",
    "                         embeddings_initializer=\"glorot_uniform\",\n",
    "                         input_length=1))\n",
    "word_model.add(Reshape((embed_size, )))\n",
    "\n",
    "context_model = Sequential()\n",
    "context_model.add(Embedding(vocab_size, embed_size,\n",
    "                  embeddings_initializer=\"glorot_uniform\",\n",
    "                  input_length=1))\n",
    "context_model.add(Reshape((embed_size,)))\n",
    "\n",
    "model = Sequential()\n",
    "model.add(Merge([word_model, context_model], mode=\"dot\"))\n",
    "model.add(Dense(1, kernel_initializer=\"glorot_uniform\", activation=\"sigmoid\"))\n",
    "model.compile(loss=\"mean_squared_error\", optimizer=\"rmsprop\")\n",
    "\n",
    "# view model summary\n",
    "print(model.summary())\n",
    "\n",
    "# visualize model structure\n",
    "from IPython.display import SVG\n",
    "from keras.utils.vis_utils import model_to_dot\n",
    "\n",
    "SVG(model_to_dot(model, show_shapes=True, show_layer_names=False, \n",
    "                 rankdir='TB').create(prog='dot', format='svg'))"
   ]
  }
 ],
 "metadata": {
  "kernelspec": {
   "display_name": "Python 3",
   "language": "python",
   "name": "python3"
  },
  "language_info": {
   "codemirror_mode": {
    "name": "ipython",
    "version": 3
   },
   "file_extension": ".py",
   "mimetype": "text/x-python",
   "name": "python",
   "nbconvert_exporter": "python",
   "pygments_lexer": "ipython3",
   "version": "3.7.9"
  }
 },
 "nbformat": 4,
 "nbformat_minor": 5
}

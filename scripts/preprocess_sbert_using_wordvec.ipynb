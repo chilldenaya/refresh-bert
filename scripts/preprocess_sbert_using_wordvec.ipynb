{
 "cells": [
  {
   "cell_type": "markdown",
   "metadata": {},
   "source": [
    "1. Read word2vec map\n",
    "2. Create word2idx map from word2vec map\n",
    "3. Read cnn.training.doc\n",
    "4. Create sentence using cnn.training.doc\n",
    "5. Create cnn.sbert.doc"
   ]
  },
  {
   "cell_type": "code",
   "execution_count": 1,
   "metadata": {},
   "outputs": [
    {
     "name": "stdout",
     "output_type": "stream",
     "text": [
      "Reading pretrained word embeddings file: /home/jupyter-23521027/refresh-bert/data/1-billion-word-language-modeling-benchmark-r13output.word2vec.vec\n",
      "0 ...\n",
      "100000 ...\n",
      "200000 ...\n",
      "300000 ...\n",
      "400000 ...\n",
      "500000 ...\n",
      "Read pretrained embeddings: (559183, 100)\n"
     ]
    }
   ],
   "source": [
    "import numpy as np\n",
    "\n",
    "dtype = np.float32\n",
    "vocab_dict = {}\n",
    "\n",
    "# Add padding\n",
    "vocab_dict[0] = \"_PAD\"\n",
    "# Add UNK\n",
    "vocab_dict[1] = \"_UNK\"\n",
    "        \n",
    "wordembed_filename = \"/home/jupyter-23521027/refresh-bert/data/1-billion-word-language-modeling-benchmark-r13output.word2vec.vec\"\n",
    "print(\"Reading pretrained word embeddings file: %s\" % wordembed_filename)\n",
    "\n",
    "linecount = 0\n",
    "with open(wordembed_filename, \"r\") as fembedd:\n",
    "    for line in fembedd:\n",
    "        if linecount == 0:\n",
    "            vocabsize = int(line.split()[0])\n",
    "            # Initiate fixed size empty array\n",
    "            word_embedding_array = np.empty(\n",
    "                (vocabsize, 100), dtype=dtype\n",
    "            )\n",
    "        else:\n",
    "            linedata = line.split()\n",
    "            vocab_dict[linecount + 1] = linedata[0]  \n",
    "\n",
    "        if linecount % 100000 == 0:\n",
    "            print(str(linecount) + \" ...\")\n",
    "        linecount += 1\n",
    "print(\"Read pretrained embeddings: %s\" % str(word_embedding_array.shape))"
   ]
  },
  {
   "cell_type": "code",
   "execution_count": 2,
   "metadata": {},
   "outputs": [
    {
     "data": {
      "text/plain": [
       "559183"
      ]
     },
     "execution_count": 2,
     "metadata": {},
     "output_type": "execute_result"
    }
   ],
   "source": [
    "vocabsize"
   ]
  },
  {
   "cell_type": "code",
   "execution_count": 3,
   "metadata": {},
   "outputs": [
    {
     "data": {
      "text/plain": [
       "'To'"
      ]
     },
     "execution_count": 3,
     "metadata": {},
     "output_type": "execute_result"
    }
   ],
   "source": [
    "vocab_dict[658]"
   ]
  },
  {
   "cell_type": "code",
   "execution_count": 4,
   "metadata": {},
   "outputs": [],
   "source": [
    "full_data_file_prefix = (\n",
    "    \"/home/jupyter-23521027/refresh-bert/data/preprocessed-input-directory\" + \"/\" + \"cnn\" + \".\" + \"training\"\n",
    ")\n",
    "\n",
    "doc_data_list = (\n",
    "    open(full_data_file_prefix + \".doc\").read().strip().split(\"\\n\\n\")\n",
    ")"
   ]
  },
  {
   "cell_type": "code",
   "execution_count": 5,
   "metadata": {},
   "outputs": [],
   "source": [
    "from sentence_transformers import SentenceTransformer, util\n",
    "model = SentenceTransformer('all-mpnet-base-v2', device='cuda')"
   ]
  },
  {
   "cell_type": "code",
   "execution_count": 6,
   "metadata": {},
   "outputs": [
    {
     "name": "stdout",
     "output_type": "stream",
     "text": [
      "cnn-ee8871b15c50d0db17b0179a6d2beab35065f1e9\n",
      "cnn-42c027e4ff9730fbb3de84c1af0d2c506e41c3e4\n",
      "cnn-06352019a19ae31e527f37f7571c6dd7f0c5da37\n",
      "cnn-a1ebb8bb4d370a1fdf28769206d572be60642d70\n",
      "cnn-24521a2abb2e1f5e34e6824e0f9e56904a2b0e88\n",
      "cnn-7fe70cc8b12fab2d0a258fababf7d9c6b5e1262a\n",
      "cnn-7c0e61ac829a3b3b653e2e3e7536cc4881d1f264\n",
      "cnn-5e22bbfc7232418b8d2dd646b952e404df5bd048\n",
      "cnn-017d27d00eb43678c15cb4a8dd4723a035323219\n",
      "cnn-0d43b97000ff852282c89d8d105e41495c0ee9bd\n",
      "cnn-f0d73bdab711763e745cdc75850861c9018f235d\n",
      "cnn-613d6311ec2c1985bd44707d1796d275452fe156\n",
      "cnn-85f55a3e0dd672857aaaaa80954934a57b7a2fbf\n",
      "cnn-2ad31cae96512af5105b9b23f9b681dc732b2605\n",
      "cnn-bf0cd4ccacd4fe045995338f4c44d9cf18000226\n",
      "cnn-eb68bc51ed4fc727a1af058192a3fef0916c91e7\n",
      "cnn-35f0e33de7923036a97ac245d899f990bda5e242\n",
      "cnn-ad021a7924ee57491cee8576499ac196b1afeb23\n",
      "cnn-2f43e9dfaa43ffbddbce339a8b6403ddce43b38a\n",
      "cnn-77d7c8cf2a9432e395d629371a12790c563c19f7\n",
      "cnn-08450c1bc03472825196be1acb02ac0e13bef939\n",
      "cnn-17e43e8e7d2bbbb237df78537d108c3fa917d9fb\n",
      "cnn-cac7a712935380d74410a7cba8d406235d51249a\n",
      "cnn-9d7fc7fd9ffbfecb1c458b9929fa02e6c3538368\n",
      "cnn-e9093ca0a82f2aba28cd2762942c04177cfbb000\n",
      "cnn-7fa8d9beca50155fd3d71a9087a4311ce321c34b\n",
      "cnn-d41dc7fc05273a37f0aceaf4f3e35a187f12653e\n",
      "cnn-30cb674030b01014d2c87b92f09152857e249631\n",
      "cnn-0753a471e6908c35bcbc2daa37e21f3a8443b590\n",
      "cnn-c9160e2f5ce386dabb10517e7a5c0933c01a9546\n",
      "cnn-ee0ba7928d8987f2cb21c9a2012a76730f77de45\n",
      "cnn-55a6aabd120f0b18297f7efe22452f9b3aca0d8d\n",
      "cnn-414a5b8ecbe189d2767c75b839775a1dcafaf4d3\n",
      "cnn-554fd99f28ae12472c5d99ef6383bb184744c25a\n",
      "cnn-06bc2f0272d033b123e9eebbb221c62d7d51c283\n",
      "cnn-fbc6a4d0697b2a3e8b549dcb1f80a8ce7bf47e34\n",
      "cnn-9e141ebc1c06d483bf85f4e5c8b3c7bc2d00ea2f\n",
      "cnn-ddcdeb9bdd19fa23f9495c85d48eeee910f33102\n",
      "cnn-d256aee1a47eb5b489dee6fb72ab7f7d1483a37f\n",
      "cnn-33530f97118cc905b05cb920671492c7bfdf3a3b\n",
      "cnn-677375a4c69e81ab623af7c06a6b0a8d03d6350e\n",
      "cnn-2fff2bc541ef34a6647dfa2e4294cdcc187e47b9\n",
      "cnn-72f4a6670ec7ec915c83d58bb0ebf152b1605bb6\n",
      "cnn-b73f50e29d5b2943eb315643bef8ee4e09f5605b\n",
      "cnn-f9689fb9656132e1c6d186851563f2b968643791\n",
      "cnn-0a71f063b78184b4ca2ffee3c642d48dc27ef91b\n",
      "cnn-63831b842812b1a3d05b04904a10d160fe7ad2af\n",
      "cnn-fb6516de631cade629b797e8f40f377523c4aa0e\n",
      "cnn-3c19a753303ae0d67b3ae28e070c0f4157ffc52d\n",
      "cnn-9313988d26672c576f08e130c895edf20d8aa626\n",
      "cnn-700e0d133d2f5c2e65960aae7bffa66bb62c0df4\n",
      "cnn-05688bac0e46542be65a6df240428a6f26c86fd0\n",
      "cnn-9f63d6256158d260c426a9336d19b760d9bc5a48\n",
      "cnn-5ba0d22ccba29ac8a3c77da069165d6016f5a214\n",
      "cnn-3e868fbad714ceab14a41fa9dd5d8a40204f2199\n",
      "cnn-180642a2ddfce93ceaf3ee3ec4779400fe67ae1e\n",
      "cnn-373ef5be1d84b8c4905193e569e0cf8a7ead3d03\n",
      "cnn-8b0a818edcbbefb79dd40a19b08119f6848083db\n",
      "cnn-ceb7a288ac1ad604a17bc25c5978fcc87b1a4446\n",
      "cnn-a228e744966fe03eca515b971329acacf9feabb2\n",
      "cnn-fbcaa7519e9ff82193afbaed67d8706f2350125f\n",
      "cnn-f372b28e3d1f74d60aa8ee29d7bdd49a6e7f9779\n",
      "cnn-4b0eda92463958cce8c6b2537db39088e1254552\n",
      "cnn-d42463e1093a92ec4dbd20edd8f4bf3306f00f3f\n",
      "cnn-5ebd041d89a2ba41b387c30293f0657eef746910\n",
      "cnn-62827a1a377491d88adcbac25ecf14a64b5f997b\n",
      "cnn-c44238ec87e7fc40ab7fe6e724cfcbf301e01216\n",
      "cnn-4fa1c0bd7f86368d7ae7730d95ff7e73dc9172da\n",
      "cnn-ac4ae79796d05506dabe4380c24f7dd423e09965\n",
      "cnn-fff32094b00f3780cc98fe43bd98aace4b851281\n",
      "cnn-6c3d2feed04c75063d182103f0585c45da9aaa1b\n",
      "cnn-282f1910bd57e50d4401c695ebe75b817de68548\n",
      "cnn-e3dd06d326c8d53722bdc5c8428e29c68a60d0d5\n",
      "cnn-af2d712599be471d1ba0b91fa18c347220ca595d\n",
      "cnn-e117408ad19cc69e15b1e21b9ae54f10c07223ce\n",
      "cnn-56d7d67bb0fc32ee71cc006b915244776d883661\n",
      "cnn-3c5b68b58c34853baa534d1265ec7fde00d4eb4e\n",
      "cnn-493fa8c40d1bc26ed1d25633c779b13bc33efdba\n",
      "cnn-2b08ee205946dc0bb6ffe0db654cbbba1199eb28\n",
      "cnn-3aa0ef8cac31a60076c43a9484792b59372edb64\n",
      "cnn-87385fb51ac9eaf76e8421723c94410f724750fc\n",
      "cnn-dcd60a85e1e17ec0163a925c9412d480fd08072f\n",
      "cnn-ea06fd0b25cb9793397a51de73fd83f91b4323fa\n",
      "cnn-20528eb48341b50c0083fcf5a9d114b39040e5c1\n",
      "cnn-412630c97420afb50e5278d3406e0cf4b08d0b77\n",
      "cnn-782c4bdaee73189103d2e05748717b3ea0e89e5d\n",
      "cnn-4cf51ce9372dff8ff7f44f098eab1c1d7569af7a\n",
      "cnn-805644d370fae7b0492174c54c00e86eff742735\n",
      "cnn-a150e93fa52eaba281aae9eabe28b3ee4155f296\n",
      "cnn-c3acabb0c18cc7615eb3796406500fba1b148d3d\n",
      "cnn-a0a84718168357049273f6e65133fd06e67cd6d2\n",
      "cnn-4a30d8e9ba08a56c1d503d719525113545c414e3\n",
      "cnn-764d9ce99a1e3f79d95fbc4b68adbce14e7f8bcd\n",
      "cnn-f70a7abb6c5b0ef383ea12a4d9ca046a5bd854e5\n",
      "cnn-98dbba54da2a05bb04320aa0e4fb05fba3d75b63\n",
      "cnn-b5833a27ee69d7540435e3c70af040c2b743f541\n",
      "cnn-654c6b29b96d2a5a818d91400c20f838b0e8b6df\n",
      "cnn-1c1acc74329fe61636f900df9dbcef5ed695e5c9\n",
      "cnn-f16446db34e2861f0450dfa34d8cdda541ab7b19\n",
      "cnn-a3dd38ec7bc9d7e8423b96d8fd0641a2a5d5c984\n",
      "processing 99 with time: 0:00:31.895533\n"
     ]
    }
   ],
   "source": [
    "from datetime import datetime\n",
    "\n",
    "docs = []\n",
    "docs_sentences = []\n",
    "docs_sentences_embeddings = []\n",
    "\n",
    "now = datetime.now()\n",
    "file = open('doc_sentence_embeddings.txt', 'w')\n",
    "\n",
    "for i, doc_data in enumerate(doc_data_list):\n",
    "    doc_lines = doc_data.strip().split(\"\\n\")\n",
    "    filename = doc_lines[0].strip()\n",
    "    print(filename)\n",
    "    file.write(filename + \"\\n\")\n",
    "\n",
    "    for line in doc_lines[1 : 20 + 1]:\n",
    "        sent_txt = \" \".join([vocab_dict[int(item)] for item in line.strip().split()])\n",
    "        sent_embedding = model.encode(sent_txt, convert_to_numpy=True).tolist()\n",
    "\n",
    "        for element in sent_embedding:\n",
    "            file.write(str(element) + \" \")\n",
    "            \n",
    "        file.write(\"\\n\")\n",
    "    \n",
    "    if (i + 1) % 100 == 0:\n",
    "        print(f\"processing {i} with time: {datetime.now() - now}\")\n",
    "        now = datetime.now()\n",
    "    \n",
    "        break\n",
    "    \n",
    "    file.write(\"\\n\")\n",
    "    \n",
    "file.close()\n"
   ]
  },
  {
   "cell_type": "code",
   "execution_count": null,
   "metadata": {},
   "outputs": [],
   "source": []
  },
  {
   "cell_type": "code",
   "execution_count": null,
   "metadata": {},
   "outputs": [],
   "source": []
  }
 ],
 "metadata": {
  "kernelspec": {
   "display_name": "Python 3",
   "language": "python",
   "name": "python3"
  },
  "language_info": {
   "codemirror_mode": {
    "name": "ipython",
    "version": 3
   },
   "file_extension": ".py",
   "mimetype": "text/x-python",
   "name": "python",
   "nbconvert_exporter": "python",
   "pygments_lexer": "ipython3",
   "version": "3.7.9"
  }
 },
 "nbformat": 4,
 "nbformat_minor": 4
}

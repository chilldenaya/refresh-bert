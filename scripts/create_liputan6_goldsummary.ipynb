{
 "cells": [
  {
   "cell_type": "code",
   "execution_count": 1,
   "id": "secondary-kitty",
   "metadata": {},
   "outputs": [],
   "source": [
    "import os\n",
    "import json\n",
    "import pandas as pd\n",
    "\n",
    "folder_path = '/home/jupyter-23521027/refresh-bert/data/liputan6_data/canonical/test' \n",
    "\n",
    "file_list = os.listdir(folder_path)\n",
    "json_data_list = []\n",
    "file_list = os.listdir(folder_path)\n",
    "\n",
    "for file_name in file_list:\n",
    "    file_path = os.path.join(folder_path, file_name) \n",
    "\n",
    "    if os.path.isfile(file_path):\n",
    "        with open(file_path, 'r') as file:\n",
    "            json_data = json.load(file)\n",
    "            json_data_list.append(json_data)\n",
    "\n",
    "df = pd.DataFrame(json_data_list)"
   ]
  },
  {
   "cell_type": "code",
   "execution_count": 2,
   "id": "satisfied-patio",
   "metadata": {},
   "outputs": [],
   "source": [
    "df['sentences'] = df['clean_article'].apply(lambda x: [' '.join(sentence) for sentence in x])\n",
    "df['summary_sentences'] = df['clean_summary'].apply(lambda x: [' '.join(sentence) for sentence in x])"
   ]
  },
  {
   "cell_type": "code",
   "execution_count": 3,
   "id": "ongoing-enzyme",
   "metadata": {},
   "outputs": [
    {
     "data": {
      "text/html": [
       "<div>\n",
       "<style scoped>\n",
       "    .dataframe tbody tr th:only-of-type {\n",
       "        vertical-align: middle;\n",
       "    }\n",
       "\n",
       "    .dataframe tbody tr th {\n",
       "        vertical-align: top;\n",
       "    }\n",
       "\n",
       "    .dataframe thead th {\n",
       "        text-align: right;\n",
       "    }\n",
       "</style>\n",
       "<table border=\"1\" class=\"dataframe\">\n",
       "  <thead>\n",
       "    <tr style=\"text-align: right;\">\n",
       "      <th></th>\n",
       "      <th>id</th>\n",
       "      <th>url</th>\n",
       "      <th>clean_article</th>\n",
       "      <th>clean_summary</th>\n",
       "      <th>extractive_summary</th>\n",
       "      <th>sentences</th>\n",
       "      <th>summary_sentences</th>\n",
       "    </tr>\n",
       "  </thead>\n",
       "  <tbody>\n",
       "    <tr>\n",
       "      <th>0</th>\n",
       "      <td>19962</td>\n",
       "      <td>https://www.liputan6.com/news/read/19962/gas-b...</td>\n",
       "      <td>[[Liputan6, ., com, ,, Jakarta, :, Untuk, meme...</td>\n",
       "      <td>[[Pertamina, akan, menyalurkan, gas, alam, dar...</td>\n",
       "      <td>[0, 4]</td>\n",
       "      <td>[Liputan6 . com , Jakarta : Untuk memenuhi ken...</td>\n",
       "      <td>[Pertamina akan menyalurkan gas alam dari Suma...</td>\n",
       "    </tr>\n",
       "  </tbody>\n",
       "</table>\n",
       "</div>"
      ],
      "text/plain": [
       "      id                                                url  \\\n",
       "0  19962  https://www.liputan6.com/news/read/19962/gas-b...   \n",
       "\n",
       "                                       clean_article  \\\n",
       "0  [[Liputan6, ., com, ,, Jakarta, :, Untuk, meme...   \n",
       "\n",
       "                                       clean_summary extractive_summary  \\\n",
       "0  [[Pertamina, akan, menyalurkan, gas, alam, dar...             [0, 4]   \n",
       "\n",
       "                                           sentences  \\\n",
       "0  [Liputan6 . com , Jakarta : Untuk memenuhi ken...   \n",
       "\n",
       "                                   summary_sentences  \n",
       "0  [Pertamina akan menyalurkan gas alam dari Suma...  "
      ]
     },
     "execution_count": 3,
     "metadata": {},
     "output_type": "execute_result"
    }
   ],
   "source": [
    "df.head(1)"
   ]
  },
  {
   "cell_type": "code",
   "execution_count": 8,
   "id": "assigned-pressure",
   "metadata": {},
   "outputs": [
    {
     "data": {
      "text/plain": [
       "['Proyek',\n",
       " 'transmisi',\n",
       " 'gas',\n",
       " 'ini',\n",
       " 'untuk',\n",
       " 'mendukung',\n",
       " 'kebijakan',\n",
       " 'pemerintah',\n",
       " 'dalam',\n",
       " 'diversifikasi',\n",
       " 'energi',\n",
       " 'dan',\n",
       " 'mengurangi',\n",
       " 'subsidi',\n",
       " 'bahan',\n",
       " 'bakar',\n",
       " 'minyak',\n",
       " 'di',\n",
       " 'dalam',\n",
       " 'negeri',\n",
       " '.']"
      ]
     },
     "execution_count": 8,
     "metadata": {},
     "output_type": "execute_result"
    }
   ],
   "source": [
    "df.iloc[0].clean_article[4]"
   ]
  },
  {
   "cell_type": "code",
   "execution_count": 9,
   "id": "meaning-atlantic",
   "metadata": {},
   "outputs": [
    {
     "data": {
      "text/plain": [
       "'Proyek ini untuk mendukung kebijakan pemerintah dalam diversifikasi energi dan mengurangi subsidi bahan bakar minyak .'"
      ]
     },
     "execution_count": 9,
     "metadata": {},
     "output_type": "execute_result"
    }
   ],
   "source": [
    "df.iloc[0].summary_sentences[1]"
   ]
  },
  {
   "cell_type": "code",
   "execution_count": 9,
   "id": "palestinian-offense",
   "metadata": {},
   "outputs": [
    {
     "name": "stdout",
     "output_type": "stream",
     "text": [
      "processing 1000 with time: 0:00:00.142597\n",
      "processing 2000 with time: 0:00:00.100156\n",
      "processing 3000 with time: 0:00:00.096261\n",
      "processing 4000 with time: 0:00:00.099771\n",
      "processing 5000 with time: 0:00:00.096244\n",
      "processing 6000 with time: 0:00:00.093276\n",
      "processing 7000 with time: 0:00:00.095442\n",
      "processing 8000 with time: 0:00:00.094930\n",
      "processing 9000 with time: 0:00:00.093755\n",
      "processing 10000 with time: 0:00:00.096186\n"
     ]
    }
   ],
   "source": [
    "# from datetime import datetime\n",
    "\n",
    "# MAX_DOC_LENGTH = 100\n",
    "\n",
    "# now = datetime.now()\n",
    "# folder_name = \"//home/jupyter-23521027/refresh-bert/data/Baseline-Gold-Models/gold-liputan6-test-orgcase\"\n",
    "\n",
    "# for i, row in df.iterrows():\n",
    "#     file = open(f\"{folder_name}/{row['id']}.gold\" , 'w')\n",
    "#     sentences = list(row[\"summary_sentences\"][:MAX_DOC_LENGTH])\n",
    "#     for sentence in sentences:\n",
    "#         file.write(f\"{sentence}\\n\")\n",
    "\n",
    "#     if (i + 1) % 1000 == 0:\n",
    "#         print(f\"processing {i + 1} with time: {datetime.now() - now}\")\n",
    "#         now = datetime.now()\n"
   ]
  },
  {
   "cell_type": "code",
   "execution_count": null,
   "id": "atmospheric-granny",
   "metadata": {},
   "outputs": [],
   "source": []
  }
 ],
 "metadata": {
  "kernelspec": {
   "display_name": "Python 3",
   "language": "python",
   "name": "python3"
  },
  "language_info": {
   "codemirror_mode": {
    "name": "ipython",
    "version": 3
   },
   "file_extension": ".py",
   "mimetype": "text/x-python",
   "name": "python",
   "nbconvert_exporter": "python",
   "pygments_lexer": "ipython3",
   "version": "3.7.9"
  }
 },
 "nbformat": 4,
 "nbformat_minor": 5
}

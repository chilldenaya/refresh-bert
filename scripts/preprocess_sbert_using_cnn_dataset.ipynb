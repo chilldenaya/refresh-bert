{
 "cells": [
  {
   "cell_type": "markdown",
   "id": "iraqi-backing",
   "metadata": {},
   "source": [
    "1. Read word2vec map\n",
    "2. Create word2idx map from word2vec map\n",
    "3. Read cnn.training.doc\n",
    "\n",
    "4. Get docs from cnn dataset using cnn.training.doc document name\n",
    "5. Parse docs from cnn dataset using nltk\n",
    "6. Use SBERT to get sentence embedding\n",
    "7. Save SBERT sentence embedding using cnn.training.doc format"
   ]
  },
  {
   "cell_type": "code",
   "execution_count": null,
   "id": "educational-break",
   "metadata": {},
   "outputs": [],
   "source": [
    "from datasets import load_dataset\n",
    "\n",
    "# Load the CNN/Daily Mail dataset\n",
    "dataset = load_dataset(\"/home/jupyter-23521027/refresh-bert/data/liputan6_data\", \"canonical\")"
   ]
  },
  {
   "cell_type": "code",
   "execution_count": null,
   "id": "adult-photographer",
   "metadata": {},
   "outputs": [],
   "source": [
    "dataset"
   ]
  },
  {
   "cell_type": "code",
   "execution_count": 17,
   "id": "artistic-vocabulary",
   "metadata": {},
   "outputs": [
    {
     "name": "stderr",
     "output_type": "stream",
     "text": [
      "[nltk_data] Downloading package punkt to\n",
      "[nltk_data]     /home/jupyter-23521027/nltk_data...\n",
      "[nltk_data]   Unzipping tokenizers/punkt.zip.\n"
     ]
    },
    {
     "data": {
      "text/plain": [
       "True"
      ]
     },
     "execution_count": 17,
     "metadata": {},
     "output_type": "execute_result"
    }
   ],
   "source": [
    "import nltk\n",
    "nltk.download('punkt')  # Download the necessary tokenizer models"
   ]
  },
  {
   "cell_type": "code",
   "execution_count": 19,
   "id": "defensive-exchange",
   "metadata": {},
   "outputs": [
    {
     "name": "stdout",
     "output_type": "stream",
     "text": [
      "42c027e4ff9730fbb3de84c1af0d2c506e41c3e4\n",
      "24\n",
      "LONDON, England (Reuters) -- Harry Potter star Daniel Radcliffe gains access to a reported £20 million ($41.1 million) fortune as he turns 18 on Monday, but he insists the money won't cast a spell on him.\n",
      "Daniel Radcliffe as Harry Potter in \"Harry Potter and the Order of the Phoenix\" To the disappointment of gossip columnists around the world, the young actor says he has no plans to fritter his cash away on fast cars, drink and celebrity parties.\n",
      "\"I don't plan to be one of those people who, as soon as they turn 18, suddenly buy themselves a massive sports car collection or something similar,\" he told an Australian interviewer earlier this month.\n",
      "\"I don't think I'll be particularly extravagant.\n",
      "\"The things I like buying are things that cost about 10 pounds -- books and CDs and DVDs.\"\n",
      "At 18, Radcliffe will be able to gamble in a casino, buy a drink in a pub or see the horror film \"Hostel: Part II,\" currently six places below his number one movie on the UK box office chart.\n",
      "Details of how he'll mark his landmark birthday are under wraps.\n",
      "His agent and publicist had no comment on his plans.\n",
      "\"I'll definitely have some sort of party,\" he said in an interview.\n",
      "\"Hopefully none of you will be reading about it.\"\n",
      "Radcliffe's earnings from the first five Potter films have been held in a trust fund which he has not been able to touch.\n",
      "Despite his growing fame and riches, the actor says he is keeping his feet firmly on the ground.\n",
      "\"People are always looking to say 'kid star goes off the rails,'\" he told reporters last month.\n",
      "\"But I try very hard not to go that way because it would be too easy for them.\"\n",
      "His latest outing as the boy wizard in \"Harry Potter and the Order of the Phoenix\" is breaking records on both sides of the Atlantic and he will reprise the role in the last two films.\n",
      "Watch I-Reporter give her review of Potter's latest » .\n",
      "There is life beyond Potter, however.\n",
      "The Londoner has filmed a TV movie called \"My Boy Jack,\" about author Rudyard Kipling and his son, due for release later this year.\n",
      "He will also appear in \"December Boys,\" an Australian film about four boys who escape an orphanage.\n",
      "Earlier this year, he made his stage debut playing a tortured teenager in Peter Shaffer's \"Equus.\"\n",
      "Meanwhile, he is braced for even closer media scrutiny now that he's legally an adult: \"I just think I'm going to be more sort of fair game,\" he told Reuters.\n",
      "E-mail to a friend .\n",
      "Copyright 2007 Reuters.\n",
      "All rights reserved.This material may not be published, broadcast, rewritten, or redistributed.\n"
     ]
    }
   ],
   "source": [
    "from nltk.tokenize import sent_tokenize\n",
    "\n",
    "for data_article, data_id in zip(dataset[\"article\"], dataset[\"id\"]):\n",
    "    print(data_id)\n",
    "    sentences = sent_tokenize(data_article)\n",
    "    print(len(sentences))\n",
    "    for sentence in sentences:\n",
    "        print(sentence)\n",
    "\n",
    "    break"
   ]
  },
  {
   "cell_type": "code",
   "execution_count": null,
   "id": "pleased-league",
   "metadata": {},
   "outputs": [],
   "source": []
  }
 ],
 "metadata": {
  "kernelspec": {
   "display_name": "Python 3",
   "language": "python",
   "name": "python3"
  },
  "language_info": {
   "codemirror_mode": {
    "name": "ipython",
    "version": 3
   },
   "file_extension": ".py",
   "mimetype": "text/x-python",
   "name": "python",
   "nbconvert_exporter": "python",
   "pygments_lexer": "ipython3",
   "version": "3.7.9"
  }
 },
 "nbformat": 4,
 "nbformat_minor": 5
}

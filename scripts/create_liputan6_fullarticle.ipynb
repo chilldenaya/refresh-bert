{
 "cells": [
  {
   "cell_type": "code",
   "execution_count": 19,
   "id": "stock-bishop",
   "metadata": {},
   "outputs": [],
   "source": [
    "import os\n",
    "import json\n",
    "import pandas as pd\n",
    "\n",
    "folder_path = '/home/jupyter-23521027/refresh-bert/data/liputan6_data/canonical/dev' \n",
    "\n",
    "file_list = os.listdir(folder_path)\n",
    "json_data_list = []\n",
    "file_list = os.listdir(folder_path)\n",
    "\n",
    "for file_name in file_list:\n",
    "    file_path = os.path.join(folder_path, file_name) \n",
    "\n",
    "    if os.path.isfile(file_path):\n",
    "        with open(file_path, 'r') as file:\n",
    "            json_data = json.load(file)\n",
    "            json_data_list.append(json_data)\n",
    "\n",
    "df = pd.DataFrame(json_data_list)"
   ]
  },
  {
   "cell_type": "code",
   "execution_count": 20,
   "id": "stock-produce",
   "metadata": {},
   "outputs": [],
   "source": [
    "df['sentences'] = df['clean_article'].apply(lambda x: [' '.join(sentence) for sentence in x])"
   ]
  },
  {
   "cell_type": "code",
   "execution_count": 21,
   "id": "needed-stevens",
   "metadata": {},
   "outputs": [
    {
     "data": {
      "text/html": [
       "<div>\n",
       "<style scoped>\n",
       "    .dataframe tbody tr th:only-of-type {\n",
       "        vertical-align: middle;\n",
       "    }\n",
       "\n",
       "    .dataframe tbody tr th {\n",
       "        vertical-align: top;\n",
       "    }\n",
       "\n",
       "    .dataframe thead th {\n",
       "        text-align: right;\n",
       "    }\n",
       "</style>\n",
       "<table border=\"1\" class=\"dataframe\">\n",
       "  <thead>\n",
       "    <tr style=\"text-align: right;\">\n",
       "      <th></th>\n",
       "      <th>id</th>\n",
       "      <th>url</th>\n",
       "      <th>clean_article</th>\n",
       "      <th>clean_summary</th>\n",
       "      <th>extractive_summary</th>\n",
       "      <th>sentences</th>\n",
       "    </tr>\n",
       "  </thead>\n",
       "  <tbody>\n",
       "    <tr>\n",
       "      <th>0</th>\n",
       "      <td>8279</td>\n",
       "      <td>https://www.liputan6.com/news/read/8279/enam-t...</td>\n",
       "      <td>[[Liputan6, ., com, ,, Waringin, :, Kepala, Po...</td>\n",
       "      <td>[[Polri, telah, meringkus, enam, tersangka, pe...</td>\n",
       "      <td>[2, 4]</td>\n",
       "      <td>[Liputan6 . com , Waringin : Kepala Polri Jend...</td>\n",
       "    </tr>\n",
       "  </tbody>\n",
       "</table>\n",
       "</div>"
      ],
      "text/plain": [
       "     id                                                url  \\\n",
       "0  8279  https://www.liputan6.com/news/read/8279/enam-t...   \n",
       "\n",
       "                                       clean_article  \\\n",
       "0  [[Liputan6, ., com, ,, Waringin, :, Kepala, Po...   \n",
       "\n",
       "                                       clean_summary extractive_summary  \\\n",
       "0  [[Polri, telah, meringkus, enam, tersangka, pe...             [2, 4]   \n",
       "\n",
       "                                           sentences  \n",
       "0  [Liputan6 . com , Waringin : Kepala Polri Jend...  "
      ]
     },
     "execution_count": 21,
     "metadata": {},
     "output_type": "execute_result"
    }
   ],
   "source": [
    "df.head(1)"
   ]
  },
  {
   "cell_type": "code",
   "execution_count": 22,
   "id": "maritime-campaign",
   "metadata": {},
   "outputs": [
    {
     "name": "stdout",
     "output_type": "stream",
     "text": [
      "processing 1000 with time: 0:00:00.119980\n",
      "processing 2000 with time: 0:00:00.104884\n",
      "processing 3000 with time: 0:00:00.101522\n",
      "processing 4000 with time: 0:00:00.101015\n",
      "processing 5000 with time: 0:00:00.101775\n",
      "processing 6000 with time: 0:00:00.102741\n",
      "processing 7000 with time: 0:00:00.100868\n",
      "processing 8000 with time: 0:00:00.101120\n",
      "processing 9000 with time: 0:00:00.102502\n",
      "processing 10000 with time: 0:00:00.101120\n"
     ]
    }
   ],
   "source": [
    "from datetime import datetime\n",
    "\n",
    "MAX_DOC_LENGTH = 100\n",
    "\n",
    "now = datetime.now()\n",
    "folder_name = \"/home/jupyter-23521027/refresh-bert/data/Liputan6-Filtered-TokenizedSegmented/validation\"\n",
    "\n",
    "for i, row in df.iterrows():\n",
    "    file = open(f\"{folder_name}/{row['id']}.mainbody\" , 'w')\n",
    "    sentences = list(row[\"sentences\"][:MAX_DOC_LENGTH])\n",
    "    for sentence in sentences:\n",
    "        file.write(f\"{sentence}\\n\")\n",
    "\n",
    "    if (i + 1) % 1000 == 0:\n",
    "        print(f\"processing {i + 1} with time: {datetime.now() - now}\")\n",
    "        now = datetime.now()\n"
   ]
  },
  {
   "cell_type": "code",
   "execution_count": null,
   "id": "dangerous-worry",
   "metadata": {},
   "outputs": [],
   "source": []
  }
 ],
 "metadata": {
  "kernelspec": {
   "display_name": "Python 3",
   "language": "python",
   "name": "python3"
  },
  "language_info": {
   "codemirror_mode": {
    "name": "ipython",
    "version": 3
   },
   "file_extension": ".py",
   "mimetype": "text/x-python",
   "name": "python",
   "nbconvert_exporter": "python",
   "pygments_lexer": "ipython3",
   "version": "3.7.9"
  }
 },
 "nbformat": 4,
 "nbformat_minor": 5
}

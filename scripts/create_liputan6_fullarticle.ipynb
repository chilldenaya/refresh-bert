{
 "cells": [
  {
   "cell_type": "code",
   "execution_count": 2,
   "id": "suspected-bullet",
   "metadata": {},
   "outputs": [],
   "source": [
    "import os\n",
    "import json\n",
    "import pandas as pd\n",
    "\n",
    "folder_path = '/home/jupyter-23521027/refresh-bert/data/liputan6_data/canonical/train' \n",
    "\n",
    "file_list = os.listdir(folder_path)\n",
    "json_data_list = []\n",
    "file_list = os.listdir(folder_path)\n",
    "\n",
    "for file_name in file_list:\n",
    "    file_path = os.path.join(folder_path, file_name) \n",
    "\n",
    "    if os.path.isfile(file_path):\n",
    "        with open(file_path, 'r') as file:\n",
    "            json_data = json.load(file)\n",
    "            json_data_list.append(json_data)\n",
    "\n",
    "df = pd.DataFrame(json_data_list)"
   ]
  },
  {
   "cell_type": "code",
   "execution_count": 3,
   "id": "crazy-express",
   "metadata": {},
   "outputs": [],
   "source": [
    "df['sentences'] = df['clean_article'].apply(lambda x: [' '.join(sentence) for sentence in x])"
   ]
  },
  {
   "cell_type": "code",
   "execution_count": 4,
   "id": "specialized-discipline",
   "metadata": {},
   "outputs": [
    {
     "data": {
      "text/html": [
       "<div>\n",
       "<style scoped>\n",
       "    .dataframe tbody tr th:only-of-type {\n",
       "        vertical-align: middle;\n",
       "    }\n",
       "\n",
       "    .dataframe tbody tr th {\n",
       "        vertical-align: top;\n",
       "    }\n",
       "\n",
       "    .dataframe thead th {\n",
       "        text-align: right;\n",
       "    }\n",
       "</style>\n",
       "<table border=\"1\" class=\"dataframe\">\n",
       "  <thead>\n",
       "    <tr style=\"text-align: right;\">\n",
       "      <th></th>\n",
       "      <th>id</th>\n",
       "      <th>url</th>\n",
       "      <th>clean_article</th>\n",
       "      <th>clean_summary</th>\n",
       "      <th>extractive_summary</th>\n",
       "      <th>sentences</th>\n",
       "    </tr>\n",
       "  </thead>\n",
       "  <tbody>\n",
       "    <tr>\n",
       "      <th>0</th>\n",
       "      <td>48951</td>\n",
       "      <td>https://www.liputan6.com/news/read/48951/polis...</td>\n",
       "      <td>[[Liputan6, ., com, ,, Lamongan, :, Tim, Inves...</td>\n",
       "      <td>[[Senjata, api, dan, ratusan, butir, peluru, m...</td>\n",
       "      <td>[1, 2]</td>\n",
       "      <td>[Liputan6 . com , Lamongan : Tim Investigasi B...</td>\n",
       "    </tr>\n",
       "  </tbody>\n",
       "</table>\n",
       "</div>"
      ],
      "text/plain": [
       "      id                                                url  \\\n",
       "0  48951  https://www.liputan6.com/news/read/48951/polis...   \n",
       "\n",
       "                                       clean_article  \\\n",
       "0  [[Liputan6, ., com, ,, Lamongan, :, Tim, Inves...   \n",
       "\n",
       "                                       clean_summary extractive_summary  \\\n",
       "0  [[Senjata, api, dan, ratusan, butir, peluru, m...             [1, 2]   \n",
       "\n",
       "                                           sentences  \n",
       "0  [Liputan6 . com , Lamongan : Tim Investigasi B...  "
      ]
     },
     "execution_count": 4,
     "metadata": {},
     "output_type": "execute_result"
    }
   ],
   "source": [
    "df.head(1)"
   ]
  },
  {
   "cell_type": "code",
   "execution_count": 5,
   "id": "warming-dylan",
   "metadata": {},
   "outputs": [
    {
     "name": "stdout",
     "output_type": "stream",
     "text": [
      "processing 10000 with time: 0:00:01.170604\n",
      "processing 20000 with time: 0:00:01.024205\n",
      "processing 30000 with time: 0:00:01.023221\n",
      "processing 40000 with time: 0:00:01.046542\n",
      "processing 50000 with time: 0:00:01.064780\n",
      "processing 60000 with time: 0:00:01.051525\n",
      "processing 70000 with time: 0:00:01.041689\n",
      "processing 80000 with time: 0:00:01.062670\n",
      "processing 90000 with time: 0:00:01.033572\n",
      "processing 100000 with time: 0:00:01.037389\n",
      "processing 110000 with time: 0:00:01.026777\n",
      "processing 120000 with time: 0:00:01.039475\n",
      "processing 130000 with time: 0:00:01.057507\n",
      "processing 140000 with time: 0:00:01.023175\n",
      "processing 150000 with time: 0:00:01.026774\n",
      "processing 160000 with time: 0:00:01.039427\n",
      "processing 170000 with time: 0:00:01.053098\n",
      "processing 180000 with time: 0:00:01.024746\n",
      "processing 190000 with time: 0:00:01.021591\n"
     ]
    }
   ],
   "source": [
    "from datetime import datetime\n",
    "\n",
    "MAX_DOC_LENGTH = 100\n",
    "\n",
    "now = datetime.now()\n",
    "folder_name = \"/home/jupyter-23521027/refresh-bert/data/Liputan6-Filtered-TokenizedSegmented/training\"\n",
    "\n",
    "for i, row in df.iterrows():\n",
    "    file = open(f\"{folder_name}/{row['id']}.mainbody\" , 'w')\n",
    "    sentences = list(row[\"sentences\"][:MAX_DOC_LENGTH])\n",
    "    for sentence in sentences:\n",
    "        file.write(f\"{sentence}\\n\")\n",
    "\n",
    "    if (i + 1) % 10000 == 0:\n",
    "        print(f\"processing {i + 1} with time: {datetime.now() - now}\")\n",
    "        now = datetime.now()\n"
   ]
  },
  {
   "cell_type": "code",
   "execution_count": null,
   "id": "cloudy-mobile",
   "metadata": {},
   "outputs": [],
   "source": []
  }
 ],
 "metadata": {
  "kernelspec": {
   "display_name": "Python 3",
   "language": "python",
   "name": "python3"
  },
  "language_info": {
   "codemirror_mode": {
    "name": "ipython",
    "version": 3
   },
   "file_extension": ".py",
   "mimetype": "text/x-python",
   "name": "python",
   "nbconvert_exporter": "python",
   "pygments_lexer": "ipython3",
   "version": "3.7.9"
  }
 },
 "nbformat": 4,
 "nbformat_minor": 5
}

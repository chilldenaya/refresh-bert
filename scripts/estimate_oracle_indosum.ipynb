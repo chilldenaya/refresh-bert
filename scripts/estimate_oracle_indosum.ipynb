{
 "cells": [
  {
   "cell_type": "code",
   "execution_count": 1,
   "metadata": {},
   "outputs": [
    {
     "name": "stdout",
     "output_type": "stream",
     "text": [
      "CHANGELOG.txt  dev.03.jsonl   test.02.jsonl  train.01.jsonl  train.05.jsonl\n",
      "README.txt     dev.04.jsonl   test.03.jsonl  train.02.jsonl\n",
      "dev.01.jsonl   dev.05.jsonl   test.04.jsonl  train.03.jsonl\n",
      "dev.02.jsonl   test.01.jsonl  test.05.jsonl  train.04.jsonl\n"
     ]
    }
   ],
   "source": [
    "!ls ../data/indosum"
   ]
  },
  {
   "cell_type": "code",
   "execution_count": 2,
   "metadata": {},
   "outputs": [
    {
     "data": {
      "text/html": [
       "<div>\n",
       "<style scoped>\n",
       "    .dataframe tbody tr th:only-of-type {\n",
       "        vertical-align: middle;\n",
       "    }\n",
       "\n",
       "    .dataframe tbody tr th {\n",
       "        vertical-align: top;\n",
       "    }\n",
       "\n",
       "    .dataframe thead th {\n",
       "        text-align: right;\n",
       "    }\n",
       "</style>\n",
       "<table border=\"1\" class=\"dataframe\">\n",
       "  <thead>\n",
       "    <tr style=\"text-align: right;\">\n",
       "      <th></th>\n",
       "      <th>document_sentences</th>\n",
       "      <th>summary</th>\n",
       "      <th>source</th>\n",
       "    </tr>\n",
       "  </thead>\n",
       "  <tbody>\n",
       "    <tr>\n",
       "      <th>1</th>\n",
       "      <td>[JUARA.NET - Pebalap Inggris Raya , Lewis Hami...</td>\n",
       "      <td>Pebalap Inggris Raya , Lewis Hamilton , dan Da...</td>\n",
       "      <td>liputan6</td>\n",
       "    </tr>\n",
       "    <tr>\n",
       "      <th>2</th>\n",
       "      <td>[Jakarta , CNN Indonesia - - Kabar reuni Spice...</td>\n",
       "      <td>Kabar reuni Spice Girls sudah santer beredar s...</td>\n",
       "      <td>liputan6</td>\n",
       "    </tr>\n",
       "    <tr>\n",
       "      <th>3</th>\n",
       "      <td>[Jakarta , CNN Indonesia - - Konsep Kampung Pe...</td>\n",
       "      <td>Konsep Kampung Pelangi dinilai sukses memberi ...</td>\n",
       "      <td>liputan6</td>\n",
       "    </tr>\n",
       "    <tr>\n",
       "      <th>4</th>\n",
       "      <td>[Jakarta , CNN Indonesia - - Setelah sempat me...</td>\n",
       "      <td>Album erbaru EXO , ' Universe ' , langsung men...</td>\n",
       "      <td>liputan6</td>\n",
       "    </tr>\n",
       "    <tr>\n",
       "      <th>5</th>\n",
       "      <td>[Jakarta , CNN Indonesia - - Live Nation , pro...</td>\n",
       "      <td>Promotor Live Nation akan membawa Bryan Adams ...</td>\n",
       "      <td>liputan6</td>\n",
       "    </tr>\n",
       "    <tr>\n",
       "      <th>6</th>\n",
       "      <td>[Merdeka.com - N\"Golo Kante mengungkapkan pern...</td>\n",
       "      <td>N\"Golo Kante mengungkapkan pernah mendapat taw...</td>\n",
       "      <td>liputan6</td>\n",
       "    </tr>\n",
       "    <tr>\n",
       "      <th>7</th>\n",
       "      <td>[Jakarta , CNN Indonesia - - Perjuangan Michae...</td>\n",
       "      <td>Perjuangan Michael Nyqvist melawan kanker paru...</td>\n",
       "      <td>liputan6</td>\n",
       "    </tr>\n",
       "    <tr>\n",
       "      <th>8</th>\n",
       "      <td>[Selama ini , Latte Art memang identik dengan ...</td>\n",
       "      <td>Selama ini , Latte Art memang identik dengan k...</td>\n",
       "      <td>liputan6</td>\n",
       "    </tr>\n",
       "    <tr>\n",
       "      <th>9</th>\n",
       "      <td>[Pelatih Borneo FC Iwan Setiawan sempat melont...</td>\n",
       "      <td>Pelatih Borneo FC Iwan Setiawan sempat melonta...</td>\n",
       "      <td>liputan6</td>\n",
       "    </tr>\n",
       "    <tr>\n",
       "      <th>10</th>\n",
       "      <td>[Jakarta , CNN Indonesia - - Eks pimpinan Dewa...</td>\n",
       "      <td>Eks pimpinan Dewan Perwakilan Daerah Laode Ida...</td>\n",
       "      <td>liputan6</td>\n",
       "    </tr>\n",
       "  </tbody>\n",
       "</table>\n",
       "</div>"
      ],
      "text/plain": [
       "                                   document_sentences  \\\n",
       "1   [JUARA.NET - Pebalap Inggris Raya , Lewis Hami...   \n",
       "2   [Jakarta , CNN Indonesia - - Kabar reuni Spice...   \n",
       "3   [Jakarta , CNN Indonesia - - Konsep Kampung Pe...   \n",
       "4   [Jakarta , CNN Indonesia - - Setelah sempat me...   \n",
       "5   [Jakarta , CNN Indonesia - - Live Nation , pro...   \n",
       "6   [Merdeka.com - N\"Golo Kante mengungkapkan pern...   \n",
       "7   [Jakarta , CNN Indonesia - - Perjuangan Michae...   \n",
       "8   [Selama ini , Latte Art memang identik dengan ...   \n",
       "9   [Pelatih Borneo FC Iwan Setiawan sempat melont...   \n",
       "10  [Jakarta , CNN Indonesia - - Eks pimpinan Dewa...   \n",
       "\n",
       "                                              summary    source  \n",
       "1   Pebalap Inggris Raya , Lewis Hamilton , dan Da...  liputan6  \n",
       "2   Kabar reuni Spice Girls sudah santer beredar s...  liputan6  \n",
       "3   Konsep Kampung Pelangi dinilai sukses memberi ...  liputan6  \n",
       "4   Album erbaru EXO , ' Universe ' , langsung men...  liputan6  \n",
       "5   Promotor Live Nation akan membawa Bryan Adams ...  liputan6  \n",
       "6   N\"Golo Kante mengungkapkan pernah mendapat taw...  liputan6  \n",
       "7   Perjuangan Michael Nyqvist melawan kanker paru...  liputan6  \n",
       "8   Selama ini , Latte Art memang identik dengan k...  liputan6  \n",
       "9   Pelatih Borneo FC Iwan Setiawan sempat melonta...  liputan6  \n",
       "10  Eks pimpinan Dewan Perwakilan Daerah Laode Ida...  liputan6  "
      ]
     },
     "execution_count": 2,
     "metadata": {},
     "output_type": "execute_result"
    }
   ],
   "source": [
    "import jsonlines\n",
    "import glob\n",
    "\n",
    "lines = []\n",
    "for f in glob.glob(\"../data/indosum/train.*.jsonl\"):\n",
    "    with jsonlines.open(f) as infile:\n",
    "        for obj in infile:\n",
    "            lines.append(obj)\n",
    "\n",
    "import pandas as pd\n",
    "\n",
    "df = pd.DataFrame(lines)\n",
    "df.head()\n",
    "\n",
    "df_indosum = pd.DataFrame()\n",
    "\n",
    "all_document_sentences = []\n",
    "all_document_summary = [] \n",
    "for i, row in df.iterrows():\n",
    "    # create document sentences\n",
    "    document_sentences = []\n",
    "    for j, sentence in enumerate(row['paragraphs']):\n",
    "        document_sentences.append(\" \".join(sentence[0]))\n",
    "    all_document_sentences.append(document_sentences)\n",
    "\n",
    "    # create document summary\n",
    "    summaries = \"\"\n",
    "    for j, sentence in enumerate(row['summary']):\n",
    "        summaries += \" \".join(sentence)\n",
    "        summaries += \" \"\n",
    "    all_document_summary.append(summaries)\n",
    "\n",
    "    if i == 10:\n",
    "        break\n",
    "\n",
    "df_indosum[\"document_sentences\"] = all_document_sentences\n",
    "df_indosum[\"summary\"] = all_document_summary\n",
    "df_indosum['source'] = \"liputan6\" \n",
    "\n",
    "df_indosum.tail(10)"
   ]
  },
  {
   "attachments": {},
   "cell_type": "markdown",
   "metadata": {},
   "source": [
    "### Calculate sentence-wise ROUGE score"
   ]
  },
  {
   "cell_type": "code",
   "execution_count": 3,
   "metadata": {},
   "outputs": [
    {
     "name": "stdout",
     "output_type": "stream",
     "text": [
      "{'rouge1': Score(precision=0.75, recall=0.6666666666666666, fmeasure=0.7058823529411765), 'rouge2': Score(precision=0.2857142857142857, recall=0.25, fmeasure=0.26666666666666666), 'rougeL': Score(precision=0.625, recall=0.5555555555555556, fmeasure=0.5882352941176471)}\n"
     ]
    }
   ],
   "source": [
    "# https://github.com/google-research/google-research/blob/master/rouge/rouge_scorer.py\n",
    "from rouge_score import rouge_scorer\n",
    "\n",
    "scorer = rouge_scorer.RougeScorer(['rouge1', 'rouge2', 'rougeL'], use_stemmer=True)\n",
    "scores = scorer.score(\n",
    "    'The quick brown fox jumps over the lazy dog',\n",
    "    'The quick brown dog jumps on the log.'\n",
    ")\n",
    "print(scores)"
   ]
  },
  {
   "cell_type": "code",
   "execution_count": 4,
   "metadata": {},
   "outputs": [
    {
     "data": {
      "text/html": [
       "<div>\n",
       "<style scoped>\n",
       "    .dataframe tbody tr th:only-of-type {\n",
       "        vertical-align: middle;\n",
       "    }\n",
       "\n",
       "    .dataframe tbody tr th {\n",
       "        vertical-align: top;\n",
       "    }\n",
       "\n",
       "    .dataframe thead th {\n",
       "        text-align: right;\n",
       "    }\n",
       "</style>\n",
       "<table border=\"1\" class=\"dataframe\">\n",
       "  <thead>\n",
       "    <tr style=\"text-align: right;\">\n",
       "      <th></th>\n",
       "      <th>document_sentences</th>\n",
       "      <th>summary</th>\n",
       "      <th>source</th>\n",
       "      <th>document_sentences_f1_rouge_scores</th>\n",
       "    </tr>\n",
       "  </thead>\n",
       "  <tbody>\n",
       "    <tr>\n",
       "      <th>6</th>\n",
       "      <td>[Merdeka.com - N\"Golo Kante mengungkapkan pern...</td>\n",
       "      <td>N\"Golo Kante mengungkapkan pernah mendapat taw...</td>\n",
       "      <td>liputan6</td>\n",
       "      <td>[0.5232804232804235, 0.34767025089605735, 0.18...</td>\n",
       "    </tr>\n",
       "    <tr>\n",
       "      <th>7</th>\n",
       "      <td>[Jakarta , CNN Indonesia - - Perjuangan Michae...</td>\n",
       "      <td>Perjuangan Michael Nyqvist melawan kanker paru...</td>\n",
       "      <td>liputan6</td>\n",
       "      <td>[0.24985994397759104, 0.28698752228164, 0.1323...</td>\n",
       "    </tr>\n",
       "    <tr>\n",
       "      <th>8</th>\n",
       "      <td>[Selama ini , Latte Art memang identik dengan ...</td>\n",
       "      <td>Selama ini , Latte Art memang identik dengan k...</td>\n",
       "      <td>liputan6</td>\n",
       "      <td>[0.2309988518943743, 0.1154347033390634, 0.020...</td>\n",
       "    </tr>\n",
       "    <tr>\n",
       "      <th>9</th>\n",
       "      <td>[Pelatih Borneo FC Iwan Setiawan sempat melont...</td>\n",
       "      <td>Pelatih Borneo FC Iwan Setiawan sempat melonta...</td>\n",
       "      <td>liputan6</td>\n",
       "      <td>[0.5297979797979798, 0.1500711237553343, 0.132...</td>\n",
       "    </tr>\n",
       "    <tr>\n",
       "      <th>10</th>\n",
       "      <td>[Jakarta , CNN Indonesia - - Eks pimpinan Dewa...</td>\n",
       "      <td>Eks pimpinan Dewan Perwakilan Daerah Laode Ida...</td>\n",
       "      <td>liputan6</td>\n",
       "      <td>[0.6553418803418803, 0.4777561468022207, 0.021...</td>\n",
       "    </tr>\n",
       "  </tbody>\n",
       "</table>\n",
       "</div>"
      ],
      "text/plain": [
       "                                   document_sentences  \\\n",
       "6   [Merdeka.com - N\"Golo Kante mengungkapkan pern...   \n",
       "7   [Jakarta , CNN Indonesia - - Perjuangan Michae...   \n",
       "8   [Selama ini , Latte Art memang identik dengan ...   \n",
       "9   [Pelatih Borneo FC Iwan Setiawan sempat melont...   \n",
       "10  [Jakarta , CNN Indonesia - - Eks pimpinan Dewa...   \n",
       "\n",
       "                                              summary    source  \\\n",
       "6   N\"Golo Kante mengungkapkan pernah mendapat taw...  liputan6   \n",
       "7   Perjuangan Michael Nyqvist melawan kanker paru...  liputan6   \n",
       "8   Selama ini , Latte Art memang identik dengan k...  liputan6   \n",
       "9   Pelatih Borneo FC Iwan Setiawan sempat melonta...  liputan6   \n",
       "10  Eks pimpinan Dewan Perwakilan Daerah Laode Ida...  liputan6   \n",
       "\n",
       "                   document_sentences_f1_rouge_scores  \n",
       "6   [0.5232804232804235, 0.34767025089605735, 0.18...  \n",
       "7   [0.24985994397759104, 0.28698752228164, 0.1323...  \n",
       "8   [0.2309988518943743, 0.1154347033390634, 0.020...  \n",
       "9   [0.5297979797979798, 0.1500711237553343, 0.132...  \n",
       "10  [0.6553418803418803, 0.4777561468022207, 0.021...  "
      ]
     },
     "execution_count": 4,
     "metadata": {},
     "output_type": "execute_result"
    }
   ],
   "source": [
    "all_document_sentences_f1_rouge_scores = []\n",
    "for i, row in df_indosum.iterrows():\n",
    "    document_sentences_f1_rouge_scores = []\n",
    "    for sentence in row[\"document_sentences\"]:\n",
    "        scores = scorer.score(sentence, row[\"summary\"])\n",
    "        rouge1_f1 = scores[\"rouge1\"].fmeasure\n",
    "        rouge2_f1 = scores[\"rouge2\"].fmeasure\n",
    "        rougeL_f1 = scores[\"rougeL\"].fmeasure\n",
    "        rouge_score = (rouge1_f1 + rouge2_f1 + rougeL_f1) / 3.0\n",
    "        document_sentences_f1_rouge_scores.append(rouge_score)\n",
    "    all_document_sentences_f1_rouge_scores.append(document_sentences_f1_rouge_scores)\n",
    "\n",
    "df_indosum[\"document_sentences_f1_rouge_scores\"] = all_document_sentences_f1_rouge_scores\n",
    "df_indosum.tail(5)"
   ]
  },
  {
   "attachments": {},
   "cell_type": "markdown",
   "metadata": {},
   "source": [
    "### Sort sentence-wise ROUGE score with highest score on top"
   ]
  },
  {
   "cell_type": "code",
   "execution_count": 5,
   "metadata": {},
   "outputs": [
    {
     "data": {
      "text/plain": [
       "'IDX Incubator \\xa0  mengadakan sesi diskusi dengan tema “ Technology vs Humanity ” . Dalam diskusi ini dihadirkan dua narasumber , yakni Wakil Ketua Komite Tetap KADIN Indonesia Kevin Wu dan Managing Director Samsung R&D Indonesia Alfred Boediman . Dalam paparannya , Alfred meyakini bahwa Internet of Things ( IoT ) dan Artificial Intelligence ( AI ) akan menjadi signifikan ke depannya , karena menjadi fondasi utama perangkat pintar yang mendukung pelayanan publik . '"
      ]
     },
     "execution_count": 5,
     "metadata": {},
     "output_type": "execute_result"
    }
   ],
   "source": [
    "df_indosum.head(1).iloc[0][\"summary\"]"
   ]
  },
  {
   "cell_type": "code",
   "execution_count": 6,
   "metadata": {},
   "outputs": [
    {
     "data": {
      "text/html": [
       "<div>\n",
       "<style scoped>\n",
       "    .dataframe tbody tr th:only-of-type {\n",
       "        vertical-align: middle;\n",
       "    }\n",
       "\n",
       "    .dataframe tbody tr th {\n",
       "        vertical-align: top;\n",
       "    }\n",
       "\n",
       "    .dataframe thead th {\n",
       "        text-align: right;\n",
       "    }\n",
       "</style>\n",
       "<table border=\"1\" class=\"dataframe\">\n",
       "  <thead>\n",
       "    <tr style=\"text-align: right;\">\n",
       "      <th></th>\n",
       "      <th>document_sentences</th>\n",
       "      <th>summary</th>\n",
       "      <th>source</th>\n",
       "      <th>document_sentences_f1_rouge_scores</th>\n",
       "      <th>top_10_sentences</th>\n",
       "    </tr>\n",
       "  </thead>\n",
       "  <tbody>\n",
       "    <tr>\n",
       "      <th>0</th>\n",
       "      <td>[IDX Incubator kembali mengadakan sesi diskusi...</td>\n",
       "      <td>IDX Incubator    mengadakan sesi diskusi denga...</td>\n",
       "      <td>liputan6</td>\n",
       "      <td>[0.13588588588588588, 0.06741573033707865, 0.0...</td>\n",
       "      <td>[(IDX Incubator kembali mengadakan sesi diskus...</td>\n",
       "    </tr>\n",
       "  </tbody>\n",
       "</table>\n",
       "</div>"
      ],
      "text/plain": [
       "                                  document_sentences  \\\n",
       "0  [IDX Incubator kembali mengadakan sesi diskusi...   \n",
       "\n",
       "                                             summary    source  \\\n",
       "0  IDX Incubator    mengadakan sesi diskusi denga...  liputan6   \n",
       "\n",
       "                  document_sentences_f1_rouge_scores  \\\n",
       "0  [0.13588588588588588, 0.06741573033707865, 0.0...   \n",
       "\n",
       "                                    top_10_sentences  \n",
       "0  [(IDX Incubator kembali mengadakan sesi diskus...  "
      ]
     },
     "execution_count": 6,
     "metadata": {},
     "output_type": "execute_result"
    }
   ],
   "source": [
    "all_top_10_sentences = [] \n",
    "for i, row in df_indosum.iterrows():\n",
    "    document_sentences_and_scores = [] \n",
    "    for sentences_and_scores in zip(\n",
    "        row[\"document_sentences\"], \n",
    "        row[\"document_sentences_f1_rouge_scores\"], \n",
    "        [x+1 for x in range(len(row[\"document_sentences\"]))]\n",
    "    ):\n",
    "        document_sentences_and_scores.append(sentences_and_scores)\n",
    "\n",
    "    top_10_sentences = sorted(document_sentences_and_scores, key=lambda x: x[1], reverse=True)[:10]\n",
    "    all_top_10_sentences.append([(x[0],x[2]) for x in top_10_sentences])\n",
    "\n",
    "df_indosum[\"top_10_sentences\"] = all_top_10_sentences\n",
    "df_indosum.head(1)"
   ]
  },
  {
   "cell_type": "code",
   "execution_count": 10,
   "metadata": {},
   "outputs": [
    {
     "data": {
      "text/plain": [
       "[('IDX Incubator kembali mengadakan sesi diskusi teknologi dan startup untuk kali kedua .',\n",
       "  1),\n",
       " ('Dari sisi pemanfaatannya kedua pemateri meyakini bahwa AI akan memberikan banyak dampak baik .',\n",
       "  9)]"
      ]
     },
     "execution_count": 10,
     "metadata": {},
     "output_type": "execute_result"
    }
   ],
   "source": [
    "df_indosum.head(1).iloc[0][\"top_10_sentences\"][:2]"
   ]
  },
  {
   "attachments": {},
   "cell_type": "markdown",
   "metadata": {},
   "source": [
    "\n",
    "### Make candidate summary by combination of (1, 2, 3) sentence length created from 10 sentences with highest ROUGE score"
   ]
  },
  {
   "cell_type": "code",
   "execution_count": 18,
   "metadata": {},
   "outputs": [
    {
     "data": {
      "text/html": [
       "<div>\n",
       "<style scoped>\n",
       "    .dataframe tbody tr th:only-of-type {\n",
       "        vertical-align: middle;\n",
       "    }\n",
       "\n",
       "    .dataframe tbody tr th {\n",
       "        vertical-align: top;\n",
       "    }\n",
       "\n",
       "    .dataframe thead th {\n",
       "        text-align: right;\n",
       "    }\n",
       "</style>\n",
       "<table border=\"1\" class=\"dataframe\">\n",
       "  <thead>\n",
       "    <tr style=\"text-align: right;\">\n",
       "      <th></th>\n",
       "      <th>candidate_summaries</th>\n",
       "      <th>candidate_summary_ids</th>\n",
       "      <th>document_length</th>\n",
       "      <th>summary</th>\n",
       "    </tr>\n",
       "  </thead>\n",
       "  <tbody>\n",
       "    <tr>\n",
       "      <th>0</th>\n",
       "      <td>[IDX Incubator kembali mengadakan sesi diskusi...</td>\n",
       "      <td>[1 9, 1 7, 1 2, 1 10, 1 8, 1 3, 1 6, 1 5, 1 11...</td>\n",
       "      <td>11</td>\n",
       "      <td>IDX Incubator    mengadakan sesi diskusi denga...</td>\n",
       "    </tr>\n",
       "  </tbody>\n",
       "</table>\n",
       "</div>"
      ],
      "text/plain": [
       "                                 candidate_summaries  \\\n",
       "0  [IDX Incubator kembali mengadakan sesi diskusi...   \n",
       "\n",
       "                               candidate_summary_ids  document_length  \\\n",
       "0  [1 9, 1 7, 1 2, 1 10, 1 8, 1 3, 1 6, 1 5, 1 11...               11   \n",
       "\n",
       "                                             summary  \n",
       "0  IDX Incubator    mengadakan sesi diskusi denga...  "
      ]
     },
     "execution_count": 18,
     "metadata": {},
     "output_type": "execute_result"
    }
   ],
   "source": [
    "import itertools\n",
    "\n",
    "df_indosum_candidate_summary = pd.DataFrame()\n",
    "\n",
    "all_candidate_summary_txt = []\n",
    "all_candidate_summary_ids_txt = []\n",
    "all_document_length = [] \n",
    "for i, row in df_indosum.iterrows():\n",
    "    document_candidate_summaries = []\n",
    "    document_candidate_summaries_idx = []\n",
    "\n",
    "    for itemcount in [2,3]:\n",
    "        candidate_summaries = list(itertools.combinations(list(row[\"top_10_sentences\"]), itemcount))\n",
    "        for candidate_summary in candidate_summaries:\n",
    "            candidate_summary_txt = \" \".join([val[0] for val in candidate_summary])\n",
    "            candidate_summary_ids = \" \".join([str(val[1]) for val in candidate_summary])\n",
    "\n",
    "            document_candidate_summaries.append(candidate_summary_txt)\n",
    "            document_candidate_summaries_idx.append(candidate_summary_ids)\n",
    "\n",
    "    all_candidate_summary_txt.append(document_candidate_summaries)\n",
    "    all_candidate_summary_ids_txt.append(document_candidate_summaries_idx)\n",
    "    all_document_length.append(len(row[\"document_sentences\"]))\n",
    "\n",
    "df_indosum_candidate_summary[\"candidate_summaries\"] = all_candidate_summary_txt\n",
    "df_indosum_candidate_summary[\"candidate_summary_ids\"] = all_candidate_summary_ids_txt\n",
    "df_indosum_candidate_summary[\"document_length\"] = all_document_length\n",
    "df_indosum_candidate_summary[\"summary\"] = df_indosum[\"summary\"]\n",
    "df_indosum_candidate_summary.head(1)"
   ]
  },
  {
   "cell_type": "code",
   "execution_count": 19,
   "metadata": {},
   "outputs": [
    {
     "data": {
      "text/plain": [
       "'IDX Incubator \\xa0  mengadakan sesi diskusi dengan tema “ Technology vs Humanity ” . Dalam diskusi ini dihadirkan dua narasumber , yakni Wakil Ketua Komite Tetap KADIN Indonesia Kevin Wu dan Managing Director Samsung R&D Indonesia Alfred Boediman . Dalam paparannya , Alfred meyakini bahwa Internet of Things ( IoT ) dan Artificial Intelligence ( AI ) akan menjadi signifikan ke depannya , karena menjadi fondasi utama perangkat pintar yang mendukung pelayanan publik . '"
      ]
     },
     "execution_count": 19,
     "metadata": {},
     "output_type": "execute_result"
    }
   ],
   "source": [
    "df_indosum_candidate_summary.head(1).iloc[0][\"summary\"]"
   ]
  },
  {
   "cell_type": "code",
   "execution_count": 20,
   "metadata": {},
   "outputs": [
    {
     "data": {
      "text/plain": [
       "['IDX Incubator kembali mengadakan sesi diskusi teknologi dan startup untuk kali kedua . Dari sisi pemanfaatannya kedua pemateri meyakini bahwa AI akan memberikan banyak dampak baik .',\n",
       " 'IDX Incubator kembali mengadakan sesi diskusi teknologi dan startup untuk kali kedua . Produk AI juga menjadi salah satu tren yang ada saat ini di Indonesia .']"
      ]
     },
     "execution_count": 20,
     "metadata": {},
     "output_type": "execute_result"
    }
   ],
   "source": [
    "df_indosum_candidate_summary.head(1).iloc[0][\"candidate_summaries\"][:2]"
   ]
  },
  {
   "attachments": {},
   "cell_type": "markdown",
   "metadata": {},
   "source": [
    "### Calculate summary-wise ROUGE score"
   ]
  },
  {
   "cell_type": "code",
   "execution_count": 21,
   "metadata": {},
   "outputs": [
    {
     "data": {
      "text/html": [
       "<div>\n",
       "<style scoped>\n",
       "    .dataframe tbody tr th:only-of-type {\n",
       "        vertical-align: middle;\n",
       "    }\n",
       "\n",
       "    .dataframe tbody tr th {\n",
       "        vertical-align: top;\n",
       "    }\n",
       "\n",
       "    .dataframe thead th {\n",
       "        text-align: right;\n",
       "    }\n",
       "</style>\n",
       "<table border=\"1\" class=\"dataframe\">\n",
       "  <thead>\n",
       "    <tr style=\"text-align: right;\">\n",
       "      <th></th>\n",
       "      <th>candidate_summaries</th>\n",
       "      <th>candidate_summary_ids</th>\n",
       "      <th>document_length</th>\n",
       "      <th>summary</th>\n",
       "      <th>candidate_summary_scores</th>\n",
       "    </tr>\n",
       "  </thead>\n",
       "  <tbody>\n",
       "    <tr>\n",
       "      <th>0</th>\n",
       "      <td>[IDX Incubator kembali mengadakan sesi diskusi...</td>\n",
       "      <td>[1 9, 1 7, 1 2, 1 10, 1 8, 1 3, 1 6, 1 5, 1 11...</td>\n",
       "      <td>11</td>\n",
       "      <td>IDX Incubator    mengadakan sesi diskusi denga...</td>\n",
       "      <td>[0.19247239125535268, 0.1767861167455488, 0.15...</td>\n",
       "    </tr>\n",
       "  </tbody>\n",
       "</table>\n",
       "</div>"
      ],
      "text/plain": [
       "                                 candidate_summaries  \\\n",
       "0  [IDX Incubator kembali mengadakan sesi diskusi...   \n",
       "\n",
       "                               candidate_summary_ids  document_length  \\\n",
       "0  [1 9, 1 7, 1 2, 1 10, 1 8, 1 3, 1 6, 1 5, 1 11...               11   \n",
       "\n",
       "                                             summary  \\\n",
       "0  IDX Incubator    mengadakan sesi diskusi denga...   \n",
       "\n",
       "                            candidate_summary_scores  \n",
       "0  [0.19247239125535268, 0.1767861167455488, 0.15...  "
      ]
     },
     "execution_count": 21,
     "metadata": {},
     "output_type": "execute_result"
    }
   ],
   "source": [
    "all_candidate_summary_scores = []\n",
    "for i, row in df_indosum_candidate_summary.iterrows():\n",
    "    candidate_summary_scores = []\n",
    "    for candidate_summary in row[\"candidate_summaries\"]:\n",
    "        scores = scorer.score(candidate_summary, row[\"summary\"])\n",
    "        rouge1_f1 = scores[\"rouge1\"].fmeasure\n",
    "        rouge2_f1 = scores[\"rouge2\"].fmeasure\n",
    "        rougeL_f1 = scores[\"rougeL\"].fmeasure\n",
    "        rouge_score = (rouge1_f1 + rouge2_f1 + rougeL_f1) / 3.0\n",
    "        candidate_summary_scores.append(rouge_score)\n",
    "    all_candidate_summary_scores.append(candidate_summary_scores)\n",
    "\n",
    "df_indosum_candidate_summary[\"candidate_summary_scores\"] = all_candidate_summary_scores\n",
    "df_indosum_candidate_summary.head(1)"
   ]
  },
  {
   "attachments": {},
   "cell_type": "markdown",
   "metadata": {},
   "source": [
    "### Sort candidate summary by score with highest score on top"
   ]
  },
  {
   "cell_type": "code",
   "execution_count": 23,
   "metadata": {},
   "outputs": [
    {
     "data": {
      "text/html": [
       "<div>\n",
       "<style scoped>\n",
       "    .dataframe tbody tr th:only-of-type {\n",
       "        vertical-align: middle;\n",
       "    }\n",
       "\n",
       "    .dataframe tbody tr th {\n",
       "        vertical-align: top;\n",
       "    }\n",
       "\n",
       "    .dataframe thead th {\n",
       "        text-align: right;\n",
       "    }\n",
       "</style>\n",
       "<table border=\"1\" class=\"dataframe\">\n",
       "  <thead>\n",
       "    <tr style=\"text-align: right;\">\n",
       "      <th></th>\n",
       "      <th>candidate_summaries</th>\n",
       "      <th>candidate_summary_ids</th>\n",
       "      <th>document_length</th>\n",
       "      <th>summary</th>\n",
       "      <th>candidate_summary_scores</th>\n",
       "      <th>top_10_candidates</th>\n",
       "    </tr>\n",
       "  </thead>\n",
       "  <tbody>\n",
       "    <tr>\n",
       "      <th>0</th>\n",
       "      <td>[IDX Incubator kembali mengadakan sesi diskusi...</td>\n",
       "      <td>[1 9, 1 7, 1 2, 1 10, 1 8, 1 3, 1 6, 1 5, 1 11...</td>\n",
       "      <td>11</td>\n",
       "      <td>IDX Incubator    mengadakan sesi diskusi denga...</td>\n",
       "      <td>[0.19247239125535268, 0.1767861167455488, 0.15...</td>\n",
       "      <td>[(1 9 7, 0.20734693877551022), (1 9, 0.1924723...</td>\n",
       "    </tr>\n",
       "  </tbody>\n",
       "</table>\n",
       "</div>"
      ],
      "text/plain": [
       "                                 candidate_summaries  \\\n",
       "0  [IDX Incubator kembali mengadakan sesi diskusi...   \n",
       "\n",
       "                               candidate_summary_ids  document_length  \\\n",
       "0  [1 9, 1 7, 1 2, 1 10, 1 8, 1 3, 1 6, 1 5, 1 11...               11   \n",
       "\n",
       "                                             summary  \\\n",
       "0  IDX Incubator    mengadakan sesi diskusi denga...   \n",
       "\n",
       "                            candidate_summary_scores  \\\n",
       "0  [0.19247239125535268, 0.1767861167455488, 0.15...   \n",
       "\n",
       "                                   top_10_candidates  \n",
       "0  [(1 9 7, 0.20734693877551022), (1 9, 0.1924723...  "
      ]
     },
     "execution_count": 23,
     "metadata": {},
     "output_type": "execute_result"
    }
   ],
   "source": [
    "all_top_10_candidates = [] \n",
    "for i, row in df_indosum_candidate_summary.iterrows():\n",
    "    document_candidates_and_scores = [] \n",
    "    for candidates_and_scores in zip(\n",
    "        row[\"candidate_summary_ids\"], \n",
    "        row[\"candidate_summary_scores\"], \n",
    "    ):\n",
    "        document_candidates_and_scores.append(candidates_and_scores)\n",
    "\n",
    "    top_10_candidates = sorted(document_candidates_and_scores, key=lambda x: x[1], reverse=True)[:10]\n",
    "    all_top_10_candidates.append(top_10_candidates)\n",
    "\n",
    "df_indosum_candidate_summary[\"top_10_candidates\"] = all_top_10_candidates\n",
    "df_indosum_candidate_summary.head(1)\n",
    "\n",
    "    "
   ]
  },
  {
   "cell_type": "code",
   "execution_count": 26,
   "metadata": {},
   "outputs": [],
   "source": [
    "with open(\"../data/indosum/indosum.train.label.multipleoracle\", \"w\") as file:\n",
    "    file.write(\"Hello, world!\\n\")\n",
    "    # for i, row in df_indosum_candidate_summary.iterrows():\n",
    "\n",
    "    "
   ]
  },
  {
   "cell_type": "code",
   "execution_count": null,
   "metadata": {},
   "outputs": [],
   "source": []
  }
 ],
 "metadata": {
  "kernelspec": {
   "display_name": "Python 3",
   "language": "python",
   "name": "python3"
  },
  "language_info": {
   "codemirror_mode": {
    "name": "ipython",
    "version": 3
   },
   "file_extension": ".py",
   "mimetype": "text/x-python",
   "name": "python",
   "nbconvert_exporter": "python",
   "pygments_lexer": "ipython3",
   "version": "3.8.10"
  },
  "orig_nbformat": 4,
  "vscode": {
   "interpreter": {
    "hash": "31f2aee4e71d21fbe5cf8b01ff0e069b9275f58929596ceb00d14d90e3e16cd6"
   }
  }
 },
 "nbformat": 4,
 "nbformat_minor": 2
}

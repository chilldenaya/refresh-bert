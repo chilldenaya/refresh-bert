{
 "cells": [
  {
   "cell_type": "code",
   "execution_count": 1,
   "metadata": {},
   "outputs": [
    {
     "name": "stdout",
     "output_type": "stream",
     "text": [
      "CHANGELOG.txt  dev.03.jsonl   test.02.jsonl  train.01.jsonl  train.05.jsonl\n",
      "README.txt     dev.04.jsonl   test.03.jsonl  train.02.jsonl\n",
      "dev.01.jsonl   dev.05.jsonl   test.04.jsonl  train.03.jsonl\n",
      "dev.02.jsonl   test.01.jsonl  test.05.jsonl  train.04.jsonl\n"
     ]
    }
   ],
   "source": [
    "!ls ../data/indosum"
   ]
  },
  {
   "cell_type": "code",
   "execution_count": 3,
   "metadata": {},
   "outputs": [
    {
     "data": {
      "text/html": [
       "<div>\n",
       "<style scoped>\n",
       "    .dataframe tbody tr th:only-of-type {\n",
       "        vertical-align: middle;\n",
       "    }\n",
       "\n",
       "    .dataframe tbody tr th {\n",
       "        vertical-align: top;\n",
       "    }\n",
       "\n",
       "    .dataframe thead th {\n",
       "        text-align: right;\n",
       "    }\n",
       "</style>\n",
       "<table border=\"1\" class=\"dataframe\">\n",
       "  <thead>\n",
       "    <tr style=\"text-align: right;\">\n",
       "      <th></th>\n",
       "      <th>document_sentences</th>\n",
       "      <th>summary</th>\n",
       "      <th>source</th>\n",
       "    </tr>\n",
       "  </thead>\n",
       "  <tbody>\n",
       "    <tr>\n",
       "      <th>91</th>\n",
       "      <td>[Jakarta , CNN Indonesia - - Pemerintah akan m...</td>\n",
       "      <td>Pemerintah akan mengevaluasi hitungan Dana Des...</td>\n",
       "      <td>liputan6</td>\n",
       "    </tr>\n",
       "    <tr>\n",
       "      <th>92</th>\n",
       "      <td>[Napoli melalui leg pertama fase play-off Liga...</td>\n",
       "      <td>Napoli melalui leg pertama fase play-off Liga ...</td>\n",
       "      <td>liputan6</td>\n",
       "    </tr>\n",
       "    <tr>\n",
       "      <th>93</th>\n",
       "      <td>[Cristiano Ronaldo tersenyum ., Tidak ada yang...</td>\n",
       "      <td>Ronaldo baru saja dikaruniai anak kembar . Ked...</td>\n",
       "      <td>liputan6</td>\n",
       "    </tr>\n",
       "    <tr>\n",
       "      <th>94</th>\n",
       "      <td>[Startup fintech Cashlez mengumumkan perolehan...</td>\n",
       "      <td>Startup fintech Cashlez memperoleh dana seri A...</td>\n",
       "      <td>liputan6</td>\n",
       "    </tr>\n",
       "    <tr>\n",
       "      <th>95</th>\n",
       "      <td>[Jakarta , CNN Indonesia - - Departemen Keuang...</td>\n",
       "      <td>Departemen Keuangan Amerika Serikat menjatuhka...</td>\n",
       "      <td>liputan6</td>\n",
       "    </tr>\n",
       "    <tr>\n",
       "      <th>96</th>\n",
       "      <td>[Jakarta , CNN Indonesia - - Amerika Serikat ,...</td>\n",
       "      <td>Perwakilan Amerika Serikat , Australia dan Jep...</td>\n",
       "      <td>liputan6</td>\n",
       "    </tr>\n",
       "    <tr>\n",
       "      <th>97</th>\n",
       "      <td>[Saat hendak berlibur ke negara orang , pentin...</td>\n",
       "      <td>Saat hendak berlibur ke negara orang , penting...</td>\n",
       "      <td>liputan6</td>\n",
       "    </tr>\n",
       "    <tr>\n",
       "      <th>98</th>\n",
       "      <td>[Tahun ini , nama Jim Parsons menduduki posisi...</td>\n",
       "      <td>Tahun ini , nama Jim Parsons menduduki posisi ...</td>\n",
       "      <td>liputan6</td>\n",
       "    </tr>\n",
       "    <tr>\n",
       "      <th>99</th>\n",
       "      <td>[Liga Champions musim 2016 / 17 telah usai ., ...</td>\n",
       "      <td>Liga Champions musim 2016 / 17 telah usai . Na...</td>\n",
       "      <td>liputan6</td>\n",
       "    </tr>\n",
       "    <tr>\n",
       "      <th>100</th>\n",
       "      <td>[Jakarta ( ANTARA News ) - Gubernur Daerah Khu...</td>\n",
       "      <td>Gubernur Daerah Khusus Indonesia ( DKI ) Jakar...</td>\n",
       "      <td>liputan6</td>\n",
       "    </tr>\n",
       "  </tbody>\n",
       "</table>\n",
       "</div>"
      ],
      "text/plain": [
       "                                    document_sentences  \\\n",
       "91   [Jakarta , CNN Indonesia - - Pemerintah akan m...   \n",
       "92   [Napoli melalui leg pertama fase play-off Liga...   \n",
       "93   [Cristiano Ronaldo tersenyum ., Tidak ada yang...   \n",
       "94   [Startup fintech Cashlez mengumumkan perolehan...   \n",
       "95   [Jakarta , CNN Indonesia - - Departemen Keuang...   \n",
       "96   [Jakarta , CNN Indonesia - - Amerika Serikat ,...   \n",
       "97   [Saat hendak berlibur ke negara orang , pentin...   \n",
       "98   [Tahun ini , nama Jim Parsons menduduki posisi...   \n",
       "99   [Liga Champions musim 2016 / 17 telah usai ., ...   \n",
       "100  [Jakarta ( ANTARA News ) - Gubernur Daerah Khu...   \n",
       "\n",
       "                                               summary    source  \n",
       "91   Pemerintah akan mengevaluasi hitungan Dana Des...  liputan6  \n",
       "92   Napoli melalui leg pertama fase play-off Liga ...  liputan6  \n",
       "93   Ronaldo baru saja dikaruniai anak kembar . Ked...  liputan6  \n",
       "94   Startup fintech Cashlez memperoleh dana seri A...  liputan6  \n",
       "95   Departemen Keuangan Amerika Serikat menjatuhka...  liputan6  \n",
       "96   Perwakilan Amerika Serikat , Australia dan Jep...  liputan6  \n",
       "97   Saat hendak berlibur ke negara orang , penting...  liputan6  \n",
       "98   Tahun ini , nama Jim Parsons menduduki posisi ...  liputan6  \n",
       "99   Liga Champions musim 2016 / 17 telah usai . Na...  liputan6  \n",
       "100  Gubernur Daerah Khusus Indonesia ( DKI ) Jakar...  liputan6  "
      ]
     },
     "execution_count": 3,
     "metadata": {},
     "output_type": "execute_result"
    }
   ],
   "source": [
    "import jsonlines\n",
    "import glob\n",
    "\n",
    "lines = []\n",
    "for f in glob.glob(\"../data/indosum/train.*.jsonl\"):\n",
    "    with jsonlines.open(f) as infile:\n",
    "        for obj in infile:\n",
    "            lines.append(obj)\n",
    "\n",
    "import pandas as pd\n",
    "\n",
    "df = pd.DataFrame(lines)\n",
    "df.head()\n",
    "\n",
    "df_indosum = pd.DataFrame()\n",
    "\n",
    "all_document_sentences = []\n",
    "all_document_summary = [] \n",
    "for i, row in df.iterrows():\n",
    "    # create document sentences\n",
    "    document_sentences = []\n",
    "    for j, sentence in enumerate(row['paragraphs']):\n",
    "        document_sentences.append(\" \".join(sentence[0]))\n",
    "    all_document_sentences.append(document_sentences)\n",
    "\n",
    "    # create document summary\n",
    "    summaries = \"\"\n",
    "    for j, sentence in enumerate(row['summary']):\n",
    "        summaries += \" \".join(sentence)\n",
    "        summaries += \" \"\n",
    "    all_document_summary.append(summaries)\n",
    "\n",
    "    if i == 100:\n",
    "        break\n",
    "\n",
    "df_indosum[\"document_sentences\"] = all_document_sentences\n",
    "df_indosum[\"summary\"] = all_document_summary\n",
    "df_indosum['source'] = \"liputan6\" \n",
    "\n",
    "df_indosum.tail(10)"
   ]
  },
  {
   "attachments": {},
   "cell_type": "markdown",
   "metadata": {},
   "source": [
    "### Calculate sentence-wise ROUGE score"
   ]
  },
  {
   "cell_type": "code",
   "execution_count": 4,
   "metadata": {},
   "outputs": [
    {
     "name": "stdout",
     "output_type": "stream",
     "text": [
      "{'rouge1': Score(precision=0.9, recall=0.9, fmeasure=0.9), 'rouge2': Score(precision=0.7777777777777778, recall=0.7777777777777778, fmeasure=0.7777777777777778), 'rougeL': Score(precision=0.9, recall=0.9, fmeasure=0.9)}\n"
     ]
    }
   ],
   "source": [
    "# https://github.com/google-research/google-research/blob/master/rouge/rouge_scorer.py\n",
    "from rouge_score import rouge_scorer\n",
    "\n",
    "scorer = rouge_scorer.RougeScorer(['rouge1', 'rouge2', 'rougeL'], use_stemmer=True)\n",
    "scores = scorer.score(\n",
    "    'IDX Incubator \\xa0  mengadakan sesi diskusi dengan tema “ Technology vs Humanity ” ',\n",
    "    'IDX Incubator adakan sesi diskusi dengan tema Technology vs Humanity'\n",
    ")\n",
    "print(scores)"
   ]
  },
  {
   "cell_type": "code",
   "execution_count": 5,
   "metadata": {},
   "outputs": [
    {
     "data": {
      "text/html": [
       "<div>\n",
       "<style scoped>\n",
       "    .dataframe tbody tr th:only-of-type {\n",
       "        vertical-align: middle;\n",
       "    }\n",
       "\n",
       "    .dataframe tbody tr th {\n",
       "        vertical-align: top;\n",
       "    }\n",
       "\n",
       "    .dataframe thead th {\n",
       "        text-align: right;\n",
       "    }\n",
       "</style>\n",
       "<table border=\"1\" class=\"dataframe\">\n",
       "  <thead>\n",
       "    <tr style=\"text-align: right;\">\n",
       "      <th></th>\n",
       "      <th>document_sentences</th>\n",
       "      <th>summary</th>\n",
       "      <th>source</th>\n",
       "      <th>document_sentences_f1_rouge_scores</th>\n",
       "    </tr>\n",
       "  </thead>\n",
       "  <tbody>\n",
       "    <tr>\n",
       "      <th>96</th>\n",
       "      <td>[Jakarta , CNN Indonesia - - Amerika Serikat ,...</td>\n",
       "      <td>Perwakilan Amerika Serikat , Australia dan Jep...</td>\n",
       "      <td>liputan6</td>\n",
       "      <td>[0.6999691643539933, 0.575880758807588, 0.1498...</td>\n",
       "    </tr>\n",
       "    <tr>\n",
       "      <th>97</th>\n",
       "      <td>[Saat hendak berlibur ke negara orang , pentin...</td>\n",
       "      <td>Saat hendak berlibur ke negara orang , penting...</td>\n",
       "      <td>liputan6</td>\n",
       "      <td>[0.27774733637747334, 0.14082503556187767, 0.0...</td>\n",
       "    </tr>\n",
       "    <tr>\n",
       "      <th>98</th>\n",
       "      <td>[Tahun ini , nama Jim Parsons menduduki posisi...</td>\n",
       "      <td>Tahun ini , nama Jim Parsons menduduki posisi ...</td>\n",
       "      <td>liputan6</td>\n",
       "      <td>[0.4254479697517672, 0.5374911410347272, 0.139...</td>\n",
       "    </tr>\n",
       "    <tr>\n",
       "      <th>99</th>\n",
       "      <td>[Liga Champions musim 2016 / 17 telah usai ., ...</td>\n",
       "      <td>Liga Champions musim 2016 / 17 telah usai . Na...</td>\n",
       "      <td>liputan6</td>\n",
       "      <td>[0.19786096256684493, 0.5262531607913133, 0.03...</td>\n",
       "    </tr>\n",
       "    <tr>\n",
       "      <th>100</th>\n",
       "      <td>[Jakarta ( ANTARA News ) - Gubernur Daerah Khu...</td>\n",
       "      <td>Gubernur Daerah Khusus Indonesia ( DKI ) Jakar...</td>\n",
       "      <td>liputan6</td>\n",
       "      <td>[0.5545893719806764, 0.18046407507856557, 0.54...</td>\n",
       "    </tr>\n",
       "  </tbody>\n",
       "</table>\n",
       "</div>"
      ],
      "text/plain": [
       "                                    document_sentences  \\\n",
       "96   [Jakarta , CNN Indonesia - - Amerika Serikat ,...   \n",
       "97   [Saat hendak berlibur ke negara orang , pentin...   \n",
       "98   [Tahun ini , nama Jim Parsons menduduki posisi...   \n",
       "99   [Liga Champions musim 2016 / 17 telah usai ., ...   \n",
       "100  [Jakarta ( ANTARA News ) - Gubernur Daerah Khu...   \n",
       "\n",
       "                                               summary    source  \\\n",
       "96   Perwakilan Amerika Serikat , Australia dan Jep...  liputan6   \n",
       "97   Saat hendak berlibur ke negara orang , penting...  liputan6   \n",
       "98   Tahun ini , nama Jim Parsons menduduki posisi ...  liputan6   \n",
       "99   Liga Champions musim 2016 / 17 telah usai . Na...  liputan6   \n",
       "100  Gubernur Daerah Khusus Indonesia ( DKI ) Jakar...  liputan6   \n",
       "\n",
       "                    document_sentences_f1_rouge_scores  \n",
       "96   [0.6999691643539933, 0.575880758807588, 0.1498...  \n",
       "97   [0.27774733637747334, 0.14082503556187767, 0.0...  \n",
       "98   [0.4254479697517672, 0.5374911410347272, 0.139...  \n",
       "99   [0.19786096256684493, 0.5262531607913133, 0.03...  \n",
       "100  [0.5545893719806764, 0.18046407507856557, 0.54...  "
      ]
     },
     "execution_count": 5,
     "metadata": {},
     "output_type": "execute_result"
    }
   ],
   "source": [
    "all_document_sentences_f1_rouge_scores = []\n",
    "for i, row in df_indosum.iterrows():\n",
    "    document_sentences_f1_rouge_scores = []\n",
    "    for sentence in row[\"document_sentences\"]:\n",
    "        scores = scorer.score(sentence, row[\"summary\"])\n",
    "        rouge1_f1 = scores[\"rouge1\"].fmeasure\n",
    "        rouge2_f1 = scores[\"rouge2\"].fmeasure\n",
    "        rougeL_f1 = scores[\"rougeL\"].fmeasure\n",
    "        rouge_score = (rouge1_f1 + rouge2_f1 + rougeL_f1) / 3.0\n",
    "        document_sentences_f1_rouge_scores.append(rouge_score)\n",
    "    all_document_sentences_f1_rouge_scores.append(document_sentences_f1_rouge_scores)\n",
    "\n",
    "df_indosum[\"document_sentences_f1_rouge_scores\"] = all_document_sentences_f1_rouge_scores\n",
    "df_indosum.tail(5)"
   ]
  },
  {
   "attachments": {},
   "cell_type": "markdown",
   "metadata": {},
   "source": [
    "### Sort sentence-wise ROUGE score with highest score on top"
   ]
  },
  {
   "cell_type": "code",
   "execution_count": 6,
   "metadata": {},
   "outputs": [
    {
     "data": {
      "text/plain": [
       "'IDX Incubator \\xa0  mengadakan sesi diskusi dengan tema “ Technology vs Humanity ” . Dalam diskusi ini dihadirkan dua narasumber , yakni Wakil Ketua Komite Tetap KADIN Indonesia Kevin Wu dan Managing Director Samsung R&D Indonesia Alfred Boediman . Dalam paparannya , Alfred meyakini bahwa Internet of Things ( IoT ) dan Artificial Intelligence ( AI ) akan menjadi signifikan ke depannya , karena menjadi fondasi utama perangkat pintar yang mendukung pelayanan publik . '"
      ]
     },
     "execution_count": 6,
     "metadata": {},
     "output_type": "execute_result"
    }
   ],
   "source": [
    "df_indosum.head(1).iloc[0][\"summary\"]"
   ]
  },
  {
   "cell_type": "code",
   "execution_count": 7,
   "metadata": {},
   "outputs": [
    {
     "data": {
      "text/html": [
       "<div>\n",
       "<style scoped>\n",
       "    .dataframe tbody tr th:only-of-type {\n",
       "        vertical-align: middle;\n",
       "    }\n",
       "\n",
       "    .dataframe tbody tr th {\n",
       "        vertical-align: top;\n",
       "    }\n",
       "\n",
       "    .dataframe thead th {\n",
       "        text-align: right;\n",
       "    }\n",
       "</style>\n",
       "<table border=\"1\" class=\"dataframe\">\n",
       "  <thead>\n",
       "    <tr style=\"text-align: right;\">\n",
       "      <th></th>\n",
       "      <th>document_sentences</th>\n",
       "      <th>summary</th>\n",
       "      <th>source</th>\n",
       "      <th>document_sentences_f1_rouge_scores</th>\n",
       "      <th>top_10_sentences</th>\n",
       "    </tr>\n",
       "  </thead>\n",
       "  <tbody>\n",
       "    <tr>\n",
       "      <th>0</th>\n",
       "      <td>[IDX Incubator kembali mengadakan sesi diskusi...</td>\n",
       "      <td>IDX Incubator    mengadakan sesi diskusi denga...</td>\n",
       "      <td>liputan6</td>\n",
       "      <td>[0.13588588588588588, 0.06741573033707865, 0.0...</td>\n",
       "      <td>[(IDX Incubator kembali mengadakan sesi diskus...</td>\n",
       "    </tr>\n",
       "  </tbody>\n",
       "</table>\n",
       "</div>"
      ],
      "text/plain": [
       "                                  document_sentences  \\\n",
       "0  [IDX Incubator kembali mengadakan sesi diskusi...   \n",
       "\n",
       "                                             summary    source  \\\n",
       "0  IDX Incubator    mengadakan sesi diskusi denga...  liputan6   \n",
       "\n",
       "                  document_sentences_f1_rouge_scores  \\\n",
       "0  [0.13588588588588588, 0.06741573033707865, 0.0...   \n",
       "\n",
       "                                    top_10_sentences  \n",
       "0  [(IDX Incubator kembali mengadakan sesi diskus...  "
      ]
     },
     "execution_count": 7,
     "metadata": {},
     "output_type": "execute_result"
    }
   ],
   "source": [
    "all_top_10_sentences = [] \n",
    "for i, row in df_indosum.iterrows():\n",
    "    document_sentences_and_scores = [] \n",
    "    for sentences_and_scores in zip(\n",
    "        row[\"document_sentences\"], \n",
    "        row[\"document_sentences_f1_rouge_scores\"], \n",
    "        [x+1 for x in range(len(row[\"document_sentences\"]))]\n",
    "    ):\n",
    "        document_sentences_and_scores.append(sentences_and_scores)\n",
    "\n",
    "    top_10_sentences = sorted(document_sentences_and_scores, key=lambda x: x[1], reverse=True)[:10]\n",
    "    all_top_10_sentences.append([(x[0],x[2]) for x in top_10_sentences])\n",
    "\n",
    "df_indosum[\"top_10_sentences\"] = all_top_10_sentences\n",
    "df_indosum.head(1)"
   ]
  },
  {
   "cell_type": "code",
   "execution_count": 8,
   "metadata": {},
   "outputs": [
    {
     "data": {
      "text/plain": [
       "[('IDX Incubator kembali mengadakan sesi diskusi teknologi dan startup untuk kali kedua .',\n",
       "  1),\n",
       " ('Dari sisi pemanfaatannya kedua pemateri meyakini bahwa AI akan memberikan banyak dampak baik .',\n",
       "  9)]"
      ]
     },
     "execution_count": 8,
     "metadata": {},
     "output_type": "execute_result"
    }
   ],
   "source": [
    "df_indosum.head(1).iloc[0][\"top_10_sentences\"][:2]"
   ]
  },
  {
   "attachments": {},
   "cell_type": "markdown",
   "metadata": {},
   "source": [
    "\n",
    "### Make candidate summary by combination of (1, 2, 3) sentence length created from 10 sentences with highest ROUGE score"
   ]
  },
  {
   "cell_type": "code",
   "execution_count": 9,
   "metadata": {},
   "outputs": [
    {
     "data": {
      "text/html": [
       "<div>\n",
       "<style scoped>\n",
       "    .dataframe tbody tr th:only-of-type {\n",
       "        vertical-align: middle;\n",
       "    }\n",
       "\n",
       "    .dataframe tbody tr th {\n",
       "        vertical-align: top;\n",
       "    }\n",
       "\n",
       "    .dataframe thead th {\n",
       "        text-align: right;\n",
       "    }\n",
       "</style>\n",
       "<table border=\"1\" class=\"dataframe\">\n",
       "  <thead>\n",
       "    <tr style=\"text-align: right;\">\n",
       "      <th></th>\n",
       "      <th>candidate_summaries</th>\n",
       "      <th>candidate_summary_ids</th>\n",
       "      <th>document_length</th>\n",
       "      <th>summary</th>\n",
       "    </tr>\n",
       "  </thead>\n",
       "  <tbody>\n",
       "    <tr>\n",
       "      <th>0</th>\n",
       "      <td>[IDX Incubator kembali mengadakan sesi diskusi...</td>\n",
       "      <td>[1, 9, 7, 2, 10, 8, 3, 6, 5, 11, 1 9, 1 7, 1 2...</td>\n",
       "      <td>11</td>\n",
       "      <td>IDX Incubator    mengadakan sesi diskusi denga...</td>\n",
       "    </tr>\n",
       "  </tbody>\n",
       "</table>\n",
       "</div>"
      ],
      "text/plain": [
       "                                 candidate_summaries  \\\n",
       "0  [IDX Incubator kembali mengadakan sesi diskusi...   \n",
       "\n",
       "                               candidate_summary_ids  document_length  \\\n",
       "0  [1, 9, 7, 2, 10, 8, 3, 6, 5, 11, 1 9, 1 7, 1 2...               11   \n",
       "\n",
       "                                             summary  \n",
       "0  IDX Incubator    mengadakan sesi diskusi denga...  "
      ]
     },
     "execution_count": 9,
     "metadata": {},
     "output_type": "execute_result"
    }
   ],
   "source": [
    "import itertools\n",
    "\n",
    "df_indosum_candidate_summary = pd.DataFrame()\n",
    "\n",
    "all_candidate_summary_txt = []\n",
    "all_candidate_summary_ids_txt = []\n",
    "all_document_length = [] \n",
    "for i, row in df_indosum.iterrows():\n",
    "    document_candidate_summaries = []\n",
    "    document_candidate_summaries_idx = []\n",
    "\n",
    "    for itemcount in [1,2,3]:\n",
    "        candidate_summaries = list(itertools.combinations(list(row[\"top_10_sentences\"]), itemcount))\n",
    "        for candidate_summary in candidate_summaries:\n",
    "            candidate_summary_txt = \" \".join([val[0] for val in candidate_summary])\n",
    "            candidate_summary_ids = \" \".join([str(val[1]) for val in candidate_summary])\n",
    "\n",
    "            document_candidate_summaries.append(candidate_summary_txt)\n",
    "            document_candidate_summaries_idx.append(candidate_summary_ids)\n",
    "\n",
    "    all_candidate_summary_txt.append(document_candidate_summaries)\n",
    "    all_candidate_summary_ids_txt.append(document_candidate_summaries_idx)\n",
    "    all_document_length.append(len(row[\"document_sentences\"]))\n",
    "\n",
    "df_indosum_candidate_summary[\"candidate_summaries\"] = all_candidate_summary_txt\n",
    "df_indosum_candidate_summary[\"candidate_summary_ids\"] = all_candidate_summary_ids_txt\n",
    "df_indosum_candidate_summary[\"document_length\"] = all_document_length\n",
    "df_indosum_candidate_summary[\"summary\"] = df_indosum[\"summary\"]\n",
    "df_indosum_candidate_summary.head(1)"
   ]
  },
  {
   "cell_type": "code",
   "execution_count": 10,
   "metadata": {},
   "outputs": [
    {
     "data": {
      "text/plain": [
       "'IDX Incubator \\xa0  mengadakan sesi diskusi dengan tema “ Technology vs Humanity ” . Dalam diskusi ini dihadirkan dua narasumber , yakni Wakil Ketua Komite Tetap KADIN Indonesia Kevin Wu dan Managing Director Samsung R&D Indonesia Alfred Boediman . Dalam paparannya , Alfred meyakini bahwa Internet of Things ( IoT ) dan Artificial Intelligence ( AI ) akan menjadi signifikan ke depannya , karena menjadi fondasi utama perangkat pintar yang mendukung pelayanan publik . '"
      ]
     },
     "execution_count": 10,
     "metadata": {},
     "output_type": "execute_result"
    }
   ],
   "source": [
    "df_indosum_candidate_summary.head(1).iloc[0][\"summary\"]"
   ]
  },
  {
   "cell_type": "code",
   "execution_count": 11,
   "metadata": {},
   "outputs": [
    {
     "data": {
      "text/plain": [
       "['IDX Incubator kembali mengadakan sesi diskusi teknologi dan startup untuk kali kedua .',\n",
       " 'Dari sisi pemanfaatannya kedua pemateri meyakini bahwa AI akan memberikan banyak dampak baik .']"
      ]
     },
     "execution_count": 11,
     "metadata": {},
     "output_type": "execute_result"
    }
   ],
   "source": [
    "df_indosum_candidate_summary.head(1).iloc[0][\"candidate_summaries\"][:2]"
   ]
  },
  {
   "attachments": {},
   "cell_type": "markdown",
   "metadata": {},
   "source": [
    "### Calculate summary-wise ROUGE score"
   ]
  },
  {
   "cell_type": "code",
   "execution_count": 13,
   "metadata": {},
   "outputs": [
    {
     "name": "stdout",
     "output_type": "stream",
     "text": [
      "multiprocessing with 4 cores\n"
     ]
    },
    {
     "data": {
      "text/html": [
       "<div>\n",
       "<style scoped>\n",
       "    .dataframe tbody tr th:only-of-type {\n",
       "        vertical-align: middle;\n",
       "    }\n",
       "\n",
       "    .dataframe tbody tr th {\n",
       "        vertical-align: top;\n",
       "    }\n",
       "\n",
       "    .dataframe thead th {\n",
       "        text-align: right;\n",
       "    }\n",
       "</style>\n",
       "<table border=\"1\" class=\"dataframe\">\n",
       "  <thead>\n",
       "    <tr style=\"text-align: right;\">\n",
       "      <th></th>\n",
       "      <th>candidate_summaries</th>\n",
       "      <th>candidate_summary_ids</th>\n",
       "      <th>document_length</th>\n",
       "      <th>summary</th>\n",
       "      <th>candidate_summary_scores</th>\n",
       "    </tr>\n",
       "  </thead>\n",
       "  <tbody>\n",
       "    <tr>\n",
       "      <th>96</th>\n",
       "      <td>[Jakarta , CNN Indonesia - - Amerika Serikat ,...</td>\n",
       "      <td>[1, 2, 3, 6, 5, 7, 4, 8, 1 2, 1 3, 1 6, 1 5, 1...</td>\n",
       "      <td>8</td>\n",
       "      <td>Perwakilan Amerika Serikat , Australia dan Jep...</td>\n",
       "      <td>[0.6999691643539933, 0.575880758807588, 0.1498...</td>\n",
       "    </tr>\n",
       "    <tr>\n",
       "      <th>97</th>\n",
       "      <td>[Selain cuaca , kemeriahan festival khas yang ...</td>\n",
       "      <td>[5, 1, 6, 2, 11, 16, 20, 9, 13, 14, 5 1, 5 6, ...</td>\n",
       "      <td>21</td>\n",
       "      <td>Saat hendak berlibur ke negara orang , penting...</td>\n",
       "      <td>[0.34471313418681837, 0.27774733637747334, 0.2...</td>\n",
       "    </tr>\n",
       "    <tr>\n",
       "      <th>98</th>\n",
       "      <td>[Bahkan kabarnya , Parsons dibayar sebesar 1 j...</td>\n",
       "      <td>[2, 1, 5, 8, 6, 4, 3, 7, 2 1, 2 5, 2 8, 2 6, 2...</td>\n",
       "      <td>8</td>\n",
       "      <td>Tahun ini , nama Jim Parsons menduduki posisi ...</td>\n",
       "      <td>[0.5374911410347272, 0.4254479697517672, 0.317...</td>\n",
       "    </tr>\n",
       "    <tr>\n",
       "      <th>99</th>\n",
       "      <td>[Keberhasilan Real Madrid menjungkalkan Juvent...</td>\n",
       "      <td>[2, 9, 1, 6, 13, 8, 4, 12, 7, 3, 2 9, 2 1, 2 6...</td>\n",
       "      <td>15</td>\n",
       "      <td>Liga Champions musim 2016 / 17 telah usai . Na...</td>\n",
       "      <td>[0.5262531607913133, 0.33152501506931886, 0.19...</td>\n",
       "    </tr>\n",
       "    <tr>\n",
       "      <th>100</th>\n",
       "      <td>[Jakarta ( ANTARA News ) - Gubernur Daerah Khu...</td>\n",
       "      <td>[1, 3, 5, 2, 7, 8, 4, 6, 1 3, 1 5, 1 2, 1 7, 1...</td>\n",
       "      <td>8</td>\n",
       "      <td>Gubernur Daerah Khusus Indonesia ( DKI ) Jakar...</td>\n",
       "      <td>[0.5545893719806764, 0.5439411536972512, 0.417...</td>\n",
       "    </tr>\n",
       "  </tbody>\n",
       "</table>\n",
       "</div>"
      ],
      "text/plain": [
       "                                   candidate_summaries  \\\n",
       "96   [Jakarta , CNN Indonesia - - Amerika Serikat ,...   \n",
       "97   [Selain cuaca , kemeriahan festival khas yang ...   \n",
       "98   [Bahkan kabarnya , Parsons dibayar sebesar 1 j...   \n",
       "99   [Keberhasilan Real Madrid menjungkalkan Juvent...   \n",
       "100  [Jakarta ( ANTARA News ) - Gubernur Daerah Khu...   \n",
       "\n",
       "                                 candidate_summary_ids  document_length  \\\n",
       "96   [1, 2, 3, 6, 5, 7, 4, 8, 1 2, 1 3, 1 6, 1 5, 1...                8   \n",
       "97   [5, 1, 6, 2, 11, 16, 20, 9, 13, 14, 5 1, 5 6, ...               21   \n",
       "98   [2, 1, 5, 8, 6, 4, 3, 7, 2 1, 2 5, 2 8, 2 6, 2...                8   \n",
       "99   [2, 9, 1, 6, 13, 8, 4, 12, 7, 3, 2 9, 2 1, 2 6...               15   \n",
       "100  [1, 3, 5, 2, 7, 8, 4, 6, 1 3, 1 5, 1 2, 1 7, 1...                8   \n",
       "\n",
       "                                               summary  \\\n",
       "96   Perwakilan Amerika Serikat , Australia dan Jep...   \n",
       "97   Saat hendak berlibur ke negara orang , penting...   \n",
       "98   Tahun ini , nama Jim Parsons menduduki posisi ...   \n",
       "99   Liga Champions musim 2016 / 17 telah usai . Na...   \n",
       "100  Gubernur Daerah Khusus Indonesia ( DKI ) Jakar...   \n",
       "\n",
       "                              candidate_summary_scores  \n",
       "96   [0.6999691643539933, 0.575880758807588, 0.1498...  \n",
       "97   [0.34471313418681837, 0.27774733637747334, 0.2...  \n",
       "98   [0.5374911410347272, 0.4254479697517672, 0.317...  \n",
       "99   [0.5262531607913133, 0.33152501506931886, 0.19...  \n",
       "100  [0.5545893719806764, 0.5439411536972512, 0.417...  "
      ]
     },
     "execution_count": 13,
     "metadata": {},
     "output_type": "execute_result"
    }
   ],
   "source": [
    "import multiprocessing\n",
    "\n",
    "cores = multiprocessing.cpu_count() # Count the number of cores in a computer\n",
    "print(f\"multiprocessing with {cores} cores\")\n",
    "\n",
    "# input: list of kalimat dalam dokumen dan summary\n",
    "# output: list of scores \n",
    "\n",
    "documents = list(\n",
    "    zip(\n",
    "        df_indosum_candidate_summary[\"candidate_summaries\"], \n",
    "        df_indosum_candidate_summary[\"summary\"]\n",
    "    )\n",
    ")\n",
    "\n",
    "def cal_rouge(document):\n",
    "    candidate_summaries = document[0]\n",
    "    summary = document[1]\n",
    "    candidate_summary_scores = []\n",
    "    for i, candidate_summary in enumerate(candidate_summaries):\n",
    "        scores = scorer.score(candidate_summary, summary)\n",
    "        rouge1_f1 = scores[\"rouge1\"].fmeasure\n",
    "        rouge2_f1 = scores[\"rouge2\"].fmeasure\n",
    "        rougeL_f1 = scores[\"rougeL\"].fmeasure\n",
    "        rouge_score = (rouge1_f1 + rouge2_f1 + rougeL_f1) / 3.0\n",
    "        candidate_summary_scores.append(rouge_score)\n",
    "\n",
    "    return candidate_summary_scores\n",
    "\n",
    "from multiprocessing import Pool\n",
    "\n",
    "with Pool(processes=multiprocessing.cpu_count()) as pool:\n",
    "    results = pool.map(cal_rouge, documents)\n",
    "\n",
    "df_indosum_candidate_summary[\"candidate_summary_scores\"] = results\n",
    "df_indosum_candidate_summary.tail(5)"
   ]
  },
  {
   "attachments": {},
   "cell_type": "markdown",
   "metadata": {},
   "source": [
    "### Sort candidate summary by score with highest score on top"
   ]
  },
  {
   "cell_type": "code",
   "execution_count": null,
   "metadata": {},
   "outputs": [
    {
     "data": {
      "text/html": [
       "<div>\n",
       "<style scoped>\n",
       "    .dataframe tbody tr th:only-of-type {\n",
       "        vertical-align: middle;\n",
       "    }\n",
       "\n",
       "    .dataframe tbody tr th {\n",
       "        vertical-align: top;\n",
       "    }\n",
       "\n",
       "    .dataframe thead th {\n",
       "        text-align: right;\n",
       "    }\n",
       "</style>\n",
       "<table border=\"1\" class=\"dataframe\">\n",
       "  <thead>\n",
       "    <tr style=\"text-align: right;\">\n",
       "      <th></th>\n",
       "      <th>candidate_summaries</th>\n",
       "      <th>candidate_summary_ids</th>\n",
       "      <th>document_length</th>\n",
       "      <th>summary</th>\n",
       "      <th>candidate_summary_scores</th>\n",
       "      <th>top_10_candidates</th>\n",
       "    </tr>\n",
       "  </thead>\n",
       "  <tbody>\n",
       "    <tr>\n",
       "      <th>0</th>\n",
       "      <td>[IDX Incubator kembali mengadakan sesi diskusi...</td>\n",
       "      <td>[1, 9, 7, 2, 10, 8, 3, 6, 5, 11, 1 9, 1 7, 1 2...</td>\n",
       "      <td>11</td>\n",
       "      <td>IDX Incubator    mengadakan sesi diskusi denga...</td>\n",
       "      <td>[0.13588588588588588, 0.08937595129375951, 0.0...</td>\n",
       "      <td>[(1 9 7, 0.20734693877551022), (1 9, 0.1924723...</td>\n",
       "    </tr>\n",
       "  </tbody>\n",
       "</table>\n",
       "</div>"
      ],
      "text/plain": [
       "                                 candidate_summaries  \\\n",
       "0  [IDX Incubator kembali mengadakan sesi diskusi...   \n",
       "\n",
       "                               candidate_summary_ids  document_length  \\\n",
       "0  [1, 9, 7, 2, 10, 8, 3, 6, 5, 11, 1 9, 1 7, 1 2...               11   \n",
       "\n",
       "                                             summary  \\\n",
       "0  IDX Incubator    mengadakan sesi diskusi denga...   \n",
       "\n",
       "                            candidate_summary_scores  \\\n",
       "0  [0.13588588588588588, 0.08937595129375951, 0.0...   \n",
       "\n",
       "                                   top_10_candidates  \n",
       "0  [(1 9 7, 0.20734693877551022), (1 9, 0.1924723...  "
      ]
     },
     "execution_count": 36,
     "metadata": {},
     "output_type": "execute_result"
    }
   ],
   "source": [
    "all_top_10_candidates = [] \n",
    "for i, row in df_indosum_candidate_summary.iterrows():\n",
    "    document_candidates_and_scores = [] \n",
    "    for candidates_and_scores in zip(\n",
    "        row[\"candidate_summary_ids\"], \n",
    "        row[\"candidate_summary_scores\"], \n",
    "    ):\n",
    "        document_candidates_and_scores.append(candidates_and_scores)\n",
    "\n",
    "    top_10_candidates = sorted(document_candidates_and_scores, key=lambda x: x[1], reverse=True)[:10]\n",
    "    all_top_10_candidates.append(top_10_candidates)\n",
    "\n",
    "df_indosum_candidate_summary[\"top_10_candidates\"] = all_top_10_candidates\n",
    "df_indosum_candidate_summary.head(1)\n",
    "\n",
    "    "
   ]
  },
  {
   "cell_type": "code",
   "execution_count": null,
   "metadata": {},
   "outputs": [],
   "source": [
    "with open(\"../data/indosum/indosum.train.label.multipleoracle\", \"w\") as file:\n",
    "    for i, row in df_indosum_candidate_summary.iterrows():\n",
    "        file.write(f\"indosum-{i}\\n\")\n",
    "        file.write(f\"{row['document_length']}\\n\")\n",
    "        for candidate_summary_tuple in row[\"top_10_candidates\"]:\n",
    "            file.write(f\"{candidate_summary_tuple[0]} {str(candidate_summary_tuple[1])[:14]}\\n\")\n",
    "        file.write(\"\\n\")"
   ]
  },
  {
   "cell_type": "code",
   "execution_count": null,
   "metadata": {},
   "outputs": [],
   "source": []
  }
 ],
 "metadata": {
  "kernelspec": {
   "display_name": "Python 3",
   "language": "python",
   "name": "python3"
  },
  "language_info": {
   "codemirror_mode": {
    "name": "ipython",
    "version": 3
   },
   "file_extension": ".py",
   "mimetype": "text/x-python",
   "name": "python",
   "nbconvert_exporter": "python",
   "pygments_lexer": "ipython3",
   "version": "3.8.10"
  },
  "orig_nbformat": 4,
  "vscode": {
   "interpreter": {
    "hash": "31f2aee4e71d21fbe5cf8b01ff0e069b9275f58929596ceb00d14d90e3e16cd6"
   }
  }
 },
 "nbformat": 4,
 "nbformat_minor": 2
}

{
 "cells": [
  {
   "cell_type": "code",
   "execution_count": 1,
   "id": "civic-istanbul",
   "metadata": {},
   "outputs": [
    {
     "data": {
      "text/html": [
       "<div>\n",
       "<style scoped>\n",
       "    .dataframe tbody tr th:only-of-type {\n",
       "        vertical-align: middle;\n",
       "    }\n",
       "\n",
       "    .dataframe tbody tr th {\n",
       "        vertical-align: top;\n",
       "    }\n",
       "\n",
       "    .dataframe thead th {\n",
       "        text-align: right;\n",
       "    }\n",
       "</style>\n",
       "<table border=\"1\" class=\"dataframe\">\n",
       "  <thead>\n",
       "    <tr style=\"text-align: right;\">\n",
       "      <th></th>\n",
       "      <th>text1_id</th>\n",
       "      <th>text2_id</th>\n",
       "      <th>score</th>\n",
       "    </tr>\n",
       "  </thead>\n",
       "  <tbody>\n",
       "    <tr>\n",
       "      <th>0</th>\n",
       "      <td>Sebuah sepeda motor diparkir di dekat dinding ...</td>\n",
       "      <td>Sebuah sepeda motor diparkir oleh mural sebuah...</td>\n",
       "      <td>3.40</td>\n",
       "    </tr>\n",
       "    <tr>\n",
       "      <th>1</th>\n",
       "      <td>dia menikahimu, memilih untuk memiliki anak be...</td>\n",
       "      <td>mereka tidak pernah mengangkat masalah moral a...</td>\n",
       "      <td>0.50</td>\n",
       "    </tr>\n",
       "    <tr>\n",
       "      <th>2</th>\n",
       "      <td>Wanita yang meninggal itu juga mengenakan cinc...</td>\n",
       "      <td>Seorang wanita berambut pirang mengenakan arlo...</td>\n",
       "      <td>2.60</td>\n",
       "    </tr>\n",
       "    <tr>\n",
       "      <th>3</th>\n",
       "      <td>Kedua komponen harus berada di jalur tertutup.</td>\n",
       "      <td>bohlam dan baterai berada di jalur tertutup</td>\n",
       "      <td>3.80</td>\n",
       "    </tr>\n",
       "    <tr>\n",
       "      <th>4</th>\n",
       "      <td>Seperti yang sudah saya jelaskan pada bacaan k...</td>\n",
       "      <td>Seperti yang telah saya katakan dalam bacaan k...</td>\n",
       "      <td>4.75</td>\n",
       "    </tr>\n",
       "    <tr>\n",
       "      <th>...</th>\n",
       "      <td>...</td>\n",
       "      <td>...</td>\n",
       "      <td>...</td>\n",
       "    </tr>\n",
       "    <tr>\n",
       "      <th>2575</th>\n",
       "      <td>PM Turki mendesak untuk mengakhiri protes di I...</td>\n",
       "      <td>Polisi Turki menembakkan gas air mata ke pengu...</td>\n",
       "      <td>2.80</td>\n",
       "    </tr>\n",
       "    <tr>\n",
       "      <th>2576</th>\n",
       "      <td>Karena tegangannya tidak mencapai bohlam.</td>\n",
       "      <td>jalannya tidak tertutup</td>\n",
       "      <td>1.80</td>\n",
       "    </tr>\n",
       "    <tr>\n",
       "      <th>2577</th>\n",
       "      <td>Mereka kemudian jatuh dan telah mendukung sera...</td>\n",
       "      <td>Kedua negara yang menginvasi kemudian jatuh, d...</td>\n",
       "      <td>3.50</td>\n",
       "    </tr>\n",
       "    <tr>\n",
       "      <th>2578</th>\n",
       "      <td>Lem underlayment ke beton: berapa lama waktu y...</td>\n",
       "      <td>Berapa lama waktu yang dibutuhkan untuk menyem...</td>\n",
       "      <td>3.00</td>\n",
       "    </tr>\n",
       "    <tr>\n",
       "      <th>2579</th>\n",
       "      <td>Asosiasi Industri Rekaman Amerika mengatakan a...</td>\n",
       "      <td>Yaitu, jika Asosiasi Industri Rekaman Amerika ...</td>\n",
       "      <td>1.75</td>\n",
       "    </tr>\n",
       "  </tbody>\n",
       "</table>\n",
       "<p>12901 rows × 3 columns</p>\n",
       "</div>"
      ],
      "text/plain": [
       "                                               text1_id  \\\n",
       "0     Sebuah sepeda motor diparkir di dekat dinding ...   \n",
       "1     dia menikahimu, memilih untuk memiliki anak be...   \n",
       "2     Wanita yang meninggal itu juga mengenakan cinc...   \n",
       "3        Kedua komponen harus berada di jalur tertutup.   \n",
       "4     Seperti yang sudah saya jelaskan pada bacaan k...   \n",
       "...                                                 ...   \n",
       "2575  PM Turki mendesak untuk mengakhiri protes di I...   \n",
       "2576          Karena tegangannya tidak mencapai bohlam.   \n",
       "2577  Mereka kemudian jatuh dan telah mendukung sera...   \n",
       "2578  Lem underlayment ke beton: berapa lama waktu y...   \n",
       "2579  Asosiasi Industri Rekaman Amerika mengatakan a...   \n",
       "\n",
       "                                               text2_id  score  \n",
       "0     Sebuah sepeda motor diparkir oleh mural sebuah...   3.40  \n",
       "1     mereka tidak pernah mengangkat masalah moral a...   0.50  \n",
       "2     Seorang wanita berambut pirang mengenakan arlo...   2.60  \n",
       "3           bohlam dan baterai berada di jalur tertutup   3.80  \n",
       "4     Seperti yang telah saya katakan dalam bacaan k...   4.75  \n",
       "...                                                 ...    ...  \n",
       "2575  Polisi Turki menembakkan gas air mata ke pengu...   2.80  \n",
       "2576                            jalannya tidak tertutup   1.80  \n",
       "2577  Kedua negara yang menginvasi kemudian jatuh, d...   3.50  \n",
       "2578  Berapa lama waktu yang dibutuhkan untuk menyem...   3.00  \n",
       "2579  Yaitu, jika Asosiasi Industri Rekaman Amerika ...   1.75  \n",
       "\n",
       "[12901 rows x 3 columns]"
      ]
     },
     "execution_count": 1,
     "metadata": {},
     "output_type": "execute_result"
    }
   ],
   "source": [
    "import pandas as pd\n",
    "\n",
    "df_train = pd.read_csv(\"/home/jupyter-23521027/refresh-bert/data/sbert/train.tsv\", sep=\"\\t\")\n",
    "df_train = df_train[[\"text1_id\", \"text2_id\", \"score\"]]\n",
    "df_train\n",
    "\n",
    "df_test = pd.read_csv(\"/home/jupyter-23521027/refresh-bert/data/sbert/test.tsv\", sep=\"\\t\")\n",
    "df_test = df_test[[\"text1_id\", \"text2_id\", \"score\"]]\n",
    "df_test\n",
    "\n",
    "df = pd.concat([df_train, df_test])\n",
    "df"
   ]
  },
  {
   "cell_type": "code",
   "execution_count": 2,
   "id": "chemical-bailey",
   "metadata": {},
   "outputs": [
    {
     "data": {
      "text/html": [
       "<div>\n",
       "<style scoped>\n",
       "    .dataframe tbody tr th:only-of-type {\n",
       "        vertical-align: middle;\n",
       "    }\n",
       "\n",
       "    .dataframe tbody tr th {\n",
       "        vertical-align: top;\n",
       "    }\n",
       "\n",
       "    .dataframe thead th {\n",
       "        text-align: right;\n",
       "    }\n",
       "</style>\n",
       "<table border=\"1\" class=\"dataframe\">\n",
       "  <thead>\n",
       "    <tr style=\"text-align: right;\">\n",
       "      <th></th>\n",
       "      <th>text1_id</th>\n",
       "      <th>text2_id</th>\n",
       "      <th>score</th>\n",
       "    </tr>\n",
       "  </thead>\n",
       "  <tbody>\n",
       "    <tr>\n",
       "      <th>0</th>\n",
       "      <td>Sebuah sepeda motor diparkir di dekat dinding ...</td>\n",
       "      <td>Sebuah sepeda motor diparkir oleh mural sebuah...</td>\n",
       "      <td>0.68</td>\n",
       "    </tr>\n",
       "    <tr>\n",
       "      <th>1</th>\n",
       "      <td>dia menikahimu, memilih untuk memiliki anak be...</td>\n",
       "      <td>mereka tidak pernah mengangkat masalah moral a...</td>\n",
       "      <td>0.10</td>\n",
       "    </tr>\n",
       "    <tr>\n",
       "      <th>2</th>\n",
       "      <td>Wanita yang meninggal itu juga mengenakan cinc...</td>\n",
       "      <td>Seorang wanita berambut pirang mengenakan arlo...</td>\n",
       "      <td>0.52</td>\n",
       "    </tr>\n",
       "    <tr>\n",
       "      <th>3</th>\n",
       "      <td>Kedua komponen harus berada di jalur tertutup.</td>\n",
       "      <td>bohlam dan baterai berada di jalur tertutup</td>\n",
       "      <td>0.76</td>\n",
       "    </tr>\n",
       "    <tr>\n",
       "      <th>4</th>\n",
       "      <td>Seperti yang sudah saya jelaskan pada bacaan k...</td>\n",
       "      <td>Seperti yang telah saya katakan dalam bacaan k...</td>\n",
       "      <td>0.95</td>\n",
       "    </tr>\n",
       "    <tr>\n",
       "      <th>...</th>\n",
       "      <td>...</td>\n",
       "      <td>...</td>\n",
       "      <td>...</td>\n",
       "    </tr>\n",
       "    <tr>\n",
       "      <th>10316</th>\n",
       "      <td>Yang kita tahu adalah ini: Objek yang jauh men...</td>\n",
       "      <td>Perluasan ruang berarti bahwa benda-benda dala...</td>\n",
       "      <td>0.68</td>\n",
       "    </tr>\n",
       "    <tr>\n",
       "      <th>10317</th>\n",
       "      <td>Pabrikan pesawat dunia keempat, Embraer, mempe...</td>\n",
       "      <td>Pabrikan pesawat dunia terbesar keempat, Embra...</td>\n",
       "      <td>1.00</td>\n",
       "    </tr>\n",
       "    <tr>\n",
       "      <th>10318</th>\n",
       "      <td>Dia jelas memiliki alasan yang sah, meskipun d...</td>\n",
       "      <td>Yang pertama memiliki keduanya lebih bertanggu...</td>\n",
       "      <td>0.08</td>\n",
       "    </tr>\n",
       "    <tr>\n",
       "      <th>10319</th>\n",
       "      <td>AS: Assad menggunakan senjata kimia pada pembe...</td>\n",
       "      <td>Assad setuju untuk menyerahkan senjata kimia</td>\n",
       "      <td>0.36</td>\n",
       "    </tr>\n",
       "    <tr>\n",
       "      <th>10320</th>\n",
       "      <td>Seekor kucing berbaring di kursi kantor.</td>\n",
       "      <td>Seekor kucing jahe duduk di kursi kantor.</td>\n",
       "      <td>0.76</td>\n",
       "    </tr>\n",
       "  </tbody>\n",
       "</table>\n",
       "<p>10321 rows × 3 columns</p>\n",
       "</div>"
      ],
      "text/plain": [
       "                                                text1_id  \\\n",
       "0      Sebuah sepeda motor diparkir di dekat dinding ...   \n",
       "1      dia menikahimu, memilih untuk memiliki anak be...   \n",
       "2      Wanita yang meninggal itu juga mengenakan cinc...   \n",
       "3         Kedua komponen harus berada di jalur tertutup.   \n",
       "4      Seperti yang sudah saya jelaskan pada bacaan k...   \n",
       "...                                                  ...   \n",
       "10316  Yang kita tahu adalah ini: Objek yang jauh men...   \n",
       "10317  Pabrikan pesawat dunia keempat, Embraer, mempe...   \n",
       "10318  Dia jelas memiliki alasan yang sah, meskipun d...   \n",
       "10319  AS: Assad menggunakan senjata kimia pada pembe...   \n",
       "10320           Seekor kucing berbaring di kursi kantor.   \n",
       "\n",
       "                                                text2_id  score  \n",
       "0      Sebuah sepeda motor diparkir oleh mural sebuah...   0.68  \n",
       "1      mereka tidak pernah mengangkat masalah moral a...   0.10  \n",
       "2      Seorang wanita berambut pirang mengenakan arlo...   0.52  \n",
       "3            bohlam dan baterai berada di jalur tertutup   0.76  \n",
       "4      Seperti yang telah saya katakan dalam bacaan k...   0.95  \n",
       "...                                                  ...    ...  \n",
       "10316  Perluasan ruang berarti bahwa benda-benda dala...   0.68  \n",
       "10317  Pabrikan pesawat dunia terbesar keempat, Embra...   1.00  \n",
       "10318  Yang pertama memiliki keduanya lebih bertanggu...   0.08  \n",
       "10319       Assad setuju untuk menyerahkan senjata kimia   0.36  \n",
       "10320          Seekor kucing jahe duduk di kursi kantor.   0.76  \n",
       "\n",
       "[10321 rows x 3 columns]"
      ]
     },
     "execution_count": 2,
     "metadata": {},
     "output_type": "execute_result"
    }
   ],
   "source": [
    "import pandas as pd\n",
    "\n",
    "df_train = pd.read_csv(\"/home/jupyter-23521027/refresh-bert/data/sbert/train.tsv\", sep=\"\\t\")\n",
    "df_train = df_train[[\"text1_id\", \"text2_id\", \"score\"]]\n",
    "df_train[\"score\"] = df_train[\"score\"] / 5.0\n",
    "df_train\n"
   ]
  },
  {
   "cell_type": "code",
   "execution_count": 3,
   "id": "fossil-union",
   "metadata": {},
   "outputs": [
    {
     "data": {
      "text/plain": [
       "10321"
      ]
     },
     "execution_count": 3,
     "metadata": {},
     "output_type": "execute_result"
    }
   ],
   "source": [
    "len(df_train)"
   ]
  },
  {
   "cell_type": "code",
   "execution_count": 4,
   "id": "angry-brand",
   "metadata": {},
   "outputs": [
    {
     "data": {
      "text/html": [
       "<div>\n",
       "<style scoped>\n",
       "    .dataframe tbody tr th:only-of-type {\n",
       "        vertical-align: middle;\n",
       "    }\n",
       "\n",
       "    .dataframe tbody tr th {\n",
       "        vertical-align: top;\n",
       "    }\n",
       "\n",
       "    .dataframe thead th {\n",
       "        text-align: right;\n",
       "    }\n",
       "</style>\n",
       "<table border=\"1\" class=\"dataframe\">\n",
       "  <thead>\n",
       "    <tr style=\"text-align: right;\">\n",
       "      <th></th>\n",
       "      <th>text1_id</th>\n",
       "      <th>text2_id</th>\n",
       "      <th>score</th>\n",
       "    </tr>\n",
       "  </thead>\n",
       "  <tbody>\n",
       "    <tr>\n",
       "      <th>0</th>\n",
       "      <td>Partai oposisi Thailand memboikot pemilihan umum</td>\n",
       "      <td>Oposisi Thailand mengumumkan boikot pemilu</td>\n",
       "      <td>0.96</td>\n",
       "    </tr>\n",
       "    <tr>\n",
       "      <th>1</th>\n",
       "      <td>WHO mengatakan, kasus terbaru tidak sesuai den...</td>\n",
       "      <td>WHO mengatakan kasus Singapura tidak sesuai de...</td>\n",
       "      <td>0.76</td>\n",
       "    </tr>\n",
       "    <tr>\n",
       "      <th>2</th>\n",
       "      <td>Banyak orang yang mengikuti balap sepeda, term...</td>\n",
       "      <td>Seorang lelaki mengendarai kursi roda tiga.</td>\n",
       "      <td>0.52</td>\n",
       "    </tr>\n",
       "    <tr>\n",
       "      <th>3</th>\n",
       "      <td>Jeff Bezos bertaruh $ 250 Juta untuk Menghidup...</td>\n",
       "      <td>Jeff Bezos Membayar $ 250 Juta Untuk The Washi...</td>\n",
       "      <td>0.84</td>\n",
       "    </tr>\n",
       "    <tr>\n",
       "      <th>4</th>\n",
       "      <td>perbatasan atau batas suatu objek</td>\n",
       "      <td>merencanakan, mengatur, dan melaksanakan (suat...</td>\n",
       "      <td>0.00</td>\n",
       "    </tr>\n",
       "    <tr>\n",
       "      <th>...</th>\n",
       "      <td>...</td>\n",
       "      <td>...</td>\n",
       "      <td>...</td>\n",
       "    </tr>\n",
       "    <tr>\n",
       "      <th>2575</th>\n",
       "      <td>PM Turki mendesak untuk mengakhiri protes di I...</td>\n",
       "      <td>Polisi Turki menembakkan gas air mata ke pengu...</td>\n",
       "      <td>0.56</td>\n",
       "    </tr>\n",
       "    <tr>\n",
       "      <th>2576</th>\n",
       "      <td>Karena tegangannya tidak mencapai bohlam.</td>\n",
       "      <td>jalannya tidak tertutup</td>\n",
       "      <td>0.36</td>\n",
       "    </tr>\n",
       "    <tr>\n",
       "      <th>2577</th>\n",
       "      <td>Mereka kemudian jatuh dan telah mendukung sera...</td>\n",
       "      <td>Kedua negara yang menginvasi kemudian jatuh, d...</td>\n",
       "      <td>0.70</td>\n",
       "    </tr>\n",
       "    <tr>\n",
       "      <th>2578</th>\n",
       "      <td>Lem underlayment ke beton: berapa lama waktu y...</td>\n",
       "      <td>Berapa lama waktu yang dibutuhkan untuk menyem...</td>\n",
       "      <td>0.60</td>\n",
       "    </tr>\n",
       "    <tr>\n",
       "      <th>2579</th>\n",
       "      <td>Asosiasi Industri Rekaman Amerika mengatakan a...</td>\n",
       "      <td>Yaitu, jika Asosiasi Industri Rekaman Amerika ...</td>\n",
       "      <td>0.35</td>\n",
       "    </tr>\n",
       "  </tbody>\n",
       "</table>\n",
       "<p>2580 rows × 3 columns</p>\n",
       "</div>"
      ],
      "text/plain": [
       "                                               text1_id  \\\n",
       "0      Partai oposisi Thailand memboikot pemilihan umum   \n",
       "1     WHO mengatakan, kasus terbaru tidak sesuai den...   \n",
       "2     Banyak orang yang mengikuti balap sepeda, term...   \n",
       "3     Jeff Bezos bertaruh $ 250 Juta untuk Menghidup...   \n",
       "4                     perbatasan atau batas suatu objek   \n",
       "...                                                 ...   \n",
       "2575  PM Turki mendesak untuk mengakhiri protes di I...   \n",
       "2576          Karena tegangannya tidak mencapai bohlam.   \n",
       "2577  Mereka kemudian jatuh dan telah mendukung sera...   \n",
       "2578  Lem underlayment ke beton: berapa lama waktu y...   \n",
       "2579  Asosiasi Industri Rekaman Amerika mengatakan a...   \n",
       "\n",
       "                                               text2_id  score  \n",
       "0            Oposisi Thailand mengumumkan boikot pemilu   0.96  \n",
       "1     WHO mengatakan kasus Singapura tidak sesuai de...   0.76  \n",
       "2           Seorang lelaki mengendarai kursi roda tiga.   0.52  \n",
       "3     Jeff Bezos Membayar $ 250 Juta Untuk The Washi...   0.84  \n",
       "4     merencanakan, mengatur, dan melaksanakan (suat...   0.00  \n",
       "...                                                 ...    ...  \n",
       "2575  Polisi Turki menembakkan gas air mata ke pengu...   0.56  \n",
       "2576                            jalannya tidak tertutup   0.36  \n",
       "2577  Kedua negara yang menginvasi kemudian jatuh, d...   0.70  \n",
       "2578  Berapa lama waktu yang dibutuhkan untuk menyem...   0.60  \n",
       "2579  Yaitu, jika Asosiasi Industri Rekaman Amerika ...   0.35  \n",
       "\n",
       "[2580 rows x 3 columns]"
      ]
     },
     "execution_count": 4,
     "metadata": {},
     "output_type": "execute_result"
    }
   ],
   "source": [
    "df_test = pd.read_csv(\"/home/jupyter-23521027/refresh-bert/data/sbert/test.tsv\", sep=\"\\t\")\n",
    "df_test = df_test[[\"text1_id\", \"text2_id\", \"score\"]]\n",
    "df_test[\"score\"] = df_test[\"score\"] / 5.0\n",
    "df_test"
   ]
  },
  {
   "cell_type": "code",
   "execution_count": 5,
   "id": "speaking-payday",
   "metadata": {},
   "outputs": [
    {
     "name": "stderr",
     "output_type": "stream",
     "text": [
      "Some weights of the model checkpoint at indolem/indobert-base-uncased were not used when initializing BertModel: ['cls.predictions.transform.dense.bias', 'cls.predictions.decoder.bias', 'cls.predictions.decoder.weight', 'cls.predictions.transform.LayerNorm.bias', 'cls.predictions.transform.dense.weight', 'cls.predictions.bias', 'cls.predictions.transform.LayerNorm.weight']\n",
      "- This IS expected if you are initializing BertModel from the checkpoint of a model trained on another task or with another architecture (e.g. initializing a BertForSequenceClassification model from a BertForPreTraining model).\n",
      "- This IS NOT expected if you are initializing BertModel from the checkpoint of a model that you expect to be exactly identical (initializing a BertForSequenceClassification model from a BertForSequenceClassification model).\n"
     ]
    },
    {
     "data": {
      "application/vnd.jupyter.widget-view+json": {
       "model_id": "a5ee81dc24e64fdfb782b0b33260251b",
       "version_major": 2,
       "version_minor": 0
      },
      "text/plain": [
       "Epoch:   0%|          | 0/1 [00:00<?, ?it/s]"
      ]
     },
     "metadata": {},
     "output_type": "display_data"
    },
    {
     "data": {
      "application/vnd.jupyter.widget-view+json": {
       "model_id": "03f8c4b9b54b4b9e96dbf857ea179fd5",
       "version_major": 2,
       "version_minor": 0
      },
      "text/plain": [
       "Iteration:   0%|          | 0/646 [00:00<?, ?it/s]"
      ]
     },
     "metadata": {},
     "output_type": "display_data"
    },
    {
     "name": "stdout",
     "output_type": "stream",
     "text": [
      "epoch 1 elapsed time: 0:01:37.440325\n"
     ]
    },
    {
     "data": {
      "application/vnd.jupyter.widget-view+json": {
       "model_id": "4b95b2b1b0e74b85b534ab5b2292dc37",
       "version_major": 2,
       "version_minor": 0
      },
      "text/plain": [
       "Epoch:   0%|          | 0/1 [00:00<?, ?it/s]"
      ]
     },
     "metadata": {},
     "output_type": "display_data"
    },
    {
     "data": {
      "application/vnd.jupyter.widget-view+json": {
       "model_id": "740053253d724169a82b7fbff7cae454",
       "version_major": 2,
       "version_minor": 0
      },
      "text/plain": [
       "Iteration:   0%|          | 0/646 [00:00<?, ?it/s]"
      ]
     },
     "metadata": {},
     "output_type": "display_data"
    },
    {
     "name": "stdout",
     "output_type": "stream",
     "text": [
      "epoch 2 elapsed time: 0:03:05.233415\n"
     ]
    },
    {
     "data": {
      "application/vnd.jupyter.widget-view+json": {
       "model_id": "a965159d9b8f4cd2a408f36d90d94adf",
       "version_major": 2,
       "version_minor": 0
      },
      "text/plain": [
       "Epoch:   0%|          | 0/1 [00:00<?, ?it/s]"
      ]
     },
     "metadata": {},
     "output_type": "display_data"
    },
    {
     "data": {
      "application/vnd.jupyter.widget-view+json": {
       "model_id": "37301fd30fc24752988e9f97b5dbc2d5",
       "version_major": 2,
       "version_minor": 0
      },
      "text/plain": [
       "Iteration:   0%|          | 0/646 [00:00<?, ?it/s]"
      ]
     },
     "metadata": {},
     "output_type": "display_data"
    },
    {
     "name": "stdout",
     "output_type": "stream",
     "text": [
      "epoch 3 elapsed time: 0:04:33.009542\n"
     ]
    },
    {
     "data": {
      "application/vnd.jupyter.widget-view+json": {
       "model_id": "8cfe2a655fb34a62984e85a79493e883",
       "version_major": 2,
       "version_minor": 0
      },
      "text/plain": [
       "Epoch:   0%|          | 0/1 [00:00<?, ?it/s]"
      ]
     },
     "metadata": {},
     "output_type": "display_data"
    },
    {
     "data": {
      "application/vnd.jupyter.widget-view+json": {
       "model_id": "d106a32dccaa49ad86df8f91570e5479",
       "version_major": 2,
       "version_minor": 0
      },
      "text/plain": [
       "Iteration:   0%|          | 0/646 [00:00<?, ?it/s]"
      ]
     },
     "metadata": {},
     "output_type": "display_data"
    },
    {
     "name": "stdout",
     "output_type": "stream",
     "text": [
      "epoch 4 elapsed time: 0:06:00.504106\n"
     ]
    },
    {
     "data": {
      "application/vnd.jupyter.widget-view+json": {
       "model_id": "1514fff022324d3dbe41c7a65dff377f",
       "version_major": 2,
       "version_minor": 0
      },
      "text/plain": [
       "Epoch:   0%|          | 0/1 [00:00<?, ?it/s]"
      ]
     },
     "metadata": {},
     "output_type": "display_data"
    },
    {
     "data": {
      "application/vnd.jupyter.widget-view+json": {
       "model_id": "2eaf8f620da34dd5a2820f7d49b1b54e",
       "version_major": 2,
       "version_minor": 0
      },
      "text/plain": [
       "Iteration:   0%|          | 0/646 [00:00<?, ?it/s]"
      ]
     },
     "metadata": {},
     "output_type": "display_data"
    },
    {
     "name": "stdout",
     "output_type": "stream",
     "text": [
      "epoch 5 elapsed time: 0:07:29.264303\n"
     ]
    },
    {
     "data": {
      "application/vnd.jupyter.widget-view+json": {
       "model_id": "c297df7394c84f6388c1cc8fae599f20",
       "version_major": 2,
       "version_minor": 0
      },
      "text/plain": [
       "Epoch:   0%|          | 0/1 [00:00<?, ?it/s]"
      ]
     },
     "metadata": {},
     "output_type": "display_data"
    },
    {
     "data": {
      "application/vnd.jupyter.widget-view+json": {
       "model_id": "d50079034277489d88b6f4463d1690cc",
       "version_major": 2,
       "version_minor": 0
      },
      "text/plain": [
       "Iteration:   0%|          | 0/646 [00:00<?, ?it/s]"
      ]
     },
     "metadata": {},
     "output_type": "display_data"
    },
    {
     "name": "stdout",
     "output_type": "stream",
     "text": [
      "epoch 6 elapsed time: 0:08:56.078406\n"
     ]
    },
    {
     "data": {
      "application/vnd.jupyter.widget-view+json": {
       "model_id": "8b9f00859fef403387af424349102293",
       "version_major": 2,
       "version_minor": 0
      },
      "text/plain": [
       "Epoch:   0%|          | 0/1 [00:00<?, ?it/s]"
      ]
     },
     "metadata": {},
     "output_type": "display_data"
    },
    {
     "data": {
      "application/vnd.jupyter.widget-view+json": {
       "model_id": "e3e002659cf74559bb40280b16df396f",
       "version_major": 2,
       "version_minor": 0
      },
      "text/plain": [
       "Iteration:   0%|          | 0/646 [00:00<?, ?it/s]"
      ]
     },
     "metadata": {},
     "output_type": "display_data"
    },
    {
     "name": "stdout",
     "output_type": "stream",
     "text": [
      "epoch 7 elapsed time: 0:10:22.681136\n"
     ]
    },
    {
     "data": {
      "application/vnd.jupyter.widget-view+json": {
       "model_id": "df6780412ee040559a77eb037e79ff6e",
       "version_major": 2,
       "version_minor": 0
      },
      "text/plain": [
       "Epoch:   0%|          | 0/1 [00:00<?, ?it/s]"
      ]
     },
     "metadata": {},
     "output_type": "display_data"
    },
    {
     "data": {
      "application/vnd.jupyter.widget-view+json": {
       "model_id": "b480231bc78d45baad44b7e514103ac1",
       "version_major": 2,
       "version_minor": 0
      },
      "text/plain": [
       "Iteration:   0%|          | 0/646 [00:00<?, ?it/s]"
      ]
     },
     "metadata": {},
     "output_type": "display_data"
    },
    {
     "name": "stdout",
     "output_type": "stream",
     "text": [
      "epoch 8 elapsed time: 0:11:50.269436\n"
     ]
    },
    {
     "data": {
      "application/vnd.jupyter.widget-view+json": {
       "model_id": "e544e6be809b497291754b9e0e93a2c3",
       "version_major": 2,
       "version_minor": 0
      },
      "text/plain": [
       "Epoch:   0%|          | 0/1 [00:00<?, ?it/s]"
      ]
     },
     "metadata": {},
     "output_type": "display_data"
    },
    {
     "data": {
      "application/vnd.jupyter.widget-view+json": {
       "model_id": "ffabfd9e021049f3ab764cc8ea83c4fa",
       "version_major": 2,
       "version_minor": 0
      },
      "text/plain": [
       "Iteration:   0%|          | 0/646 [00:00<?, ?it/s]"
      ]
     },
     "metadata": {},
     "output_type": "display_data"
    },
    {
     "name": "stdout",
     "output_type": "stream",
     "text": [
      "epoch 9 elapsed time: 0:13:17.829809\n"
     ]
    },
    {
     "data": {
      "application/vnd.jupyter.widget-view+json": {
       "model_id": "76c9d09c22fe4f1ea89220e8e74e5ea5",
       "version_major": 2,
       "version_minor": 0
      },
      "text/plain": [
       "Epoch:   0%|          | 0/1 [00:00<?, ?it/s]"
      ]
     },
     "metadata": {},
     "output_type": "display_data"
    },
    {
     "data": {
      "application/vnd.jupyter.widget-view+json": {
       "model_id": "e449c9fd9b2543cc8fcafd415be5b0fe",
       "version_major": 2,
       "version_minor": 0
      },
      "text/plain": [
       "Iteration:   0%|          | 0/646 [00:00<?, ?it/s]"
      ]
     },
     "metadata": {},
     "output_type": "display_data"
    },
    {
     "name": "stdout",
     "output_type": "stream",
     "text": [
      "epoch 10 elapsed time: 0:14:43.751523\n"
     ]
    },
    {
     "data": {
      "application/vnd.jupyter.widget-view+json": {
       "model_id": "f749c1773a9a4b599a3f03a48f7eca33",
       "version_major": 2,
       "version_minor": 0
      },
      "text/plain": [
       "Epoch:   0%|          | 0/1 [00:00<?, ?it/s]"
      ]
     },
     "metadata": {},
     "output_type": "display_data"
    },
    {
     "data": {
      "application/vnd.jupyter.widget-view+json": {
       "model_id": "a481d38e12b2455d8a00fe5dfe51a9ab",
       "version_major": 2,
       "version_minor": 0
      },
      "text/plain": [
       "Iteration:   0%|          | 0/646 [00:00<?, ?it/s]"
      ]
     },
     "metadata": {},
     "output_type": "display_data"
    },
    {
     "name": "stdout",
     "output_type": "stream",
     "text": [
      "epoch 11 elapsed time: 0:16:10.488658\n"
     ]
    },
    {
     "data": {
      "application/vnd.jupyter.widget-view+json": {
       "model_id": "7bd6d37ce2d8412aa9ab38e2c96f55e6",
       "version_major": 2,
       "version_minor": 0
      },
      "text/plain": [
       "Epoch:   0%|          | 0/1 [00:00<?, ?it/s]"
      ]
     },
     "metadata": {},
     "output_type": "display_data"
    },
    {
     "data": {
      "application/vnd.jupyter.widget-view+json": {
       "model_id": "7fa63efb3d2e4c8a8392a82f12ea91e8",
       "version_major": 2,
       "version_minor": 0
      },
      "text/plain": [
       "Iteration:   0%|          | 0/646 [00:00<?, ?it/s]"
      ]
     },
     "metadata": {},
     "output_type": "display_data"
    },
    {
     "name": "stdout",
     "output_type": "stream",
     "text": [
      "epoch 12 elapsed time: 0:17:39.286165\n"
     ]
    },
    {
     "data": {
      "application/vnd.jupyter.widget-view+json": {
       "model_id": "eaa31466e4334c1ba68948cba09d18a3",
       "version_major": 2,
       "version_minor": 0
      },
      "text/plain": [
       "Epoch:   0%|          | 0/1 [00:00<?, ?it/s]"
      ]
     },
     "metadata": {},
     "output_type": "display_data"
    },
    {
     "data": {
      "application/vnd.jupyter.widget-view+json": {
       "model_id": "baba9c49264443d39c2d8b247ad75340",
       "version_major": 2,
       "version_minor": 0
      },
      "text/plain": [
       "Iteration:   0%|          | 0/646 [00:00<?, ?it/s]"
      ]
     },
     "metadata": {},
     "output_type": "display_data"
    },
    {
     "name": "stdout",
     "output_type": "stream",
     "text": [
      "epoch 13 elapsed time: 0:19:06.529022\n"
     ]
    },
    {
     "data": {
      "application/vnd.jupyter.widget-view+json": {
       "model_id": "187c9183048047c68e9a0ce06921fcd4",
       "version_major": 2,
       "version_minor": 0
      },
      "text/plain": [
       "Epoch:   0%|          | 0/1 [00:00<?, ?it/s]"
      ]
     },
     "metadata": {},
     "output_type": "display_data"
    },
    {
     "data": {
      "application/vnd.jupyter.widget-view+json": {
       "model_id": "a3f87336adc3429d803cfe1b5135beca",
       "version_major": 2,
       "version_minor": 0
      },
      "text/plain": [
       "Iteration:   0%|          | 0/646 [00:00<?, ?it/s]"
      ]
     },
     "metadata": {},
     "output_type": "display_data"
    },
    {
     "name": "stdout",
     "output_type": "stream",
     "text": [
      "epoch 14 elapsed time: 0:20:32.801801\n"
     ]
    },
    {
     "data": {
      "application/vnd.jupyter.widget-view+json": {
       "model_id": "4070a689f1874420bf953c457804fb73",
       "version_major": 2,
       "version_minor": 0
      },
      "text/plain": [
       "Epoch:   0%|          | 0/1 [00:00<?, ?it/s]"
      ]
     },
     "metadata": {},
     "output_type": "display_data"
    },
    {
     "data": {
      "application/vnd.jupyter.widget-view+json": {
       "model_id": "cc536835ac9643dca3b534f164f56fc0",
       "version_major": 2,
       "version_minor": 0
      },
      "text/plain": [
       "Iteration:   0%|          | 0/646 [00:00<?, ?it/s]"
      ]
     },
     "metadata": {},
     "output_type": "display_data"
    },
    {
     "name": "stdout",
     "output_type": "stream",
     "text": [
      "epoch 15 elapsed time: 0:22:00.929586\n"
     ]
    },
    {
     "data": {
      "application/vnd.jupyter.widget-view+json": {
       "model_id": "5fef7036ec1844d5a30c4c71d6a74b86",
       "version_major": 2,
       "version_minor": 0
      },
      "text/plain": [
       "Epoch:   0%|          | 0/1 [00:00<?, ?it/s]"
      ]
     },
     "metadata": {},
     "output_type": "display_data"
    },
    {
     "data": {
      "application/vnd.jupyter.widget-view+json": {
       "model_id": "23d7b3286e5445738e61efc0cbaa002f",
       "version_major": 2,
       "version_minor": 0
      },
      "text/plain": [
       "Iteration:   0%|          | 0/646 [00:00<?, ?it/s]"
      ]
     },
     "metadata": {},
     "output_type": "display_data"
    },
    {
     "name": "stdout",
     "output_type": "stream",
     "text": [
      "epoch 16 elapsed time: 0:23:27.813350\n"
     ]
    },
    {
     "data": {
      "application/vnd.jupyter.widget-view+json": {
       "model_id": "826fe0ef96974320ba7669cb6ae56012",
       "version_major": 2,
       "version_minor": 0
      },
      "text/plain": [
       "Epoch:   0%|          | 0/1 [00:00<?, ?it/s]"
      ]
     },
     "metadata": {},
     "output_type": "display_data"
    },
    {
     "data": {
      "application/vnd.jupyter.widget-view+json": {
       "model_id": "5ca31473adf04e2f945fe5eb5ee0d2bd",
       "version_major": 2,
       "version_minor": 0
      },
      "text/plain": [
       "Iteration:   0%|          | 0/646 [00:00<?, ?it/s]"
      ]
     },
     "metadata": {},
     "output_type": "display_data"
    },
    {
     "name": "stdout",
     "output_type": "stream",
     "text": [
      "epoch 17 elapsed time: 0:24:55.138896\n"
     ]
    },
    {
     "data": {
      "application/vnd.jupyter.widget-view+json": {
       "model_id": "c8afbc209ebb473b94a413d7f0120a3e",
       "version_major": 2,
       "version_minor": 0
      },
      "text/plain": [
       "Epoch:   0%|          | 0/1 [00:00<?, ?it/s]"
      ]
     },
     "metadata": {},
     "output_type": "display_data"
    },
    {
     "data": {
      "application/vnd.jupyter.widget-view+json": {
       "model_id": "5ba1830c88cb46af9a9cc2804cd0e1d2",
       "version_major": 2,
       "version_minor": 0
      },
      "text/plain": [
       "Iteration:   0%|          | 0/646 [00:00<?, ?it/s]"
      ]
     },
     "metadata": {},
     "output_type": "display_data"
    },
    {
     "name": "stdout",
     "output_type": "stream",
     "text": [
      "epoch 18 elapsed time: 0:26:21.725941\n"
     ]
    },
    {
     "data": {
      "application/vnd.jupyter.widget-view+json": {
       "model_id": "0813aa0ce1fa4b5d935a752768c01f0e",
       "version_major": 2,
       "version_minor": 0
      },
      "text/plain": [
       "Epoch:   0%|          | 0/1 [00:00<?, ?it/s]"
      ]
     },
     "metadata": {},
     "output_type": "display_data"
    },
    {
     "data": {
      "application/vnd.jupyter.widget-view+json": {
       "model_id": "3de5a2aefb8c4fa18b6127d66c6003f2",
       "version_major": 2,
       "version_minor": 0
      },
      "text/plain": [
       "Iteration:   0%|          | 0/646 [00:00<?, ?it/s]"
      ]
     },
     "metadata": {},
     "output_type": "display_data"
    },
    {
     "name": "stdout",
     "output_type": "stream",
     "text": [
      "epoch 19 elapsed time: 0:27:48.618285\n"
     ]
    },
    {
     "data": {
      "application/vnd.jupyter.widget-view+json": {
       "model_id": "ca4eba9627614cc58694e55aa9748e8e",
       "version_major": 2,
       "version_minor": 0
      },
      "text/plain": [
       "Epoch:   0%|          | 0/1 [00:00<?, ?it/s]"
      ]
     },
     "metadata": {},
     "output_type": "display_data"
    },
    {
     "data": {
      "application/vnd.jupyter.widget-view+json": {
       "model_id": "5346a247dbef4ad5b4b3e6c19204ec7b",
       "version_major": 2,
       "version_minor": 0
      },
      "text/plain": [
       "Iteration:   0%|          | 0/646 [00:00<?, ?it/s]"
      ]
     },
     "metadata": {},
     "output_type": "display_data"
    },
    {
     "name": "stdout",
     "output_type": "stream",
     "text": [
      "epoch 20 elapsed time: 0:29:15.766621\n"
     ]
    },
    {
     "data": {
      "application/vnd.jupyter.widget-view+json": {
       "model_id": "502afc4e835140bea9dcc724a973e56a",
       "version_major": 2,
       "version_minor": 0
      },
      "text/plain": [
       "Epoch:   0%|          | 0/1 [00:00<?, ?it/s]"
      ]
     },
     "metadata": {},
     "output_type": "display_data"
    },
    {
     "data": {
      "application/vnd.jupyter.widget-view+json": {
       "model_id": "6367c4b07cda4e10a3d409147c680ddf",
       "version_major": 2,
       "version_minor": 0
      },
      "text/plain": [
       "Iteration:   0%|          | 0/646 [00:00<?, ?it/s]"
      ]
     },
     "metadata": {},
     "output_type": "display_data"
    },
    {
     "name": "stdout",
     "output_type": "stream",
     "text": [
      "epoch 21 elapsed time: 0:30:43.424642\n"
     ]
    },
    {
     "data": {
      "application/vnd.jupyter.widget-view+json": {
       "model_id": "ef32f853952a46239275d4abf038ad5a",
       "version_major": 2,
       "version_minor": 0
      },
      "text/plain": [
       "Epoch:   0%|          | 0/1 [00:00<?, ?it/s]"
      ]
     },
     "metadata": {},
     "output_type": "display_data"
    },
    {
     "data": {
      "application/vnd.jupyter.widget-view+json": {
       "model_id": "499af61a4b944e69a15b05dfcf0e37c4",
       "version_major": 2,
       "version_minor": 0
      },
      "text/plain": [
       "Iteration:   0%|          | 0/646 [00:00<?, ?it/s]"
      ]
     },
     "metadata": {},
     "output_type": "display_data"
    },
    {
     "name": "stdout",
     "output_type": "stream",
     "text": [
      "epoch 22 elapsed time: 0:32:09.662074\n"
     ]
    },
    {
     "data": {
      "application/vnd.jupyter.widget-view+json": {
       "model_id": "a845027e705d4baaabe53b1bbf207c3a",
       "version_major": 2,
       "version_minor": 0
      },
      "text/plain": [
       "Epoch:   0%|          | 0/1 [00:00<?, ?it/s]"
      ]
     },
     "metadata": {},
     "output_type": "display_data"
    },
    {
     "data": {
      "application/vnd.jupyter.widget-view+json": {
       "model_id": "f4c642b52efb45daa5ad7023d0beef1e",
       "version_major": 2,
       "version_minor": 0
      },
      "text/plain": [
       "Iteration:   0%|          | 0/646 [00:00<?, ?it/s]"
      ]
     },
     "metadata": {},
     "output_type": "display_data"
    },
    {
     "name": "stdout",
     "output_type": "stream",
     "text": [
      "epoch 23 elapsed time: 0:33:35.172983\n"
     ]
    },
    {
     "data": {
      "application/vnd.jupyter.widget-view+json": {
       "model_id": "c430c51c50554bb8ba21bdb7001d99cd",
       "version_major": 2,
       "version_minor": 0
      },
      "text/plain": [
       "Epoch:   0%|          | 0/1 [00:00<?, ?it/s]"
      ]
     },
     "metadata": {},
     "output_type": "display_data"
    },
    {
     "data": {
      "application/vnd.jupyter.widget-view+json": {
       "model_id": "a9e6b35ba30743ddaa502eeb605420ea",
       "version_major": 2,
       "version_minor": 0
      },
      "text/plain": [
       "Iteration:   0%|          | 0/646 [00:00<?, ?it/s]"
      ]
     },
     "metadata": {},
     "output_type": "display_data"
    },
    {
     "name": "stdout",
     "output_type": "stream",
     "text": [
      "epoch 24 elapsed time: 0:34:58.501816\n"
     ]
    },
    {
     "data": {
      "application/vnd.jupyter.widget-view+json": {
       "model_id": "3cad5815f819404db58189a3a5c6e8ea",
       "version_major": 2,
       "version_minor": 0
      },
      "text/plain": [
       "Epoch:   0%|          | 0/1 [00:00<?, ?it/s]"
      ]
     },
     "metadata": {},
     "output_type": "display_data"
    },
    {
     "data": {
      "application/vnd.jupyter.widget-view+json": {
       "model_id": "2a6e878d3e2141358bdccf2b4f4ef9fc",
       "version_major": 2,
       "version_minor": 0
      },
      "text/plain": [
       "Iteration:   0%|          | 0/646 [00:00<?, ?it/s]"
      ]
     },
     "metadata": {},
     "output_type": "display_data"
    },
    {
     "name": "stdout",
     "output_type": "stream",
     "text": [
      "epoch 25 elapsed time: 0:36:24.657032\n"
     ]
    },
    {
     "data": {
      "application/vnd.jupyter.widget-view+json": {
       "model_id": "76b85b52b7344e3a98a74404be92b543",
       "version_major": 2,
       "version_minor": 0
      },
      "text/plain": [
       "Epoch:   0%|          | 0/1 [00:00<?, ?it/s]"
      ]
     },
     "metadata": {},
     "output_type": "display_data"
    },
    {
     "data": {
      "application/vnd.jupyter.widget-view+json": {
       "model_id": "e76d7d4ecc7046b3ae3777b7bb00ff4d",
       "version_major": 2,
       "version_minor": 0
      },
      "text/plain": [
       "Iteration:   0%|          | 0/646 [00:00<?, ?it/s]"
      ]
     },
     "metadata": {},
     "output_type": "display_data"
    },
    {
     "name": "stdout",
     "output_type": "stream",
     "text": [
      "epoch 26 elapsed time: 0:37:49.792204\n"
     ]
    },
    {
     "data": {
      "application/vnd.jupyter.widget-view+json": {
       "model_id": "26dc7e24c53f4ae28daa6104b7f206a4",
       "version_major": 2,
       "version_minor": 0
      },
      "text/plain": [
       "Epoch:   0%|          | 0/1 [00:00<?, ?it/s]"
      ]
     },
     "metadata": {},
     "output_type": "display_data"
    },
    {
     "data": {
      "application/vnd.jupyter.widget-view+json": {
       "model_id": "e259814f08344a7aa8abd70b21395a27",
       "version_major": 2,
       "version_minor": 0
      },
      "text/plain": [
       "Iteration:   0%|          | 0/646 [00:00<?, ?it/s]"
      ]
     },
     "metadata": {},
     "output_type": "display_data"
    },
    {
     "name": "stdout",
     "output_type": "stream",
     "text": [
      "epoch 27 elapsed time: 0:39:15.120622\n"
     ]
    },
    {
     "data": {
      "application/vnd.jupyter.widget-view+json": {
       "model_id": "6a49b6811e7c4a47be3dd71de17b24c1",
       "version_major": 2,
       "version_minor": 0
      },
      "text/plain": [
       "Epoch:   0%|          | 0/1 [00:00<?, ?it/s]"
      ]
     },
     "metadata": {},
     "output_type": "display_data"
    },
    {
     "data": {
      "application/vnd.jupyter.widget-view+json": {
       "model_id": "9ca5c45f740c452fb1e07805134f9dee",
       "version_major": 2,
       "version_minor": 0
      },
      "text/plain": [
       "Iteration:   0%|          | 0/646 [00:00<?, ?it/s]"
      ]
     },
     "metadata": {},
     "output_type": "display_data"
    },
    {
     "name": "stdout",
     "output_type": "stream",
     "text": [
      "epoch 28 elapsed time: 0:40:41.572774\n"
     ]
    },
    {
     "data": {
      "application/vnd.jupyter.widget-view+json": {
       "model_id": "962d442c55ce4187af645193c349ca70",
       "version_major": 2,
       "version_minor": 0
      },
      "text/plain": [
       "Epoch:   0%|          | 0/1 [00:00<?, ?it/s]"
      ]
     },
     "metadata": {},
     "output_type": "display_data"
    },
    {
     "data": {
      "application/vnd.jupyter.widget-view+json": {
       "model_id": "20b93f20765d46998104aad3e6ce40fe",
       "version_major": 2,
       "version_minor": 0
      },
      "text/plain": [
       "Iteration:   0%|          | 0/646 [00:00<?, ?it/s]"
      ]
     },
     "metadata": {},
     "output_type": "display_data"
    },
    {
     "name": "stdout",
     "output_type": "stream",
     "text": [
      "epoch 29 elapsed time: 0:42:05.603210\n"
     ]
    },
    {
     "data": {
      "application/vnd.jupyter.widget-view+json": {
       "model_id": "c3d25043f3994467a0ef649df8bf581e",
       "version_major": 2,
       "version_minor": 0
      },
      "text/plain": [
       "Epoch:   0%|          | 0/1 [00:00<?, ?it/s]"
      ]
     },
     "metadata": {},
     "output_type": "display_data"
    },
    {
     "data": {
      "application/vnd.jupyter.widget-view+json": {
       "model_id": "549b42e0941a4b50a4b8c1b754320afb",
       "version_major": 2,
       "version_minor": 0
      },
      "text/plain": [
       "Iteration:   0%|          | 0/646 [00:00<?, ?it/s]"
      ]
     },
     "metadata": {},
     "output_type": "display_data"
    },
    {
     "name": "stdout",
     "output_type": "stream",
     "text": [
      "epoch 30 elapsed time: 0:43:33.643885\n"
     ]
    },
    {
     "data": {
      "application/vnd.jupyter.widget-view+json": {
       "model_id": "4212104ce72d464c98bf6cb2558fbeb8",
       "version_major": 2,
       "version_minor": 0
      },
      "text/plain": [
       "Epoch:   0%|          | 0/1 [00:00<?, ?it/s]"
      ]
     },
     "metadata": {},
     "output_type": "display_data"
    },
    {
     "data": {
      "application/vnd.jupyter.widget-view+json": {
       "model_id": "4b973f217ec543c18252b6964aa6cc8e",
       "version_major": 2,
       "version_minor": 0
      },
      "text/plain": [
       "Iteration:   0%|          | 0/646 [00:00<?, ?it/s]"
      ]
     },
     "metadata": {},
     "output_type": "display_data"
    },
    {
     "name": "stdout",
     "output_type": "stream",
     "text": [
      "epoch 31 elapsed time: 0:44:59.738167\n"
     ]
    },
    {
     "data": {
      "application/vnd.jupyter.widget-view+json": {
       "model_id": "e565c78daf4e45ca84aac035b21c3372",
       "version_major": 2,
       "version_minor": 0
      },
      "text/plain": [
       "Epoch:   0%|          | 0/1 [00:00<?, ?it/s]"
      ]
     },
     "metadata": {},
     "output_type": "display_data"
    },
    {
     "data": {
      "application/vnd.jupyter.widget-view+json": {
       "model_id": "117f1841950b45bc96f1ebf0f6b0d476",
       "version_major": 2,
       "version_minor": 0
      },
      "text/plain": [
       "Iteration:   0%|          | 0/646 [00:00<?, ?it/s]"
      ]
     },
     "metadata": {},
     "output_type": "display_data"
    },
    {
     "name": "stdout",
     "output_type": "stream",
     "text": [
      "epoch 32 elapsed time: 0:46:26.980241\n"
     ]
    },
    {
     "data": {
      "application/vnd.jupyter.widget-view+json": {
       "model_id": "cf051b24f146498fbf22a8085d950517",
       "version_major": 2,
       "version_minor": 0
      },
      "text/plain": [
       "Epoch:   0%|          | 0/1 [00:00<?, ?it/s]"
      ]
     },
     "metadata": {},
     "output_type": "display_data"
    },
    {
     "data": {
      "application/vnd.jupyter.widget-view+json": {
       "model_id": "83c7dfdd9178428ea04dc783f1cdcf13",
       "version_major": 2,
       "version_minor": 0
      },
      "text/plain": [
       "Iteration:   0%|          | 0/646 [00:00<?, ?it/s]"
      ]
     },
     "metadata": {},
     "output_type": "display_data"
    },
    {
     "name": "stdout",
     "output_type": "stream",
     "text": [
      "epoch 33 elapsed time: 0:47:52.953314\n"
     ]
    },
    {
     "data": {
      "application/vnd.jupyter.widget-view+json": {
       "model_id": "2e41230990cb4af791e9cd75cc502cc5",
       "version_major": 2,
       "version_minor": 0
      },
      "text/plain": [
       "Epoch:   0%|          | 0/1 [00:00<?, ?it/s]"
      ]
     },
     "metadata": {},
     "output_type": "display_data"
    },
    {
     "data": {
      "application/vnd.jupyter.widget-view+json": {
       "model_id": "dea9bfd75d304812b80b96bc50a7fcc6",
       "version_major": 2,
       "version_minor": 0
      },
      "text/plain": [
       "Iteration:   0%|          | 0/646 [00:00<?, ?it/s]"
      ]
     },
     "metadata": {},
     "output_type": "display_data"
    },
    {
     "name": "stdout",
     "output_type": "stream",
     "text": [
      "epoch 34 elapsed time: 0:49:20.594358\n"
     ]
    },
    {
     "data": {
      "application/vnd.jupyter.widget-view+json": {
       "model_id": "34879b33c1114cecb7c6b1cc62cc1362",
       "version_major": 2,
       "version_minor": 0
      },
      "text/plain": [
       "Epoch:   0%|          | 0/1 [00:00<?, ?it/s]"
      ]
     },
     "metadata": {},
     "output_type": "display_data"
    },
    {
     "data": {
      "application/vnd.jupyter.widget-view+json": {
       "model_id": "13108dbbd0354250ae0ce6d59bc9ae07",
       "version_major": 2,
       "version_minor": 0
      },
      "text/plain": [
       "Iteration:   0%|          | 0/646 [00:00<?, ?it/s]"
      ]
     },
     "metadata": {},
     "output_type": "display_data"
    },
    {
     "name": "stdout",
     "output_type": "stream",
     "text": [
      "epoch 35 elapsed time: 0:50:46.548760\n"
     ]
    },
    {
     "data": {
      "application/vnd.jupyter.widget-view+json": {
       "model_id": "a38101dca3a74e73be274ecf1c867992",
       "version_major": 2,
       "version_minor": 0
      },
      "text/plain": [
       "Epoch:   0%|          | 0/1 [00:00<?, ?it/s]"
      ]
     },
     "metadata": {},
     "output_type": "display_data"
    },
    {
     "data": {
      "application/vnd.jupyter.widget-view+json": {
       "model_id": "d6a7b60255fc42138c6b6576a80d8e0d",
       "version_major": 2,
       "version_minor": 0
      },
      "text/plain": [
       "Iteration:   0%|          | 0/646 [00:00<?, ?it/s]"
      ]
     },
     "metadata": {},
     "output_type": "display_data"
    },
    {
     "name": "stdout",
     "output_type": "stream",
     "text": [
      "epoch 36 elapsed time: 0:52:14.045762\n"
     ]
    },
    {
     "data": {
      "application/vnd.jupyter.widget-view+json": {
       "model_id": "d9c7eee6acf445b489b4dc146971caa3",
       "version_major": 2,
       "version_minor": 0
      },
      "text/plain": [
       "Epoch:   0%|          | 0/1 [00:00<?, ?it/s]"
      ]
     },
     "metadata": {},
     "output_type": "display_data"
    },
    {
     "data": {
      "application/vnd.jupyter.widget-view+json": {
       "model_id": "a51e8942e8ec4c9281cd625a14983bac",
       "version_major": 2,
       "version_minor": 0
      },
      "text/plain": [
       "Iteration:   0%|          | 0/646 [00:00<?, ?it/s]"
      ]
     },
     "metadata": {},
     "output_type": "display_data"
    },
    {
     "name": "stdout",
     "output_type": "stream",
     "text": [
      "epoch 37 elapsed time: 0:53:39.517215\n"
     ]
    },
    {
     "data": {
      "application/vnd.jupyter.widget-view+json": {
       "model_id": "72dbd0433b894cd7ac3878121a1c87f6",
       "version_major": 2,
       "version_minor": 0
      },
      "text/plain": [
       "Epoch:   0%|          | 0/1 [00:00<?, ?it/s]"
      ]
     },
     "metadata": {},
     "output_type": "display_data"
    },
    {
     "data": {
      "application/vnd.jupyter.widget-view+json": {
       "model_id": "ef5451a98c22456884e7458c4e973482",
       "version_major": 2,
       "version_minor": 0
      },
      "text/plain": [
       "Iteration:   0%|          | 0/646 [00:00<?, ?it/s]"
      ]
     },
     "metadata": {},
     "output_type": "display_data"
    },
    {
     "name": "stdout",
     "output_type": "stream",
     "text": [
      "epoch 38 elapsed time: 0:55:07.233170\n"
     ]
    },
    {
     "data": {
      "application/vnd.jupyter.widget-view+json": {
       "model_id": "caaacb4082aa46f19451637af8e88588",
       "version_major": 2,
       "version_minor": 0
      },
      "text/plain": [
       "Epoch:   0%|          | 0/1 [00:00<?, ?it/s]"
      ]
     },
     "metadata": {},
     "output_type": "display_data"
    },
    {
     "data": {
      "application/vnd.jupyter.widget-view+json": {
       "model_id": "a7905b0fea9d4c85a3ae6b321509d74a",
       "version_major": 2,
       "version_minor": 0
      },
      "text/plain": [
       "Iteration:   0%|          | 0/646 [00:00<?, ?it/s]"
      ]
     },
     "metadata": {},
     "output_type": "display_data"
    },
    {
     "name": "stdout",
     "output_type": "stream",
     "text": [
      "epoch 39 elapsed time: 0:56:35.653766\n"
     ]
    },
    {
     "data": {
      "application/vnd.jupyter.widget-view+json": {
       "model_id": "4471e2d49ab646fc936215fb20f5a951",
       "version_major": 2,
       "version_minor": 0
      },
      "text/plain": [
       "Epoch:   0%|          | 0/1 [00:00<?, ?it/s]"
      ]
     },
     "metadata": {},
     "output_type": "display_data"
    },
    {
     "data": {
      "application/vnd.jupyter.widget-view+json": {
       "model_id": "00176d6942d742078c586e3161b894b0",
       "version_major": 2,
       "version_minor": 0
      },
      "text/plain": [
       "Iteration:   0%|          | 0/646 [00:00<?, ?it/s]"
      ]
     },
     "metadata": {},
     "output_type": "display_data"
    },
    {
     "name": "stdout",
     "output_type": "stream",
     "text": [
      "epoch 40 elapsed time: 0:57:59.515149\n"
     ]
    },
    {
     "data": {
      "application/vnd.jupyter.widget-view+json": {
       "model_id": "ed7a60a8423f435f9326401a2439c29b",
       "version_major": 2,
       "version_minor": 0
      },
      "text/plain": [
       "Epoch:   0%|          | 0/1 [00:00<?, ?it/s]"
      ]
     },
     "metadata": {},
     "output_type": "display_data"
    },
    {
     "data": {
      "application/vnd.jupyter.widget-view+json": {
       "model_id": "aff2917ca8364ae1ad823faad620d5e7",
       "version_major": 2,
       "version_minor": 0
      },
      "text/plain": [
       "Iteration:   0%|          | 0/646 [00:00<?, ?it/s]"
      ]
     },
     "metadata": {},
     "output_type": "display_data"
    },
    {
     "name": "stdout",
     "output_type": "stream",
     "text": [
      "epoch 41 elapsed time: 0:59:28.832468\n"
     ]
    },
    {
     "data": {
      "application/vnd.jupyter.widget-view+json": {
       "model_id": "635c1dd7bf77406b8edfbba549f8ce5b",
       "version_major": 2,
       "version_minor": 0
      },
      "text/plain": [
       "Epoch:   0%|          | 0/1 [00:00<?, ?it/s]"
      ]
     },
     "metadata": {},
     "output_type": "display_data"
    },
    {
     "data": {
      "application/vnd.jupyter.widget-view+json": {
       "model_id": "868b637de3b34229a7a97ba323ee2635",
       "version_major": 2,
       "version_minor": 0
      },
      "text/plain": [
       "Iteration:   0%|          | 0/646 [00:00<?, ?it/s]"
      ]
     },
     "metadata": {},
     "output_type": "display_data"
    },
    {
     "name": "stdout",
     "output_type": "stream",
     "text": [
      "epoch 42 elapsed time: 1:00:56.921679\n"
     ]
    },
    {
     "data": {
      "application/vnd.jupyter.widget-view+json": {
       "model_id": "f19a437764ff4cb29f7438a8b6de1c00",
       "version_major": 2,
       "version_minor": 0
      },
      "text/plain": [
       "Epoch:   0%|          | 0/1 [00:00<?, ?it/s]"
      ]
     },
     "metadata": {},
     "output_type": "display_data"
    },
    {
     "data": {
      "application/vnd.jupyter.widget-view+json": {
       "model_id": "a55f9c8d3f8a4a9883ea6d4496de1189",
       "version_major": 2,
       "version_minor": 0
      },
      "text/plain": [
       "Iteration:   0%|          | 0/646 [00:00<?, ?it/s]"
      ]
     },
     "metadata": {},
     "output_type": "display_data"
    },
    {
     "name": "stdout",
     "output_type": "stream",
     "text": [
      "epoch 43 elapsed time: 1:02:18.952125\n"
     ]
    },
    {
     "data": {
      "application/vnd.jupyter.widget-view+json": {
       "model_id": "ed38f6fc48bf41b2a7456cf013de2d76",
       "version_major": 2,
       "version_minor": 0
      },
      "text/plain": [
       "Epoch:   0%|          | 0/1 [00:00<?, ?it/s]"
      ]
     },
     "metadata": {},
     "output_type": "display_data"
    },
    {
     "data": {
      "application/vnd.jupyter.widget-view+json": {
       "model_id": "747515eff3da44468f44c6282669c3ae",
       "version_major": 2,
       "version_minor": 0
      },
      "text/plain": [
       "Iteration:   0%|          | 0/646 [00:00<?, ?it/s]"
      ]
     },
     "metadata": {},
     "output_type": "display_data"
    },
    {
     "name": "stdout",
     "output_type": "stream",
     "text": [
      "epoch 44 elapsed time: 1:03:43.944590\n"
     ]
    },
    {
     "data": {
      "application/vnd.jupyter.widget-view+json": {
       "model_id": "555c594df9d34cb9bd706b53ac1e5670",
       "version_major": 2,
       "version_minor": 0
      },
      "text/plain": [
       "Epoch:   0%|          | 0/1 [00:00<?, ?it/s]"
      ]
     },
     "metadata": {},
     "output_type": "display_data"
    },
    {
     "data": {
      "application/vnd.jupyter.widget-view+json": {
       "model_id": "e1f7c382d5c64306a877042c29a10062",
       "version_major": 2,
       "version_minor": 0
      },
      "text/plain": [
       "Iteration:   0%|          | 0/646 [00:00<?, ?it/s]"
      ]
     },
     "metadata": {},
     "output_type": "display_data"
    },
    {
     "name": "stdout",
     "output_type": "stream",
     "text": [
      "epoch 45 elapsed time: 1:05:09.391636\n"
     ]
    },
    {
     "data": {
      "application/vnd.jupyter.widget-view+json": {
       "model_id": "e43530c3e9a446d5b914e65319ac4beb",
       "version_major": 2,
       "version_minor": 0
      },
      "text/plain": [
       "Epoch:   0%|          | 0/1 [00:00<?, ?it/s]"
      ]
     },
     "metadata": {},
     "output_type": "display_data"
    },
    {
     "data": {
      "application/vnd.jupyter.widget-view+json": {
       "model_id": "db67573daeda49cea2197b0c923c3987",
       "version_major": 2,
       "version_minor": 0
      },
      "text/plain": [
       "Iteration:   0%|          | 0/646 [00:00<?, ?it/s]"
      ]
     },
     "metadata": {},
     "output_type": "display_data"
    },
    {
     "name": "stdout",
     "output_type": "stream",
     "text": [
      "epoch 46 elapsed time: 1:06:36.252993\n"
     ]
    },
    {
     "data": {
      "application/vnd.jupyter.widget-view+json": {
       "model_id": "6f6749b55f39413caeac569ca2637765",
       "version_major": 2,
       "version_minor": 0
      },
      "text/plain": [
       "Epoch:   0%|          | 0/1 [00:00<?, ?it/s]"
      ]
     },
     "metadata": {},
     "output_type": "display_data"
    },
    {
     "data": {
      "application/vnd.jupyter.widget-view+json": {
       "model_id": "7fa7540654744d95bad2d5a02fc0402c",
       "version_major": 2,
       "version_minor": 0
      },
      "text/plain": [
       "Iteration:   0%|          | 0/646 [00:00<?, ?it/s]"
      ]
     },
     "metadata": {},
     "output_type": "display_data"
    },
    {
     "name": "stdout",
     "output_type": "stream",
     "text": [
      "epoch 47 elapsed time: 1:08:02.414668\n"
     ]
    },
    {
     "data": {
      "application/vnd.jupyter.widget-view+json": {
       "model_id": "ea71e5b79b0940a0a0499d58f4ab640d",
       "version_major": 2,
       "version_minor": 0
      },
      "text/plain": [
       "Epoch:   0%|          | 0/1 [00:00<?, ?it/s]"
      ]
     },
     "metadata": {},
     "output_type": "display_data"
    },
    {
     "data": {
      "application/vnd.jupyter.widget-view+json": {
       "model_id": "18fd5f237b8a41fdbf199555b25fcd78",
       "version_major": 2,
       "version_minor": 0
      },
      "text/plain": [
       "Iteration:   0%|          | 0/646 [00:00<?, ?it/s]"
      ]
     },
     "metadata": {},
     "output_type": "display_data"
    },
    {
     "name": "stdout",
     "output_type": "stream",
     "text": [
      "epoch 48 elapsed time: 1:09:29.975152\n"
     ]
    },
    {
     "data": {
      "application/vnd.jupyter.widget-view+json": {
       "model_id": "c3dc821860db49909cbce67cc2b45b07",
       "version_major": 2,
       "version_minor": 0
      },
      "text/plain": [
       "Epoch:   0%|          | 0/1 [00:00<?, ?it/s]"
      ]
     },
     "metadata": {},
     "output_type": "display_data"
    },
    {
     "data": {
      "application/vnd.jupyter.widget-view+json": {
       "model_id": "5fc4c1ecbbff49338e92d3c27a9fa095",
       "version_major": 2,
       "version_minor": 0
      },
      "text/plain": [
       "Iteration:   0%|          | 0/646 [00:00<?, ?it/s]"
      ]
     },
     "metadata": {},
     "output_type": "display_data"
    },
    {
     "name": "stdout",
     "output_type": "stream",
     "text": [
      "epoch 49 elapsed time: 1:10:58.327288\n"
     ]
    },
    {
     "data": {
      "application/vnd.jupyter.widget-view+json": {
       "model_id": "56a003f2e16143898f6d7ee9c1afa2d8",
       "version_major": 2,
       "version_minor": 0
      },
      "text/plain": [
       "Epoch:   0%|          | 0/1 [00:00<?, ?it/s]"
      ]
     },
     "metadata": {},
     "output_type": "display_data"
    },
    {
     "data": {
      "application/vnd.jupyter.widget-view+json": {
       "model_id": "82d74b693ca748fe8c6847fa26eda53f",
       "version_major": 2,
       "version_minor": 0
      },
      "text/plain": [
       "Iteration:   0%|          | 0/646 [00:00<?, ?it/s]"
      ]
     },
     "metadata": {},
     "output_type": "display_data"
    },
    {
     "name": "stdout",
     "output_type": "stream",
     "text": [
      "epoch 50 elapsed time: 1:12:24.837864\n",
      "total elapsed time:  1:12:24.838475\n"
     ]
    },
    {
     "data": {
      "image/png": "[encoded data removed]",
      "text/plain": [
       "<Figure size 432x288 with 1 Axes>"
      ]
     },
     "metadata": {
      "needs_background": "light"
     },
     "output_type": "display_data"
    }
   ],
   "source": [
    "from sentence_transformers import SentenceTransformer, InputExample, models, losses\n",
    "from sentence_transformers.evaluation import EmbeddingSimilarityEvaluator\n",
    "from torch import nn\n",
    "from torch.utils.data import DataLoader\n",
    "import matplotlib.pyplot as plt\n",
    "from datetime import datetime\n",
    "\n",
    "word_embedding_model = models.Transformer('indolem/indobert-base-uncased', max_seq_length=256)\n",
    "pooling_model = models.Pooling(word_embedding_model.get_word_embedding_dimension(), pooling_mode=\"mean\")\n",
    "\n",
    "model = SentenceTransformer(modules=[word_embedding_model, pooling_model], device='cuda')\n",
    "\n",
    "train_examples = []\n",
    "for i, row in df_train.iterrows():\n",
    "    train_examples.append(InputExample(texts=[row[\"text1_id\"], row[\"text2_id\"]], label=row[\"score\"]))\n",
    "\n",
    "train_dataloader = DataLoader(train_examples, shuffle=True, batch_size=16)\n",
    "train_loss = losses.CosineSimilarityLoss(model)\n",
    "\n",
    "test_examples = []\n",
    "for i, row in df_test.iterrows():\n",
    "    test_examples.append(InputExample(texts=[row[\"text1_id\"], row[\"text2_id\"]], label=row[\"score\"]))\n",
    "evaluator = EmbeddingSimilarityEvaluator.from_input_examples(test_examples)\n",
    "\n",
    "evaluation_scores = []\n",
    "\n",
    "start = datetime.now()\n",
    "for epoch in range(50):\n",
    "    model.fit(train_objectives=[(train_dataloader, train_loss)], epochs=1, warmup_steps=100, evaluator=evaluator)\n",
    "    evaluation_score = model.evaluate(evaluator)\n",
    "    evaluation_scores.append(evaluation_score)\n",
    "    print(f\"epoch {epoch + 1} elapsed time: {datetime.now() - start}\")\n",
    "end = datetime.now()\n",
    "print(\"total elapsed time: \", end - start)\n",
    "\n",
    "epochs = range(1, len(evaluation_scores) + 1)\n",
    "plt.plot(epochs, evaluation_scores, 'b', label='Evaluation Score')\n",
    "plt.xlabel('Epochs')\n",
    "plt.ylabel('Score')\n",
    "plt.title('Evaluation Score per Epoch')\n",
    "plt.legend()\n",
    "plt.show()\n",
    "# model.save(\"/home/jupyter-23521027/refresh-bert/data/sbert/distiluse-base-multilingual-cased-v2_dense_trained\", model_name=\"indobert-large-p1_dense_trained\")\n",
    "# plt.savefig('/home/jupyter-23521027/refresh-bert/data/sbert/indobert-large-p1_dense_trained/evaluation_score.png')\n"
   ]
  },
  {
   "cell_type": "code",
   "execution_count": 6,
   "id": "pressed-tuner",
   "metadata": {},
   "outputs": [
    {
     "name": "stdout",
     "output_type": "stream",
     "text": [
      "[0.7981072988834287, 0.8255471408031949, 0.8363247844630076, 0.843618683704512, 0.8432493257444343, 0.8444784821432701, 0.8447427097321247, 0.8446073333173779, 0.8453388538877002, 0.8468502242716576, 0.8455403747911873, 0.8475284103736619, 0.8455186438114048, 0.8457733923157945, 0.8467597383235558, 0.8457688747424309, 0.8456068902218273, 0.8453787674823022, 0.8453776127998832, 0.8455337348699492, 0.8461087145557337, 0.8460164889997748, 0.8480886721404709, 0.8468491331920784, 0.8442608401630516, 0.8454263256321628, 0.8459426707848842, 0.8445487748547736, 0.846650223068668, 0.8477571954077954, 0.8464604020941366, 0.8456906838888987, 0.8459927529671906, 0.8463142578904755, 0.8463444967192425, 0.845677918001518, 0.8452516578552015, 0.8457185616337207, 0.8445960411216824, 0.8450281902623243, 0.841909174702003, 0.8436083504882549, 0.8444793388157715, 0.8448133999503181, 0.8443831336966827, 0.8450162668471066, 0.8435693530396466, 0.8427380283982923, 0.843326435929596, 0.8424804597085535]\n"
     ]
    }
   ],
   "source": [
    "print(evaluation_scores)"
   ]
  },
  {
   "cell_type": "code",
   "execution_count": 10,
   "id": "ecological-usage",
   "metadata": {},
   "outputs": [],
   "source": [
    "result = {\"indolem-base-uncased_dense_trained\": [0.7819592898900307, 0.8140050312092975, 0.8257228143176361, 0.8335008785849065, 0.8359033767297225, 0.8393470159903176, 0.8392409623216069, 0.8409582811132297, 0.839341678293986, 0.840136996998779, 0.8413570144706057, 0.8401481353553615, 0.8421059924807303, 0.8422774939507592, 0.8422045443851396, 0.8436987584086902, 0.8448137559564487, 0.8427129159272722, 0.8426448115723246, 0.8432373615519031, 0.8452719235841619, 0.8438807058735336, 0.841618620486103, 0.8436362088259339, 0.8430981236730895, 0.8448383405171174, 0.8411947488867871, 0.8438376395742785, 0.8432342753740629, 0.8432658720753848, 0.8442072264381377, 0.8445788015296022, 0.8436384869209358, 0.8433412934378158, 0.841410681244876, 0.8417974880400155, 0.8420699032609268, 0.8434172828471387, 0.8418666467711823, 0.8425047131018241, 0.8425013953450967, 0.8400902381004034, 0.8395271144594955, 0.838794511063675, 0.8403486055914491, 0.8404638738151778, 0.838511129184538, 0.8357654997619649, 0.839447462581539, 0.8389520906019439]}"
   ]
  },
  {
   "cell_type": "code",
   "execution_count": 11,
   "id": "eastern-directory",
   "metadata": {},
   "outputs": [],
   "source": [
    "result[\"indobert-base-p2_dense_trained\"] = [0.8085053386988289, 0.8165432484565819, 0.820168769029833, 0.8187043232558585, 0.8206432512396722, 0.8228710797955354, 0.8237549141586206, 0.8247665349014611, 0.8233607103057918, 0.8224330831782423, 0.824783978991024, 0.8254360667374232, 0.8272806786957977, 0.8274774215923361, 0.8249397886773292, 0.825771710823586, 0.8247692817924468, 0.8242435224887681, 0.8236314351394075, 0.825579060834332, 0.823462229077621, 0.8226020696333698, 0.8240751711559504, 0.8218226471047447, 0.8228112143504368, 0.824144568407858, 0.8242581158288721, 0.8233667576396941, 0.8234771072417334, 0.8238805192423635, 0.8238658091670339, 0.8207646152286766, 0.8218521567566508, 0.8224135945019905, 0.8211287854287195, 0.8221862409497526, 0.8225152118051193, 0.8210551333321947, 0.8189021574437332, 0.8211208890057473, 0.8183611626048376, 0.8174813867032661, 0.8189313386242533, 0.8207432986816715, 0.8188721557272144, 0.8176946204449487, 0.8187910137558799, 0.8207675001864041, 0.8163743096710377, 0.8170279526199123]"
   ]
  },
  {
   "cell_type": "code",
   "execution_count": 12,
   "id": "immediate-plane",
   "metadata": {},
   "outputs": [],
   "source": [
    "result[\"indobert-large-p1_dense_trained\"] = [0.8315078976903023, 0.8393966247310835, 0.8426599355490602, 0.841093518183017, 0.8489375609854036, 0.8473418364429638, 0.8474955663339047, 0.8475781956595125, 0.8461833224053023, 0.8476082908525395, 0.8448224396455638, 0.8484133824826133, 0.8483119550696693, 0.8479826321354582, 0.8461700351652722, 0.8483163270649906, 0.8485146868040369, 0.8485658365762082, 0.849530478549016, 0.8462373303675376, 0.8459802565243759, 0.8472565585809894, 0.8469884054519016, 0.847407970566147, 0.8450679182011321, 0.8466236524054417, 0.8455428217242251, 0.8464900071857574, 0.8446786803772331, 0.8454792389817756, 0.8457782056399813, 0.8457952478140714, 0.8454194893234065, 0.8448974637206675, 0.8447124306204972, 0.8439320729807629, 0.8439749651578358, 0.8433213045686972, 0.8458010030420565, 0.8447832372692544, 0.8428638557655167, 0.8433539121556196, 0.8423371964541934, 0.8413719543989051, 0.8420614623972067, 0.8419715034351637, 0.8415250053474609, 0.8415343411012034, 0.8431739334476908, 0.8417405411196827]"
   ]
  },
  {
   "cell_type": "code",
   "execution_count": 13,
   "id": "dimensional-apparatus",
   "metadata": {},
   "outputs": [],
   "source": [
    "result[\"paraphrase-multilingual-MiniLM-L12-v2_dense_trained\"] = [0.8351677055953372, 0.8419823893727894, 0.8455330859914445, 0.8466716647993155, 0.8484969732189346, 0.8497994332916093, 0.8498624431154308, 0.8512916747254778, 0.8538183348317171, 0.8527777047623606, 0.8526699870872086, 0.8546297889067118, 0.8536132802500939, 0.8530204944100457, 0.8545909124340418, 0.8540173528468328, 0.8536345903156289, 0.8526267942226563, 0.8509115936149608, 0.8533739137266746, 0.8527432969855641, 0.8532831278115875, 0.853481087300999, 0.8544844854910014, 0.8549459212749875, 0.855064121010757, 0.8533240420782702, 0.8531809889251873, 0.8533461524407236, 0.8535093953525008, 0.8530498045190575, 0.8527681686734945, 0.8528245384887297, 0.8531892518421099, 0.8529520614595875, 0.8527878804515907, 0.8520021854747544, 0.8538602000702984, 0.8527044250681604, 0.8525485364575263, 0.8520063046998434, 0.8528420515608295, 0.8526113128283673, 0.8522859389285616, 0.8523260781305122, 0.8526050622684548, 0.851690721639134, 0.8523848141221813, 0.8517928567091508, 0.8525508206703989]"
   ]
  },
  {
   "cell_type": "code",
   "execution_count": 14,
   "id": "earned-appraisal",
   "metadata": {},
   "outputs": [],
   "source": [
    "result[\"distiluse-base-multilingual-cased-v2_dense_trained\"] = [0.8233086826383914, 0.8242901312474854, 0.8282361561974881, 0.8259189146284712, 0.8225563406880577, 0.8223565644183245, 0.8250957267908731, 0.8239117650705843, 0.8215460519999931, 0.8239284460590441, 0.8252960995340439, 0.8257205578806261, 0.8226104075891912, 0.8214776614134437, 0.8199540530483022, 0.8193228386779193, 0.8196729068855311, 0.8201849867299635, 0.8189623931330918, 0.8169872060532448, 0.8185114623814996, 0.817407840843057, 0.8199135786235581, 0.8196932911379461, 0.8185661678997174, 0.8182764680784022, 0.819453009360478, 0.8198333292445429, 0.8190684178843034, 0.8191256338838993, 0.8171042649417971, 0.8157288913428191, 0.8183177093924976, 0.8189638417477086, 0.8182677945957436, 0.8155810398442072, 0.8168718996493787, 0.8148154167003022, 0.818583179102918, 0.8159753359597552, 0.8148347180915461, 0.8154837618705901, 0.8162313907713247, 0.8162751519423642, 0.813910988754428, 0.8155536453356653, 0.8125570972516327, 0.8157579646788898, 0.8133811596424502, 0.8138289163983237]"
   ]
  },
  {
   "cell_type": "code",
   "execution_count": 15,
   "id": "significant-kenya",
   "metadata": {},
   "outputs": [],
   "source": [
    "result[\"distiluse-base-multilingual-cased-v2_trained\"] = [0.8319755899035812, 0.833760780916101, 0.8302418977853366, 0.8286134301471906, 0.8298302291714009, 0.8278469412968804, 0.8305817032835362, 0.8289065135130206, 0.8260339290717142, 0.8270989270760382, 0.8290208978460348, 0.8288336476605855, 0.8298168095425585, 0.8285820475035309, 0.8293378459349818, 0.8301420276984081, 0.8294191839772372, 0.8309742650755322, 0.8284191428936302, 0.8270953292412796, 0.8283030029459476, 0.8295571595832315, 0.8289273168144812, 0.8280074506980916, 0.8276797454327955, 0.8261574235573674, 0.8249356470997835, 0.8257515096500525, 0.8265046528108434, 0.8264829868522243, 0.8268061011894294, 0.8256033367377523, 0.8259863329785146, 0.8263620184381243, 0.8265265110542431, 0.8249268006263797, 0.826094260419778, 0.8240694371598619, 0.8252985104316798, 0.825495797156254, 0.8232792971416131, 0.8233868221106155, 0.8230759957202513, 0.823010011319783, 0.8240850757285978, 0.8233577015227207, 0.8230760408011467, 0.8239163482232355, 0.8221866247862458, 0.8216037587785502]"
   ]
  },
  {
   "cell_type": "code",
   "execution_count": 16,
   "id": "circular-announcement",
   "metadata": {},
   "outputs": [],
   "source": [
    "result[\"firqaaa/indo-sentence-bert-base_dense_trained\"] = [0.8161093957751311, 0.8292571089821039, 0.8320870500775271, 0.8336654820344456, 0.8317244969394556, 0.8342124604542089, 0.8320980368914828, 0.8312805591852206, 0.8333718603953445, 0.8337513378960035, 0.8344342614102319, 0.8364380686546761, 0.8337397218328276, 0.8331570984987581, 0.8312903332760111, 0.8326816417047482, 0.8327049220888733, 0.8314936944554938, 0.8310577962710689, 0.8298779328775242, 0.8339329782624553, 0.8313174960619727, 0.8321433921290127, 0.8320907635356246, 0.8316786041452444, 0.8324094401054974, 0.8314762588092034, 0.8315455362002621, 0.8316243466384792, 0.8317993184379185, 0.8289735259375505, 0.8298649424290159, 0.8287025325161779, 0.8275905585956455, 0.8285603306795304, 0.8268744804557132, 0.8292390178460862, 0.8276643147255979, 0.8293108938561676, 0.829054826057584, 0.8272099686781279, 0.8283940962712462, 0.8288497415816061, 0.8267303140215495, 0.82890660252475, 0.8261347915015458, 0.8276945598783847, 0.8282540027071071, 0.828002893158996, 0.827828931287466]"
   ]
  },
  {
   "cell_type": "code",
   "execution_count": 17,
   "id": "democratic-olive",
   "metadata": {},
   "outputs": [],
   "source": [
    "result[\"indobert-large-p1_trained\"] = [0.8326118025716189, 0.844626713106705, 0.8476960565054685, 0.8492877561367621, 0.8505970444162252, 0.8522222054616454, 0.8534405559030235, 0.8557368723904388, 0.8533725289541382, 0.8540552371816101, 0.8524599112527282, 0.853957888574467, 0.8530325187017401, 0.8547173840970171, 0.8527532776424713, 0.8538215559690588, 0.8523226991905992, 0.8537188252839948, 0.8528075397257324, 0.8534237567174984, 0.854012629851705, 0.8535388630283729, 0.852553083289925, 0.8550184677164856, 0.8541905349090705, 0.8543447752345432, 0.8539476672865416, 0.853705943855692, 0.8541427023116215, 0.854963827507518, 0.8546148445039103, 0.8542201461141499, 0.8550924653314792, 0.8534033137331783, 0.8535800911203303, 0.8527843211813081, 0.8528551597105465, 0.8520306739660835, 0.850793949368252, 0.8514858902051987, 0.8518093463403308, 0.8509514750509773, 0.8510836314388389, 0.85139623670993, 0.849856497584347, 0.8504961979574618, 0.8518333985683801, 0.8511226955141832, 0.850089486564742, 0.8507619523028389]"
   ]
  },
  {
   "cell_type": "code",
   "execution_count": 18,
   "id": "mighty-still",
   "metadata": {},
   "outputs": [],
   "source": [
    "result[\"indobert-base-p2_trained\"] = [0.8151966860687141, 0.8227067260147432, 0.8257512039800006, 0.8270809750303757, 0.8285830176369707, 0.8265570153275515, 0.8289952907572692, 0.8269674472422528, 0.8294623209159977, 0.8267294899843445, 0.8294251675561873, 0.8307804330410523, 0.8299165601324667, 0.830802682388875, 0.8288798280189121, 0.8285336002208947, 0.8276719556671243, 0.825958268110282, 0.8284218341610986, 0.828011300480548, 0.8287800277246239, 0.8273604826925495, 0.8278284441667253, 0.8273229862913821, 0.8273898365254393, 0.8260253511532042, 0.826067131110983, 0.8252112818558633, 0.8278751164882605, 0.8252566238882509, 0.8244204992073445, 0.8271250892103447, 0.825025021991309, 0.8245274097958665, 0.8250612431860697, 0.8250619790465684, 0.8257399827711425, 0.8263280573837634, 0.8251486635861761, 0.8229801055573857, 0.8251556223924976, 0.8250322662075791, 0.8225880356062742, 0.8254215512128334, 0.8234009785767302, 0.8250465574139185, 0.823588142744397, 0.8254152411676725, 0.826159141535359, 0.8235819227135893]"
   ]
  },
  {
   "cell_type": "code",
   "execution_count": 19,
   "id": "exempt-indian",
   "metadata": {},
   "outputs": [],
   "source": [
    "result[\"paraphrase-multilingual-MiniLM-L12-v2_trained\"] = [0.8369803404192577, 0.8436062538088601, 0.8482613662507879, 0.8489055846100052, 0.8512514321813591, 0.8511883125925612, 0.8515387076097918, 0.8522857926831978, 0.8537841072747485, 0.8551683767051893, 0.8543126523473841, 0.8536515659091571, 0.8541985435221906, 0.8550205631911424, 0.8564888852455274, 0.8556692776632787, 0.8560593288196124, 0.8554535311270411, 0.8562979636125337, 0.8550229224047284, 0.855822493179088, 0.8549136833826722, 0.8553198871515444, 0.8556586596853601, 0.8551902633381577, 0.8549008374535916, 0.8546385624138655, 0.8557153601157966, 0.855504329400626, 0.8543922945687731, 0.8554104949038334, 0.8551455774692205, 0.855146838252583, 0.8528358445504992, 0.8544477693175836, 0.8544781855801807, 0.8542172447708035, 0.8558951925284277, 0.8543626861923912, 0.8546462555127368, 0.8545631127194779, 0.8540324226901733, 0.8539551035367038, 0.8546908443140889, 0.8540618060535081, 0.8545926789631999, 0.8546892127478827, 0.855990335281848, 0.8547027922248156, 0.8555796991808895]"
   ]
  },
  {
   "cell_type": "code",
   "execution_count": 20,
   "id": "comparative-prisoner",
   "metadata": {},
   "outputs": [],
   "source": [
    "result[\"firqaaa/indo-sentence-bert-base_trained\"] = [0.8220596751400692, 0.8334519289537152, 0.8341660212941445, 0.8350610115020706, 0.8370859503905557, 0.8396579367112894, 0.8409351074960877, 0.8386254031445288, 0.8395778551523511, 0.8405861958131565, 0.8403807752833153, 0.8404400550449539, 0.8393092435857618, 0.8399724789311918, 0.8388762858590133, 0.8389985411288852, 0.8399420529431038, 0.8388002898346961, 0.8392267495309635, 0.8396265861379623, 0.8394113780830588, 0.8376288050175774, 0.8378491786919376, 0.8361105632898913, 0.8391141798793067, 0.8380718156288892, 0.8383266942719519, 0.8374624216375178, 0.8361115022412839, 0.8372023208428807, 0.8367225576186132, 0.8364273530080719, 0.8379435518072093, 0.8375675291863517, 0.8370292184837029, 0.8360297876496093, 0.8358595328022974, 0.8368669621668032, 0.8368783075690366, 0.8356020809522211, 0.8352386759410639, 0.8357565076687014, 0.8368732786506075, 0.8351726264949894, 0.8334388588713001, 0.8360027228995397, 0.835592538211451, 0.8351025109780181, 0.8334745984269794, 0.8335022055491013]"
   ]
  },
  {
   "cell_type": "code",
   "execution_count": 21,
   "id": "complex-winning",
   "metadata": {},
   "outputs": [],
   "source": [
    "result[\"indolem-base-uncased_trained\"] = [0.7981072988834287, 0.8255471408031949, 0.8363247844630076, 0.843618683704512, 0.8432493257444343, 0.8444784821432701, 0.8447427097321247, 0.8446073333173779, 0.8453388538877002, 0.8468502242716576, 0.8455403747911873, 0.8475284103736619, 0.8455186438114048, 0.8457733923157945, 0.8467597383235558, 0.8457688747424309, 0.8456068902218273, 0.8453787674823022, 0.8453776127998832, 0.8455337348699492, 0.8461087145557337, 0.8460164889997748, 0.8480886721404709, 0.8468491331920784, 0.8442608401630516, 0.8454263256321628, 0.8459426707848842, 0.8445487748547736, 0.846650223068668, 0.8477571954077954, 0.8464604020941366, 0.8456906838888987, 0.8459927529671906, 0.8463142578904755, 0.8463444967192425, 0.845677918001518, 0.8452516578552015, 0.8457185616337207, 0.8445960411216824, 0.8450281902623243, 0.841909174702003, 0.8436083504882549, 0.8444793388157715, 0.8448133999503181, 0.8443831336966827, 0.8450162668471066, 0.8435693530396466, 0.8427380283982923, 0.843326435929596, 0.8424804597085535]"
   ]
  },
  {
   "cell_type": "code",
   "execution_count": 22,
   "id": "judicial-bidder",
   "metadata": {},
   "outputs": [
    {
     "name": "stdout",
     "output_type": "stream",
     "text": [
      "Max value for indolem-base-uncased_dense_trained: 0.8452719235841619\n",
      "Max value for indobert-base-p2_dense_trained: 0.8274774215923361\n",
      "Max value for indobert-large-p1_dense_trained: 0.849530478549016\n",
      "Max value for paraphrase-multilingual-MiniLM-L12-v2_dense_trained: 0.855064121010757\n",
      "Max value for distiluse-base-multilingual-cased-v2_dense_trained: 0.8282361561974881\n",
      "Max value for distiluse-base-multilingual-cased-v2_trained: 0.833760780916101\n",
      "Max value for firqaaa/indo-sentence-bert-base_dense_trained: 0.8364380686546761\n",
      "Max value for indobert-large-p1_trained: 0.8557368723904388\n",
      "Max value for indobert-base-p2_trained: 0.830802682388875\n",
      "Max value for paraphrase-multilingual-MiniLM-L12-v2_trained: 0.8564888852455274\n",
      "Max value for firqaaa/indo-sentence-bert-base_trained: 0.8409351074960877\n",
      "Max value for indolem-base-uncased_trained: 0.8480886721404709\n"
     ]
    }
   ],
   "source": [
    "max_values = {key: max(values) for key, values in result.items()}\n",
    "\n",
    "# Print the results\n",
    "for key, value in max_values.items():\n",
    "    print(f\"Max value for {key}: {value}\")"
   ]
  },
  {
   "cell_type": "code",
   "execution_count": 19,
   "id": "desirable-beach",
   "metadata": {},
   "outputs": [
    {
     "data": {
      "image/png": "[encoded data removed]",
      "text/plain": [
       "<Figure size 720x720 with 1 Axes>"
      ]
     },
     "metadata": {
      "needs_background": "light"
     },
     "output_type": "display_data"
    }
   ],
   "source": [
    "import matplotlib.pyplot as plt\n",
    "\n",
    "# Create a figure and axis object\n",
    "fig, ax = plt.subplots()\n",
    "\n",
    "# Set the figure size (width, height) in inches\n",
    "fig.set_size_inches(10, 10)  # Adjust the width and height as needed\n",
    "\n",
    "# Plot each time series using a loop\n",
    "for key, values in result.items():\n",
    "    ax.plot(values, label=key)\n",
    "\n",
    "# Add labels and title\n",
    "ax.set_xlabel('Epoch')\n",
    "ax.set_ylabel('Spearman-Pearson Rank Correlation Score')\n",
    "ax.set_title('Indonesian Sentence BERT evaluation')\n",
    "\n",
    "# Add a legend to identify the keys\n",
    "ax.legend()\n",
    "\n",
    "# Show the plot\n",
    "plt.show()"
   ]
  },
  {
   "cell_type": "code",
   "execution_count": 7,
   "id": "organic-whole",
   "metadata": {},
   "outputs": [
    {
     "data": {
      "application/vnd.jupyter.widget-view+json": {
       "model_id": "910599627b0b49fcbea03e67a19edebb",
       "version_major": 2,
       "version_minor": 0
      },
      "text/plain": [
       "Epoch:   0%|          | 0/1 [00:00<?, ?it/s]"
      ]
     },
     "metadata": {},
     "output_type": "display_data"
    },
    {
     "data": {
      "application/vnd.jupyter.widget-view+json": {
       "model_id": "c60a257aed17464eb0cff75a42eceb1b",
       "version_major": 2,
       "version_minor": 0
      },
      "text/plain": [
       "Iteration:   0%|          | 0/646 [00:00<?, ?it/s]"
      ]
     },
     "metadata": {},
     "output_type": "display_data"
    },
    {
     "name": "stdout",
     "output_type": "stream",
     "text": [
      "epoch 1 elapsed time: 0:03:07.126586\n"
     ]
    },
    {
     "data": {
      "application/vnd.jupyter.widget-view+json": {
       "model_id": "e35ac0fe582f41f4877f832f55d24605",
       "version_major": 2,
       "version_minor": 0
      },
      "text/plain": [
       "Epoch:   0%|          | 0/1 [00:00<?, ?it/s]"
      ]
     },
     "metadata": {},
     "output_type": "display_data"
    },
    {
     "data": {
      "application/vnd.jupyter.widget-view+json": {
       "model_id": "80766499e105430c87a26a8a30b74470",
       "version_major": 2,
       "version_minor": 0
      },
      "text/plain": [
       "Iteration:   0%|          | 0/646 [00:00<?, ?it/s]"
      ]
     },
     "metadata": {},
     "output_type": "display_data"
    },
    {
     "name": "stdout",
     "output_type": "stream",
     "text": [
      "epoch 2 elapsed time: 0:06:13.360677\n"
     ]
    },
    {
     "data": {
      "application/vnd.jupyter.widget-view+json": {
       "model_id": "800637473a634d1dac562cc23736595f",
       "version_major": 2,
       "version_minor": 0
      },
      "text/plain": [
       "Epoch:   0%|          | 0/1 [00:00<?, ?it/s]"
      ]
     },
     "metadata": {},
     "output_type": "display_data"
    },
    {
     "data": {
      "application/vnd.jupyter.widget-view+json": {
       "model_id": "b52a8f1831b7486ab942198ca7973343",
       "version_major": 2,
       "version_minor": 0
      },
      "text/plain": [
       "Iteration:   0%|          | 0/646 [00:00<?, ?it/s]"
      ]
     },
     "metadata": {},
     "output_type": "display_data"
    },
    {
     "name": "stdout",
     "output_type": "stream",
     "text": [
      "epoch 3 elapsed time: 0:09:19.139051\n"
     ]
    },
    {
     "data": {
      "application/vnd.jupyter.widget-view+json": {
       "model_id": "12c5c8b572bb47909f7beb97e403ba29",
       "version_major": 2,
       "version_minor": 0
      },
      "text/plain": [
       "Epoch:   0%|          | 0/1 [00:00<?, ?it/s]"
      ]
     },
     "metadata": {},
     "output_type": "display_data"
    },
    {
     "data": {
      "application/vnd.jupyter.widget-view+json": {
       "model_id": "3ecd598d4ddf4524878b7708ab8ea579",
       "version_major": 2,
       "version_minor": 0
      },
      "text/plain": [
       "Iteration:   0%|          | 0/646 [00:00<?, ?it/s]"
      ]
     },
     "metadata": {},
     "output_type": "display_data"
    },
    {
     "name": "stdout",
     "output_type": "stream",
     "text": [
      "epoch 4 elapsed time: 0:12:29.539763\n"
     ]
    },
    {
     "data": {
      "application/vnd.jupyter.widget-view+json": {
       "model_id": "2c123a53b6c14817a0899f963433c610",
       "version_major": 2,
       "version_minor": 0
      },
      "text/plain": [
       "Epoch:   0%|          | 0/1 [00:00<?, ?it/s]"
      ]
     },
     "metadata": {},
     "output_type": "display_data"
    },
    {
     "data": {
      "application/vnd.jupyter.widget-view+json": {
       "model_id": "fe23953457a142a88413c8bcc9be0cbd",
       "version_major": 2,
       "version_minor": 0
      },
      "text/plain": [
       "Iteration:   0%|          | 0/646 [00:00<?, ?it/s]"
      ]
     },
     "metadata": {},
     "output_type": "display_data"
    },
    {
     "name": "stdout",
     "output_type": "stream",
     "text": [
      "epoch 5 elapsed time: 0:15:41.346051\n"
     ]
    },
    {
     "data": {
      "application/vnd.jupyter.widget-view+json": {
       "model_id": "125b3eb83ea948ada0723ddd906557a2",
       "version_major": 2,
       "version_minor": 0
      },
      "text/plain": [
       "Epoch:   0%|          | 0/1 [00:00<?, ?it/s]"
      ]
     },
     "metadata": {},
     "output_type": "display_data"
    },
    {
     "data": {
      "application/vnd.jupyter.widget-view+json": {
       "model_id": "a9156f4a3b994942b06efb8092daa269",
       "version_major": 2,
       "version_minor": 0
      },
      "text/plain": [
       "Iteration:   0%|          | 0/646 [00:00<?, ?it/s]"
      ]
     },
     "metadata": {},
     "output_type": "display_data"
    },
    {
     "name": "stdout",
     "output_type": "stream",
     "text": [
      "epoch 6 elapsed time: 0:18:47.517099\n"
     ]
    },
    {
     "data": {
      "application/vnd.jupyter.widget-view+json": {
       "model_id": "8ec1fb561fbd40ebb1aa4b79083e17fb",
       "version_major": 2,
       "version_minor": 0
      },
      "text/plain": [
       "Epoch:   0%|          | 0/1 [00:00<?, ?it/s]"
      ]
     },
     "metadata": {},
     "output_type": "display_data"
    },
    {
     "data": {
      "application/vnd.jupyter.widget-view+json": {
       "model_id": "45a10a1a855247038db15aab1694f645",
       "version_major": 2,
       "version_minor": 0
      },
      "text/plain": [
       "Iteration:   0%|          | 0/646 [00:00<?, ?it/s]"
      ]
     },
     "metadata": {},
     "output_type": "display_data"
    },
    {
     "name": "stdout",
     "output_type": "stream",
     "text": [
      "epoch 7 elapsed time: 0:21:53.058910\n"
     ]
    },
    {
     "data": {
      "application/vnd.jupyter.widget-view+json": {
       "model_id": "9802a019746b42b4adc2681f0a322638",
       "version_major": 2,
       "version_minor": 0
      },
      "text/plain": [
       "Epoch:   0%|          | 0/1 [00:00<?, ?it/s]"
      ]
     },
     "metadata": {},
     "output_type": "display_data"
    },
    {
     "data": {
      "application/vnd.jupyter.widget-view+json": {
       "model_id": "15f2bd84a0874aa29a52d6589d1d97e3",
       "version_major": 2,
       "version_minor": 0
      },
      "text/plain": [
       "Iteration:   0%|          | 0/646 [00:00<?, ?it/s]"
      ]
     },
     "metadata": {},
     "output_type": "display_data"
    },
    {
     "name": "stdout",
     "output_type": "stream",
     "text": [
      "epoch 8 elapsed time: 0:24:56.397323\n"
     ]
    },
    {
     "data": {
      "application/vnd.jupyter.widget-view+json": {
       "model_id": "0572d2ba075f46dc84b9e4927aeb5ed5",
       "version_major": 2,
       "version_minor": 0
      },
      "text/plain": [
       "Epoch:   0%|          | 0/1 [00:00<?, ?it/s]"
      ]
     },
     "metadata": {},
     "output_type": "display_data"
    },
    {
     "data": {
      "application/vnd.jupyter.widget-view+json": {
       "model_id": "2a38d3dd87dc47908f526ff4f2f7d48c",
       "version_major": 2,
       "version_minor": 0
      },
      "text/plain": [
       "Iteration:   0%|          | 0/646 [00:00<?, ?it/s]"
      ]
     },
     "metadata": {},
     "output_type": "display_data"
    },
    {
     "name": "stdout",
     "output_type": "stream",
     "text": [
      "epoch 9 elapsed time: 0:28:05.193551\n"
     ]
    },
    {
     "data": {
      "application/vnd.jupyter.widget-view+json": {
       "model_id": "eb57b610286b456e8ddac1608ac49d3b",
       "version_major": 2,
       "version_minor": 0
      },
      "text/plain": [
       "Epoch:   0%|          | 0/1 [00:00<?, ?it/s]"
      ]
     },
     "metadata": {},
     "output_type": "display_data"
    },
    {
     "data": {
      "application/vnd.jupyter.widget-view+json": {
       "model_id": "e1e8cb597ad14785957a9112c98d1976",
       "version_major": 2,
       "version_minor": 0
      },
      "text/plain": [
       "Iteration:   0%|          | 0/646 [00:00<?, ?it/s]"
      ]
     },
     "metadata": {},
     "output_type": "display_data"
    },
    {
     "name": "stdout",
     "output_type": "stream",
     "text": [
      "epoch 10 elapsed time: 0:31:11.099910\n",
      "total elapsed time:  0:31:11.100643\n"
     ]
    },
    {
     "data": {
      "image/png": "[encoded data removed]",
      "text/plain": [
       "<Figure size 432x288 with 1 Axes>"
      ]
     },
     "metadata": {
      "needs_background": "light"
     },
     "output_type": "display_data"
    }
   ],
   "source": [
    "from sentence_transformers import SentenceTransformer, InputExample, models, losses\n",
    "from sentence_transformers.evaluation import EmbeddingSimilarityEvaluator\n",
    "from torch import nn\n",
    "from torch.utils.data import DataLoader\n",
    "import matplotlib.pyplot as plt\n",
    "from datetime import datetime\n",
    "\n",
    "word_embedding_model = models.Transformer('indobenchmark/indobert-large-p1', max_seq_length=256)\n",
    "pooling_model = models.Pooling(word_embedding_model.get_word_embedding_dimension(), pooling_mode=\"mean\")\n",
    "\n",
    "model = SentenceTransformer(modules=[word_embedding_model, pooling_model], device='cuda:1')\n",
    "\n",
    "train_examples = []\n",
    "for i, row in df_train.iterrows():\n",
    "    train_examples.append(InputExample(texts=[row[\"text1_id\"], row[\"text2_id\"]], label=row[\"score\"]))\n",
    "\n",
    "train_dataloader = DataLoader(train_examples, shuffle=True, batch_size=16)\n",
    "train_loss = losses.CosineSimilarityLoss(model)\n",
    "\n",
    "test_examples = []\n",
    "for i, row in df_test.iterrows():\n",
    "    test_examples.append(InputExample(texts=[row[\"text1_id\"], row[\"text2_id\"]], label=row[\"score\"]))\n",
    "evaluator = EmbeddingSimilarityEvaluator.from_input_examples(test_examples)\n",
    "\n",
    "evaluation_scores = []\n",
    "\n",
    "start = datetime.now()\n",
    "for epoch in range(10):\n",
    "    model.fit(train_objectives=[(train_dataloader, train_loss)], epochs=1, warmup_steps=100, evaluator=evaluator)\n",
    "    evaluation_score = model.evaluate(evaluator)\n",
    "    evaluation_scores.append(evaluation_score)\n",
    "    print(f\"epoch {epoch + 1} elapsed time: {datetime.now() - start}\")\n",
    "end = datetime.now()\n",
    "print(\"total elapsed time: \", end - start)\n",
    "\n",
    "epochs = range(1, len(evaluation_scores) + 1)\n",
    "plt.plot(epochs, evaluation_scores, 'b', label='Evaluation Score')\n",
    "plt.xlabel('Epochs')\n",
    "plt.ylabel('Score')\n",
    "plt.title('Evaluation Score per Epoch')\n",
    "plt.legend()\n",
    "plt.show()\n"
   ]
  },
  {
   "cell_type": "code",
   "execution_count": null,
   "id": "respected-august",
   "metadata": {},
   "outputs": [],
   "source": [
    "base_p1_score = evaluation_scores\n",
    "print(base_p1_score)"
   ]
  },
  {
   "cell_type": "code",
   "execution_count": 8,
   "id": "dominant-agency",
   "metadata": {},
   "outputs": [
    {
     "data": {
      "application/vnd.jupyter.widget-view+json": {
       "model_id": "7245fce4950342a1a77ed1f92340ea6e",
       "version_major": 2,
       "version_minor": 0
      },
      "text/plain": [
       "Epoch:   0%|          | 0/1 [00:00<?, ?it/s]"
      ]
     },
     "metadata": {},
     "output_type": "display_data"
    },
    {
     "data": {
      "application/vnd.jupyter.widget-view+json": {
       "model_id": "07a3feb150a94832a0c6a944766f64e4",
       "version_major": 2,
       "version_minor": 0
      },
      "text/plain": [
       "Iteration:   0%|          | 0/1291 [00:00<?, ?it/s]"
      ]
     },
     "metadata": {},
     "output_type": "display_data"
    },
    {
     "name": "stdout",
     "output_type": "stream",
     "text": [
      "epoch 1 elapsed time: 0:06:01.743671\n"
     ]
    },
    {
     "data": {
      "application/vnd.jupyter.widget-view+json": {
       "model_id": "9a842ae085964de69d609d1ee06ddea0",
       "version_major": 2,
       "version_minor": 0
      },
      "text/plain": [
       "Epoch:   0%|          | 0/1 [00:00<?, ?it/s]"
      ]
     },
     "metadata": {},
     "output_type": "display_data"
    },
    {
     "data": {
      "application/vnd.jupyter.widget-view+json": {
       "model_id": "b8fcbe7546ed477d851ab102bc7e1d79",
       "version_major": 2,
       "version_minor": 0
      },
      "text/plain": [
       "Iteration:   0%|          | 0/1291 [00:00<?, ?it/s]"
      ]
     },
     "metadata": {},
     "output_type": "display_data"
    },
    {
     "name": "stdout",
     "output_type": "stream",
     "text": [
      "epoch 2 elapsed time: 0:11:52.961851\n"
     ]
    },
    {
     "data": {
      "application/vnd.jupyter.widget-view+json": {
       "model_id": "5312dd43d9964e95a66f909c479d1b6b",
       "version_major": 2,
       "version_minor": 0
      },
      "text/plain": [
       "Epoch:   0%|          | 0/1 [00:00<?, ?it/s]"
      ]
     },
     "metadata": {},
     "output_type": "display_data"
    },
    {
     "data": {
      "application/vnd.jupyter.widget-view+json": {
       "model_id": "ea93e7cde0ec4fbb948b7c8bd5ef8bff",
       "version_major": 2,
       "version_minor": 0
      },
      "text/plain": [
       "Iteration:   0%|          | 0/1291 [00:00<?, ?it/s]"
      ]
     },
     "metadata": {},
     "output_type": "display_data"
    },
    {
     "name": "stdout",
     "output_type": "stream",
     "text": [
      "epoch 3 elapsed time: 0:17:36.443287\n"
     ]
    },
    {
     "data": {
      "application/vnd.jupyter.widget-view+json": {
       "model_id": "420fa342e09e4d80a0d3eb9dd49061c3",
       "version_major": 2,
       "version_minor": 0
      },
      "text/plain": [
       "Epoch:   0%|          | 0/1 [00:00<?, ?it/s]"
      ]
     },
     "metadata": {},
     "output_type": "display_data"
    },
    {
     "data": {
      "application/vnd.jupyter.widget-view+json": {
       "model_id": "1cb15e4836f64262bbe3cfc2ed3c2295",
       "version_major": 2,
       "version_minor": 0
      },
      "text/plain": [
       "Iteration:   0%|          | 0/1291 [00:00<?, ?it/s]"
      ]
     },
     "metadata": {},
     "output_type": "display_data"
    },
    {
     "name": "stdout",
     "output_type": "stream",
     "text": [
      "epoch 4 elapsed time: 0:23:24.614336\n"
     ]
    },
    {
     "data": {
      "application/vnd.jupyter.widget-view+json": {
       "model_id": "5ca0782cd5be4ddf931668f845e3af1f",
       "version_major": 2,
       "version_minor": 0
      },
      "text/plain": [
       "Epoch:   0%|          | 0/1 [00:00<?, ?it/s]"
      ]
     },
     "metadata": {},
     "output_type": "display_data"
    },
    {
     "data": {
      "application/vnd.jupyter.widget-view+json": {
       "model_id": "633b5f521480421693754e45d47e6ef0",
       "version_major": 2,
       "version_minor": 0
      },
      "text/plain": [
       "Iteration:   0%|          | 0/1291 [00:00<?, ?it/s]"
      ]
     },
     "metadata": {},
     "output_type": "display_data"
    },
    {
     "name": "stdout",
     "output_type": "stream",
     "text": [
      "epoch 5 elapsed time: 0:29:09.871650\n"
     ]
    },
    {
     "data": {
      "application/vnd.jupyter.widget-view+json": {
       "model_id": "c7d3a286aa4d4bcd8f9141ad709646ca",
       "version_major": 2,
       "version_minor": 0
      },
      "text/plain": [
       "Epoch:   0%|          | 0/1 [00:00<?, ?it/s]"
      ]
     },
     "metadata": {},
     "output_type": "display_data"
    },
    {
     "data": {
      "application/vnd.jupyter.widget-view+json": {
       "model_id": "224bdc597394488c91d5ec71bbe294af",
       "version_major": 2,
       "version_minor": 0
      },
      "text/plain": [
       "Iteration:   0%|          | 0/1291 [00:00<?, ?it/s]"
      ]
     },
     "metadata": {},
     "output_type": "display_data"
    },
    {
     "name": "stdout",
     "output_type": "stream",
     "text": [
      "epoch 6 elapsed time: 0:34:52.025521\n"
     ]
    },
    {
     "data": {
      "application/vnd.jupyter.widget-view+json": {
       "model_id": "1d86f04f0a774756867246a27be9ded0",
       "version_major": 2,
       "version_minor": 0
      },
      "text/plain": [
       "Epoch:   0%|          | 0/1 [00:00<?, ?it/s]"
      ]
     },
     "metadata": {},
     "output_type": "display_data"
    },
    {
     "data": {
      "application/vnd.jupyter.widget-view+json": {
       "model_id": "5deb0332cf9f4bd9ba1c7bb035081322",
       "version_major": 2,
       "version_minor": 0
      },
      "text/plain": [
       "Iteration:   0%|          | 0/1291 [00:00<?, ?it/s]"
      ]
     },
     "metadata": {},
     "output_type": "display_data"
    },
    {
     "name": "stdout",
     "output_type": "stream",
     "text": [
      "epoch 7 elapsed time: 0:40:32.055903\n"
     ]
    },
    {
     "data": {
      "application/vnd.jupyter.widget-view+json": {
       "model_id": "097efef8e2bb4e83a973b26066ee5a58",
       "version_major": 2,
       "version_minor": 0
      },
      "text/plain": [
       "Epoch:   0%|          | 0/1 [00:00<?, ?it/s]"
      ]
     },
     "metadata": {},
     "output_type": "display_data"
    },
    {
     "data": {
      "application/vnd.jupyter.widget-view+json": {
       "model_id": "b6cad871e0a049ee90702798b8841176",
       "version_major": 2,
       "version_minor": 0
      },
      "text/plain": [
       "Iteration:   0%|          | 0/1291 [00:00<?, ?it/s]"
      ]
     },
     "metadata": {},
     "output_type": "display_data"
    },
    {
     "name": "stdout",
     "output_type": "stream",
     "text": [
      "epoch 8 elapsed time: 0:46:15.038271\n"
     ]
    },
    {
     "data": {
      "application/vnd.jupyter.widget-view+json": {
       "model_id": "816d33931fb94b4d91a628fd9b017dfb",
       "version_major": 2,
       "version_minor": 0
      },
      "text/plain": [
       "Epoch:   0%|          | 0/1 [00:00<?, ?it/s]"
      ]
     },
     "metadata": {},
     "output_type": "display_data"
    },
    {
     "data": {
      "application/vnd.jupyter.widget-view+json": {
       "model_id": "65910ade6ffb4ce997551fe243b01283",
       "version_major": 2,
       "version_minor": 0
      },
      "text/plain": [
       "Iteration:   0%|          | 0/1291 [00:00<?, ?it/s]"
      ]
     },
     "metadata": {},
     "output_type": "display_data"
    },
    {
     "name": "stdout",
     "output_type": "stream",
     "text": [
      "epoch 9 elapsed time: 0:51:52.864068\n"
     ]
    },
    {
     "data": {
      "application/vnd.jupyter.widget-view+json": {
       "model_id": "34f0552131a446cdb1b02fb4c939e045",
       "version_major": 2,
       "version_minor": 0
      },
      "text/plain": [
       "Epoch:   0%|          | 0/1 [00:00<?, ?it/s]"
      ]
     },
     "metadata": {},
     "output_type": "display_data"
    },
    {
     "data": {
      "application/vnd.jupyter.widget-view+json": {
       "model_id": "e5163464ad3d48b89b5b8a1c474bf8b3",
       "version_major": 2,
       "version_minor": 0
      },
      "text/plain": [
       "Iteration:   0%|          | 0/1291 [00:00<?, ?it/s]"
      ]
     },
     "metadata": {},
     "output_type": "display_data"
    },
    {
     "name": "stdout",
     "output_type": "stream",
     "text": [
      "epoch 10 elapsed time: 0:57:40.223884\n",
      "total elapsed time:  0:57:42.457384\n"
     ]
    },
    {
     "data": {
      "image/png": "[encoded data removed]",
      "text/plain": [
       "<Figure size 432x288 with 1 Axes>"
      ]
     },
     "metadata": {
      "needs_background": "light"
     },
     "output_type": "display_data"
    }
   ],
   "source": [
    "from sentence_transformers import SentenceTransformer, InputExample, models, losses\n",
    "from sentence_transformers.evaluation import EmbeddingSimilarityEvaluator\n",
    "from torch import nn\n",
    "from torch.utils.data import DataLoader\n",
    "import matplotlib.pyplot as plt\n",
    "from datetime import datetime\n",
    "\n",
    "word_embedding_model = models.Transformer('indobenchmark/indobert-large-p1', max_seq_length=256)\n",
    "pooling_model = models.Pooling(word_embedding_model.get_word_embedding_dimension(), pooling_mode=\"mean\")\n",
    "\n",
    "model = SentenceTransformer(modules=[word_embedding_model, pooling_model], device='cuda:1')\n",
    "\n",
    "train_examples = []\n",
    "for i, row in df_train.iterrows():\n",
    "    train_examples.append(InputExample(texts=[row[\"text1_id\"], row[\"text2_id\"]], label=row[\"score\"]))\n",
    "\n",
    "train_dataloader = DataLoader(train_examples, shuffle=True, batch_size=8)\n",
    "train_loss = losses.CosineSimilarityLoss(model)\n",
    "\n",
    "test_examples = []\n",
    "for i, row in df_test.iterrows():\n",
    "    test_examples.append(InputExample(texts=[row[\"text1_id\"], row[\"text2_id\"]], label=row[\"score\"]))\n",
    "evaluator = EmbeddingSimilarityEvaluator.from_input_examples(test_examples)\n",
    "\n",
    "evaluation_scores = []\n",
    "\n",
    "start = datetime.now()\n",
    "for epoch in range(10):\n",
    "    model.fit(train_objectives=[(train_dataloader, train_loss)], epochs=1, warmup_steps=100, evaluator=evaluator)\n",
    "    evaluation_score = model.evaluate(evaluator)\n",
    "    evaluation_scores.append(evaluation_score)\n",
    "    print(f\"epoch {epoch + 1} elapsed time: {datetime.now() - start}\")\n",
    "    \n",
    "    model.save(f\"/home/jupyter-23521027/refresh-bert/data/sbert/sentence-transformers/indobenchmark/indobert-large-p1-trained-epoch{epoch+1}\", model_name=f\"indobenchmark/indobert-large-p1-trained-epoch{epoch+1}\")\n",
    "\n",
    "end = datetime.now()\n",
    "print(\"total elapsed time: \", end - start)\n",
    "\n",
    "epochs = range(1, len(evaluation_scores) + 1)\n",
    "plt.plot(epochs, evaluation_scores, 'b', label='Evaluation Score')\n",
    "plt.xlabel('Epochs')\n",
    "plt.ylabel('Score')\n",
    "plt.title('Evaluation Score per Epoch')\n",
    "plt.legend()\n",
    "plt.grid(True)\n",
    "plt.show()"
   ]
  },
  {
   "cell_type": "code",
   "execution_count": 9,
   "id": "impressed-season",
   "metadata": {},
   "outputs": [
    {
     "data": {
      "image/png": "[encoded data removed]",
      "text/plain": [
       "<Figure size 432x288 with 1 Axes>"
      ]
     },
     "metadata": {
      "needs_background": "light"
     },
     "output_type": "display_data"
    }
   ],
   "source": [
    "plt.plot(epochs, evaluation_scores, 'b', label='Evaluation Score', marker='o', linestyle='-')\n",
    "plt.xlabel('Epochs')\n",
    "plt.ylabel('Score')\n",
    "plt.title('Evaluation Score per Epoch')\n",
    "plt.legend()\n",
    "plt.grid(True)\n",
    "plt.show()"
   ]
  },
  {
   "cell_type": "code",
   "execution_count": 23,
   "id": "acoustic-script",
   "metadata": {},
   "outputs": [
    {
     "data": {
      "text/html": [
       "<div>\n",
       "<style scoped>\n",
       "    .dataframe tbody tr th:only-of-type {\n",
       "        vertical-align: middle;\n",
       "    }\n",
       "\n",
       "    .dataframe tbody tr th {\n",
       "        vertical-align: top;\n",
       "    }\n",
       "\n",
       "    .dataframe thead th {\n",
       "        text-align: right;\n",
       "    }\n",
       "</style>\n",
       "<table border=\"1\" class=\"dataframe\">\n",
       "  <thead>\n",
       "    <tr style=\"text-align: right;\">\n",
       "      <th></th>\n",
       "      <th>text1_id</th>\n",
       "      <th>text2_id</th>\n",
       "      <th>score</th>\n",
       "    </tr>\n",
       "  </thead>\n",
       "  <tbody>\n",
       "    <tr>\n",
       "      <th>0</th>\n",
       "      <td>Sebuah sepeda motor diparkir di dekat dinding ...</td>\n",
       "      <td>Sebuah sepeda motor diparkir oleh mural sebuah...</td>\n",
       "      <td>3.40</td>\n",
       "    </tr>\n",
       "    <tr>\n",
       "      <th>1</th>\n",
       "      <td>dia menikahimu, memilih untuk memiliki anak be...</td>\n",
       "      <td>mereka tidak pernah mengangkat masalah moral a...</td>\n",
       "      <td>0.50</td>\n",
       "    </tr>\n",
       "    <tr>\n",
       "      <th>2</th>\n",
       "      <td>Wanita yang meninggal itu juga mengenakan cinc...</td>\n",
       "      <td>Seorang wanita berambut pirang mengenakan arlo...</td>\n",
       "      <td>2.60</td>\n",
       "    </tr>\n",
       "    <tr>\n",
       "      <th>3</th>\n",
       "      <td>Kedua komponen harus berada di jalur tertutup.</td>\n",
       "      <td>bohlam dan baterai berada di jalur tertutup</td>\n",
       "      <td>3.80</td>\n",
       "    </tr>\n",
       "    <tr>\n",
       "      <th>4</th>\n",
       "      <td>Seperti yang sudah saya jelaskan pada bacaan k...</td>\n",
       "      <td>Seperti yang telah saya katakan dalam bacaan k...</td>\n",
       "      <td>4.75</td>\n",
       "    </tr>\n",
       "    <tr>\n",
       "      <th>...</th>\n",
       "      <td>...</td>\n",
       "      <td>...</td>\n",
       "      <td>...</td>\n",
       "    </tr>\n",
       "    <tr>\n",
       "      <th>2575</th>\n",
       "      <td>PM Turki mendesak untuk mengakhiri protes di I...</td>\n",
       "      <td>Polisi Turki menembakkan gas air mata ke pengu...</td>\n",
       "      <td>2.80</td>\n",
       "    </tr>\n",
       "    <tr>\n",
       "      <th>2576</th>\n",
       "      <td>Karena tegangannya tidak mencapai bohlam.</td>\n",
       "      <td>jalannya tidak tertutup</td>\n",
       "      <td>1.80</td>\n",
       "    </tr>\n",
       "    <tr>\n",
       "      <th>2577</th>\n",
       "      <td>Mereka kemudian jatuh dan telah mendukung sera...</td>\n",
       "      <td>Kedua negara yang menginvasi kemudian jatuh, d...</td>\n",
       "      <td>3.50</td>\n",
       "    </tr>\n",
       "    <tr>\n",
       "      <th>2578</th>\n",
       "      <td>Lem underlayment ke beton: berapa lama waktu y...</td>\n",
       "      <td>Berapa lama waktu yang dibutuhkan untuk menyem...</td>\n",
       "      <td>3.00</td>\n",
       "    </tr>\n",
       "    <tr>\n",
       "      <th>2579</th>\n",
       "      <td>Asosiasi Industri Rekaman Amerika mengatakan a...</td>\n",
       "      <td>Yaitu, jika Asosiasi Industri Rekaman Amerika ...</td>\n",
       "      <td>1.75</td>\n",
       "    </tr>\n",
       "  </tbody>\n",
       "</table>\n",
       "<p>12901 rows × 3 columns</p>\n",
       "</div>"
      ],
      "text/plain": [
       "                                               text1_id  \\\n",
       "0     Sebuah sepeda motor diparkir di dekat dinding ...   \n",
       "1     dia menikahimu, memilih untuk memiliki anak be...   \n",
       "2     Wanita yang meninggal itu juga mengenakan cinc...   \n",
       "3        Kedua komponen harus berada di jalur tertutup.   \n",
       "4     Seperti yang sudah saya jelaskan pada bacaan k...   \n",
       "...                                                 ...   \n",
       "2575  PM Turki mendesak untuk mengakhiri protes di I...   \n",
       "2576          Karena tegangannya tidak mencapai bohlam.   \n",
       "2577  Mereka kemudian jatuh dan telah mendukung sera...   \n",
       "2578  Lem underlayment ke beton: berapa lama waktu y...   \n",
       "2579  Asosiasi Industri Rekaman Amerika mengatakan a...   \n",
       "\n",
       "                                               text2_id  score  \n",
       "0     Sebuah sepeda motor diparkir oleh mural sebuah...   3.40  \n",
       "1     mereka tidak pernah mengangkat masalah moral a...   0.50  \n",
       "2     Seorang wanita berambut pirang mengenakan arlo...   2.60  \n",
       "3           bohlam dan baterai berada di jalur tertutup   3.80  \n",
       "4     Seperti yang telah saya katakan dalam bacaan k...   4.75  \n",
       "...                                                 ...    ...  \n",
       "2575  Polisi Turki menembakkan gas air mata ke pengu...   2.80  \n",
       "2576                            jalannya tidak tertutup   1.80  \n",
       "2577  Kedua negara yang menginvasi kemudian jatuh, d...   3.50  \n",
       "2578  Berapa lama waktu yang dibutuhkan untuk menyem...   3.00  \n",
       "2579  Yaitu, jika Asosiasi Industri Rekaman Amerika ...   1.75  \n",
       "\n",
       "[12901 rows x 3 columns]"
      ]
     },
     "execution_count": 23,
     "metadata": {},
     "output_type": "execute_result"
    }
   ],
   "source": [
    "import pandas as pd\n",
    "\n",
    "df_train = pd.read_csv(\"/home/jupyter-23521027/refresh-bert/data/sbert/train.tsv\", sep=\"\\t\")\n",
    "df_train = df_train[[\"text1_id\", \"text2_id\", \"score\"]]\n",
    "df_train\n",
    "\n",
    "df_test = pd.read_csv(\"/home/jupyter-23521027/refresh-bert/data/sbert/test.tsv\", sep=\"\\t\")\n",
    "df_test = df_test[[\"text1_id\", \"text2_id\", \"score\"]]\n",
    "df_test\n",
    "\n",
    "df = pd.concat([df_train, df_test])\n",
    "df"
   ]
  },
  {
   "cell_type": "code",
   "execution_count": 28,
   "id": "indirect-statement",
   "metadata": {},
   "outputs": [],
   "source": [
    "from sentence_transformers import SentenceTransformer\n",
    "\n",
    "model = SentenceTransformer(f\"/home/jupyter-23521027/refresh-bert/data/sbert/sentence-transformers/indobenchmark/indobert-large-p1-trained-epoch8\", device=\"cuda:1\")"
   ]
  },
  {
   "cell_type": "code",
   "execution_count": 29,
   "id": "present-senegal",
   "metadata": {},
   "outputs": [],
   "source": [
    "from sklearn.metrics.pairwise import paired_cosine_distances\n",
    "\n",
    "sentences1 = df.text1_id.to_list()\n",
    "sentences2 = df.text2_id.to_list()\n",
    "\n",
    "embeddings1 = model.encode(sentences1, convert_to_numpy=True)\n",
    "embeddings2 = model.encode(sentences2, convert_to_numpy=True)\n",
    "\n",
    "cosine_scores = 1 - (paired_cosine_distances(embeddings1, embeddings2))\n",
    "score_inference = cosine_scores.tolist()\n",
    "df[\"Model Score\"] = score_inference\n",
    "df[\"Human Score\"] = df[\"score\"]"
   ]
  },
  {
   "cell_type": "code",
   "execution_count": 30,
   "id": "introductory-basement",
   "metadata": {},
   "outputs": [
    {
     "data": {
      "text/html": [
       "<div>\n",
       "<style scoped>\n",
       "    .dataframe tbody tr th:only-of-type {\n",
       "        vertical-align: middle;\n",
       "    }\n",
       "\n",
       "    .dataframe tbody tr th {\n",
       "        vertical-align: top;\n",
       "    }\n",
       "\n",
       "    .dataframe thead th {\n",
       "        text-align: right;\n",
       "    }\n",
       "</style>\n",
       "<table border=\"1\" class=\"dataframe\">\n",
       "  <thead>\n",
       "    <tr style=\"text-align: right;\">\n",
       "      <th></th>\n",
       "      <th>text1_id</th>\n",
       "      <th>text2_id</th>\n",
       "      <th>score</th>\n",
       "      <th>Model Score</th>\n",
       "      <th>Human Score</th>\n",
       "    </tr>\n",
       "  </thead>\n",
       "  <tbody>\n",
       "    <tr>\n",
       "      <th>0</th>\n",
       "      <td>Sebuah sepeda motor diparkir di dekat dinding ...</td>\n",
       "      <td>Sebuah sepeda motor diparkir oleh mural sebuah...</td>\n",
       "      <td>3.40</td>\n",
       "      <td>4.307852</td>\n",
       "      <td>3.40</td>\n",
       "    </tr>\n",
       "    <tr>\n",
       "      <th>1</th>\n",
       "      <td>dia menikahimu, memilih untuk memiliki anak be...</td>\n",
       "      <td>mereka tidak pernah mengangkat masalah moral a...</td>\n",
       "      <td>0.50</td>\n",
       "      <td>0.457256</td>\n",
       "      <td>0.50</td>\n",
       "    </tr>\n",
       "    <tr>\n",
       "      <th>2</th>\n",
       "      <td>Wanita yang meninggal itu juga mengenakan cinc...</td>\n",
       "      <td>Seorang wanita berambut pirang mengenakan arlo...</td>\n",
       "      <td>2.60</td>\n",
       "      <td>3.165100</td>\n",
       "      <td>2.60</td>\n",
       "    </tr>\n",
       "    <tr>\n",
       "      <th>3</th>\n",
       "      <td>Kedua komponen harus berada di jalur tertutup.</td>\n",
       "      <td>bohlam dan baterai berada di jalur tertutup</td>\n",
       "      <td>3.80</td>\n",
       "      <td>3.953813</td>\n",
       "      <td>3.80</td>\n",
       "    </tr>\n",
       "    <tr>\n",
       "      <th>4</th>\n",
       "      <td>Seperti yang sudah saya jelaskan pada bacaan k...</td>\n",
       "      <td>Seperti yang telah saya katakan dalam bacaan k...</td>\n",
       "      <td>4.75</td>\n",
       "      <td>4.845535</td>\n",
       "      <td>4.75</td>\n",
       "    </tr>\n",
       "    <tr>\n",
       "      <th>...</th>\n",
       "      <td>...</td>\n",
       "      <td>...</td>\n",
       "      <td>...</td>\n",
       "      <td>...</td>\n",
       "      <td>...</td>\n",
       "    </tr>\n",
       "    <tr>\n",
       "      <th>2575</th>\n",
       "      <td>PM Turki mendesak untuk mengakhiri protes di I...</td>\n",
       "      <td>Polisi Turki menembakkan gas air mata ke pengu...</td>\n",
       "      <td>2.80</td>\n",
       "      <td>2.419097</td>\n",
       "      <td>2.80</td>\n",
       "    </tr>\n",
       "    <tr>\n",
       "      <th>2576</th>\n",
       "      <td>Karena tegangannya tidak mencapai bohlam.</td>\n",
       "      <td>jalannya tidak tertutup</td>\n",
       "      <td>1.80</td>\n",
       "      <td>1.751618</td>\n",
       "      <td>1.80</td>\n",
       "    </tr>\n",
       "    <tr>\n",
       "      <th>2577</th>\n",
       "      <td>Mereka kemudian jatuh dan telah mendukung sera...</td>\n",
       "      <td>Kedua negara yang menginvasi kemudian jatuh, d...</td>\n",
       "      <td>3.50</td>\n",
       "      <td>2.971255</td>\n",
       "      <td>3.50</td>\n",
       "    </tr>\n",
       "    <tr>\n",
       "      <th>2578</th>\n",
       "      <td>Lem underlayment ke beton: berapa lama waktu y...</td>\n",
       "      <td>Berapa lama waktu yang dibutuhkan untuk menyem...</td>\n",
       "      <td>3.00</td>\n",
       "      <td>3.326433</td>\n",
       "      <td>3.00</td>\n",
       "    </tr>\n",
       "    <tr>\n",
       "      <th>2579</th>\n",
       "      <td>Asosiasi Industri Rekaman Amerika mengatakan a...</td>\n",
       "      <td>Yaitu, jika Asosiasi Industri Rekaman Amerika ...</td>\n",
       "      <td>1.75</td>\n",
       "      <td>2.674089</td>\n",
       "      <td>1.75</td>\n",
       "    </tr>\n",
       "  </tbody>\n",
       "</table>\n",
       "<p>12901 rows × 5 columns</p>\n",
       "</div>"
      ],
      "text/plain": [
       "                                               text1_id  \\\n",
       "0     Sebuah sepeda motor diparkir di dekat dinding ...   \n",
       "1     dia menikahimu, memilih untuk memiliki anak be...   \n",
       "2     Wanita yang meninggal itu juga mengenakan cinc...   \n",
       "3        Kedua komponen harus berada di jalur tertutup.   \n",
       "4     Seperti yang sudah saya jelaskan pada bacaan k...   \n",
       "...                                                 ...   \n",
       "2575  PM Turki mendesak untuk mengakhiri protes di I...   \n",
       "2576          Karena tegangannya tidak mencapai bohlam.   \n",
       "2577  Mereka kemudian jatuh dan telah mendukung sera...   \n",
       "2578  Lem underlayment ke beton: berapa lama waktu y...   \n",
       "2579  Asosiasi Industri Rekaman Amerika mengatakan a...   \n",
       "\n",
       "                                               text2_id  score  Model Score  \\\n",
       "0     Sebuah sepeda motor diparkir oleh mural sebuah...   3.40     4.307852   \n",
       "1     mereka tidak pernah mengangkat masalah moral a...   0.50     0.457256   \n",
       "2     Seorang wanita berambut pirang mengenakan arlo...   2.60     3.165100   \n",
       "3           bohlam dan baterai berada di jalur tertutup   3.80     3.953813   \n",
       "4     Seperti yang telah saya katakan dalam bacaan k...   4.75     4.845535   \n",
       "...                                                 ...    ...          ...   \n",
       "2575  Polisi Turki menembakkan gas air mata ke pengu...   2.80     2.419097   \n",
       "2576                            jalannya tidak tertutup   1.80     1.751618   \n",
       "2577  Kedua negara yang menginvasi kemudian jatuh, d...   3.50     2.971255   \n",
       "2578  Berapa lama waktu yang dibutuhkan untuk menyem...   3.00     3.326433   \n",
       "2579  Yaitu, jika Asosiasi Industri Rekaman Amerika ...   1.75     2.674089   \n",
       "\n",
       "      Human Score  \n",
       "0            3.40  \n",
       "1            0.50  \n",
       "2            2.60  \n",
       "3            3.80  \n",
       "4            4.75  \n",
       "...           ...  \n",
       "2575         2.80  \n",
       "2576         1.80  \n",
       "2577         3.50  \n",
       "2578         3.00  \n",
       "2579         1.75  \n",
       "\n",
       "[12901 rows x 5 columns]"
      ]
     },
     "execution_count": 30,
     "metadata": {},
     "output_type": "execute_result"
    }
   ],
   "source": [
    "df[\"Model Score\"] = df[\"Model Score\"] * 5\n",
    "df"
   ]
  },
  {
   "cell_type": "code",
   "execution_count": 31,
   "id": "subjective-pencil",
   "metadata": {},
   "outputs": [
    {
     "data": {
      "text/plain": [
       "array([[<AxesSubplot:title={'center':'Human Score'}>,\n",
       "        <AxesSubplot:title={'center':'Model Score'}>]], dtype=object)"
      ]
     },
     "execution_count": 31,
     "metadata": {},
     "output_type": "execute_result"
    },
    {
     "data": {
      "image/png": "[encoded data removed]",
      "text/plain": [
       "<Figure size 648x252 with 2 Axes>"
      ]
     },
     "metadata": {
      "needs_background": "light"
     },
     "output_type": "display_data"
    }
   ],
   "source": [
    "df.hist(column=[\"Human Score\", \"Model Score\"], bins=5, figsize=(9,3.5))"
   ]
  },
  {
   "cell_type": "code",
   "execution_count": 32,
   "id": "independent-cursor",
   "metadata": {},
   "outputs": [
    {
     "data": {
      "text/html": [
       "<div>\n",
       "<style scoped>\n",
       "    .dataframe tbody tr th:only-of-type {\n",
       "        vertical-align: middle;\n",
       "    }\n",
       "\n",
       "    .dataframe tbody tr th {\n",
       "        vertical-align: top;\n",
       "    }\n",
       "\n",
       "    .dataframe thead th {\n",
       "        text-align: right;\n",
       "    }\n",
       "</style>\n",
       "<table border=\"1\" class=\"dataframe\">\n",
       "  <thead>\n",
       "    <tr style=\"text-align: right;\">\n",
       "      <th></th>\n",
       "      <th>text1_id</th>\n",
       "      <th>text2_id</th>\n",
       "      <th>score</th>\n",
       "      <th>Model Score</th>\n",
       "      <th>Human Score</th>\n",
       "    </tr>\n",
       "  </thead>\n",
       "  <tbody>\n",
       "    <tr>\n",
       "      <th>0</th>\n",
       "      <td>Sebuah sepeda motor diparkir di dekat dinding ...</td>\n",
       "      <td>Sebuah sepeda motor diparkir oleh mural sebuah...</td>\n",
       "      <td>3.40</td>\n",
       "      <td>4.307852</td>\n",
       "      <td>3.40</td>\n",
       "    </tr>\n",
       "    <tr>\n",
       "      <th>1</th>\n",
       "      <td>dia menikahimu, memilih untuk memiliki anak be...</td>\n",
       "      <td>mereka tidak pernah mengangkat masalah moral a...</td>\n",
       "      <td>0.50</td>\n",
       "      <td>0.457256</td>\n",
       "      <td>0.50</td>\n",
       "    </tr>\n",
       "    <tr>\n",
       "      <th>2</th>\n",
       "      <td>Wanita yang meninggal itu juga mengenakan cinc...</td>\n",
       "      <td>Seorang wanita berambut pirang mengenakan arlo...</td>\n",
       "      <td>2.60</td>\n",
       "      <td>3.165100</td>\n",
       "      <td>2.60</td>\n",
       "    </tr>\n",
       "    <tr>\n",
       "      <th>3</th>\n",
       "      <td>Kedua komponen harus berada di jalur tertutup.</td>\n",
       "      <td>bohlam dan baterai berada di jalur tertutup</td>\n",
       "      <td>3.80</td>\n",
       "      <td>3.953813</td>\n",
       "      <td>3.80</td>\n",
       "    </tr>\n",
       "    <tr>\n",
       "      <th>4</th>\n",
       "      <td>Seperti yang sudah saya jelaskan pada bacaan k...</td>\n",
       "      <td>Seperti yang telah saya katakan dalam bacaan k...</td>\n",
       "      <td>4.75</td>\n",
       "      <td>4.845535</td>\n",
       "      <td>4.75</td>\n",
       "    </tr>\n",
       "    <tr>\n",
       "      <th>...</th>\n",
       "      <td>...</td>\n",
       "      <td>...</td>\n",
       "      <td>...</td>\n",
       "      <td>...</td>\n",
       "      <td>...</td>\n",
       "    </tr>\n",
       "    <tr>\n",
       "      <th>2575</th>\n",
       "      <td>PM Turki mendesak untuk mengakhiri protes di I...</td>\n",
       "      <td>Polisi Turki menembakkan gas air mata ke pengu...</td>\n",
       "      <td>2.80</td>\n",
       "      <td>2.419097</td>\n",
       "      <td>2.80</td>\n",
       "    </tr>\n",
       "    <tr>\n",
       "      <th>2576</th>\n",
       "      <td>Karena tegangannya tidak mencapai bohlam.</td>\n",
       "      <td>jalannya tidak tertutup</td>\n",
       "      <td>1.80</td>\n",
       "      <td>1.751618</td>\n",
       "      <td>1.80</td>\n",
       "    </tr>\n",
       "    <tr>\n",
       "      <th>2577</th>\n",
       "      <td>Mereka kemudian jatuh dan telah mendukung sera...</td>\n",
       "      <td>Kedua negara yang menginvasi kemudian jatuh, d...</td>\n",
       "      <td>3.50</td>\n",
       "      <td>2.971255</td>\n",
       "      <td>3.50</td>\n",
       "    </tr>\n",
       "    <tr>\n",
       "      <th>2578</th>\n",
       "      <td>Lem underlayment ke beton: berapa lama waktu y...</td>\n",
       "      <td>Berapa lama waktu yang dibutuhkan untuk menyem...</td>\n",
       "      <td>3.00</td>\n",
       "      <td>3.326433</td>\n",
       "      <td>3.00</td>\n",
       "    </tr>\n",
       "    <tr>\n",
       "      <th>2579</th>\n",
       "      <td>Asosiasi Industri Rekaman Amerika mengatakan a...</td>\n",
       "      <td>Yaitu, jika Asosiasi Industri Rekaman Amerika ...</td>\n",
       "      <td>1.75</td>\n",
       "      <td>2.674089</td>\n",
       "      <td>1.75</td>\n",
       "    </tr>\n",
       "  </tbody>\n",
       "</table>\n",
       "<p>12901 rows × 5 columns</p>\n",
       "</div>"
      ],
      "text/plain": [
       "                                               text1_id  \\\n",
       "0     Sebuah sepeda motor diparkir di dekat dinding ...   \n",
       "1     dia menikahimu, memilih untuk memiliki anak be...   \n",
       "2     Wanita yang meninggal itu juga mengenakan cinc...   \n",
       "3        Kedua komponen harus berada di jalur tertutup.   \n",
       "4     Seperti yang sudah saya jelaskan pada bacaan k...   \n",
       "...                                                 ...   \n",
       "2575  PM Turki mendesak untuk mengakhiri protes di I...   \n",
       "2576          Karena tegangannya tidak mencapai bohlam.   \n",
       "2577  Mereka kemudian jatuh dan telah mendukung sera...   \n",
       "2578  Lem underlayment ke beton: berapa lama waktu y...   \n",
       "2579  Asosiasi Industri Rekaman Amerika mengatakan a...   \n",
       "\n",
       "                                               text2_id  score  Model Score  \\\n",
       "0     Sebuah sepeda motor diparkir oleh mural sebuah...   3.40     4.307852   \n",
       "1     mereka tidak pernah mengangkat masalah moral a...   0.50     0.457256   \n",
       "2     Seorang wanita berambut pirang mengenakan arlo...   2.60     3.165100   \n",
       "3           bohlam dan baterai berada di jalur tertutup   3.80     3.953813   \n",
       "4     Seperti yang telah saya katakan dalam bacaan k...   4.75     4.845535   \n",
       "...                                                 ...    ...          ...   \n",
       "2575  Polisi Turki menembakkan gas air mata ke pengu...   2.80     2.419097   \n",
       "2576                            jalannya tidak tertutup   1.80     1.751618   \n",
       "2577  Kedua negara yang menginvasi kemudian jatuh, d...   3.50     2.971255   \n",
       "2578  Berapa lama waktu yang dibutuhkan untuk menyem...   3.00     3.326433   \n",
       "2579  Yaitu, jika Asosiasi Industri Rekaman Amerika ...   1.75     2.674089   \n",
       "\n",
       "      Human Score  \n",
       "0            3.40  \n",
       "1            0.50  \n",
       "2            2.60  \n",
       "3            3.80  \n",
       "4            4.75  \n",
       "...           ...  \n",
       "2575         2.80  \n",
       "2576         1.80  \n",
       "2577         3.50  \n",
       "2578         3.00  \n",
       "2579         1.75  \n",
       "\n",
       "[12901 rows x 5 columns]"
      ]
     },
     "execution_count": 32,
     "metadata": {},
     "output_type": "execute_result"
    }
   ],
   "source": [
    "df.loc[df['Model Score'] < 0, ['Model Score']] = 0.0\n",
    "df"
   ]
  },
  {
   "cell_type": "code",
   "execution_count": 33,
   "id": "protecting-venue",
   "metadata": {},
   "outputs": [
    {
     "data": {
      "text/plain": [
       "array([[<AxesSubplot:title={'center':'Human Score'}>,\n",
       "        <AxesSubplot:title={'center':'Model Score'}>]], dtype=object)"
      ]
     },
     "execution_count": 33,
     "metadata": {},
     "output_type": "execute_result"
    },
    {
     "data": {
      "image/png": "[encoded data removed]",
      "text/plain": [
       "<Figure size 648x252 with 2 Axes>"
      ]
     },
     "metadata": {
      "needs_background": "light"
     },
     "output_type": "display_data"
    }
   ],
   "source": [
    "df.hist(column=[\"Human Score\", \"Model Score\"], bins=5, figsize=(9,3.5))"
   ]
  },
  {
   "cell_type": "code",
   "execution_count": 34,
   "id": "israeli-receipt",
   "metadata": {},
   "outputs": [
    {
     "data": {
      "text/plain": [
       "<AxesSubplot:>"
      ]
     },
     "execution_count": 34,
     "metadata": {},
     "output_type": "execute_result"
    },
    {
     "data": {
      "image/png": "[encoded data removed]",
      "text/plain": [
       "<Figure size 432x288 with 1 Axes>"
      ]
     },
     "metadata": {
      "needs_background": "light"
     },
     "output_type": "display_data"
    }
   ],
   "source": [
    "df.boxplot(column=[\"Human Score\", \"Model Score\"])"
   ]
  },
  {
   "cell_type": "code",
   "execution_count": 43,
   "id": "valuable-crawford",
   "metadata": {},
   "outputs": [],
   "source": [
    "import pandas as pd\n",
    "from sklearn.metrics.pairwise import paired_cosine_distances\n",
    "\n",
    "df_test = pd.read_csv(\"/home/jupyter-23521027/refresh-bert/data/sbert/test.tsv\", sep=\"\\t\")\n",
    "df_test = df_test[[\"text1_id\", \"text2_id\", \"score\"]]\n",
    "\n",
    "sentences1 = df_test.text1_id.to_list()\n",
    "sentences2 = df_test.text2_id.to_list()\n",
    "\n",
    "embeddings1 = model.encode(sentences1, convert_to_numpy=True)\n",
    "embeddings2 = model.encode(sentences2, convert_to_numpy=True)\n",
    "\n",
    "cosine_scores = 1 - (paired_cosine_distances(embeddings1, embeddings2))\n",
    "score_inference = cosine_scores.tolist()\n",
    "\n",
    "df_test[\"Model Score\"] = score_inference\n",
    "df_test[\"Model Score\"] = df_test[\"Model Score\"] * 5\n",
    "df_test.loc[df_test['Model Score'] < 0, ['Model Score']] = 0.0\n",
    "\n",
    "df_test[\"Human Score\"] = df_test[\"score\"]\n",
    "df_test.drop(\"score\", axis=1, inplace=True)"
   ]
  },
  {
   "cell_type": "code",
   "execution_count": 44,
   "id": "answering-variable",
   "metadata": {},
   "outputs": [
    {
     "data": {
      "text/plain": [
       "array([[<AxesSubplot:title={'center':'Human Score'}>,\n",
       "        <AxesSubplot:title={'center':'Model Score'}>]], dtype=object)"
      ]
     },
     "execution_count": 44,
     "metadata": {},
     "output_type": "execute_result"
    },
    {
     "data": {
      "image/png": "[encoded data removed]",
      "text/plain": [
       "<Figure size 648x252 with 2 Axes>"
      ]
     },
     "metadata": {
      "needs_background": "light"
     },
     "output_type": "display_data"
    }
   ],
   "source": [
    "df_test.hist(column=[\"Human Score\", \"Model Score\"], bins=5, figsize=(9,3.5))"
   ]
  },
  {
   "cell_type": "code",
   "execution_count": null,
   "id": "attached-terminology",
   "metadata": {},
   "outputs": [],
   "source": [
    "df_test.hist(column=[\"Human Score\"], bins=5, figsize=(3.5,3.5))"
   ]
  },
  {
   "cell_type": "code",
   "execution_count": 38,
   "id": "subject-ownership",
   "metadata": {},
   "outputs": [
    {
     "data": {
      "text/plain": [
       "<AxesSubplot:>"
      ]
     },
     "execution_count": 38,
     "metadata": {},
     "output_type": "execute_result"
    },
    {
     "data": {
      "image/png": "[encoded data removed]",
      "text/plain": [
       "<Figure size 432x288 with 1 Axes>"
      ]
     },
     "metadata": {
      "needs_background": "light"
     },
     "output_type": "display_data"
    }
   ],
   "source": [
    "df_test.boxplot(column=[\"Human Score\", \"Model Score\"])"
   ]
  },
  {
   "cell_type": "code",
   "execution_count": 39,
   "id": "attached-marine",
   "metadata": {},
   "outputs": [
    {
     "name": "stdout",
     "output_type": "stream",
     "text": [
      "Maximum Difference: 3.472104489803314\n",
      "Row with Maximum Difference:\n",
      "Rakyat versus Putin\n",
      "Melawan orang\n",
      "Human score: 4.5\n",
      "Model score: 1.0278955101966858\n",
      "Total test dataset rows: 2580\n",
      "Total rows with difference below 1: 2054 / 2580\n",
      "Total rows with difference below 0.1: 332 / 2580\n",
      "Total rows with difference below 0.01: 47 / 2580\n",
      "Total rows with difference below 0.001: 27 / 2580\n"
     ]
    }
   ],
   "source": [
    "df_test['Difference'] = abs(df_test['Model Score'] - df_test['Human Score'])\n",
    "max_difference_row = df_test.loc[df_test['Difference'].idxmax()]\n",
    "max_difference = max_difference_row['Difference']\n",
    "\n",
    "print(\"Maximum Difference:\", max_difference)\n",
    "print(\"Row with Maximum Difference:\")\n",
    "print(max_difference_row.text1_id)\n",
    "print(max_difference_row.text2_id)\n",
    "print(\"Human score:\", max_difference_row[\"Human Score\"])\n",
    "print(\"Model score:\", max_difference_row[\"Model Score\"])\n",
    "\n",
    "thresholds = [1e-3, 1e-2, 1e-1, 1]\n",
    "print(f\"Total test dataset rows: {len(df_test)}\")\n",
    "for t in thresholds[::-1]:\n",
    "    total_rows_below_threshold = len(df_test[df_test['Difference'] < t])\n",
    "    print(f\"Total rows with difference below {t}:\", total_rows_below_threshold, \"/\", len(df_test))"
   ]
  },
  {
   "cell_type": "code",
   "execution_count": 47,
   "id": "outdoor-secret",
   "metadata": {},
   "outputs": [
    {
     "name": "stdout",
     "output_type": "stream",
     "text": [
      "First Highest Difference:\n",
      "Row:\n",
      "Rakyat versus Putin \n",
      " Melawan orang\n",
      "Human Score: 4.5\n",
      "Model Score: 1.0278955101966858\n",
      "\n",
      "Second Highest Difference:\n",
      "Row:\n",
      "Mengapa Anda perlu mengupas buah persik agar bisa? \n",
      " Bagaimana cara mengupas buah persik?\n",
      "Human Score: 1.0\n",
      "Model Score: 4.3789175152778625\n",
      "\n",
      "Second Highest Difference:\n",
      "Row:\n",
      "Mengapa Anda perlu mengupas buah persik agar bisa? \n",
      " Bagaimana cara mengupas buah persik?\n",
      "Human Score: 0.4\n",
      "Model Score: 3.331388831138611\n",
      "\n",
      "Second Highest Difference:\n",
      "Row:\n",
      "Mengapa Anda perlu mengupas buah persik agar bisa? \n",
      " Bagaimana cara mengupas buah persik?\n",
      "Human Score: 5.0\n",
      "Model Score: 2.1208038926124573\n"
     ]
    }
   ],
   "source": [
    "df_test['Difference'] = abs(df_test['Model Score'] - df_test['Human Score'])\n",
    "\n",
    "# Get the two rows with the highest differences and their corresponding values\n",
    "two_max_difference_rows = df_test.nlargest(5, 'Difference')\n",
    "\n",
    "print(\"First Highest Difference:\")\n",
    "print(\"Row:\")\n",
    "print(two_max_difference_rows.iloc[0]['text1_id'], \"\\n\", two_max_difference_rows.iloc[0]['text2_id'])\n",
    "print(\"Human Score:\", two_max_difference_rows.iloc[0]['Human Score'])\n",
    "print(\"Model Score:\", two_max_difference_rows.iloc[0]['Model Score'])\n",
    "\n",
    "print(\"\\nSecond Highest Difference:\")\n",
    "print(\"Row:\")\n",
    "print(two_max_difference_rows.iloc[1]['text1_id'], \"\\n\", two_max_difference_rows.iloc[1]['text2_id'])\n",
    "print(\"Human Score:\", two_max_difference_rows.iloc[1]['Human Score'])\n",
    "print(\"Model Score:\", two_max_difference_rows.iloc[1]['Model Score'])\n",
    "\n",
    "print(\"\\nSecond Highest Difference:\")\n",
    "print(\"Row:\")\n",
    "print(two_max_difference_rows.iloc[1]['text1_id'], \"\\n\", two_max_difference_rows.iloc[1]['text2_id'])\n",
    "print(\"Human Score:\", two_max_difference_rows.iloc[2]['Human Score'])\n",
    "print(\"Model Score:\", two_max_difference_rows.iloc[2]['Model Score'])\n",
    "\n",
    "print(\"\\nSecond Highest Difference:\")\n",
    "print(\"Row:\")\n",
    "print(two_max_difference_rows.iloc[1]['text1_id'], \"\\n\", two_max_difference_rows.iloc[1]['text2_id'])\n",
    "print(\"Human Score:\", two_max_difference_rows.iloc[3]['Human Score'])\n",
    "print(\"Model Score:\", two_max_difference_rows.iloc[3]['Model Score'])\n"
   ]
  },
  {
   "cell_type": "code",
   "execution_count": 137,
   "id": "dental-jackson",
   "metadata": {},
   "outputs": [
    {
     "data": {
      "text/html": [
       "<div>\n",
       "<style scoped>\n",
       "    .dataframe tbody tr th:only-of-type {\n",
       "        vertical-align: middle;\n",
       "    }\n",
       "\n",
       "    .dataframe tbody tr th {\n",
       "        vertical-align: top;\n",
       "    }\n",
       "\n",
       "    .dataframe thead th {\n",
       "        text-align: right;\n",
       "    }\n",
       "</style>\n",
       "<table border=\"1\" class=\"dataframe\">\n",
       "  <thead>\n",
       "    <tr style=\"text-align: right;\">\n",
       "      <th></th>\n",
       "      <th>text1_id</th>\n",
       "      <th>text2_id</th>\n",
       "      <th>Model Score</th>\n",
       "      <th>Human Score</th>\n",
       "      <th>Difference</th>\n",
       "    </tr>\n",
       "  </thead>\n",
       "  <tbody>\n",
       "    <tr>\n",
       "      <th>128</th>\n",
       "      <td>Tunisia</td>\n",
       "      <td>Tunisia</td>\n",
       "      <td>5.000000</td>\n",
       "      <td>5.0</td>\n",
       "      <td>0.000000e+00</td>\n",
       "    </tr>\n",
       "    <tr>\n",
       "      <th>176</th>\n",
       "      <td>Dua tewas dalam ledakan mobil Bahrain</td>\n",
       "      <td>Dua tewas dalam ledakan mobil Bahrain</td>\n",
       "      <td>5.000000</td>\n",
       "      <td>5.0</td>\n",
       "      <td>2.980232e-07</td>\n",
       "    </tr>\n",
       "    <tr>\n",
       "      <th>178</th>\n",
       "      <td>Laporan Maij-Weggen (A5-0323 / 2000)</td>\n",
       "      <td>Laporan Maij-Weggen (A5-0323 / 2000)</td>\n",
       "      <td>5.000000</td>\n",
       "      <td>5.0</td>\n",
       "      <td>0.000000e+00</td>\n",
       "    </tr>\n",
       "    <tr>\n",
       "      <th>220</th>\n",
       "      <td>(Tepuk tangan)</td>\n",
       "      <td>Saya sudah menjawab tentang hal ini, dan saya ...</td>\n",
       "      <td>0.000000</td>\n",
       "      <td>0.0</td>\n",
       "      <td>0.000000e+00</td>\n",
       "    </tr>\n",
       "    <tr>\n",
       "      <th>228</th>\n",
       "      <td>Kenaikan harga pangan menimbulkan kekhawatiran...</td>\n",
       "      <td>Orang Amerika Chris Horner memenangkan Tur Spa...</td>\n",
       "      <td>0.000000</td>\n",
       "      <td>0.0</td>\n",
       "      <td>0.000000e+00</td>\n",
       "    </tr>\n",
       "    <tr>\n",
       "      <th>293</th>\n",
       "      <td>Itu bukan ide yang bagus.</td>\n",
       "      <td>Itu bukan ide yang bagus.</td>\n",
       "      <td>5.000000</td>\n",
       "      <td>5.0</td>\n",
       "      <td>0.000000e+00</td>\n",
       "    </tr>\n",
       "    <tr>\n",
       "      <th>413</th>\n",
       "      <td>Sebuah pesawat terbang di kejauhan.</td>\n",
       "      <td>Seorang wanita dengan kuda putih.</td>\n",
       "      <td>0.000000</td>\n",
       "      <td>0.0</td>\n",
       "      <td>0.000000e+00</td>\n",
       "    </tr>\n",
       "    <tr>\n",
       "      <th>429</th>\n",
       "      <td>Tapi itu perlu.</td>\n",
       "      <td>Tapi itu perlu.</td>\n",
       "      <td>5.000000</td>\n",
       "      <td>5.0</td>\n",
       "      <td>0.000000e+00</td>\n",
       "    </tr>\n",
       "    <tr>\n",
       "      <th>509</th>\n",
       "      <td>Seorang pria berlatih tinju</td>\n",
       "      <td>Seorang pria berlatih tinju</td>\n",
       "      <td>5.000000</td>\n",
       "      <td>5.0</td>\n",
       "      <td>2.980232e-07</td>\n",
       "    </tr>\n",
       "    <tr>\n",
       "      <th>597</th>\n",
       "      <td>Mereka TIDAK berdaulat seperti sebelumnya.</td>\n",
       "      <td>untuk mengulang: Mereka TIDAK berdaulat sepert...</td>\n",
       "      <td>4.400919</td>\n",
       "      <td>4.4</td>\n",
       "      <td>9.190798e-04</td>\n",
       "    </tr>\n",
       "    <tr>\n",
       "      <th>656</th>\n",
       "      <td>mereka &amp;quot;memiliki&amp;quot; rubah karena berit...</td>\n",
       "      <td>Saya menabung untuk itu karena saya tahu saya ...</td>\n",
       "      <td>0.000000</td>\n",
       "      <td>0.0</td>\n",
       "      <td>0.000000e+00</td>\n",
       "    </tr>\n",
       "    <tr>\n",
       "      <th>881</th>\n",
       "      <td>Definisi istilah tergantung pada aplikasi.</td>\n",
       "      <td>Definisi istilah tergantung pada aplikasi.</td>\n",
       "      <td>5.000000</td>\n",
       "      <td>5.0</td>\n",
       "      <td>0.000000e+00</td>\n",
       "    </tr>\n",
       "    <tr>\n",
       "      <th>893</th>\n",
       "      <td>Dua kambing berdiri di ladang dekat pohon.</td>\n",
       "      <td>Sebuah perahu besar menarik sebuah perahu puti...</td>\n",
       "      <td>0.000000</td>\n",
       "      <td>0.0</td>\n",
       "      <td>0.000000e+00</td>\n",
       "    </tr>\n",
       "    <tr>\n",
       "      <th>1077</th>\n",
       "      <td>Mungkin ini bisa berhasil untuk Anda.</td>\n",
       "      <td>Mungkin ini bisa berhasil untuk Anda.</td>\n",
       "      <td>5.000000</td>\n",
       "      <td>5.0</td>\n",
       "      <td>2.980232e-07</td>\n",
       "    </tr>\n",
       "    <tr>\n",
       "      <th>1112</th>\n",
       "      <td>Tiongkok Äė Äėakan melindungi kepentingan ‚Ä b...</td>\n",
       "      <td>Obama dalam konfrontasi langsung dengan Putin ...</td>\n",
       "      <td>0.000000</td>\n",
       "      <td>0.0</td>\n",
       "      <td>0.000000e+00</td>\n",
       "    </tr>\n",
       "    <tr>\n",
       "      <th>1247</th>\n",
       "      <td>Seorang wanita dan seekor anjing berdiri di ru...</td>\n",
       "      <td>Seorang pria membawa tanda sambil berdiri di t...</td>\n",
       "      <td>0.000000</td>\n",
       "      <td>0.0</td>\n",
       "      <td>0.000000e+00</td>\n",
       "    </tr>\n",
       "    <tr>\n",
       "      <th>1446</th>\n",
       "      <td>China mengirim armada terbesar ke pulau-pulau ...</td>\n",
       "      <td>Kapal-kapal Tiongkok memasuki perairan lepas d...</td>\n",
       "      <td>3.400590</td>\n",
       "      <td>3.4</td>\n",
       "      <td>5.901217e-04</td>\n",
       "    </tr>\n",
       "    <tr>\n",
       "      <th>1614</th>\n",
       "      <td>(Parlemen menerima amandemen lisan)</td>\n",
       "      <td>(Parlemen menerima amandemen lisan)</td>\n",
       "      <td>5.000000</td>\n",
       "      <td>5.0</td>\n",
       "      <td>0.000000e+00</td>\n",
       "    </tr>\n",
       "    <tr>\n",
       "      <th>1950</th>\n",
       "      <td>Seekor anjing coklat dan putih berlari melinta...</td>\n",
       "      <td>Seseorang tergantung di tebing berbatu.</td>\n",
       "      <td>0.000000</td>\n",
       "      <td>0.0</td>\n",
       "      <td>0.000000e+00</td>\n",
       "    </tr>\n",
       "    <tr>\n",
       "      <th>1969</th>\n",
       "      <td>seekor anjing melompat ke dalam air.</td>\n",
       "      <td>Seekor anjing melompat ke dalam air.</td>\n",
       "      <td>5.000000</td>\n",
       "      <td>5.0</td>\n",
       "      <td>0.000000e+00</td>\n",
       "    </tr>\n",
       "    <tr>\n",
       "      <th>2045</th>\n",
       "      <td>Seekor anjing hitam mengambil di salju.</td>\n",
       "      <td>Seorang pemain skateboard melompat di jalan.</td>\n",
       "      <td>0.000000</td>\n",
       "      <td>0.0</td>\n",
       "      <td>0.000000e+00</td>\n",
       "    </tr>\n",
       "    <tr>\n",
       "      <th>2078</th>\n",
       "      <td>Debat ditutup.</td>\n",
       "      <td>Debat ditutup.</td>\n",
       "      <td>5.000000</td>\n",
       "      <td>5.0</td>\n",
       "      <td>0.000000e+00</td>\n",
       "    </tr>\n",
       "    <tr>\n",
       "      <th>2149</th>\n",
       "      <td>(Ilmu komputer) terjadinya hasil yang salah ya...</td>\n",
       "      <td>(Ilmu komputer) terjadinya hasil yang salah ya...</td>\n",
       "      <td>5.000000</td>\n",
       "      <td>5.0</td>\n",
       "      <td>2.980232e-07</td>\n",
       "    </tr>\n",
       "    <tr>\n",
       "      <th>2169</th>\n",
       "      <td>Persetujuan Risalah dari pertemuan sebelumnya</td>\n",
       "      <td>Persetujuan Risalah dari pertemuan sebelumnya</td>\n",
       "      <td>5.000000</td>\n",
       "      <td>5.0</td>\n",
       "      <td>0.000000e+00</td>\n",
       "    </tr>\n",
       "  </tbody>\n",
       "</table>\n",
       "</div>"
      ],
      "text/plain": [
       "                                               text1_id  \\\n",
       "128                                             Tunisia   \n",
       "176               Dua tewas dalam ledakan mobil Bahrain   \n",
       "178                Laporan Maij-Weggen (A5-0323 / 2000)   \n",
       "220                                      (Tepuk tangan)   \n",
       "228   Kenaikan harga pangan menimbulkan kekhawatiran...   \n",
       "293                           Itu bukan ide yang bagus.   \n",
       "413                 Sebuah pesawat terbang di kejauhan.   \n",
       "429                                     Tapi itu perlu.   \n",
       "509                         Seorang pria berlatih tinju   \n",
       "597          Mereka TIDAK berdaulat seperti sebelumnya.   \n",
       "656   mereka &quot;memiliki&quot; rubah karena berit...   \n",
       "881          Definisi istilah tergantung pada aplikasi.   \n",
       "893          Dua kambing berdiri di ladang dekat pohon.   \n",
       "1077              Mungkin ini bisa berhasil untuk Anda.   \n",
       "1112  Tiongkok Äė Äėakan melindungi kepentingan ‚Ä b...   \n",
       "1247  Seorang wanita dan seekor anjing berdiri di ru...   \n",
       "1446  China mengirim armada terbesar ke pulau-pulau ...   \n",
       "1614                (Parlemen menerima amandemen lisan)   \n",
       "1950  Seekor anjing coklat dan putih berlari melinta...   \n",
       "1969               seekor anjing melompat ke dalam air.   \n",
       "2045            Seekor anjing hitam mengambil di salju.   \n",
       "2078                                     Debat ditutup.   \n",
       "2149  (Ilmu komputer) terjadinya hasil yang salah ya...   \n",
       "2169      Persetujuan Risalah dari pertemuan sebelumnya   \n",
       "\n",
       "                                               text2_id  Model Score  \\\n",
       "128                                             Tunisia     5.000000   \n",
       "176               Dua tewas dalam ledakan mobil Bahrain     5.000000   \n",
       "178                Laporan Maij-Weggen (A5-0323 / 2000)     5.000000   \n",
       "220   Saya sudah menjawab tentang hal ini, dan saya ...     0.000000   \n",
       "228   Orang Amerika Chris Horner memenangkan Tur Spa...     0.000000   \n",
       "293                           Itu bukan ide yang bagus.     5.000000   \n",
       "413                   Seorang wanita dengan kuda putih.     0.000000   \n",
       "429                                     Tapi itu perlu.     5.000000   \n",
       "509                         Seorang pria berlatih tinju     5.000000   \n",
       "597   untuk mengulang: Mereka TIDAK berdaulat sepert...     4.400919   \n",
       "656   Saya menabung untuk itu karena saya tahu saya ...     0.000000   \n",
       "881          Definisi istilah tergantung pada aplikasi.     5.000000   \n",
       "893   Sebuah perahu besar menarik sebuah perahu puti...     0.000000   \n",
       "1077              Mungkin ini bisa berhasil untuk Anda.     5.000000   \n",
       "1112  Obama dalam konfrontasi langsung dengan Putin ...     0.000000   \n",
       "1247  Seorang pria membawa tanda sambil berdiri di t...     0.000000   \n",
       "1446  Kapal-kapal Tiongkok memasuki perairan lepas d...     3.400590   \n",
       "1614                (Parlemen menerima amandemen lisan)     5.000000   \n",
       "1950            Seseorang tergantung di tebing berbatu.     0.000000   \n",
       "1969               Seekor anjing melompat ke dalam air.     5.000000   \n",
       "2045       Seorang pemain skateboard melompat di jalan.     0.000000   \n",
       "2078                                     Debat ditutup.     5.000000   \n",
       "2149  (Ilmu komputer) terjadinya hasil yang salah ya...     5.000000   \n",
       "2169      Persetujuan Risalah dari pertemuan sebelumnya     5.000000   \n",
       "\n",
       "      Human Score    Difference  \n",
       "128           5.0  0.000000e+00  \n",
       "176           5.0  2.980232e-07  \n",
       "178           5.0  0.000000e+00  \n",
       "220           0.0  0.000000e+00  \n",
       "228           0.0  0.000000e+00  \n",
       "293           5.0  0.000000e+00  \n",
       "413           0.0  0.000000e+00  \n",
       "429           5.0  0.000000e+00  \n",
       "509           5.0  2.980232e-07  \n",
       "597           4.4  9.190798e-04  \n",
       "656           0.0  0.000000e+00  \n",
       "881           5.0  0.000000e+00  \n",
       "893           0.0  0.000000e+00  \n",
       "1077          5.0  2.980232e-07  \n",
       "1112          0.0  0.000000e+00  \n",
       "1247          0.0  0.000000e+00  \n",
       "1446          3.4  5.901217e-04  \n",
       "1614          5.0  0.000000e+00  \n",
       "1950          0.0  0.000000e+00  \n",
       "1969          5.0  0.000000e+00  \n",
       "2045          0.0  0.000000e+00  \n",
       "2078          5.0  0.000000e+00  \n",
       "2149          5.0  2.980232e-07  \n",
       "2169          5.0  0.000000e+00  "
      ]
     },
     "execution_count": 137,
     "metadata": {},
     "output_type": "execute_result"
    }
   ],
   "source": [
    "below_thres_df = df_test[df_test['Difference'] < 0.001]\n",
    "below_thres_df"
   ]
  },
  {
   "cell_type": "code",
   "execution_count": 138,
   "id": "convenient-billy",
   "metadata": {},
   "outputs": [
    {
     "data": {
      "text/html": [
       "<div>\n",
       "<style scoped>\n",
       "    .dataframe tbody tr th:only-of-type {\n",
       "        vertical-align: middle;\n",
       "    }\n",
       "\n",
       "    .dataframe tbody tr th {\n",
       "        vertical-align: top;\n",
       "    }\n",
       "\n",
       "    .dataframe thead th {\n",
       "        text-align: right;\n",
       "    }\n",
       "</style>\n",
       "<table border=\"1\" class=\"dataframe\">\n",
       "  <thead>\n",
       "    <tr style=\"text-align: right;\">\n",
       "      <th></th>\n",
       "      <th>text1_id</th>\n",
       "      <th>text2_id</th>\n",
       "      <th>Model Score</th>\n",
       "      <th>Human Score</th>\n",
       "      <th>Difference</th>\n",
       "    </tr>\n",
       "  </thead>\n",
       "  <tbody>\n",
       "    <tr>\n",
       "      <th>128</th>\n",
       "      <td>Tunisia</td>\n",
       "      <td>Tunisia</td>\n",
       "      <td>5.0</td>\n",
       "      <td>5.00</td>\n",
       "      <td>0.000000e+00</td>\n",
       "    </tr>\n",
       "    <tr>\n",
       "      <th>176</th>\n",
       "      <td>Dua tewas dalam ledakan mobil Bahrain</td>\n",
       "      <td>Dua tewas dalam ledakan mobil Bahrain</td>\n",
       "      <td>5.0</td>\n",
       "      <td>5.00</td>\n",
       "      <td>2.980232e-07</td>\n",
       "    </tr>\n",
       "    <tr>\n",
       "      <th>178</th>\n",
       "      <td>Laporan Maij-Weggen (A5-0323 / 2000)</td>\n",
       "      <td>Laporan Maij-Weggen (A5-0323 / 2000)</td>\n",
       "      <td>5.0</td>\n",
       "      <td>5.00</td>\n",
       "      <td>0.000000e+00</td>\n",
       "    </tr>\n",
       "    <tr>\n",
       "      <th>293</th>\n",
       "      <td>Itu bukan ide yang bagus.</td>\n",
       "      <td>Itu bukan ide yang bagus.</td>\n",
       "      <td>5.0</td>\n",
       "      <td>5.00</td>\n",
       "      <td>0.000000e+00</td>\n",
       "    </tr>\n",
       "    <tr>\n",
       "      <th>429</th>\n",
       "      <td>Tapi itu perlu.</td>\n",
       "      <td>Tapi itu perlu.</td>\n",
       "      <td>5.0</td>\n",
       "      <td>5.00</td>\n",
       "      <td>0.000000e+00</td>\n",
       "    </tr>\n",
       "    <tr>\n",
       "      <th>509</th>\n",
       "      <td>Seorang pria berlatih tinju</td>\n",
       "      <td>Seorang pria berlatih tinju</td>\n",
       "      <td>5.0</td>\n",
       "      <td>5.00</td>\n",
       "      <td>2.980232e-07</td>\n",
       "    </tr>\n",
       "    <tr>\n",
       "      <th>881</th>\n",
       "      <td>Definisi istilah tergantung pada aplikasi.</td>\n",
       "      <td>Definisi istilah tergantung pada aplikasi.</td>\n",
       "      <td>5.0</td>\n",
       "      <td>5.00</td>\n",
       "      <td>0.000000e+00</td>\n",
       "    </tr>\n",
       "    <tr>\n",
       "      <th>1077</th>\n",
       "      <td>Mungkin ini bisa berhasil untuk Anda.</td>\n",
       "      <td>Mungkin ini bisa berhasil untuk Anda.</td>\n",
       "      <td>5.0</td>\n",
       "      <td>5.00</td>\n",
       "      <td>2.980232e-07</td>\n",
       "    </tr>\n",
       "    <tr>\n",
       "      <th>1498</th>\n",
       "      <td>Pria tertua di dunia meninggal pada usia 116</td>\n",
       "      <td>Pria tertua di dunia meninggal pada usia 116</td>\n",
       "      <td>5.0</td>\n",
       "      <td>4.60</td>\n",
       "      <td>3.999997e-01</td>\n",
       "    </tr>\n",
       "    <tr>\n",
       "      <th>1614</th>\n",
       "      <td>(Parlemen menerima amandemen lisan)</td>\n",
       "      <td>(Parlemen menerima amandemen lisan)</td>\n",
       "      <td>5.0</td>\n",
       "      <td>5.00</td>\n",
       "      <td>0.000000e+00</td>\n",
       "    </tr>\n",
       "    <tr>\n",
       "      <th>2078</th>\n",
       "      <td>Debat ditutup.</td>\n",
       "      <td>Debat ditutup.</td>\n",
       "      <td>5.0</td>\n",
       "      <td>5.00</td>\n",
       "      <td>0.000000e+00</td>\n",
       "    </tr>\n",
       "    <tr>\n",
       "      <th>2149</th>\n",
       "      <td>(Ilmu komputer) terjadinya hasil yang salah ya...</td>\n",
       "      <td>(Ilmu komputer) terjadinya hasil yang salah ya...</td>\n",
       "      <td>5.0</td>\n",
       "      <td>5.00</td>\n",
       "      <td>2.980232e-07</td>\n",
       "    </tr>\n",
       "    <tr>\n",
       "      <th>2169</th>\n",
       "      <td>Persetujuan Risalah dari pertemuan sebelumnya</td>\n",
       "      <td>Persetujuan Risalah dari pertemuan sebelumnya</td>\n",
       "      <td>5.0</td>\n",
       "      <td>5.00</td>\n",
       "      <td>0.000000e+00</td>\n",
       "    </tr>\n",
       "    <tr>\n",
       "      <th>2473</th>\n",
       "      <td>Laporan Van Orden (A5-0241 / 2000)</td>\n",
       "      <td>Laporan Van Orden (A5-0241 / 2000)</td>\n",
       "      <td>5.0</td>\n",
       "      <td>4.75</td>\n",
       "      <td>2.500000e-01</td>\n",
       "    </tr>\n",
       "  </tbody>\n",
       "</table>\n",
       "</div>"
      ],
      "text/plain": [
       "                                               text1_id  \\\n",
       "128                                             Tunisia   \n",
       "176               Dua tewas dalam ledakan mobil Bahrain   \n",
       "178                Laporan Maij-Weggen (A5-0323 / 2000)   \n",
       "293                           Itu bukan ide yang bagus.   \n",
       "429                                     Tapi itu perlu.   \n",
       "509                         Seorang pria berlatih tinju   \n",
       "881          Definisi istilah tergantung pada aplikasi.   \n",
       "1077              Mungkin ini bisa berhasil untuk Anda.   \n",
       "1498       Pria tertua di dunia meninggal pada usia 116   \n",
       "1614                (Parlemen menerima amandemen lisan)   \n",
       "2078                                     Debat ditutup.   \n",
       "2149  (Ilmu komputer) terjadinya hasil yang salah ya...   \n",
       "2169      Persetujuan Risalah dari pertemuan sebelumnya   \n",
       "2473                 Laporan Van Orden (A5-0241 / 2000)   \n",
       "\n",
       "                                               text2_id  Model Score  \\\n",
       "128                                             Tunisia          5.0   \n",
       "176               Dua tewas dalam ledakan mobil Bahrain          5.0   \n",
       "178                Laporan Maij-Weggen (A5-0323 / 2000)          5.0   \n",
       "293                           Itu bukan ide yang bagus.          5.0   \n",
       "429                                     Tapi itu perlu.          5.0   \n",
       "509                         Seorang pria berlatih tinju          5.0   \n",
       "881          Definisi istilah tergantung pada aplikasi.          5.0   \n",
       "1077              Mungkin ini bisa berhasil untuk Anda.          5.0   \n",
       "1498       Pria tertua di dunia meninggal pada usia 116          5.0   \n",
       "1614                (Parlemen menerima amandemen lisan)          5.0   \n",
       "2078                                     Debat ditutup.          5.0   \n",
       "2149  (Ilmu komputer) terjadinya hasil yang salah ya...          5.0   \n",
       "2169      Persetujuan Risalah dari pertemuan sebelumnya          5.0   \n",
       "2473                 Laporan Van Orden (A5-0241 / 2000)          5.0   \n",
       "\n",
       "      Human Score    Difference  \n",
       "128          5.00  0.000000e+00  \n",
       "176          5.00  2.980232e-07  \n",
       "178          5.00  0.000000e+00  \n",
       "293          5.00  0.000000e+00  \n",
       "429          5.00  0.000000e+00  \n",
       "509          5.00  2.980232e-07  \n",
       "881          5.00  0.000000e+00  \n",
       "1077         5.00  2.980232e-07  \n",
       "1498         4.60  3.999997e-01  \n",
       "1614         5.00  0.000000e+00  \n",
       "2078         5.00  0.000000e+00  \n",
       "2149         5.00  2.980232e-07  \n",
       "2169         5.00  0.000000e+00  \n",
       "2473         4.75  2.500000e-01  "
      ]
     },
     "execution_count": 138,
     "metadata": {},
     "output_type": "execute_result"
    }
   ],
   "source": [
    "same_values_df = df_test.loc[df_test['text1_id'] == df_test['text2_id']]\n",
    "same_values_df"
   ]
  },
  {
   "cell_type": "code",
   "execution_count": 139,
   "id": "secure-subscriber",
   "metadata": {},
   "outputs": [
    {
     "data": {
      "text/html": [
       "<div>\n",
       "<style scoped>\n",
       "    .dataframe tbody tr th:only-of-type {\n",
       "        vertical-align: middle;\n",
       "    }\n",
       "\n",
       "    .dataframe tbody tr th {\n",
       "        vertical-align: top;\n",
       "    }\n",
       "\n",
       "    .dataframe thead th {\n",
       "        text-align: right;\n",
       "    }\n",
       "</style>\n",
       "<table border=\"1\" class=\"dataframe\">\n",
       "  <thead>\n",
       "    <tr style=\"text-align: right;\">\n",
       "      <th></th>\n",
       "      <th>text1_id</th>\n",
       "      <th>text2_id</th>\n",
       "      <th>Model Score</th>\n",
       "      <th>Human Score</th>\n",
       "      <th>Difference</th>\n",
       "    </tr>\n",
       "  </thead>\n",
       "  <tbody>\n",
       "    <tr>\n",
       "      <th>4</th>\n",
       "      <td>perbatasan atau batas suatu objek</td>\n",
       "      <td>merencanakan, mengatur, dan melaksanakan (suat...</td>\n",
       "      <td>0.331348</td>\n",
       "      <td>0.0</td>\n",
       "      <td>0.331348</td>\n",
       "    </tr>\n",
       "    <tr>\n",
       "      <th>8</th>\n",
       "      <td>tahan dalam keadaan atau situasi tertentu</td>\n",
       "      <td>buat dan isi dengan tugas atau fungsi.</td>\n",
       "      <td>1.346072</td>\n",
       "      <td>0.0</td>\n",
       "      <td>1.346072</td>\n",
       "    </tr>\n",
       "    <tr>\n",
       "      <th>58</th>\n",
       "      <td>Bebek putih berdiri di tanah.</td>\n",
       "      <td>Seorang wanita bertopi hitam berdiri di dekat ...</td>\n",
       "      <td>1.159547</td>\n",
       "      <td>0.0</td>\n",
       "      <td>1.159547</td>\n",
       "    </tr>\n",
       "    <tr>\n",
       "      <th>62</th>\n",
       "      <td>Pesawat terbang menghadap kamera.</td>\n",
       "      <td>Seekor sapi sendirian duduk di dingin halaman.</td>\n",
       "      <td>0.633700</td>\n",
       "      <td>0.0</td>\n",
       "      <td>0.633700</td>\n",
       "    </tr>\n",
       "    <tr>\n",
       "      <th>70</th>\n",
       "      <td>Mereka bisa keluar dari level sedikit, tetapi ...</td>\n",
       "      <td>Ya, meskipun mereka bisa sedikit asam.</td>\n",
       "      <td>1.620105</td>\n",
       "      <td>0.0</td>\n",
       "      <td>1.620105</td>\n",
       "    </tr>\n",
       "    <tr>\n",
       "      <th>...</th>\n",
       "      <td>...</td>\n",
       "      <td>...</td>\n",
       "      <td>...</td>\n",
       "      <td>...</td>\n",
       "      <td>...</td>\n",
       "    </tr>\n",
       "    <tr>\n",
       "      <th>2531</th>\n",
       "      <td>Sekelompok orang menembakkan balon udara panas.</td>\n",
       "      <td>Sekelompok besar orang menunggang kuda coklat ...</td>\n",
       "      <td>0.616109</td>\n",
       "      <td>0.0</td>\n",
       "      <td>0.616109</td>\n",
       "    </tr>\n",
       "    <tr>\n",
       "      <th>2539</th>\n",
       "      <td>Saya terkejut dia bahkan terpilih ...</td>\n",
       "      <td>itu bekerja dalam kasus snyder.</td>\n",
       "      <td>1.182706</td>\n",
       "      <td>0.0</td>\n",
       "      <td>1.182706</td>\n",
       "    </tr>\n",
       "    <tr>\n",
       "      <th>2543</th>\n",
       "      <td>Semua mata tertuju pada panglima militer baru ...</td>\n",
       "      <td>Peringatan banjir di Prancis saat permukaan ai...</td>\n",
       "      <td>0.591049</td>\n",
       "      <td>0.0</td>\n",
       "      <td>0.591049</td>\n",
       "    </tr>\n",
       "    <tr>\n",
       "      <th>2556</th>\n",
       "      <td>Batuan bulan menunjukkan bola bumi yang lahir ...</td>\n",
       "      <td>Menteri India terbunuh dalam tabrakan langsung</td>\n",
       "      <td>0.220681</td>\n",
       "      <td>0.0</td>\n",
       "      <td>0.220681</td>\n",
       "    </tr>\n",
       "    <tr>\n",
       "      <th>2570</th>\n",
       "      <td>Anda MUNGKIN tidak memiliki peluang saat ini.</td>\n",
       "      <td>Mengatakan &amp;quot;terima kasih, saya tidak puny...</td>\n",
       "      <td>1.835099</td>\n",
       "      <td>0.0</td>\n",
       "      <td>1.835099</td>\n",
       "    </tr>\n",
       "  </tbody>\n",
       "</table>\n",
       "<p>165 rows × 5 columns</p>\n",
       "</div>"
      ],
      "text/plain": [
       "                                               text1_id  \\\n",
       "4                     perbatasan atau batas suatu objek   \n",
       "8             tahan dalam keadaan atau situasi tertentu   \n",
       "58                        Bebek putih berdiri di tanah.   \n",
       "62                    Pesawat terbang menghadap kamera.   \n",
       "70    Mereka bisa keluar dari level sedikit, tetapi ...   \n",
       "...                                                 ...   \n",
       "2531    Sekelompok orang menembakkan balon udara panas.   \n",
       "2539              Saya terkejut dia bahkan terpilih ...   \n",
       "2543  Semua mata tertuju pada panglima militer baru ...   \n",
       "2556  Batuan bulan menunjukkan bola bumi yang lahir ...   \n",
       "2570      Anda MUNGKIN tidak memiliki peluang saat ini.   \n",
       "\n",
       "                                               text2_id  Model Score  \\\n",
       "4     merencanakan, mengatur, dan melaksanakan (suat...     0.331348   \n",
       "8                buat dan isi dengan tugas atau fungsi.     1.346072   \n",
       "58    Seorang wanita bertopi hitam berdiri di dekat ...     1.159547   \n",
       "62       Seekor sapi sendirian duduk di dingin halaman.     0.633700   \n",
       "70               Ya, meskipun mereka bisa sedikit asam.     1.620105   \n",
       "...                                                 ...          ...   \n",
       "2531  Sekelompok besar orang menunggang kuda coklat ...     0.616109   \n",
       "2539                    itu bekerja dalam kasus snyder.     1.182706   \n",
       "2543  Peringatan banjir di Prancis saat permukaan ai...     0.591049   \n",
       "2556     Menteri India terbunuh dalam tabrakan langsung     0.220681   \n",
       "2570  Mengatakan &quot;terima kasih, saya tidak puny...     1.835099   \n",
       "\n",
       "      Human Score  Difference  \n",
       "4             0.0    0.331348  \n",
       "8             0.0    1.346072  \n",
       "58            0.0    1.159547  \n",
       "62            0.0    0.633700  \n",
       "70            0.0    1.620105  \n",
       "...           ...         ...  \n",
       "2531          0.0    0.616109  \n",
       "2539          0.0    1.182706  \n",
       "2543          0.0    0.591049  \n",
       "2556          0.0    0.220681  \n",
       "2570          0.0    1.835099  \n",
       "\n",
       "[165 rows x 5 columns]"
      ]
     },
     "execution_count": 139,
     "metadata": {},
     "output_type": "execute_result"
    }
   ],
   "source": [
    "rows_condition = (df_test['Human Score'] == 0) & (df_test['Model Score'] > 0)\n",
    "result_rows = df_test.loc[rows_condition]\n",
    "result_rows"
   ]
  },
  {
   "cell_type": "code",
   "execution_count": 24,
   "id": "aware-depth",
   "metadata": {},
   "outputs": [
    {
     "data": {
      "image/png": "[encoded data removed]",
      "text/plain": [
       "<Figure size 432x288 with 1 Axes>"
      ]
     },
     "metadata": {
      "needs_background": "light"
     },
     "output_type": "display_data"
    }
   ],
   "source": [
    "import matplotlib.pyplot as plt\n",
    "\n",
    "# Create a figure and axis object\n",
    "fig, ax = plt.subplots()\n",
    "\n",
    "result = {\n",
    "    \"indolem/indobert-base-uncased\": [0.7819592898900307, 0.8140050312092975, 0.8257228143176361, 0.8335008785849065, 0.8359033767297225, 0.8393470159903176, 0.8392409623216069, 0.8409582811132297, 0.839341678293986, 0.840136996998779, 0.8413570144706057, 0.8401481353553615, 0.8421059924807303, 0.8422774939507592, 0.8422045443851396, 0.8436987584086902, 0.8448137559564487, 0.8427129159272722, 0.8426448115723246, 0.8432373615519031, 0.8452719235841619, 0.8438807058735336, 0.841618620486103, 0.8436362088259339, 0.8430981236730895, 0.8448383405171174, 0.8411947488867871, 0.8438376395742785, 0.8432342753740629, 0.8432658720753848, 0.8442072264381377, 0.8445788015296022, 0.8436384869209358, 0.8433412934378158, 0.841410681244876, 0.8417974880400155, 0.8420699032609268, 0.8434172828471387, 0.8418666467711823, 0.8425047131018241, 0.8425013953450967, 0.8400902381004034, 0.8395271144594955, 0.838794511063675, 0.8403486055914491, 0.8404638738151778, 0.838511129184538, 0.8357654997619649, 0.839447462581539, 0.8389520906019439],\n",
    "    \"indobenchmark/indobert-large-p1\": [0.8315078976903023, 0.8393966247310835, 0.8426599355490602, 0.841093518183017, 0.8489375609854036, 0.8473418364429638, 0.8474955663339047, 0.8475781956595125, 0.8461833224053023, 0.8476082908525395, 0.8448224396455638, 0.8484133824826133, 0.8483119550696693, 0.8479826321354582, 0.8461700351652722, 0.8483163270649906, 0.8485146868040369, 0.8485658365762082, 0.849530478549016, 0.8462373303675376, 0.8459802565243759, 0.8472565585809894, 0.8469884054519016, 0.847407970566147, 0.8450679182011321, 0.8466236524054417, 0.8455428217242251, 0.8464900071857574, 0.8446786803772331, 0.8454792389817756, 0.8457782056399813, 0.8457952478140714, 0.8454194893234065, 0.8448974637206675, 0.8447124306204972, 0.8439320729807629, 0.8439749651578358, 0.8433213045686972, 0.8458010030420565, 0.8447832372692544, 0.8428638557655167, 0.8433539121556196, 0.8423371964541934, 0.8413719543989051, 0.8420614623972067, 0.8419715034351637, 0.8415250053474609, 0.8415343411012034, 0.8431739334476908, 0.8417405411196827],\n",
    "    \"indobenchmark/indobert-base-p1\": [0.8095893473996345, 0.8152125864419962, 0.8159184370864611, 0.8219262089697198, 0.8228916560809477, 0.8219942149718397, 0.8236477598504418, 0.8221943230011695, 0.8192231303816662, 0.823241975191931, 0.8208515826043556, 0.8214065345011847, 0.8227776480955219, 0.8254758300287441, 0.8206892993718147, 0.8179040809375583, 0.8196977604482426, 0.8200231007581852, 0.8234957473024366, 0.822566840223773, 0.8247343405263049, 0.8201822451872718, 0.8224361178291205, 0.8239647425856901, 0.820409941994017, 0.8238613009437983, 0.8232850199612572, 0.8217144857762476, 0.8201048639805956, 0.81775551467548, 0.819346300369164, 0.8201246355250239, 0.8197686922868331, 0.8194843484190386, 0.8212194955888871, 0.8214247882751186, 0.8188379586320697, 0.8174142805525069, 0.8184337710310939, 0.8200004371143869, 0.8207915346013532, 0.8218301653922808, 0.820867437740415, 0.8179811030273818, 0.8178889881389727, 0.8204880332596607, 0.8201721235681334, 0.8191891716305937, 0.8176192832724541, 0.81638839468813] \n",
    "}\n",
    "\n",
    "# Plot each time series using a loop\n",
    "for key, values in result.items():\n",
    "    ax.plot(values, label=key)\n",
    "\n",
    "# Add labels and title\n",
    "ax.set_xlabel('Epoch')\n",
    "ax.set_ylabel('Spearman-Pearson Rank Correlation Score')\n",
    "ax.set_title('Indonesian Sentence BERT evaluation')\n",
    "\n",
    "# Add a legend to identify the keys\n",
    "ax.legend()\n",
    "\n",
    "# Show the plot\n",
    "plt.show()"
   ]
  },
  {
   "cell_type": "code",
   "execution_count": 161,
   "id": "eastern-strength",
   "metadata": {},
   "outputs": [
    {
     "name": "stdout",
     "output_type": "stream",
     "text": [
      "['8279', '1774', '11207', '2125', '421']\n",
      "10972\n"
     ]
    }
   ],
   "source": [
    "file_path = \"/home/jupyter-23521027/refresh-bert/data/preprocessed-input-directory/liputan6.validation.indobertlargep1.sbert\"\n",
    "\n",
    "existing_ids = []\n",
    "with open(file_path, 'r') as file:\n",
    "    lines = file.readlines()\n",
    "\n",
    "    for line in lines:\n",
    "        line = line.strip()\n",
    "\n",
    "        if line and ' ' not in line:\n",
    "            existing_ids.append(line.split(\"-\")[1])\n",
    "            \n",
    "print(existing_ids[:5])\n",
    "print(len(existing_ids))"
   ]
  },
  {
   "cell_type": "code",
   "execution_count": 49,
   "id": "alternative-skiing",
   "metadata": {},
   "outputs": [],
   "source": [
    "from sentence_transformers import SentenceTransformer, util\n",
    "\n",
    "def find_similarity(model: SentenceTransformer, sentence1: str, sentence2: str) -> float:\n",
    "    embeddings1 = model.encode(sentence1, convert_to_tensor=True)\n",
    "    embeddings2 = model.encode(sentence2, convert_to_tensor=True)\n",
    "\n",
    "    cosine_scores = util.cos_sim(embeddings1, embeddings2)\n",
    "    return float(cosine_scores[0][0])\n",
    "\n",
    "model = SentenceTransformer(f\"/home/jupyter-23521027/refresh-bert/data/sbert/sentence-transformers/indobenchmark/indobert-large-p1-trained-epoch8\", device=\"cuda:1\")"
   ]
  },
  {
   "cell_type": "code",
   "execution_count": 53,
   "id": "polar-cream",
   "metadata": {},
   "outputs": [
    {
     "data": {
      "text/plain": [
       "4.832952916622162"
      ]
     },
     "execution_count": 53,
     "metadata": {},
     "output_type": "execute_result"
    }
   ],
   "source": [
    "sent1 = \"Seperti yang sudah saya jelaskan pada bacaan kedua, ada krisis yang mendasari amandemen arahan ini\"\n",
    "sent2 = \"Seperti yang telah saya katakan dalam bacaan kedua, krisis merupakan dasar dari amandemen arahan ini\"\n",
    "find_similarity(model, sentence1=sent1, sentence2=sent2) * 5"
   ]
  },
  {
   "cell_type": "code",
   "execution_count": 63,
   "id": "mineral-breath",
   "metadata": {},
   "outputs": [
    {
     "name": "stdout",
     "output_type": "stream",
     "text": [
      "Apakah ada cara untuk mengetahui apakah saya memerlukan visa transit untuk singgah di Inggris?\n",
      "Saya memiliki Layover di Jepang, Akan tinggal selama sebulan, Apakah saya memerlukan Visa Transit?\n",
      "1.0\n",
      "1.0691159963607788\n"
     ]
    }
   ],
   "source": [
    "idx = 29\n",
    "print(df.loc[df['score_inference'] < 2.5].iloc[idx].text1_id)\n",
    "print(df.loc[df['score_inference'] < 2.5].iloc[idx].text2_id)\n",
    "print(df.loc[df['score_inference'] < 2.5].iloc[idx].score)\n",
    "print(df.loc[df['score_inference'] < 2.5].iloc[idx].score_inference)"
   ]
  },
  {
   "cell_type": "markdown",
   "id": "hungry-creature",
   "metadata": {},
   "source": [
    "###### "
   ]
  }
 ],
 "metadata": {
  "kernelspec": {
   "display_name": "Python 3",
   "language": "python",
   "name": "python3"
  },
  "language_info": {
   "codemirror_mode": {
    "name": "ipython",
    "version": 3
   },
   "file_extension": ".py",
   "mimetype": "text/x-python",
   "name": "python",
   "nbconvert_exporter": "python",
   "pygments_lexer": "ipython3",
   "version": "3.7.9"
  }
 },
 "nbformat": 4,
 "nbformat_minor": 5
}

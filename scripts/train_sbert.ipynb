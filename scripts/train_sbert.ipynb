{
 "cells": [
  {
   "cell_type": "code",
   "execution_count": 149,
   "id": "assured-holiday",
   "metadata": {},
   "outputs": [
    {
     "data": {
      "text/html": [
       "<div>\n",
       "<style scoped>\n",
       "    .dataframe tbody tr th:only-of-type {\n",
       "        vertical-align: middle;\n",
       "    }\n",
       "\n",
       "    .dataframe tbody tr th {\n",
       "        vertical-align: top;\n",
       "    }\n",
       "\n",
       "    .dataframe thead th {\n",
       "        text-align: right;\n",
       "    }\n",
       "</style>\n",
       "<table border=\"1\" class=\"dataframe\">\n",
       "  <thead>\n",
       "    <tr style=\"text-align: right;\">\n",
       "      <th></th>\n",
       "      <th>text1_id</th>\n",
       "      <th>text2_id</th>\n",
       "      <th>score</th>\n",
       "    </tr>\n",
       "  </thead>\n",
       "  <tbody>\n",
       "    <tr>\n",
       "      <th>0</th>\n",
       "      <td>Sebuah sepeda motor diparkir di dekat dinding ...</td>\n",
       "      <td>Sebuah sepeda motor diparkir oleh mural sebuah...</td>\n",
       "      <td>3.40</td>\n",
       "    </tr>\n",
       "    <tr>\n",
       "      <th>1</th>\n",
       "      <td>dia menikahimu, memilih untuk memiliki anak be...</td>\n",
       "      <td>mereka tidak pernah mengangkat masalah moral a...</td>\n",
       "      <td>0.50</td>\n",
       "    </tr>\n",
       "    <tr>\n",
       "      <th>2</th>\n",
       "      <td>Wanita yang meninggal itu juga mengenakan cinc...</td>\n",
       "      <td>Seorang wanita berambut pirang mengenakan arlo...</td>\n",
       "      <td>2.60</td>\n",
       "    </tr>\n",
       "    <tr>\n",
       "      <th>3</th>\n",
       "      <td>Kedua komponen harus berada di jalur tertutup.</td>\n",
       "      <td>bohlam dan baterai berada di jalur tertutup</td>\n",
       "      <td>3.80</td>\n",
       "    </tr>\n",
       "    <tr>\n",
       "      <th>4</th>\n",
       "      <td>Seperti yang sudah saya jelaskan pada bacaan k...</td>\n",
       "      <td>Seperti yang telah saya katakan dalam bacaan k...</td>\n",
       "      <td>4.75</td>\n",
       "    </tr>\n",
       "    <tr>\n",
       "      <th>...</th>\n",
       "      <td>...</td>\n",
       "      <td>...</td>\n",
       "      <td>...</td>\n",
       "    </tr>\n",
       "    <tr>\n",
       "      <th>2575</th>\n",
       "      <td>PM Turki mendesak untuk mengakhiri protes di I...</td>\n",
       "      <td>Polisi Turki menembakkan gas air mata ke pengu...</td>\n",
       "      <td>2.80</td>\n",
       "    </tr>\n",
       "    <tr>\n",
       "      <th>2576</th>\n",
       "      <td>Karena tegangannya tidak mencapai bohlam.</td>\n",
       "      <td>jalannya tidak tertutup</td>\n",
       "      <td>1.80</td>\n",
       "    </tr>\n",
       "    <tr>\n",
       "      <th>2577</th>\n",
       "      <td>Mereka kemudian jatuh dan telah mendukung sera...</td>\n",
       "      <td>Kedua negara yang menginvasi kemudian jatuh, d...</td>\n",
       "      <td>3.50</td>\n",
       "    </tr>\n",
       "    <tr>\n",
       "      <th>2578</th>\n",
       "      <td>Lem underlayment ke beton: berapa lama waktu y...</td>\n",
       "      <td>Berapa lama waktu yang dibutuhkan untuk menyem...</td>\n",
       "      <td>3.00</td>\n",
       "    </tr>\n",
       "    <tr>\n",
       "      <th>2579</th>\n",
       "      <td>Asosiasi Industri Rekaman Amerika mengatakan a...</td>\n",
       "      <td>Yaitu, jika Asosiasi Industri Rekaman Amerika ...</td>\n",
       "      <td>1.75</td>\n",
       "    </tr>\n",
       "  </tbody>\n",
       "</table>\n",
       "<p>12901 rows × 3 columns</p>\n",
       "</div>"
      ],
      "text/plain": [
       "                                               text1_id  \\\n",
       "0     Sebuah sepeda motor diparkir di dekat dinding ...   \n",
       "1     dia menikahimu, memilih untuk memiliki anak be...   \n",
       "2     Wanita yang meninggal itu juga mengenakan cinc...   \n",
       "3        Kedua komponen harus berada di jalur tertutup.   \n",
       "4     Seperti yang sudah saya jelaskan pada bacaan k...   \n",
       "...                                                 ...   \n",
       "2575  PM Turki mendesak untuk mengakhiri protes di I...   \n",
       "2576          Karena tegangannya tidak mencapai bohlam.   \n",
       "2577  Mereka kemudian jatuh dan telah mendukung sera...   \n",
       "2578  Lem underlayment ke beton: berapa lama waktu y...   \n",
       "2579  Asosiasi Industri Rekaman Amerika mengatakan a...   \n",
       "\n",
       "                                               text2_id  score  \n",
       "0     Sebuah sepeda motor diparkir oleh mural sebuah...   3.40  \n",
       "1     mereka tidak pernah mengangkat masalah moral a...   0.50  \n",
       "2     Seorang wanita berambut pirang mengenakan arlo...   2.60  \n",
       "3           bohlam dan baterai berada di jalur tertutup   3.80  \n",
       "4     Seperti yang telah saya katakan dalam bacaan k...   4.75  \n",
       "...                                                 ...    ...  \n",
       "2575  Polisi Turki menembakkan gas air mata ke pengu...   2.80  \n",
       "2576                            jalannya tidak tertutup   1.80  \n",
       "2577  Kedua negara yang menginvasi kemudian jatuh, d...   3.50  \n",
       "2578  Berapa lama waktu yang dibutuhkan untuk menyem...   3.00  \n",
       "2579  Yaitu, jika Asosiasi Industri Rekaman Amerika ...   1.75  \n",
       "\n",
       "[12901 rows x 3 columns]"
      ]
     },
     "execution_count": 149,
     "metadata": {},
     "output_type": "execute_result"
    }
   ],
   "source": [
    "import pandas as pd\n",
    "\n",
    "df_train = pd.read_csv(\"/home/jupyter-23521027/refresh-bert/data/sbert/train.tsv\", sep=\"\\t\")\n",
    "df_train = df_train[[\"text1_id\", \"text2_id\", \"score\"]]\n",
    "df_train\n",
    "\n",
    "df_test = pd.read_csv(\"/home/jupyter-23521027/refresh-bert/data/sbert/test.tsv\", sep=\"\\t\")\n",
    "df_test = df_test[[\"text1_id\", \"text2_id\", \"score\"]]\n",
    "df_test\n",
    "\n",
    "df = pd.concat([df_train, df_test])\n",
    "df"
   ]
  },
  {
   "cell_type": "code",
   "execution_count": 2,
   "id": "reported-clinic",
   "metadata": {},
   "outputs": [
    {
     "data": {
      "text/html": [
       "<div>\n",
       "<style scoped>\n",
       "    .dataframe tbody tr th:only-of-type {\n",
       "        vertical-align: middle;\n",
       "    }\n",
       "\n",
       "    .dataframe tbody tr th {\n",
       "        vertical-align: top;\n",
       "    }\n",
       "\n",
       "    .dataframe thead th {\n",
       "        text-align: right;\n",
       "    }\n",
       "</style>\n",
       "<table border=\"1\" class=\"dataframe\">\n",
       "  <thead>\n",
       "    <tr style=\"text-align: right;\">\n",
       "      <th></th>\n",
       "      <th>text1_id</th>\n",
       "      <th>text2_id</th>\n",
       "      <th>score</th>\n",
       "    </tr>\n",
       "  </thead>\n",
       "  <tbody>\n",
       "    <tr>\n",
       "      <th>0</th>\n",
       "      <td>Sebuah sepeda motor diparkir di dekat dinding ...</td>\n",
       "      <td>Sebuah sepeda motor diparkir oleh mural sebuah...</td>\n",
       "      <td>0.68</td>\n",
       "    </tr>\n",
       "    <tr>\n",
       "      <th>1</th>\n",
       "      <td>dia menikahimu, memilih untuk memiliki anak be...</td>\n",
       "      <td>mereka tidak pernah mengangkat masalah moral a...</td>\n",
       "      <td>0.10</td>\n",
       "    </tr>\n",
       "    <tr>\n",
       "      <th>2</th>\n",
       "      <td>Wanita yang meninggal itu juga mengenakan cinc...</td>\n",
       "      <td>Seorang wanita berambut pirang mengenakan arlo...</td>\n",
       "      <td>0.52</td>\n",
       "    </tr>\n",
       "    <tr>\n",
       "      <th>3</th>\n",
       "      <td>Kedua komponen harus berada di jalur tertutup.</td>\n",
       "      <td>bohlam dan baterai berada di jalur tertutup</td>\n",
       "      <td>0.76</td>\n",
       "    </tr>\n",
       "    <tr>\n",
       "      <th>4</th>\n",
       "      <td>Seperti yang sudah saya jelaskan pada bacaan k...</td>\n",
       "      <td>Seperti yang telah saya katakan dalam bacaan k...</td>\n",
       "      <td>0.95</td>\n",
       "    </tr>\n",
       "    <tr>\n",
       "      <th>...</th>\n",
       "      <td>...</td>\n",
       "      <td>...</td>\n",
       "      <td>...</td>\n",
       "    </tr>\n",
       "    <tr>\n",
       "      <th>10316</th>\n",
       "      <td>Yang kita tahu adalah ini: Objek yang jauh men...</td>\n",
       "      <td>Perluasan ruang berarti bahwa benda-benda dala...</td>\n",
       "      <td>0.68</td>\n",
       "    </tr>\n",
       "    <tr>\n",
       "      <th>10317</th>\n",
       "      <td>Pabrikan pesawat dunia keempat, Embraer, mempe...</td>\n",
       "      <td>Pabrikan pesawat dunia terbesar keempat, Embra...</td>\n",
       "      <td>1.00</td>\n",
       "    </tr>\n",
       "    <tr>\n",
       "      <th>10318</th>\n",
       "      <td>Dia jelas memiliki alasan yang sah, meskipun d...</td>\n",
       "      <td>Yang pertama memiliki keduanya lebih bertanggu...</td>\n",
       "      <td>0.08</td>\n",
       "    </tr>\n",
       "    <tr>\n",
       "      <th>10319</th>\n",
       "      <td>AS: Assad menggunakan senjata kimia pada pembe...</td>\n",
       "      <td>Assad setuju untuk menyerahkan senjata kimia</td>\n",
       "      <td>0.36</td>\n",
       "    </tr>\n",
       "    <tr>\n",
       "      <th>10320</th>\n",
       "      <td>Seekor kucing berbaring di kursi kantor.</td>\n",
       "      <td>Seekor kucing jahe duduk di kursi kantor.</td>\n",
       "      <td>0.76</td>\n",
       "    </tr>\n",
       "  </tbody>\n",
       "</table>\n",
       "<p>10321 rows × 3 columns</p>\n",
       "</div>"
      ],
      "text/plain": [
       "                                                text1_id  \\\n",
       "0      Sebuah sepeda motor diparkir di dekat dinding ...   \n",
       "1      dia menikahimu, memilih untuk memiliki anak be...   \n",
       "2      Wanita yang meninggal itu juga mengenakan cinc...   \n",
       "3         Kedua komponen harus berada di jalur tertutup.   \n",
       "4      Seperti yang sudah saya jelaskan pada bacaan k...   \n",
       "...                                                  ...   \n",
       "10316  Yang kita tahu adalah ini: Objek yang jauh men...   \n",
       "10317  Pabrikan pesawat dunia keempat, Embraer, mempe...   \n",
       "10318  Dia jelas memiliki alasan yang sah, meskipun d...   \n",
       "10319  AS: Assad menggunakan senjata kimia pada pembe...   \n",
       "10320           Seekor kucing berbaring di kursi kantor.   \n",
       "\n",
       "                                                text2_id  score  \n",
       "0      Sebuah sepeda motor diparkir oleh mural sebuah...   0.68  \n",
       "1      mereka tidak pernah mengangkat masalah moral a...   0.10  \n",
       "2      Seorang wanita berambut pirang mengenakan arlo...   0.52  \n",
       "3            bohlam dan baterai berada di jalur tertutup   0.76  \n",
       "4      Seperti yang telah saya katakan dalam bacaan k...   0.95  \n",
       "...                                                  ...    ...  \n",
       "10316  Perluasan ruang berarti bahwa benda-benda dala...   0.68  \n",
       "10317  Pabrikan pesawat dunia terbesar keempat, Embra...   1.00  \n",
       "10318  Yang pertama memiliki keduanya lebih bertanggu...   0.08  \n",
       "10319       Assad setuju untuk menyerahkan senjata kimia   0.36  \n",
       "10320          Seekor kucing jahe duduk di kursi kantor.   0.76  \n",
       "\n",
       "[10321 rows x 3 columns]"
      ]
     },
     "execution_count": 2,
     "metadata": {},
     "output_type": "execute_result"
    }
   ],
   "source": [
    "import pandas as pd\n",
    "\n",
    "df_train = pd.read_csv(\"/home/jupyter-23521027/refresh-bert/data/sbert/train.tsv\", sep=\"\\t\")\n",
    "df_train = df_train[[\"text1_id\", \"text2_id\", \"score\"]]\n",
    "df_train[\"score\"] = df_train[\"score\"] / 5.0\n",
    "df_train\n"
   ]
  },
  {
   "cell_type": "code",
   "execution_count": 150,
   "id": "leading-pension",
   "metadata": {},
   "outputs": [
    {
     "data": {
      "text/plain": [
       "10321"
      ]
     },
     "execution_count": 150,
     "metadata": {},
     "output_type": "execute_result"
    }
   ],
   "source": [
    "len(df_train)"
   ]
  },
  {
   "cell_type": "code",
   "execution_count": 3,
   "id": "floating-malawi",
   "metadata": {},
   "outputs": [
    {
     "data": {
      "text/html": [
       "<div>\n",
       "<style scoped>\n",
       "    .dataframe tbody tr th:only-of-type {\n",
       "        vertical-align: middle;\n",
       "    }\n",
       "\n",
       "    .dataframe tbody tr th {\n",
       "        vertical-align: top;\n",
       "    }\n",
       "\n",
       "    .dataframe thead th {\n",
       "        text-align: right;\n",
       "    }\n",
       "</style>\n",
       "<table border=\"1\" class=\"dataframe\">\n",
       "  <thead>\n",
       "    <tr style=\"text-align: right;\">\n",
       "      <th></th>\n",
       "      <th>text1_id</th>\n",
       "      <th>text2_id</th>\n",
       "      <th>score</th>\n",
       "    </tr>\n",
       "  </thead>\n",
       "  <tbody>\n",
       "    <tr>\n",
       "      <th>0</th>\n",
       "      <td>Partai oposisi Thailand memboikot pemilihan umum</td>\n",
       "      <td>Oposisi Thailand mengumumkan boikot pemilu</td>\n",
       "      <td>0.96</td>\n",
       "    </tr>\n",
       "    <tr>\n",
       "      <th>1</th>\n",
       "      <td>WHO mengatakan, kasus terbaru tidak sesuai den...</td>\n",
       "      <td>WHO mengatakan kasus Singapura tidak sesuai de...</td>\n",
       "      <td>0.76</td>\n",
       "    </tr>\n",
       "    <tr>\n",
       "      <th>2</th>\n",
       "      <td>Banyak orang yang mengikuti balap sepeda, term...</td>\n",
       "      <td>Seorang lelaki mengendarai kursi roda tiga.</td>\n",
       "      <td>0.52</td>\n",
       "    </tr>\n",
       "    <tr>\n",
       "      <th>3</th>\n",
       "      <td>Jeff Bezos bertaruh $ 250 Juta untuk Menghidup...</td>\n",
       "      <td>Jeff Bezos Membayar $ 250 Juta Untuk The Washi...</td>\n",
       "      <td>0.84</td>\n",
       "    </tr>\n",
       "    <tr>\n",
       "      <th>4</th>\n",
       "      <td>perbatasan atau batas suatu objek</td>\n",
       "      <td>merencanakan, mengatur, dan melaksanakan (suat...</td>\n",
       "      <td>0.00</td>\n",
       "    </tr>\n",
       "    <tr>\n",
       "      <th>...</th>\n",
       "      <td>...</td>\n",
       "      <td>...</td>\n",
       "      <td>...</td>\n",
       "    </tr>\n",
       "    <tr>\n",
       "      <th>2575</th>\n",
       "      <td>PM Turki mendesak untuk mengakhiri protes di I...</td>\n",
       "      <td>Polisi Turki menembakkan gas air mata ke pengu...</td>\n",
       "      <td>0.56</td>\n",
       "    </tr>\n",
       "    <tr>\n",
       "      <th>2576</th>\n",
       "      <td>Karena tegangannya tidak mencapai bohlam.</td>\n",
       "      <td>jalannya tidak tertutup</td>\n",
       "      <td>0.36</td>\n",
       "    </tr>\n",
       "    <tr>\n",
       "      <th>2577</th>\n",
       "      <td>Mereka kemudian jatuh dan telah mendukung sera...</td>\n",
       "      <td>Kedua negara yang menginvasi kemudian jatuh, d...</td>\n",
       "      <td>0.70</td>\n",
       "    </tr>\n",
       "    <tr>\n",
       "      <th>2578</th>\n",
       "      <td>Lem underlayment ke beton: berapa lama waktu y...</td>\n",
       "      <td>Berapa lama waktu yang dibutuhkan untuk menyem...</td>\n",
       "      <td>0.60</td>\n",
       "    </tr>\n",
       "    <tr>\n",
       "      <th>2579</th>\n",
       "      <td>Asosiasi Industri Rekaman Amerika mengatakan a...</td>\n",
       "      <td>Yaitu, jika Asosiasi Industri Rekaman Amerika ...</td>\n",
       "      <td>0.35</td>\n",
       "    </tr>\n",
       "  </tbody>\n",
       "</table>\n",
       "<p>2580 rows × 3 columns</p>\n",
       "</div>"
      ],
      "text/plain": [
       "                                               text1_id  \\\n",
       "0      Partai oposisi Thailand memboikot pemilihan umum   \n",
       "1     WHO mengatakan, kasus terbaru tidak sesuai den...   \n",
       "2     Banyak orang yang mengikuti balap sepeda, term...   \n",
       "3     Jeff Bezos bertaruh $ 250 Juta untuk Menghidup...   \n",
       "4                     perbatasan atau batas suatu objek   \n",
       "...                                                 ...   \n",
       "2575  PM Turki mendesak untuk mengakhiri protes di I...   \n",
       "2576          Karena tegangannya tidak mencapai bohlam.   \n",
       "2577  Mereka kemudian jatuh dan telah mendukung sera...   \n",
       "2578  Lem underlayment ke beton: berapa lama waktu y...   \n",
       "2579  Asosiasi Industri Rekaman Amerika mengatakan a...   \n",
       "\n",
       "                                               text2_id  score  \n",
       "0            Oposisi Thailand mengumumkan boikot pemilu   0.96  \n",
       "1     WHO mengatakan kasus Singapura tidak sesuai de...   0.76  \n",
       "2           Seorang lelaki mengendarai kursi roda tiga.   0.52  \n",
       "3     Jeff Bezos Membayar $ 250 Juta Untuk The Washi...   0.84  \n",
       "4     merencanakan, mengatur, dan melaksanakan (suat...   0.00  \n",
       "...                                                 ...    ...  \n",
       "2575  Polisi Turki menembakkan gas air mata ke pengu...   0.56  \n",
       "2576                            jalannya tidak tertutup   0.36  \n",
       "2577  Kedua negara yang menginvasi kemudian jatuh, d...   0.70  \n",
       "2578  Berapa lama waktu yang dibutuhkan untuk menyem...   0.60  \n",
       "2579  Yaitu, jika Asosiasi Industri Rekaman Amerika ...   0.35  \n",
       "\n",
       "[2580 rows x 3 columns]"
      ]
     },
     "execution_count": 3,
     "metadata": {},
     "output_type": "execute_result"
    }
   ],
   "source": [
    "df_test = pd.read_csv(\"/home/jupyter-23521027/refresh-bert/data/sbert/test.tsv\", sep=\"\\t\")\n",
    "df_test = df_test[[\"text1_id\", \"text2_id\", \"score\"]]\n",
    "df_test[\"score\"] = df_test[\"score\"] / 5.0\n",
    "df_test"
   ]
  },
  {
   "cell_type": "code",
   "execution_count": 4,
   "id": "threaded-development",
   "metadata": {},
   "outputs": [
    {
     "name": "stdout",
     "output_type": "stream",
     "text": [
      "Defaulting to user installation because normal site-packages is not writeable\n",
      "Requirement already satisfied: sentence-transformers in /home/jupyter-23521027/.local/lib/python3.7/site-packages (2.2.2)\n",
      "Requirement already satisfied: numpy in /opt/tljh/user/lib/python3.7/site-packages (from sentence-transformers) (1.21.4)\n",
      "Requirement already satisfied: transformers<5.0.0,>=4.6.0 in /home/jupyter-23521027/.local/lib/python3.7/site-packages (from sentence-transformers) (4.30.2)\n",
      "Requirement already satisfied: scipy in /opt/tljh/user/lib/python3.7/site-packages (from sentence-transformers) (1.7.2)\n",
      "Requirement already satisfied: nltk in /home/jupyter-23521027/.local/lib/python3.7/site-packages (from sentence-transformers) (3.8.1)\n",
      "Requirement already satisfied: sentencepiece in /home/jupyter-23521027/.local/lib/python3.7/site-packages (from sentence-transformers) (0.1.99)\n",
      "Requirement already satisfied: scikit-learn in /opt/tljh/user/lib/python3.7/site-packages (from sentence-transformers) (1.0.1)\n",
      "Requirement already satisfied: torch>=1.6.0 in /opt/tljh/user/lib/python3.7/site-packages (from sentence-transformers) (1.8.0)\n",
      "Requirement already satisfied: torchvision in /opt/tljh/user/lib/python3.7/site-packages (from sentence-transformers) (0.9.0)\n",
      "Requirement already satisfied: tqdm in /opt/tljh/user/lib/python3.7/site-packages (from sentence-transformers) (4.62.3)\n",
      "Requirement already satisfied: huggingface-hub>=0.4.0 in /home/jupyter-23521027/.local/lib/python3.7/site-packages (from sentence-transformers) (0.15.1)\n",
      "Requirement already satisfied: typing-extensions>=3.7.4.3 in /opt/tljh/user/lib/python3.7/site-packages (from huggingface-hub>=0.4.0->sentence-transformers) (3.10.0.2)\n",
      "Requirement already satisfied: pyyaml>=5.1 in /home/jupyter-23521027/.local/lib/python3.7/site-packages (from huggingface-hub>=0.4.0->sentence-transformers) (6.0)\n",
      "Requirement already satisfied: filelock in /home/jupyter-23521027/.local/lib/python3.7/site-packages (from huggingface-hub>=0.4.0->sentence-transformers) (3.12.2)\n",
      "Requirement already satisfied: importlib-metadata in /opt/tljh/user/lib/python3.7/site-packages (from huggingface-hub>=0.4.0->sentence-transformers) (4.8.2)\n",
      "Requirement already satisfied: packaging>=20.9 in /home/jupyter-23521027/.local/lib/python3.7/site-packages (from huggingface-hub>=0.4.0->sentence-transformers) (23.1)\n",
      "Requirement already satisfied: fsspec in /home/jupyter-23521027/.local/lib/python3.7/site-packages (from huggingface-hub>=0.4.0->sentence-transformers) (2023.1.0)\n",
      "Requirement already satisfied: requests in /opt/tljh/user/lib/python3.7/site-packages (from huggingface-hub>=0.4.0->sentence-transformers) (2.26.0)\n",
      "Requirement already satisfied: regex!=2019.12.17 in /home/jupyter-23521027/.local/lib/python3.7/site-packages (from transformers<5.0.0,>=4.6.0->sentence-transformers) (2023.6.3)\n",
      "Requirement already satisfied: tokenizers!=0.11.3,<0.14,>=0.11.1 in /home/jupyter-23521027/.local/lib/python3.7/site-packages (from transformers<5.0.0,>=4.6.0->sentence-transformers) (0.13.3)\n",
      "Requirement already satisfied: safetensors>=0.3.1 in /home/jupyter-23521027/.local/lib/python3.7/site-packages (from transformers<5.0.0,>=4.6.0->sentence-transformers) (0.3.1)\n",
      "Requirement already satisfied: click in /home/jupyter-23521027/.local/lib/python3.7/site-packages (from nltk->sentence-transformers) (8.1.3)\n",
      "Requirement already satisfied: joblib in /opt/tljh/user/lib/python3.7/site-packages (from nltk->sentence-transformers) (1.1.0)\n",
      "Requirement already satisfied: threadpoolctl>=2.0.0 in /opt/tljh/user/lib/python3.7/site-packages (from scikit-learn->sentence-transformers) (3.0.0)\n",
      "Requirement already satisfied: pillow>=4.1.1 in /opt/tljh/user/lib/python3.7/site-packages (from torchvision->sentence-transformers) (7.1.2)\n",
      "Requirement already satisfied: zipp>=0.5 in /opt/tljh/user/lib/python3.7/site-packages (from importlib-metadata->huggingface-hub>=0.4.0->sentence-transformers) (3.6.0)\n",
      "Requirement already satisfied: charset-normalizer~=2.0.0 in /opt/tljh/user/lib/python3.7/site-packages (from requests->huggingface-hub>=0.4.0->sentence-transformers) (2.0.7)\n",
      "Requirement already satisfied: urllib3<1.27,>=1.21.1 in /opt/tljh/user/lib/python3.7/site-packages (from requests->huggingface-hub>=0.4.0->sentence-transformers) (1.26.7)\n",
      "Requirement already satisfied: certifi>=2017.4.17 in /opt/tljh/user/lib/python3.7/site-packages (from requests->huggingface-hub>=0.4.0->sentence-transformers) (2021.10.8)\n",
      "Requirement already satisfied: idna<4,>=2.5 in /opt/tljh/user/lib/python3.7/site-packages (from requests->huggingface-hub>=0.4.0->sentence-transformers) (3.3)\n"
     ]
    }
   ],
   "source": [
    "!pip install sentence-transformers"
   ]
  },
  {
   "cell_type": "code",
   "execution_count": 5,
   "id": "rubber-ceiling",
   "metadata": {},
   "outputs": [
    {
     "name": "stdout",
     "output_type": "stream",
     "text": [
      "Defaulting to user installation because normal site-packages is not writeable\n",
      "Requirement already satisfied: matplotlib in /home/jupyter-23521027/.local/lib/python3.7/site-packages (3.5.3)\n",
      "Requirement already satisfied: fonttools>=4.22.0 in /home/jupyter-23521027/.local/lib/python3.7/site-packages (from matplotlib) (4.38.0)\n",
      "Requirement already satisfied: python-dateutil>=2.7 in /opt/tljh/user/lib/python3.7/site-packages (from matplotlib) (2.8.1)\n",
      "Requirement already satisfied: kiwisolver>=1.0.1 in /home/jupyter-23521027/.local/lib/python3.7/site-packages (from matplotlib) (1.4.4)\n",
      "Requirement already satisfied: pyparsing>=2.2.1 in /opt/tljh/user/lib/python3.7/site-packages (from matplotlib) (2.4.7)\n",
      "Requirement already satisfied: packaging>=20.0 in /home/jupyter-23521027/.local/lib/python3.7/site-packages (from matplotlib) (23.1)\n",
      "Requirement already satisfied: pillow>=6.2.0 in /opt/tljh/user/lib/python3.7/site-packages (from matplotlib) (7.1.2)\n",
      "Requirement already satisfied: cycler>=0.10 in /home/jupyter-23521027/.local/lib/python3.7/site-packages (from matplotlib) (0.11.0)\n",
      "Requirement already satisfied: numpy>=1.17 in /opt/tljh/user/lib/python3.7/site-packages (from matplotlib) (1.21.4)\n",
      "Requirement already satisfied: typing-extensions in /opt/tljh/user/lib/python3.7/site-packages (from kiwisolver>=1.0.1->matplotlib) (3.10.0.2)\n",
      "Requirement already satisfied: six>=1.5 in /opt/tljh/user/lib/python3.7/site-packages (from python-dateutil>=2.7->matplotlib) (1.16.0)\n"
     ]
    }
   ],
   "source": [
    "!pip install matplotlib"
   ]
  },
  {
   "cell_type": "code",
   "execution_count": 6,
   "id": "comparative-security",
   "metadata": {},
   "outputs": [
    {
     "data": {
      "application/vnd.jupyter.widget-view+json": {
       "model_id": "b1743c243725472dba221a0851a9711b",
       "version_major": 2,
       "version_minor": 0
      },
      "text/plain": [
       "Epoch:   0%|          | 0/1 [00:00<?, ?it/s]"
      ]
     },
     "metadata": {},
     "output_type": "display_data"
    },
    {
     "data": {
      "application/vnd.jupyter.widget-view+json": {
       "model_id": "f012a98a00b548338266bdc93a18641a",
       "version_major": 2,
       "version_minor": 0
      },
      "text/plain": [
       "Iteration:   0%|          | 0/646 [00:00<?, ?it/s]"
      ]
     },
     "metadata": {},
     "output_type": "display_data"
    },
    {
     "name": "stdout",
     "output_type": "stream",
     "text": [
      "epoch 1 elapsed time: 0:03:06.583571\n"
     ]
    },
    {
     "data": {
      "application/vnd.jupyter.widget-view+json": {
       "model_id": "0568854d10e54601ad901174cf487e6c",
       "version_major": 2,
       "version_minor": 0
      },
      "text/plain": [
       "Epoch:   0%|          | 0/1 [00:00<?, ?it/s]"
      ]
     },
     "metadata": {},
     "output_type": "display_data"
    },
    {
     "data": {
      "application/vnd.jupyter.widget-view+json": {
       "model_id": "d5b93115e1dd443faed4a4ddc1a53e8f",
       "version_major": 2,
       "version_minor": 0
      },
      "text/plain": [
       "Iteration:   0%|          | 0/646 [00:00<?, ?it/s]"
      ]
     },
     "metadata": {},
     "output_type": "display_data"
    },
    {
     "name": "stdout",
     "output_type": "stream",
     "text": [
      "epoch 2 elapsed time: 0:06:02.089743\n"
     ]
    },
    {
     "data": {
      "application/vnd.jupyter.widget-view+json": {
       "model_id": "6a580e9533e34eb18e1422a85063a16e",
       "version_major": 2,
       "version_minor": 0
      },
      "text/plain": [
       "Epoch:   0%|          | 0/1 [00:00<?, ?it/s]"
      ]
     },
     "metadata": {},
     "output_type": "display_data"
    },
    {
     "data": {
      "application/vnd.jupyter.widget-view+json": {
       "model_id": "cb473b15b02d4a81a5d24a5aca798d25",
       "version_major": 2,
       "version_minor": 0
      },
      "text/plain": [
       "Iteration:   0%|          | 0/646 [00:00<?, ?it/s]"
      ]
     },
     "metadata": {},
     "output_type": "display_data"
    },
    {
     "name": "stdout",
     "output_type": "stream",
     "text": [
      "epoch 3 elapsed time: 0:08:55.982546\n"
     ]
    },
    {
     "data": {
      "application/vnd.jupyter.widget-view+json": {
       "model_id": "b47b3d32f54f415e9832deca6684a91a",
       "version_major": 2,
       "version_minor": 0
      },
      "text/plain": [
       "Epoch:   0%|          | 0/1 [00:00<?, ?it/s]"
      ]
     },
     "metadata": {},
     "output_type": "display_data"
    },
    {
     "data": {
      "application/vnd.jupyter.widget-view+json": {
       "model_id": "14d79eed96074c2a8307d53bf6c35998",
       "version_major": 2,
       "version_minor": 0
      },
      "text/plain": [
       "Iteration:   0%|          | 0/646 [00:00<?, ?it/s]"
      ]
     },
     "metadata": {},
     "output_type": "display_data"
    },
    {
     "name": "stdout",
     "output_type": "stream",
     "text": [
      "epoch 4 elapsed time: 0:11:51.466536\n"
     ]
    },
    {
     "data": {
      "application/vnd.jupyter.widget-view+json": {
       "model_id": "d86f39ee7d6b4ab598ba808f149c63db",
       "version_major": 2,
       "version_minor": 0
      },
      "text/plain": [
       "Epoch:   0%|          | 0/1 [00:00<?, ?it/s]"
      ]
     },
     "metadata": {},
     "output_type": "display_data"
    },
    {
     "data": {
      "application/vnd.jupyter.widget-view+json": {
       "model_id": "17fa00ac16f34e398c4104d94b94642b",
       "version_major": 2,
       "version_minor": 0
      },
      "text/plain": [
       "Iteration:   0%|          | 0/646 [00:00<?, ?it/s]"
      ]
     },
     "metadata": {},
     "output_type": "display_data"
    },
    {
     "name": "stdout",
     "output_type": "stream",
     "text": [
      "epoch 5 elapsed time: 0:14:43.519002\n"
     ]
    },
    {
     "data": {
      "application/vnd.jupyter.widget-view+json": {
       "model_id": "8b7c8d8f96654c249043f054a24c5434",
       "version_major": 2,
       "version_minor": 0
      },
      "text/plain": [
       "Epoch:   0%|          | 0/1 [00:00<?, ?it/s]"
      ]
     },
     "metadata": {},
     "output_type": "display_data"
    },
    {
     "data": {
      "application/vnd.jupyter.widget-view+json": {
       "model_id": "15ce8b0b3d3b4045bf1dd600d180a39b",
       "version_major": 2,
       "version_minor": 0
      },
      "text/plain": [
       "Iteration:   0%|          | 0/646 [00:00<?, ?it/s]"
      ]
     },
     "metadata": {},
     "output_type": "display_data"
    },
    {
     "name": "stdout",
     "output_type": "stream",
     "text": [
      "epoch 6 elapsed time: 0:17:39.601746\n"
     ]
    },
    {
     "data": {
      "application/vnd.jupyter.widget-view+json": {
       "model_id": "330c81b817fb4211a9a2ba40620f9d4c",
       "version_major": 2,
       "version_minor": 0
      },
      "text/plain": [
       "Epoch:   0%|          | 0/1 [00:00<?, ?it/s]"
      ]
     },
     "metadata": {},
     "output_type": "display_data"
    },
    {
     "data": {
      "application/vnd.jupyter.widget-view+json": {
       "model_id": "0ee520595e284083a069d1f14b013f0c",
       "version_major": 2,
       "version_minor": 0
      },
      "text/plain": [
       "Iteration:   0%|          | 0/646 [00:00<?, ?it/s]"
      ]
     },
     "metadata": {},
     "output_type": "display_data"
    },
    {
     "name": "stdout",
     "output_type": "stream",
     "text": [
      "epoch 7 elapsed time: 0:20:36.306732\n"
     ]
    },
    {
     "data": {
      "application/vnd.jupyter.widget-view+json": {
       "model_id": "2a3c3763607647afb29d89c1fe819f1b",
       "version_major": 2,
       "version_minor": 0
      },
      "text/plain": [
       "Epoch:   0%|          | 0/1 [00:00<?, ?it/s]"
      ]
     },
     "metadata": {},
     "output_type": "display_data"
    },
    {
     "data": {
      "application/vnd.jupyter.widget-view+json": {
       "model_id": "c4758ed9994040578d6e60b259f186d8",
       "version_major": 2,
       "version_minor": 0
      },
      "text/plain": [
       "Iteration:   0%|          | 0/646 [00:00<?, ?it/s]"
      ]
     },
     "metadata": {},
     "output_type": "display_data"
    },
    {
     "name": "stdout",
     "output_type": "stream",
     "text": [
      "epoch 8 elapsed time: 0:23:31.874133\n"
     ]
    },
    {
     "data": {
      "application/vnd.jupyter.widget-view+json": {
       "model_id": "59eb7ce1303c4d049b271611118e3e85",
       "version_major": 2,
       "version_minor": 0
      },
      "text/plain": [
       "Epoch:   0%|          | 0/1 [00:00<?, ?it/s]"
      ]
     },
     "metadata": {},
     "output_type": "display_data"
    },
    {
     "data": {
      "application/vnd.jupyter.widget-view+json": {
       "model_id": "a1350cc445664fa0a7f52eafe5ed0ee5",
       "version_major": 2,
       "version_minor": 0
      },
      "text/plain": [
       "Iteration:   0%|          | 0/646 [00:00<?, ?it/s]"
      ]
     },
     "metadata": {},
     "output_type": "display_data"
    },
    {
     "name": "stdout",
     "output_type": "stream",
     "text": [
      "epoch 9 elapsed time: 0:26:27.045958\n"
     ]
    },
    {
     "data": {
      "application/vnd.jupyter.widget-view+json": {
       "model_id": "4486f5451e6a4e73ac5ef35d16aec91a",
       "version_major": 2,
       "version_minor": 0
      },
      "text/plain": [
       "Epoch:   0%|          | 0/1 [00:00<?, ?it/s]"
      ]
     },
     "metadata": {},
     "output_type": "display_data"
    },
    {
     "data": {
      "application/vnd.jupyter.widget-view+json": {
       "model_id": "8902904ab00242919bbcca0bf2492ec2",
       "version_major": 2,
       "version_minor": 0
      },
      "text/plain": [
       "Iteration:   0%|          | 0/646 [00:00<?, ?it/s]"
      ]
     },
     "metadata": {},
     "output_type": "display_data"
    },
    {
     "name": "stdout",
     "output_type": "stream",
     "text": [
      "epoch 10 elapsed time: 0:29:22.466886\n"
     ]
    },
    {
     "data": {
      "application/vnd.jupyter.widget-view+json": {
       "model_id": "37c259725dc24b3890b0724e7df59151",
       "version_major": 2,
       "version_minor": 0
      },
      "text/plain": [
       "Epoch:   0%|          | 0/1 [00:00<?, ?it/s]"
      ]
     },
     "metadata": {},
     "output_type": "display_data"
    },
    {
     "data": {
      "application/vnd.jupyter.widget-view+json": {
       "model_id": "34e15634b43247f3a7883603b8df80a0",
       "version_major": 2,
       "version_minor": 0
      },
      "text/plain": [
       "Iteration:   0%|          | 0/646 [00:00<?, ?it/s]"
      ]
     },
     "metadata": {},
     "output_type": "display_data"
    },
    {
     "name": "stdout",
     "output_type": "stream",
     "text": [
      "epoch 11 elapsed time: 0:32:14.630771\n"
     ]
    },
    {
     "data": {
      "application/vnd.jupyter.widget-view+json": {
       "model_id": "2da2af09a2d74e6c8092ccbb858e7433",
       "version_major": 2,
       "version_minor": 0
      },
      "text/plain": [
       "Epoch:   0%|          | 0/1 [00:00<?, ?it/s]"
      ]
     },
     "metadata": {},
     "output_type": "display_data"
    },
    {
     "data": {
      "application/vnd.jupyter.widget-view+json": {
       "model_id": "6654cfb218d14052ba4ddee0089aa80c",
       "version_major": 2,
       "version_minor": 0
      },
      "text/plain": [
       "Iteration:   0%|          | 0/646 [00:00<?, ?it/s]"
      ]
     },
     "metadata": {},
     "output_type": "display_data"
    },
    {
     "name": "stdout",
     "output_type": "stream",
     "text": [
      "epoch 12 elapsed time: 0:35:11.040334\n"
     ]
    },
    {
     "data": {
      "application/vnd.jupyter.widget-view+json": {
       "model_id": "cd2cfcd5305e4d17a5067d905ecda88e",
       "version_major": 2,
       "version_minor": 0
      },
      "text/plain": [
       "Epoch:   0%|          | 0/1 [00:00<?, ?it/s]"
      ]
     },
     "metadata": {},
     "output_type": "display_data"
    },
    {
     "data": {
      "application/vnd.jupyter.widget-view+json": {
       "model_id": "2fec8f83148b48f0a1b8f32eb0808745",
       "version_major": 2,
       "version_minor": 0
      },
      "text/plain": [
       "Iteration:   0%|          | 0/646 [00:00<?, ?it/s]"
      ]
     },
     "metadata": {},
     "output_type": "display_data"
    },
    {
     "name": "stdout",
     "output_type": "stream",
     "text": [
      "epoch 13 elapsed time: 0:38:07.023881\n"
     ]
    },
    {
     "data": {
      "application/vnd.jupyter.widget-view+json": {
       "model_id": "220af4324cef4c5f933a46f2a7d41b75",
       "version_major": 2,
       "version_minor": 0
      },
      "text/plain": [
       "Epoch:   0%|          | 0/1 [00:00<?, ?it/s]"
      ]
     },
     "metadata": {},
     "output_type": "display_data"
    },
    {
     "data": {
      "application/vnd.jupyter.widget-view+json": {
       "model_id": "a45d12bc0c8b4773acd3efb4946df58b",
       "version_major": 2,
       "version_minor": 0
      },
      "text/plain": [
       "Iteration:   0%|          | 0/646 [00:00<?, ?it/s]"
      ]
     },
     "metadata": {},
     "output_type": "display_data"
    },
    {
     "name": "stdout",
     "output_type": "stream",
     "text": [
      "epoch 14 elapsed time: 0:41:03.243675\n"
     ]
    },
    {
     "data": {
      "application/vnd.jupyter.widget-view+json": {
       "model_id": "05d02a77fde44d60a285bdfcd75bc475",
       "version_major": 2,
       "version_minor": 0
      },
      "text/plain": [
       "Epoch:   0%|          | 0/1 [00:00<?, ?it/s]"
      ]
     },
     "metadata": {},
     "output_type": "display_data"
    },
    {
     "data": {
      "application/vnd.jupyter.widget-view+json": {
       "model_id": "66466a5753bd4717bbcb3cbe2c65a463",
       "version_major": 2,
       "version_minor": 0
      },
      "text/plain": [
       "Iteration:   0%|          | 0/646 [00:00<?, ?it/s]"
      ]
     },
     "metadata": {},
     "output_type": "display_data"
    },
    {
     "name": "stdout",
     "output_type": "stream",
     "text": [
      "epoch 15 elapsed time: 0:43:59.353486\n"
     ]
    },
    {
     "data": {
      "application/vnd.jupyter.widget-view+json": {
       "model_id": "987e3b62f0eb429f944578168c0285d5",
       "version_major": 2,
       "version_minor": 0
      },
      "text/plain": [
       "Epoch:   0%|          | 0/1 [00:00<?, ?it/s]"
      ]
     },
     "metadata": {},
     "output_type": "display_data"
    },
    {
     "data": {
      "application/vnd.jupyter.widget-view+json": {
       "model_id": "b2bd089982744bfda5b2e5ece3502b8d",
       "version_major": 2,
       "version_minor": 0
      },
      "text/plain": [
       "Iteration:   0%|          | 0/646 [00:00<?, ?it/s]"
      ]
     },
     "metadata": {},
     "output_type": "display_data"
    },
    {
     "name": "stdout",
     "output_type": "stream",
     "text": [
      "epoch 16 elapsed time: 0:46:55.292089\n"
     ]
    },
    {
     "data": {
      "application/vnd.jupyter.widget-view+json": {
       "model_id": "f15a8419905a4a55a13b4fb6b5998583",
       "version_major": 2,
       "version_minor": 0
      },
      "text/plain": [
       "Epoch:   0%|          | 0/1 [00:00<?, ?it/s]"
      ]
     },
     "metadata": {},
     "output_type": "display_data"
    },
    {
     "data": {
      "application/vnd.jupyter.widget-view+json": {
       "model_id": "db4c7602a38443309288c46ef59268c4",
       "version_major": 2,
       "version_minor": 0
      },
      "text/plain": [
       "Iteration:   0%|          | 0/646 [00:00<?, ?it/s]"
      ]
     },
     "metadata": {},
     "output_type": "display_data"
    },
    {
     "name": "stdout",
     "output_type": "stream",
     "text": [
      "epoch 17 elapsed time: 0:49:47.985449\n"
     ]
    },
    {
     "data": {
      "application/vnd.jupyter.widget-view+json": {
       "model_id": "acbd01c099464062a31847ff8ff4654d",
       "version_major": 2,
       "version_minor": 0
      },
      "text/plain": [
       "Epoch:   0%|          | 0/1 [00:00<?, ?it/s]"
      ]
     },
     "metadata": {},
     "output_type": "display_data"
    },
    {
     "data": {
      "application/vnd.jupyter.widget-view+json": {
       "model_id": "e3bd955c1edb4968a200745de9053791",
       "version_major": 2,
       "version_minor": 0
      },
      "text/plain": [
       "Iteration:   0%|          | 0/646 [00:00<?, ?it/s]"
      ]
     },
     "metadata": {},
     "output_type": "display_data"
    },
    {
     "name": "stdout",
     "output_type": "stream",
     "text": [
      "epoch 18 elapsed time: 0:52:45.552544\n"
     ]
    },
    {
     "data": {
      "application/vnd.jupyter.widget-view+json": {
       "model_id": "006feb85b6ca4ad8a4c6521dc059c2a0",
       "version_major": 2,
       "version_minor": 0
      },
      "text/plain": [
       "Epoch:   0%|          | 0/1 [00:00<?, ?it/s]"
      ]
     },
     "metadata": {},
     "output_type": "display_data"
    },
    {
     "data": {
      "application/vnd.jupyter.widget-view+json": {
       "model_id": "0328a210f6be43a2a1c60c6731ee1011",
       "version_major": 2,
       "version_minor": 0
      },
      "text/plain": [
       "Iteration:   0%|          | 0/646 [00:00<?, ?it/s]"
      ]
     },
     "metadata": {},
     "output_type": "display_data"
    },
    {
     "name": "stdout",
     "output_type": "stream",
     "text": [
      "epoch 19 elapsed time: 0:55:43.953687\n"
     ]
    },
    {
     "data": {
      "application/vnd.jupyter.widget-view+json": {
       "model_id": "b3f7d61aeb9d4ac2b9a4c38e0f5e1214",
       "version_major": 2,
       "version_minor": 0
      },
      "text/plain": [
       "Epoch:   0%|          | 0/1 [00:00<?, ?it/s]"
      ]
     },
     "metadata": {},
     "output_type": "display_data"
    },
    {
     "data": {
      "application/vnd.jupyter.widget-view+json": {
       "model_id": "d672d0527ea1415c97381fb54b233541",
       "version_major": 2,
       "version_minor": 0
      },
      "text/plain": [
       "Iteration:   0%|          | 0/646 [00:00<?, ?it/s]"
      ]
     },
     "metadata": {},
     "output_type": "display_data"
    },
    {
     "name": "stdout",
     "output_type": "stream",
     "text": [
      "epoch 20 elapsed time: 0:58:42.000645\n"
     ]
    },
    {
     "data": {
      "application/vnd.jupyter.widget-view+json": {
       "model_id": "f4782cd2aa564872879c74e9553188a6",
       "version_major": 2,
       "version_minor": 0
      },
      "text/plain": [
       "Epoch:   0%|          | 0/1 [00:00<?, ?it/s]"
      ]
     },
     "metadata": {},
     "output_type": "display_data"
    },
    {
     "data": {
      "application/vnd.jupyter.widget-view+json": {
       "model_id": "6d82581e45624d73b29a3f07fa3e0955",
       "version_major": 2,
       "version_minor": 0
      },
      "text/plain": [
       "Iteration:   0%|          | 0/646 [00:00<?, ?it/s]"
      ]
     },
     "metadata": {},
     "output_type": "display_data"
    },
    {
     "name": "stdout",
     "output_type": "stream",
     "text": [
      "epoch 21 elapsed time: 1:01:37.799112\n"
     ]
    },
    {
     "data": {
      "application/vnd.jupyter.widget-view+json": {
       "model_id": "c7d93e55750f4255a53265c7d4f41ef5",
       "version_major": 2,
       "version_minor": 0
      },
      "text/plain": [
       "Epoch:   0%|          | 0/1 [00:00<?, ?it/s]"
      ]
     },
     "metadata": {},
     "output_type": "display_data"
    },
    {
     "data": {
      "application/vnd.jupyter.widget-view+json": {
       "model_id": "c42da967ab124397be87d3e3bd808607",
       "version_major": 2,
       "version_minor": 0
      },
      "text/plain": [
       "Iteration:   0%|          | 0/646 [00:00<?, ?it/s]"
      ]
     },
     "metadata": {},
     "output_type": "display_data"
    },
    {
     "name": "stdout",
     "output_type": "stream",
     "text": [
      "epoch 22 elapsed time: 1:04:27.765256\n"
     ]
    },
    {
     "data": {
      "application/vnd.jupyter.widget-view+json": {
       "model_id": "a919484f738949cfb06cd9aaee3e047c",
       "version_major": 2,
       "version_minor": 0
      },
      "text/plain": [
       "Epoch:   0%|          | 0/1 [00:00<?, ?it/s]"
      ]
     },
     "metadata": {},
     "output_type": "display_data"
    },
    {
     "data": {
      "application/vnd.jupyter.widget-view+json": {
       "model_id": "718705eee661495a8875fa697e36376e",
       "version_major": 2,
       "version_minor": 0
      },
      "text/plain": [
       "Iteration:   0%|          | 0/646 [00:00<?, ?it/s]"
      ]
     },
     "metadata": {},
     "output_type": "display_data"
    },
    {
     "name": "stdout",
     "output_type": "stream",
     "text": [
      "epoch 23 elapsed time: 1:07:19.574861\n"
     ]
    },
    {
     "data": {
      "application/vnd.jupyter.widget-view+json": {
       "model_id": "44b7aa98e2634c5a8817221a45c4f5dc",
       "version_major": 2,
       "version_minor": 0
      },
      "text/plain": [
       "Epoch:   0%|          | 0/1 [00:00<?, ?it/s]"
      ]
     },
     "metadata": {},
     "output_type": "display_data"
    },
    {
     "data": {
      "application/vnd.jupyter.widget-view+json": {
       "model_id": "fe095554561e4b1d95d25ca9b9b33dc7",
       "version_major": 2,
       "version_minor": 0
      },
      "text/plain": [
       "Iteration:   0%|          | 0/646 [00:00<?, ?it/s]"
      ]
     },
     "metadata": {},
     "output_type": "display_data"
    },
    {
     "name": "stdout",
     "output_type": "stream",
     "text": [
      "epoch 24 elapsed time: 1:10:13.278605\n"
     ]
    },
    {
     "data": {
      "application/vnd.jupyter.widget-view+json": {
       "model_id": "fef6388153f54e4a97c258e2372e00b5",
       "version_major": 2,
       "version_minor": 0
      },
      "text/plain": [
       "Epoch:   0%|          | 0/1 [00:00<?, ?it/s]"
      ]
     },
     "metadata": {},
     "output_type": "display_data"
    },
    {
     "data": {
      "application/vnd.jupyter.widget-view+json": {
       "model_id": "0d7e23f95f4741ee91771ee2b71a39a6",
       "version_major": 2,
       "version_minor": 0
      },
      "text/plain": [
       "Iteration:   0%|          | 0/646 [00:00<?, ?it/s]"
      ]
     },
     "metadata": {},
     "output_type": "display_data"
    },
    {
     "name": "stdout",
     "output_type": "stream",
     "text": [
      "epoch 25 elapsed time: 1:13:09.147381\n"
     ]
    },
    {
     "data": {
      "application/vnd.jupyter.widget-view+json": {
       "model_id": "e12ee3610c7d4b5083c263f358c5afe3",
       "version_major": 2,
       "version_minor": 0
      },
      "text/plain": [
       "Epoch:   0%|          | 0/1 [00:00<?, ?it/s]"
      ]
     },
     "metadata": {},
     "output_type": "display_data"
    },
    {
     "data": {
      "application/vnd.jupyter.widget-view+json": {
       "model_id": "5fbf2bdfa72749e1a8c789e513cd9230",
       "version_major": 2,
       "version_minor": 0
      },
      "text/plain": [
       "Iteration:   0%|          | 0/646 [00:00<?, ?it/s]"
      ]
     },
     "metadata": {},
     "output_type": "display_data"
    },
    {
     "name": "stdout",
     "output_type": "stream",
     "text": [
      "epoch 26 elapsed time: 1:16:04.516327\n"
     ]
    },
    {
     "data": {
      "application/vnd.jupyter.widget-view+json": {
       "model_id": "1abe0a15ac0a4d8cbc78adb3646262ae",
       "version_major": 2,
       "version_minor": 0
      },
      "text/plain": [
       "Epoch:   0%|          | 0/1 [00:00<?, ?it/s]"
      ]
     },
     "metadata": {},
     "output_type": "display_data"
    },
    {
     "data": {
      "application/vnd.jupyter.widget-view+json": {
       "model_id": "d9a94cd74ea04d3bad3fe7d66f771f96",
       "version_major": 2,
       "version_minor": 0
      },
      "text/plain": [
       "Iteration:   0%|          | 0/646 [00:00<?, ?it/s]"
      ]
     },
     "metadata": {},
     "output_type": "display_data"
    },
    {
     "name": "stdout",
     "output_type": "stream",
     "text": [
      "epoch 27 elapsed time: 1:19:00.750915\n"
     ]
    },
    {
     "data": {
      "application/vnd.jupyter.widget-view+json": {
       "model_id": "c22c28cad3584774a039b5cd49565619",
       "version_major": 2,
       "version_minor": 0
      },
      "text/plain": [
       "Epoch:   0%|          | 0/1 [00:00<?, ?it/s]"
      ]
     },
     "metadata": {},
     "output_type": "display_data"
    },
    {
     "data": {
      "application/vnd.jupyter.widget-view+json": {
       "model_id": "e22cc744eb25494fb353a69eaa593333",
       "version_major": 2,
       "version_minor": 0
      },
      "text/plain": [
       "Iteration:   0%|          | 0/646 [00:00<?, ?it/s]"
      ]
     },
     "metadata": {},
     "output_type": "display_data"
    },
    {
     "name": "stdout",
     "output_type": "stream",
     "text": [
      "epoch 28 elapsed time: 1:21:56.858415\n"
     ]
    },
    {
     "data": {
      "application/vnd.jupyter.widget-view+json": {
       "model_id": "a9683343a4794601908a232871715b05",
       "version_major": 2,
       "version_minor": 0
      },
      "text/plain": [
       "Epoch:   0%|          | 0/1 [00:00<?, ?it/s]"
      ]
     },
     "metadata": {},
     "output_type": "display_data"
    },
    {
     "data": {
      "application/vnd.jupyter.widget-view+json": {
       "model_id": "e7e9c1cd8c0a4dbb90139688676d7f47",
       "version_major": 2,
       "version_minor": 0
      },
      "text/plain": [
       "Iteration:   0%|          | 0/646 [00:00<?, ?it/s]"
      ]
     },
     "metadata": {},
     "output_type": "display_data"
    },
    {
     "name": "stdout",
     "output_type": "stream",
     "text": [
      "epoch 29 elapsed time: 1:24:51.935832\n"
     ]
    },
    {
     "data": {
      "application/vnd.jupyter.widget-view+json": {
       "model_id": "6674fdc7b9434cb489436f909f116574",
       "version_major": 2,
       "version_minor": 0
      },
      "text/plain": [
       "Epoch:   0%|          | 0/1 [00:00<?, ?it/s]"
      ]
     },
     "metadata": {},
     "output_type": "display_data"
    },
    {
     "data": {
      "application/vnd.jupyter.widget-view+json": {
       "model_id": "752a287d371c434eb6f4eb6a31481b80",
       "version_major": 2,
       "version_minor": 0
      },
      "text/plain": [
       "Iteration:   0%|          | 0/646 [00:00<?, ?it/s]"
      ]
     },
     "metadata": {},
     "output_type": "display_data"
    },
    {
     "name": "stdout",
     "output_type": "stream",
     "text": [
      "epoch 30 elapsed time: 1:27:47.249913\n"
     ]
    },
    {
     "data": {
      "application/vnd.jupyter.widget-view+json": {
       "model_id": "3b77b84845ef4f7e8e789fe8f581d5ff",
       "version_major": 2,
       "version_minor": 0
      },
      "text/plain": [
       "Epoch:   0%|          | 0/1 [00:00<?, ?it/s]"
      ]
     },
     "metadata": {},
     "output_type": "display_data"
    },
    {
     "data": {
      "application/vnd.jupyter.widget-view+json": {
       "model_id": "49ce10c87c1847f894b1bc2292d2061b",
       "version_major": 2,
       "version_minor": 0
      },
      "text/plain": [
       "Iteration:   0%|          | 0/646 [00:00<?, ?it/s]"
      ]
     },
     "metadata": {},
     "output_type": "display_data"
    },
    {
     "name": "stdout",
     "output_type": "stream",
     "text": [
      "epoch 31 elapsed time: 1:30:42.249080\n"
     ]
    },
    {
     "data": {
      "application/vnd.jupyter.widget-view+json": {
       "model_id": "9d8cb13a2ae24ab4a7e94e832b77678c",
       "version_major": 2,
       "version_minor": 0
      },
      "text/plain": [
       "Epoch:   0%|          | 0/1 [00:00<?, ?it/s]"
      ]
     },
     "metadata": {},
     "output_type": "display_data"
    },
    {
     "data": {
      "application/vnd.jupyter.widget-view+json": {
       "model_id": "9e6dbec826994b53a9d74bce62e6f5f4",
       "version_major": 2,
       "version_minor": 0
      },
      "text/plain": [
       "Iteration:   0%|          | 0/646 [00:00<?, ?it/s]"
      ]
     },
     "metadata": {},
     "output_type": "display_data"
    },
    {
     "name": "stdout",
     "output_type": "stream",
     "text": [
      "epoch 32 elapsed time: 1:33:38.831024\n"
     ]
    },
    {
     "data": {
      "application/vnd.jupyter.widget-view+json": {
       "model_id": "2161bf70850b49969c3fb0bfb7737bfa",
       "version_major": 2,
       "version_minor": 0
      },
      "text/plain": [
       "Epoch:   0%|          | 0/1 [00:00<?, ?it/s]"
      ]
     },
     "metadata": {},
     "output_type": "display_data"
    },
    {
     "data": {
      "application/vnd.jupyter.widget-view+json": {
       "model_id": "f0e29de558ff4a1fb28b77802743f966",
       "version_major": 2,
       "version_minor": 0
      },
      "text/plain": [
       "Iteration:   0%|          | 0/646 [00:00<?, ?it/s]"
      ]
     },
     "metadata": {},
     "output_type": "display_data"
    },
    {
     "name": "stdout",
     "output_type": "stream",
     "text": [
      "epoch 33 elapsed time: 1:36:32.722456\n"
     ]
    },
    {
     "data": {
      "application/vnd.jupyter.widget-view+json": {
       "model_id": "20ca08591f2c4bb09ed4da7103e9cdb3",
       "version_major": 2,
       "version_minor": 0
      },
      "text/plain": [
       "Epoch:   0%|          | 0/1 [00:00<?, ?it/s]"
      ]
     },
     "metadata": {},
     "output_type": "display_data"
    },
    {
     "data": {
      "application/vnd.jupyter.widget-view+json": {
       "model_id": "100582fa514449d38554e55d688385f0",
       "version_major": 2,
       "version_minor": 0
      },
      "text/plain": [
       "Iteration:   0%|          | 0/646 [00:00<?, ?it/s]"
      ]
     },
     "metadata": {},
     "output_type": "display_data"
    },
    {
     "name": "stdout",
     "output_type": "stream",
     "text": [
      "epoch 34 elapsed time: 1:39:29.100188\n"
     ]
    },
    {
     "data": {
      "application/vnd.jupyter.widget-view+json": {
       "model_id": "2ad9403a116248e2bca1e95fd9f8e036",
       "version_major": 2,
       "version_minor": 0
      },
      "text/plain": [
       "Epoch:   0%|          | 0/1 [00:00<?, ?it/s]"
      ]
     },
     "metadata": {},
     "output_type": "display_data"
    },
    {
     "data": {
      "application/vnd.jupyter.widget-view+json": {
       "model_id": "8ec2ddb24c9f4d0cae9f5871e89b36c7",
       "version_major": 2,
       "version_minor": 0
      },
      "text/plain": [
       "Iteration:   0%|          | 0/646 [00:00<?, ?it/s]"
      ]
     },
     "metadata": {},
     "output_type": "display_data"
    },
    {
     "name": "stdout",
     "output_type": "stream",
     "text": [
      "epoch 35 elapsed time: 1:42:25.484002\n"
     ]
    },
    {
     "data": {
      "application/vnd.jupyter.widget-view+json": {
       "model_id": "ee2a57f02a954b28825751b1f9f3b2b4",
       "version_major": 2,
       "version_minor": 0
      },
      "text/plain": [
       "Epoch:   0%|          | 0/1 [00:00<?, ?it/s]"
      ]
     },
     "metadata": {},
     "output_type": "display_data"
    },
    {
     "data": {
      "application/vnd.jupyter.widget-view+json": {
       "model_id": "baaae9bb133c478696a31ec3d9ce1a74",
       "version_major": 2,
       "version_minor": 0
      },
      "text/plain": [
       "Iteration:   0%|          | 0/646 [00:00<?, ?it/s]"
      ]
     },
     "metadata": {},
     "output_type": "display_data"
    },
    {
     "name": "stdout",
     "output_type": "stream",
     "text": [
      "epoch 36 elapsed time: 1:45:18.467545\n"
     ]
    },
    {
     "data": {
      "application/vnd.jupyter.widget-view+json": {
       "model_id": "7d56bd1c9cb4402780d143266f5503c1",
       "version_major": 2,
       "version_minor": 0
      },
      "text/plain": [
       "Epoch:   0%|          | 0/1 [00:00<?, ?it/s]"
      ]
     },
     "metadata": {},
     "output_type": "display_data"
    },
    {
     "data": {
      "application/vnd.jupyter.widget-view+json": {
       "model_id": "7f2c352d1a3b4e589f86ca0e5c474634",
       "version_major": 2,
       "version_minor": 0
      },
      "text/plain": [
       "Iteration:   0%|          | 0/646 [00:00<?, ?it/s]"
      ]
     },
     "metadata": {},
     "output_type": "display_data"
    },
    {
     "name": "stdout",
     "output_type": "stream",
     "text": [
      "epoch 37 elapsed time: 1:48:09.007315\n"
     ]
    },
    {
     "data": {
      "application/vnd.jupyter.widget-view+json": {
       "model_id": "1d6c9effe3974ae4920297fb993288a7",
       "version_major": 2,
       "version_minor": 0
      },
      "text/plain": [
       "Epoch:   0%|          | 0/1 [00:00<?, ?it/s]"
      ]
     },
     "metadata": {},
     "output_type": "display_data"
    },
    {
     "data": {
      "application/vnd.jupyter.widget-view+json": {
       "model_id": "52a6c4c552fe402ab0254d6d9d51480d",
       "version_major": 2,
       "version_minor": 0
      },
      "text/plain": [
       "Iteration:   0%|          | 0/646 [00:00<?, ?it/s]"
      ]
     },
     "metadata": {},
     "output_type": "display_data"
    },
    {
     "name": "stdout",
     "output_type": "stream",
     "text": [
      "epoch 38 elapsed time: 1:51:05.883318\n"
     ]
    },
    {
     "data": {
      "application/vnd.jupyter.widget-view+json": {
       "model_id": "3bcf171d140e4ba6867d8fae9b53416f",
       "version_major": 2,
       "version_minor": 0
      },
      "text/plain": [
       "Epoch:   0%|          | 0/1 [00:00<?, ?it/s]"
      ]
     },
     "metadata": {},
     "output_type": "display_data"
    },
    {
     "data": {
      "application/vnd.jupyter.widget-view+json": {
       "model_id": "7868dd7846014e2bb35f707ceb54f947",
       "version_major": 2,
       "version_minor": 0
      },
      "text/plain": [
       "Iteration:   0%|          | 0/646 [00:00<?, ?it/s]"
      ]
     },
     "metadata": {},
     "output_type": "display_data"
    },
    {
     "name": "stdout",
     "output_type": "stream",
     "text": [
      "epoch 39 elapsed time: 1:54:02.438487\n"
     ]
    },
    {
     "data": {
      "application/vnd.jupyter.widget-view+json": {
       "model_id": "b07537fb14744a6db813272546b86c99",
       "version_major": 2,
       "version_minor": 0
      },
      "text/plain": [
       "Epoch:   0%|          | 0/1 [00:00<?, ?it/s]"
      ]
     },
     "metadata": {},
     "output_type": "display_data"
    },
    {
     "data": {
      "application/vnd.jupyter.widget-view+json": {
       "model_id": "1c644d77b3ba428eb4affde9d2fd2e8f",
       "version_major": 2,
       "version_minor": 0
      },
      "text/plain": [
       "Iteration:   0%|          | 0/646 [00:00<?, ?it/s]"
      ]
     },
     "metadata": {},
     "output_type": "display_data"
    },
    {
     "name": "stdout",
     "output_type": "stream",
     "text": [
      "epoch 40 elapsed time: 1:56:59.361493\n"
     ]
    },
    {
     "data": {
      "application/vnd.jupyter.widget-view+json": {
       "model_id": "8c4fc5421c174953b75abf4c49684cb2",
       "version_major": 2,
       "version_minor": 0
      },
      "text/plain": [
       "Epoch:   0%|          | 0/1 [00:00<?, ?it/s]"
      ]
     },
     "metadata": {},
     "output_type": "display_data"
    },
    {
     "data": {
      "application/vnd.jupyter.widget-view+json": {
       "model_id": "3272044ebc6342ec956797220e6251eb",
       "version_major": 2,
       "version_minor": 0
      },
      "text/plain": [
       "Iteration:   0%|          | 0/646 [00:00<?, ?it/s]"
      ]
     },
     "metadata": {},
     "output_type": "display_data"
    },
    {
     "name": "stdout",
     "output_type": "stream",
     "text": [
      "epoch 41 elapsed time: 1:59:56.455441\n"
     ]
    },
    {
     "data": {
      "application/vnd.jupyter.widget-view+json": {
       "model_id": "c54c101f2c364ed2a416ebf7a9bb076b",
       "version_major": 2,
       "version_minor": 0
      },
      "text/plain": [
       "Epoch:   0%|          | 0/1 [00:00<?, ?it/s]"
      ]
     },
     "metadata": {},
     "output_type": "display_data"
    },
    {
     "data": {
      "application/vnd.jupyter.widget-view+json": {
       "model_id": "da4391a99a6c4f1fb44849335b8701a5",
       "version_major": 2,
       "version_minor": 0
      },
      "text/plain": [
       "Iteration:   0%|          | 0/646 [00:00<?, ?it/s]"
      ]
     },
     "metadata": {},
     "output_type": "display_data"
    },
    {
     "name": "stdout",
     "output_type": "stream",
     "text": [
      "epoch 42 elapsed time: 2:02:53.998367\n"
     ]
    },
    {
     "data": {
      "application/vnd.jupyter.widget-view+json": {
       "model_id": "64f817b3e21940be8d4982c53e9f5b17",
       "version_major": 2,
       "version_minor": 0
      },
      "text/plain": [
       "Epoch:   0%|          | 0/1 [00:00<?, ?it/s]"
      ]
     },
     "metadata": {},
     "output_type": "display_data"
    },
    {
     "data": {
      "application/vnd.jupyter.widget-view+json": {
       "model_id": "46d33d93017149539429c9c21ace5890",
       "version_major": 2,
       "version_minor": 0
      },
      "text/plain": [
       "Iteration:   0%|          | 0/646 [00:00<?, ?it/s]"
      ]
     },
     "metadata": {},
     "output_type": "display_data"
    },
    {
     "name": "stdout",
     "output_type": "stream",
     "text": [
      "epoch 43 elapsed time: 2:05:52.089617\n"
     ]
    },
    {
     "data": {
      "application/vnd.jupyter.widget-view+json": {
       "model_id": "c729058af7be4305a4bccb3d458843e9",
       "version_major": 2,
       "version_minor": 0
      },
      "text/plain": [
       "Epoch:   0%|          | 0/1 [00:00<?, ?it/s]"
      ]
     },
     "metadata": {},
     "output_type": "display_data"
    },
    {
     "data": {
      "application/vnd.jupyter.widget-view+json": {
       "model_id": "6dbc5767da644816867efd69cc8f0897",
       "version_major": 2,
       "version_minor": 0
      },
      "text/plain": [
       "Iteration:   0%|          | 0/646 [00:00<?, ?it/s]"
      ]
     },
     "metadata": {},
     "output_type": "display_data"
    },
    {
     "name": "stdout",
     "output_type": "stream",
     "text": [
      "epoch 44 elapsed time: 2:08:50.075385\n"
     ]
    },
    {
     "data": {
      "application/vnd.jupyter.widget-view+json": {
       "model_id": "f14d7e9c34d34ea3bb6098911c476721",
       "version_major": 2,
       "version_minor": 0
      },
      "text/plain": [
       "Epoch:   0%|          | 0/1 [00:00<?, ?it/s]"
      ]
     },
     "metadata": {},
     "output_type": "display_data"
    },
    {
     "data": {
      "application/vnd.jupyter.widget-view+json": {
       "model_id": "23811755f2b44c55a70a9f01fab22961",
       "version_major": 2,
       "version_minor": 0
      },
      "text/plain": [
       "Iteration:   0%|          | 0/646 [00:00<?, ?it/s]"
      ]
     },
     "metadata": {},
     "output_type": "display_data"
    },
    {
     "name": "stdout",
     "output_type": "stream",
     "text": [
      "epoch 45 elapsed time: 2:11:46.251255\n"
     ]
    },
    {
     "data": {
      "application/vnd.jupyter.widget-view+json": {
       "model_id": "2414c6c0c5534a2085f2623063663f44",
       "version_major": 2,
       "version_minor": 0
      },
      "text/plain": [
       "Epoch:   0%|          | 0/1 [00:00<?, ?it/s]"
      ]
     },
     "metadata": {},
     "output_type": "display_data"
    },
    {
     "data": {
      "application/vnd.jupyter.widget-view+json": {
       "model_id": "413de03ec18e4ebd90454e80347cbb93",
       "version_major": 2,
       "version_minor": 0
      },
      "text/plain": [
       "Iteration:   0%|          | 0/646 [00:00<?, ?it/s]"
      ]
     },
     "metadata": {},
     "output_type": "display_data"
    },
    {
     "name": "stdout",
     "output_type": "stream",
     "text": [
      "epoch 46 elapsed time: 2:14:43.769754\n"
     ]
    },
    {
     "data": {
      "application/vnd.jupyter.widget-view+json": {
       "model_id": "3f65ad48a88f43da93cee2934e3c1652",
       "version_major": 2,
       "version_minor": 0
      },
      "text/plain": [
       "Epoch:   0%|          | 0/1 [00:00<?, ?it/s]"
      ]
     },
     "metadata": {},
     "output_type": "display_data"
    },
    {
     "data": {
      "application/vnd.jupyter.widget-view+json": {
       "model_id": "df2bff206e5149318bebe639fa5aa384",
       "version_major": 2,
       "version_minor": 0
      },
      "text/plain": [
       "Iteration:   0%|          | 0/646 [00:00<?, ?it/s]"
      ]
     },
     "metadata": {},
     "output_type": "display_data"
    },
    {
     "name": "stdout",
     "output_type": "stream",
     "text": [
      "epoch 47 elapsed time: 2:17:41.300747\n"
     ]
    },
    {
     "data": {
      "application/vnd.jupyter.widget-view+json": {
       "model_id": "fc3645280d124c8a9b5973ca5a007fc6",
       "version_major": 2,
       "version_minor": 0
      },
      "text/plain": [
       "Epoch:   0%|          | 0/1 [00:00<?, ?it/s]"
      ]
     },
     "metadata": {},
     "output_type": "display_data"
    },
    {
     "data": {
      "application/vnd.jupyter.widget-view+json": {
       "model_id": "41c79d9f3c1c439eb9dde3d57ea882c9",
       "version_major": 2,
       "version_minor": 0
      },
      "text/plain": [
       "Iteration:   0%|          | 0/646 [00:00<?, ?it/s]"
      ]
     },
     "metadata": {},
     "output_type": "display_data"
    },
    {
     "name": "stdout",
     "output_type": "stream",
     "text": [
      "epoch 48 elapsed time: 2:20:25.749013\n"
     ]
    },
    {
     "data": {
      "application/vnd.jupyter.widget-view+json": {
       "model_id": "74ef8c5be867493d946e6322348179e5",
       "version_major": 2,
       "version_minor": 0
      },
      "text/plain": [
       "Epoch:   0%|          | 0/1 [00:00<?, ?it/s]"
      ]
     },
     "metadata": {},
     "output_type": "display_data"
    },
    {
     "data": {
      "application/vnd.jupyter.widget-view+json": {
       "model_id": "14cfb11eb0ef416abf30b937ce6e6ebd",
       "version_major": 2,
       "version_minor": 0
      },
      "text/plain": [
       "Iteration:   0%|          | 0/646 [00:00<?, ?it/s]"
      ]
     },
     "metadata": {},
     "output_type": "display_data"
    },
    {
     "name": "stdout",
     "output_type": "stream",
     "text": [
      "epoch 49 elapsed time: 2:23:18.571380\n"
     ]
    },
    {
     "data": {
      "application/vnd.jupyter.widget-view+json": {
       "model_id": "65e43351fb6745728c3ad6943296ee0b",
       "version_major": 2,
       "version_minor": 0
      },
      "text/plain": [
       "Epoch:   0%|          | 0/1 [00:00<?, ?it/s]"
      ]
     },
     "metadata": {},
     "output_type": "display_data"
    },
    {
     "data": {
      "application/vnd.jupyter.widget-view+json": {
       "model_id": "2ade14cf61454072af9d591df09c21d7",
       "version_major": 2,
       "version_minor": 0
      },
      "text/plain": [
       "Iteration:   0%|          | 0/646 [00:00<?, ?it/s]"
      ]
     },
     "metadata": {},
     "output_type": "display_data"
    },
    {
     "name": "stdout",
     "output_type": "stream",
     "text": [
      "epoch 50 elapsed time: 2:26:15.364824\n",
      "total elapsed time:  2:26:15.365965\n"
     ]
    },
    {
     "data": {
      "image/png": "[encoded data removed]",
      "text/plain": [
       "<Figure size 432x288 with 1 Axes>"
      ]
     },
     "metadata": {
      "needs_background": "light"
     },
     "output_type": "display_data"
    },
    {
     "data": {
      "text/plain": [
       "<Figure size 432x288 with 0 Axes>"
      ]
     },
     "metadata": {},
     "output_type": "display_data"
    }
   ],
   "source": [
    "from sentence_transformers import SentenceTransformer, InputExample, models, losses\n",
    "from sentence_transformers.evaluation import EmbeddingSimilarityEvaluator\n",
    "from torch import nn\n",
    "from torch.utils.data import DataLoader\n",
    "import matplotlib.pyplot as plt\n",
    "from datetime import datetime\n",
    "\n",
    "word_embedding_model = models.Transformer('indobenchmark/indobert-large-p1', max_seq_length=256)\n",
    "pooling_model = models.Pooling(word_embedding_model.get_word_embedding_dimension(), pooling_mode=\"mean\")\n",
    "dense_model = models.Dense(in_features=pooling_model.get_sentence_embedding_dimension(), out_features=256, activation_function=nn.Tanh())\n",
    "\n",
    "model = SentenceTransformer(modules=[word_embedding_model, pooling_model, dense_model], device='cuda')\n",
    "\n",
    "train_examples = []\n",
    "for i, row in df_train.iterrows():\n",
    "    train_examples.append(InputExample(texts=[row[\"text1_id\"], row[\"text2_id\"]], label=row[\"score\"]))\n",
    "\n",
    "train_dataloader = DataLoader(train_examples, shuffle=True, batch_size=16)\n",
    "train_loss = losses.CosineSimilarityLoss(model)\n",
    "\n",
    "test_examples = []\n",
    "for i, row in df_test.iterrows():\n",
    "    test_examples.append(InputExample(texts=[row[\"text1_id\"], row[\"text2_id\"]], label=row[\"score\"]))\n",
    "evaluator = EmbeddingSimilarityEvaluator.from_input_examples(test_examples)\n",
    "\n",
    "evaluation_scores = []\n",
    "\n",
    "start = datetime.now()\n",
    "for epoch in range(50):\n",
    "    model.fit(train_objectives=[(train_dataloader, train_loss)], epochs=1, warmup_steps=100, evaluator=evaluator)\n",
    "    evaluation_score = model.evaluate(evaluator)\n",
    "    evaluation_scores.append(evaluation_score)\n",
    "    print(f\"epoch {epoch + 1} elapsed time: {datetime.now() - start}\")\n",
    "end = datetime.now()\n",
    "print(\"total elapsed time: \", end - start)\n",
    "\n",
    "epochs = range(1, len(evaluation_scores) + 1)\n",
    "plt.plot(epochs, evaluation_scores, 'b', label='Evaluation Score')\n",
    "plt.xlabel('Epochs')\n",
    "plt.ylabel('Score')\n",
    "plt.title('Evaluation Score per Epoch')\n",
    "plt.legend()\n",
    "plt.show()\n",
    "model.save(\"/home/jupyter-23521027/refresh-bert/data/sbert/indobert-large-p1_dense_trained\", model_name=\"indobert-large-p1_dense_trained\")\n",
    "plt.savefig('/home/jupyter-23521027/refresh-bert/data/sbert/indobert-large-p1_dense_trained/evaluation_score.png')\n"
   ]
  },
  {
   "cell_type": "code",
   "execution_count": 7,
   "id": "welcome-liverpool",
   "metadata": {},
   "outputs": [
    {
     "name": "stdout",
     "output_type": "stream",
     "text": [
      "[0.8315078976903023, 0.8393966247310835, 0.8426599355490602, 0.841093518183017, 0.8489375609854036, 0.8473418364429638, 0.8474955663339047, 0.8475781956595125, 0.8461833224053023, 0.8476082908525395, 0.8448224396455638, 0.8484133824826133, 0.8483119550696693, 0.8479826321354582, 0.8461700351652722, 0.8483163270649906, 0.8485146868040369, 0.8485658365762082, 0.849530478549016, 0.8462373303675376, 0.8459802565243759, 0.8472565585809894, 0.8469884054519016, 0.847407970566147, 0.8450679182011321, 0.8466236524054417, 0.8455428217242251, 0.8464900071857574, 0.8446786803772331, 0.8454792389817756, 0.8457782056399813, 0.8457952478140714, 0.8454194893234065, 0.8448974637206675, 0.8447124306204972, 0.8439320729807629, 0.8439749651578358, 0.8433213045686972, 0.8458010030420565, 0.8447832372692544, 0.8428638557655167, 0.8433539121556196, 0.8423371964541934, 0.8413719543989051, 0.8420614623972067, 0.8419715034351637, 0.8415250053474609, 0.8415343411012034, 0.8431739334476908, 0.8417405411196827]\n"
     ]
    }
   ],
   "source": [
    "print(evaluation_scores)"
   ]
  },
  {
   "cell_type": "code",
   "execution_count": 8,
   "id": "cheap-trailer",
   "metadata": {},
   "outputs": [],
   "source": [
    "result = {\"indolem-base-uncased_dense_trained\": [0.7819592898900307, 0.8140050312092975, 0.8257228143176361, 0.8335008785849065, 0.8359033767297225, 0.8393470159903176, 0.8392409623216069, 0.8409582811132297, 0.839341678293986, 0.840136996998779, 0.8413570144706057, 0.8401481353553615, 0.8421059924807303, 0.8422774939507592, 0.8422045443851396, 0.8436987584086902, 0.8448137559564487, 0.8427129159272722, 0.8426448115723246, 0.8432373615519031, 0.8452719235841619, 0.8438807058735336, 0.841618620486103, 0.8436362088259339, 0.8430981236730895, 0.8448383405171174, 0.8411947488867871, 0.8438376395742785, 0.8432342753740629, 0.8432658720753848, 0.8442072264381377, 0.8445788015296022, 0.8436384869209358, 0.8433412934378158, 0.841410681244876, 0.8417974880400155, 0.8420699032609268, 0.8434172828471387, 0.8418666467711823, 0.8425047131018241, 0.8425013953450967, 0.8400902381004034, 0.8395271144594955, 0.838794511063675, 0.8403486055914491, 0.8404638738151778, 0.838511129184538, 0.8357654997619649, 0.839447462581539, 0.8389520906019439]}"
   ]
  },
  {
   "cell_type": "code",
   "execution_count": 9,
   "id": "extraordinary-thing",
   "metadata": {},
   "outputs": [],
   "source": [
    "result[\"indobert-base-p2_dense_trained\"] = [0.8085053386988289, 0.8165432484565819, 0.820168769029833, 0.8187043232558585, 0.8206432512396722, 0.8228710797955354, 0.8237549141586206, 0.8247665349014611, 0.8233607103057918, 0.8224330831782423, 0.824783978991024, 0.8254360667374232, 0.8272806786957977, 0.8274774215923361, 0.8249397886773292, 0.825771710823586, 0.8247692817924468, 0.8242435224887681, 0.8236314351394075, 0.825579060834332, 0.823462229077621, 0.8226020696333698, 0.8240751711559504, 0.8218226471047447, 0.8228112143504368, 0.824144568407858, 0.8242581158288721, 0.8233667576396941, 0.8234771072417334, 0.8238805192423635, 0.8238658091670339, 0.8207646152286766, 0.8218521567566508, 0.8224135945019905, 0.8211287854287195, 0.8221862409497526, 0.8225152118051193, 0.8210551333321947, 0.8189021574437332, 0.8211208890057473, 0.8183611626048376, 0.8174813867032661, 0.8189313386242533, 0.8207432986816715, 0.8188721557272144, 0.8176946204449487, 0.8187910137558799, 0.8207675001864041, 0.8163743096710377, 0.8170279526199123]"
   ]
  },
  {
   "cell_type": "code",
   "execution_count": 10,
   "id": "elect-following",
   "metadata": {},
   "outputs": [],
   "source": [
    "result[\"indobert-large-p1_dense_trained\"] = [0.8315078976903023, 0.8393966247310835, 0.8426599355490602, 0.841093518183017, 0.8489375609854036, 0.8473418364429638, 0.8474955663339047, 0.8475781956595125, 0.8461833224053023, 0.8476082908525395, 0.8448224396455638, 0.8484133824826133, 0.8483119550696693, 0.8479826321354582, 0.8461700351652722, 0.8483163270649906, 0.8485146868040369, 0.8485658365762082, 0.849530478549016, 0.8462373303675376, 0.8459802565243759, 0.8472565585809894, 0.8469884054519016, 0.847407970566147, 0.8450679182011321, 0.8466236524054417, 0.8455428217242251, 0.8464900071857574, 0.8446786803772331, 0.8454792389817756, 0.8457782056399813, 0.8457952478140714, 0.8454194893234065, 0.8448974637206675, 0.8447124306204972, 0.8439320729807629, 0.8439749651578358, 0.8433213045686972, 0.8458010030420565, 0.8447832372692544, 0.8428638557655167, 0.8433539121556196, 0.8423371964541934, 0.8413719543989051, 0.8420614623972067, 0.8419715034351637, 0.8415250053474609, 0.8415343411012034, 0.8431739334476908, 0.8417405411196827]"
   ]
  },
  {
   "cell_type": "code",
   "execution_count": 11,
   "id": "distinct-medium",
   "metadata": {},
   "outputs": [
    {
     "data": {
      "image/png": "[encoded data removed]",
      "text/plain": [
       "<Figure size 432x288 with 1 Axes>"
      ]
     },
     "metadata": {
      "needs_background": "light"
     },
     "output_type": "display_data"
    }
   ],
   "source": [
    "import matplotlib.pyplot as plt\n",
    "\n",
    "# Create a figure and axis object\n",
    "fig, ax = plt.subplots()\n",
    "\n",
    "# Plot each time series using a loop\n",
    "for key, values in result.items():\n",
    "    ax.plot(values, label=key)\n",
    "\n",
    "# Add labels and title\n",
    "ax.set_xlabel('Epoch')\n",
    "ax.set_ylabel('Spearman-Pearson Rank Correlation Score')\n",
    "ax.set_title('Indonesian Sentence BERT evaluation')\n",
    "\n",
    "# Add a legend to identify the keys\n",
    "ax.legend()\n",
    "\n",
    "# Show the plot\n",
    "plt.show()"
   ]
  },
  {
   "cell_type": "code",
   "execution_count": 12,
   "id": "funky-involvement",
   "metadata": {},
   "outputs": [
    {
     "data": {
      "application/vnd.jupyter.widget-view+json": {
       "model_id": "3629357eec2941babf8f3019a0db52b7",
       "version_major": 2,
       "version_minor": 0
      },
      "text/plain": [
       "Downloading (…)lve/main/config.json:   0%|          | 0.00/1.53k [00:00<?, ?B/s]"
      ]
     },
     "metadata": {},
     "output_type": "display_data"
    },
    {
     "data": {
      "application/vnd.jupyter.widget-view+json": {
       "model_id": "641f2a0db7b7491c983b9d1321ace897",
       "version_major": 2,
       "version_minor": 0
      },
      "text/plain": [
       "Downloading pytorch_model.bin:   0%|          | 0.00/498M [00:00<?, ?B/s]"
      ]
     },
     "metadata": {},
     "output_type": "display_data"
    },
    {
     "data": {
      "application/vnd.jupyter.widget-view+json": {
       "model_id": "793c93c96d2a4a9a81c5009b46cbf5f9",
       "version_major": 2,
       "version_minor": 0
      },
      "text/plain": [
       "Downloading (…)okenizer_config.json:   0%|          | 0.00/2.00 [00:00<?, ?B/s]"
      ]
     },
     "metadata": {},
     "output_type": "display_data"
    },
    {
     "data": {
      "application/vnd.jupyter.widget-view+json": {
       "model_id": "6e89a4eac3eb4fed8b38bbe3cf948b90",
       "version_major": 2,
       "version_minor": 0
      },
      "text/plain": [
       "Downloading (…)solve/main/vocab.txt:   0%|          | 0.00/229k [00:00<?, ?B/s]"
      ]
     },
     "metadata": {},
     "output_type": "display_data"
    },
    {
     "data": {
      "application/vnd.jupyter.widget-view+json": {
       "model_id": "e6e65a3dd6614b0c8f842ef5bd26a4f2",
       "version_major": 2,
       "version_minor": 0
      },
      "text/plain": [
       "Downloading (…)cial_tokens_map.json:   0%|          | 0.00/112 [00:00<?, ?B/s]"
      ]
     },
     "metadata": {},
     "output_type": "display_data"
    },
    {
     "data": {
      "application/vnd.jupyter.widget-view+json": {
       "model_id": "8ff57de7c6f041749efe7fd48f1c5bec",
       "version_major": 2,
       "version_minor": 0
      },
      "text/plain": [
       "Epoch:   0%|          | 0/1 [00:00<?, ?it/s]"
      ]
     },
     "metadata": {},
     "output_type": "display_data"
    },
    {
     "data": {
      "application/vnd.jupyter.widget-view+json": {
       "model_id": "c99b48e8a1b34a44b5bf9c9ff0551b6f",
       "version_major": 2,
       "version_minor": 0
      },
      "text/plain": [
       "Iteration:   0%|          | 0/646 [00:00<?, ?it/s]"
      ]
     },
     "metadata": {},
     "output_type": "display_data"
    },
    {
     "name": "stdout",
     "output_type": "stream",
     "text": [
      "epoch 1 elapsed time: 0:01:31.121246\n"
     ]
    },
    {
     "data": {
      "application/vnd.jupyter.widget-view+json": {
       "model_id": "537c31f5db3644fbaaff1029bc87f4a0",
       "version_major": 2,
       "version_minor": 0
      },
      "text/plain": [
       "Epoch:   0%|          | 0/1 [00:00<?, ?it/s]"
      ]
     },
     "metadata": {},
     "output_type": "display_data"
    },
    {
     "data": {
      "application/vnd.jupyter.widget-view+json": {
       "model_id": "c0402a97798a4341b320570699f8b5fa",
       "version_major": 2,
       "version_minor": 0
      },
      "text/plain": [
       "Iteration:   0%|          | 0/646 [00:00<?, ?it/s]"
      ]
     },
     "metadata": {},
     "output_type": "display_data"
    },
    {
     "name": "stdout",
     "output_type": "stream",
     "text": [
      "epoch 2 elapsed time: 0:02:58.420447\n"
     ]
    },
    {
     "data": {
      "application/vnd.jupyter.widget-view+json": {
       "model_id": "bc9e05555a6749658e8f537dc9ab299e",
       "version_major": 2,
       "version_minor": 0
      },
      "text/plain": [
       "Epoch:   0%|          | 0/1 [00:00<?, ?it/s]"
      ]
     },
     "metadata": {},
     "output_type": "display_data"
    },
    {
     "data": {
      "application/vnd.jupyter.widget-view+json": {
       "model_id": "bf5418f55c334fee829c55698fe8b4df",
       "version_major": 2,
       "version_minor": 0
      },
      "text/plain": [
       "Iteration:   0%|          | 0/646 [00:00<?, ?it/s]"
      ]
     },
     "metadata": {},
     "output_type": "display_data"
    },
    {
     "name": "stdout",
     "output_type": "stream",
     "text": [
      "epoch 3 elapsed time: 0:04:28.051248\n"
     ]
    },
    {
     "data": {
      "application/vnd.jupyter.widget-view+json": {
       "model_id": "dc544d972dc5401cb4d46c3f2559485f",
       "version_major": 2,
       "version_minor": 0
      },
      "text/plain": [
       "Epoch:   0%|          | 0/1 [00:00<?, ?it/s]"
      ]
     },
     "metadata": {},
     "output_type": "display_data"
    },
    {
     "data": {
      "application/vnd.jupyter.widget-view+json": {
       "model_id": "8906bee6a9ff4811b9999d73544d5283",
       "version_major": 2,
       "version_minor": 0
      },
      "text/plain": [
       "Iteration:   0%|          | 0/646 [00:00<?, ?it/s]"
      ]
     },
     "metadata": {},
     "output_type": "display_data"
    },
    {
     "name": "stdout",
     "output_type": "stream",
     "text": [
      "epoch 4 elapsed time: 0:05:54.208023\n"
     ]
    },
    {
     "data": {
      "application/vnd.jupyter.widget-view+json": {
       "model_id": "d466dc83c29e4789af8fef9e789eebff",
       "version_major": 2,
       "version_minor": 0
      },
      "text/plain": [
       "Epoch:   0%|          | 0/1 [00:00<?, ?it/s]"
      ]
     },
     "metadata": {},
     "output_type": "display_data"
    },
    {
     "data": {
      "application/vnd.jupyter.widget-view+json": {
       "model_id": "2172ada9204f4f6aab5a4390c393e329",
       "version_major": 2,
       "version_minor": 0
      },
      "text/plain": [
       "Iteration:   0%|          | 0/646 [00:00<?, ?it/s]"
      ]
     },
     "metadata": {},
     "output_type": "display_data"
    },
    {
     "name": "stdout",
     "output_type": "stream",
     "text": [
      "epoch 5 elapsed time: 0:07:25.246310\n"
     ]
    },
    {
     "data": {
      "application/vnd.jupyter.widget-view+json": {
       "model_id": "e16ef77af8984632ba98123cf7c0f242",
       "version_major": 2,
       "version_minor": 0
      },
      "text/plain": [
       "Epoch:   0%|          | 0/1 [00:00<?, ?it/s]"
      ]
     },
     "metadata": {},
     "output_type": "display_data"
    },
    {
     "data": {
      "application/vnd.jupyter.widget-view+json": {
       "model_id": "649adedf94d3446493ad14c361f49f1d",
       "version_major": 2,
       "version_minor": 0
      },
      "text/plain": [
       "Iteration:   0%|          | 0/646 [00:00<?, ?it/s]"
      ]
     },
     "metadata": {},
     "output_type": "display_data"
    },
    {
     "name": "stdout",
     "output_type": "stream",
     "text": [
      "epoch 6 elapsed time: 0:08:55.150669\n"
     ]
    },
    {
     "data": {
      "application/vnd.jupyter.widget-view+json": {
       "model_id": "07c8f0990cf443efa670895dfbe6c4cf",
       "version_major": 2,
       "version_minor": 0
      },
      "text/plain": [
       "Epoch:   0%|          | 0/1 [00:00<?, ?it/s]"
      ]
     },
     "metadata": {},
     "output_type": "display_data"
    },
    {
     "data": {
      "application/vnd.jupyter.widget-view+json": {
       "model_id": "0fd3de80e6534c08847538a31fd9a553",
       "version_major": 2,
       "version_minor": 0
      },
      "text/plain": [
       "Iteration:   0%|          | 0/646 [00:00<?, ?it/s]"
      ]
     },
     "metadata": {},
     "output_type": "display_data"
    },
    {
     "name": "stdout",
     "output_type": "stream",
     "text": [
      "epoch 7 elapsed time: 0:10:25.603822\n"
     ]
    },
    {
     "data": {
      "application/vnd.jupyter.widget-view+json": {
       "model_id": "1ab8486ad0674a66bd8219d25034e1bc",
       "version_major": 2,
       "version_minor": 0
      },
      "text/plain": [
       "Epoch:   0%|          | 0/1 [00:00<?, ?it/s]"
      ]
     },
     "metadata": {},
     "output_type": "display_data"
    },
    {
     "data": {
      "application/vnd.jupyter.widget-view+json": {
       "model_id": "2f175cce59ba4033b3033c9201a046a4",
       "version_major": 2,
       "version_minor": 0
      },
      "text/plain": [
       "Iteration:   0%|          | 0/646 [00:00<?, ?it/s]"
      ]
     },
     "metadata": {},
     "output_type": "display_data"
    },
    {
     "name": "stdout",
     "output_type": "stream",
     "text": [
      "epoch 8 elapsed time: 0:11:57.417745\n"
     ]
    },
    {
     "data": {
      "application/vnd.jupyter.widget-view+json": {
       "model_id": "994645ba300d4d62a1daa50829056e9d",
       "version_major": 2,
       "version_minor": 0
      },
      "text/plain": [
       "Epoch:   0%|          | 0/1 [00:00<?, ?it/s]"
      ]
     },
     "metadata": {},
     "output_type": "display_data"
    },
    {
     "data": {
      "application/vnd.jupyter.widget-view+json": {
       "model_id": "983c0a0cbc72473884c44f0d6557a532",
       "version_major": 2,
       "version_minor": 0
      },
      "text/plain": [
       "Iteration:   0%|          | 0/646 [00:00<?, ?it/s]"
      ]
     },
     "metadata": {},
     "output_type": "display_data"
    },
    {
     "name": "stdout",
     "output_type": "stream",
     "text": [
      "epoch 9 elapsed time: 0:13:23.545201\n"
     ]
    },
    {
     "data": {
      "application/vnd.jupyter.widget-view+json": {
       "model_id": "8c7b02d67d4e4b35bac437eb2f84d294",
       "version_major": 2,
       "version_minor": 0
      },
      "text/plain": [
       "Epoch:   0%|          | 0/1 [00:00<?, ?it/s]"
      ]
     },
     "metadata": {},
     "output_type": "display_data"
    },
    {
     "data": {
      "application/vnd.jupyter.widget-view+json": {
       "model_id": "479df0fe763f44a9adb1cf1d35e12410",
       "version_major": 2,
       "version_minor": 0
      },
      "text/plain": [
       "Iteration:   0%|          | 0/646 [00:00<?, ?it/s]"
      ]
     },
     "metadata": {},
     "output_type": "display_data"
    },
    {
     "name": "stdout",
     "output_type": "stream",
     "text": [
      "epoch 10 elapsed time: 0:14:49.897351\n"
     ]
    },
    {
     "data": {
      "application/vnd.jupyter.widget-view+json": {
       "model_id": "0e208e0dbcf74c369a599e58e461aa48",
       "version_major": 2,
       "version_minor": 0
      },
      "text/plain": [
       "Epoch:   0%|          | 0/1 [00:00<?, ?it/s]"
      ]
     },
     "metadata": {},
     "output_type": "display_data"
    },
    {
     "data": {
      "application/vnd.jupyter.widget-view+json": {
       "model_id": "289d0d3d20f045b3ae4bd3d0e4023bf1",
       "version_major": 2,
       "version_minor": 0
      },
      "text/plain": [
       "Iteration:   0%|          | 0/646 [00:00<?, ?it/s]"
      ]
     },
     "metadata": {},
     "output_type": "display_data"
    },
    {
     "name": "stdout",
     "output_type": "stream",
     "text": [
      "epoch 11 elapsed time: 0:16:18.540793\n"
     ]
    },
    {
     "data": {
      "application/vnd.jupyter.widget-view+json": {
       "model_id": "11630df24ef7432f867f4fe87231e7d5",
       "version_major": 2,
       "version_minor": 0
      },
      "text/plain": [
       "Epoch:   0%|          | 0/1 [00:00<?, ?it/s]"
      ]
     },
     "metadata": {},
     "output_type": "display_data"
    },
    {
     "data": {
      "application/vnd.jupyter.widget-view+json": {
       "model_id": "805109d371174e35ae4bb8e2fa91b1e4",
       "version_major": 2,
       "version_minor": 0
      },
      "text/plain": [
       "Iteration:   0%|          | 0/646 [00:00<?, ?it/s]"
      ]
     },
     "metadata": {},
     "output_type": "display_data"
    },
    {
     "name": "stdout",
     "output_type": "stream",
     "text": [
      "epoch 12 elapsed time: 0:17:47.981076\n"
     ]
    },
    {
     "data": {
      "application/vnd.jupyter.widget-view+json": {
       "model_id": "e969ed2e506b4d898ddafc74c4ad4d89",
       "version_major": 2,
       "version_minor": 0
      },
      "text/plain": [
       "Epoch:   0%|          | 0/1 [00:00<?, ?it/s]"
      ]
     },
     "metadata": {},
     "output_type": "display_data"
    },
    {
     "data": {
      "application/vnd.jupyter.widget-view+json": {
       "model_id": "a8c844bac8214c9197cb4c80408d8ae6",
       "version_major": 2,
       "version_minor": 0
      },
      "text/plain": [
       "Iteration:   0%|          | 0/646 [00:00<?, ?it/s]"
      ]
     },
     "metadata": {},
     "output_type": "display_data"
    },
    {
     "name": "stdout",
     "output_type": "stream",
     "text": [
      "epoch 13 elapsed time: 0:19:14.940533\n"
     ]
    },
    {
     "data": {
      "application/vnd.jupyter.widget-view+json": {
       "model_id": "8200fcca2d5646c4b62abd9bd5965f8a",
       "version_major": 2,
       "version_minor": 0
      },
      "text/plain": [
       "Epoch:   0%|          | 0/1 [00:00<?, ?it/s]"
      ]
     },
     "metadata": {},
     "output_type": "display_data"
    },
    {
     "data": {
      "application/vnd.jupyter.widget-view+json": {
       "model_id": "5293c8e355274cb8b76ad7ab0856f8d8",
       "version_major": 2,
       "version_minor": 0
      },
      "text/plain": [
       "Iteration:   0%|          | 0/646 [00:00<?, ?it/s]"
      ]
     },
     "metadata": {},
     "output_type": "display_data"
    },
    {
     "name": "stdout",
     "output_type": "stream",
     "text": [
      "epoch 14 elapsed time: 0:20:43.538695\n"
     ]
    },
    {
     "data": {
      "application/vnd.jupyter.widget-view+json": {
       "model_id": "fbf8dcb67d134323b7f0e5b8b2df6dd8",
       "version_major": 2,
       "version_minor": 0
      },
      "text/plain": [
       "Epoch:   0%|          | 0/1 [00:00<?, ?it/s]"
      ]
     },
     "metadata": {},
     "output_type": "display_data"
    },
    {
     "data": {
      "application/vnd.jupyter.widget-view+json": {
       "model_id": "e5191ca3cb03432e9158910673cc9b81",
       "version_major": 2,
       "version_minor": 0
      },
      "text/plain": [
       "Iteration:   0%|          | 0/646 [00:00<?, ?it/s]"
      ]
     },
     "metadata": {},
     "output_type": "display_data"
    },
    {
     "name": "stdout",
     "output_type": "stream",
     "text": [
      "epoch 15 elapsed time: 0:22:12.237379\n"
     ]
    },
    {
     "data": {
      "application/vnd.jupyter.widget-view+json": {
       "model_id": "2b4d7a3276b540c3ae6441a9534bfab5",
       "version_major": 2,
       "version_minor": 0
      },
      "text/plain": [
       "Epoch:   0%|          | 0/1 [00:00<?, ?it/s]"
      ]
     },
     "metadata": {},
     "output_type": "display_data"
    },
    {
     "data": {
      "application/vnd.jupyter.widget-view+json": {
       "model_id": "1c4e8efe7955418b8e4c8dd2e1715159",
       "version_major": 2,
       "version_minor": 0
      },
      "text/plain": [
       "Iteration:   0%|          | 0/646 [00:00<?, ?it/s]"
      ]
     },
     "metadata": {},
     "output_type": "display_data"
    },
    {
     "name": "stdout",
     "output_type": "stream",
     "text": [
      "epoch 16 elapsed time: 0:23:42.992747\n"
     ]
    },
    {
     "data": {
      "application/vnd.jupyter.widget-view+json": {
       "model_id": "08dacd168e1249109129bd076ce5d793",
       "version_major": 2,
       "version_minor": 0
      },
      "text/plain": [
       "Epoch:   0%|          | 0/1 [00:00<?, ?it/s]"
      ]
     },
     "metadata": {},
     "output_type": "display_data"
    },
    {
     "data": {
      "application/vnd.jupyter.widget-view+json": {
       "model_id": "f3af8f3571fd49d99aef1e23412730e0",
       "version_major": 2,
       "version_minor": 0
      },
      "text/plain": [
       "Iteration:   0%|          | 0/646 [00:00<?, ?it/s]"
      ]
     },
     "metadata": {},
     "output_type": "display_data"
    },
    {
     "name": "stdout",
     "output_type": "stream",
     "text": [
      "epoch 17 elapsed time: 0:25:14.083720\n"
     ]
    },
    {
     "data": {
      "application/vnd.jupyter.widget-view+json": {
       "model_id": "480f72eeeafa4aa486324c1217c9a311",
       "version_major": 2,
       "version_minor": 0
      },
      "text/plain": [
       "Epoch:   0%|          | 0/1 [00:00<?, ?it/s]"
      ]
     },
     "metadata": {},
     "output_type": "display_data"
    },
    {
     "data": {
      "application/vnd.jupyter.widget-view+json": {
       "model_id": "d3682a91876f48a5af40b05005a98774",
       "version_major": 2,
       "version_minor": 0
      },
      "text/plain": [
       "Iteration:   0%|          | 0/646 [00:00<?, ?it/s]"
      ]
     },
     "metadata": {},
     "output_type": "display_data"
    },
    {
     "name": "stdout",
     "output_type": "stream",
     "text": [
      "epoch 18 elapsed time: 0:26:41.097296\n"
     ]
    },
    {
     "data": {
      "application/vnd.jupyter.widget-view+json": {
       "model_id": "46548a3a48404218a705af06009d37fc",
       "version_major": 2,
       "version_minor": 0
      },
      "text/plain": [
       "Epoch:   0%|          | 0/1 [00:00<?, ?it/s]"
      ]
     },
     "metadata": {},
     "output_type": "display_data"
    },
    {
     "data": {
      "application/vnd.jupyter.widget-view+json": {
       "model_id": "d4b78d8136804d1e9a844160e0cab9aa",
       "version_major": 2,
       "version_minor": 0
      },
      "text/plain": [
       "Iteration:   0%|          | 0/646 [00:00<?, ?it/s]"
      ]
     },
     "metadata": {},
     "output_type": "display_data"
    },
    {
     "name": "stdout",
     "output_type": "stream",
     "text": [
      "epoch 19 elapsed time: 0:28:09.911667\n"
     ]
    },
    {
     "data": {
      "application/vnd.jupyter.widget-view+json": {
       "model_id": "7b3f41b1fe0b49f29ace2fb9466229be",
       "version_major": 2,
       "version_minor": 0
      },
      "text/plain": [
       "Epoch:   0%|          | 0/1 [00:00<?, ?it/s]"
      ]
     },
     "metadata": {},
     "output_type": "display_data"
    },
    {
     "data": {
      "application/vnd.jupyter.widget-view+json": {
       "model_id": "82508cee2c4c4f94a34b3a8f099a4cfb",
       "version_major": 2,
       "version_minor": 0
      },
      "text/plain": [
       "Iteration:   0%|          | 0/646 [00:00<?, ?it/s]"
      ]
     },
     "metadata": {},
     "output_type": "display_data"
    },
    {
     "name": "stdout",
     "output_type": "stream",
     "text": [
      "epoch 20 elapsed time: 0:29:38.557798\n"
     ]
    },
    {
     "data": {
      "application/vnd.jupyter.widget-view+json": {
       "model_id": "06dcd6b3802b45f29ed47c42afcb1b3f",
       "version_major": 2,
       "version_minor": 0
      },
      "text/plain": [
       "Epoch:   0%|          | 0/1 [00:00<?, ?it/s]"
      ]
     },
     "metadata": {},
     "output_type": "display_data"
    },
    {
     "data": {
      "application/vnd.jupyter.widget-view+json": {
       "model_id": "fc5b2a809fa64411aef287904e578929",
       "version_major": 2,
       "version_minor": 0
      },
      "text/plain": [
       "Iteration:   0%|          | 0/646 [00:00<?, ?it/s]"
      ]
     },
     "metadata": {},
     "output_type": "display_data"
    },
    {
     "name": "stdout",
     "output_type": "stream",
     "text": [
      "epoch 21 elapsed time: 0:31:08.615441\n"
     ]
    },
    {
     "data": {
      "application/vnd.jupyter.widget-view+json": {
       "model_id": "c94407d233ba4b6c9fe4a9db37a2615f",
       "version_major": 2,
       "version_minor": 0
      },
      "text/plain": [
       "Epoch:   0%|          | 0/1 [00:00<?, ?it/s]"
      ]
     },
     "metadata": {},
     "output_type": "display_data"
    },
    {
     "data": {
      "application/vnd.jupyter.widget-view+json": {
       "model_id": "ea0f0db4ffca41ddbc7d132c5d0259b3",
       "version_major": 2,
       "version_minor": 0
      },
      "text/plain": [
       "Iteration:   0%|          | 0/646 [00:00<?, ?it/s]"
      ]
     },
     "metadata": {},
     "output_type": "display_data"
    },
    {
     "name": "stdout",
     "output_type": "stream",
     "text": [
      "epoch 22 elapsed time: 0:32:36.443770\n"
     ]
    },
    {
     "data": {
      "application/vnd.jupyter.widget-view+json": {
       "model_id": "e2899c06d7534296a48d8bd4f0ea852b",
       "version_major": 2,
       "version_minor": 0
      },
      "text/plain": [
       "Epoch:   0%|          | 0/1 [00:00<?, ?it/s]"
      ]
     },
     "metadata": {},
     "output_type": "display_data"
    },
    {
     "data": {
      "application/vnd.jupyter.widget-view+json": {
       "model_id": "bef63f63031b481695b5f68e81402f74",
       "version_major": 2,
       "version_minor": 0
      },
      "text/plain": [
       "Iteration:   0%|          | 0/646 [00:00<?, ?it/s]"
      ]
     },
     "metadata": {},
     "output_type": "display_data"
    },
    {
     "name": "stdout",
     "output_type": "stream",
     "text": [
      "epoch 23 elapsed time: 0:34:07.860954\n"
     ]
    },
    {
     "data": {
      "application/vnd.jupyter.widget-view+json": {
       "model_id": "a0b2e17952aa4d0b90a5e36f65d504fc",
       "version_major": 2,
       "version_minor": 0
      },
      "text/plain": [
       "Epoch:   0%|          | 0/1 [00:00<?, ?it/s]"
      ]
     },
     "metadata": {},
     "output_type": "display_data"
    },
    {
     "data": {
      "application/vnd.jupyter.widget-view+json": {
       "model_id": "9e03d97df5484ffda9b04877843095a0",
       "version_major": 2,
       "version_minor": 0
      },
      "text/plain": [
       "Iteration:   0%|          | 0/646 [00:00<?, ?it/s]"
      ]
     },
     "metadata": {},
     "output_type": "display_data"
    },
    {
     "name": "stdout",
     "output_type": "stream",
     "text": [
      "epoch 24 elapsed time: 0:35:37.772991\n"
     ]
    },
    {
     "data": {
      "application/vnd.jupyter.widget-view+json": {
       "model_id": "9ff4024487b74b579f1e30c160b52311",
       "version_major": 2,
       "version_minor": 0
      },
      "text/plain": [
       "Epoch:   0%|          | 0/1 [00:00<?, ?it/s]"
      ]
     },
     "metadata": {},
     "output_type": "display_data"
    },
    {
     "data": {
      "application/vnd.jupyter.widget-view+json": {
       "model_id": "ba4e7b5e7475463da2eb9df8957dfad5",
       "version_major": 2,
       "version_minor": 0
      },
      "text/plain": [
       "Iteration:   0%|          | 0/646 [00:00<?, ?it/s]"
      ]
     },
     "metadata": {},
     "output_type": "display_data"
    },
    {
     "name": "stdout",
     "output_type": "stream",
     "text": [
      "epoch 25 elapsed time: 0:37:06.882781\n"
     ]
    },
    {
     "data": {
      "application/vnd.jupyter.widget-view+json": {
       "model_id": "90c861b0390440f3925b19f8f7602496",
       "version_major": 2,
       "version_minor": 0
      },
      "text/plain": [
       "Epoch:   0%|          | 0/1 [00:00<?, ?it/s]"
      ]
     },
     "metadata": {},
     "output_type": "display_data"
    },
    {
     "data": {
      "application/vnd.jupyter.widget-view+json": {
       "model_id": "e5b2ffc67f2943819d938768a59e12b2",
       "version_major": 2,
       "version_minor": 0
      },
      "text/plain": [
       "Iteration:   0%|          | 0/646 [00:00<?, ?it/s]"
      ]
     },
     "metadata": {},
     "output_type": "display_data"
    },
    {
     "name": "stdout",
     "output_type": "stream",
     "text": [
      "epoch 26 elapsed time: 0:38:36.752617\n"
     ]
    },
    {
     "data": {
      "application/vnd.jupyter.widget-view+json": {
       "model_id": "e8ef8a9819a1436c93ccf58919e58da2",
       "version_major": 2,
       "version_minor": 0
      },
      "text/plain": [
       "Epoch:   0%|          | 0/1 [00:00<?, ?it/s]"
      ]
     },
     "metadata": {},
     "output_type": "display_data"
    },
    {
     "data": {
      "application/vnd.jupyter.widget-view+json": {
       "model_id": "4737dcc3e42c44b7b03480744d74ca23",
       "version_major": 2,
       "version_minor": 0
      },
      "text/plain": [
       "Iteration:   0%|          | 0/646 [00:00<?, ?it/s]"
      ]
     },
     "metadata": {},
     "output_type": "display_data"
    },
    {
     "name": "stdout",
     "output_type": "stream",
     "text": [
      "epoch 27 elapsed time: 0:40:07.988725\n"
     ]
    },
    {
     "data": {
      "application/vnd.jupyter.widget-view+json": {
       "model_id": "c246d89395454e8a8aef54106d9dcbe8",
       "version_major": 2,
       "version_minor": 0
      },
      "text/plain": [
       "Epoch:   0%|          | 0/1 [00:00<?, ?it/s]"
      ]
     },
     "metadata": {},
     "output_type": "display_data"
    },
    {
     "data": {
      "application/vnd.jupyter.widget-view+json": {
       "model_id": "81941a3198554a2ea60699e7936a00b3",
       "version_major": 2,
       "version_minor": 0
      },
      "text/plain": [
       "Iteration:   0%|          | 0/646 [00:00<?, ?it/s]"
      ]
     },
     "metadata": {},
     "output_type": "display_data"
    },
    {
     "name": "stdout",
     "output_type": "stream",
     "text": [
      "epoch 28 elapsed time: 0:41:38.339999\n"
     ]
    },
    {
     "data": {
      "application/vnd.jupyter.widget-view+json": {
       "model_id": "558f5d17dab44fbda8545556b2dcaa77",
       "version_major": 2,
       "version_minor": 0
      },
      "text/plain": [
       "Epoch:   0%|          | 0/1 [00:00<?, ?it/s]"
      ]
     },
     "metadata": {},
     "output_type": "display_data"
    },
    {
     "data": {
      "application/vnd.jupyter.widget-view+json": {
       "model_id": "91166b52eee045f9b13b99edbc050901",
       "version_major": 2,
       "version_minor": 0
      },
      "text/plain": [
       "Iteration:   0%|          | 0/646 [00:00<?, ?it/s]"
      ]
     },
     "metadata": {},
     "output_type": "display_data"
    },
    {
     "name": "stdout",
     "output_type": "stream",
     "text": [
      "epoch 29 elapsed time: 0:43:09.921607\n"
     ]
    },
    {
     "data": {
      "application/vnd.jupyter.widget-view+json": {
       "model_id": "9da1b35773fa4c63949e5385eaab8498",
       "version_major": 2,
       "version_minor": 0
      },
      "text/plain": [
       "Epoch:   0%|          | 0/1 [00:00<?, ?it/s]"
      ]
     },
     "metadata": {},
     "output_type": "display_data"
    },
    {
     "data": {
      "application/vnd.jupyter.widget-view+json": {
       "model_id": "7231517b49c3432094451d19efa5e999",
       "version_major": 2,
       "version_minor": 0
      },
      "text/plain": [
       "Iteration:   0%|          | 0/646 [00:00<?, ?it/s]"
      ]
     },
     "metadata": {},
     "output_type": "display_data"
    },
    {
     "name": "stdout",
     "output_type": "stream",
     "text": [
      "epoch 30 elapsed time: 0:44:38.191915\n"
     ]
    },
    {
     "data": {
      "application/vnd.jupyter.widget-view+json": {
       "model_id": "6e12f7f96bd54c3bb6357a1f19942573",
       "version_major": 2,
       "version_minor": 0
      },
      "text/plain": [
       "Epoch:   0%|          | 0/1 [00:00<?, ?it/s]"
      ]
     },
     "metadata": {},
     "output_type": "display_data"
    },
    {
     "data": {
      "application/vnd.jupyter.widget-view+json": {
       "model_id": "9f198c621620499390aa74c175f8faae",
       "version_major": 2,
       "version_minor": 0
      },
      "text/plain": [
       "Iteration:   0%|          | 0/646 [00:00<?, ?it/s]"
      ]
     },
     "metadata": {},
     "output_type": "display_data"
    },
    {
     "name": "stdout",
     "output_type": "stream",
     "text": [
      "epoch 31 elapsed time: 0:46:08.240639\n"
     ]
    },
    {
     "data": {
      "application/vnd.jupyter.widget-view+json": {
       "model_id": "a081e7c269c04705b599de1fba0c80cb",
       "version_major": 2,
       "version_minor": 0
      },
      "text/plain": [
       "Epoch:   0%|          | 0/1 [00:00<?, ?it/s]"
      ]
     },
     "metadata": {},
     "output_type": "display_data"
    },
    {
     "data": {
      "application/vnd.jupyter.widget-view+json": {
       "model_id": "9a6242ae8bf94ddd8d7ad24e09a77f91",
       "version_major": 2,
       "version_minor": 0
      },
      "text/plain": [
       "Iteration:   0%|          | 0/646 [00:00<?, ?it/s]"
      ]
     },
     "metadata": {},
     "output_type": "display_data"
    },
    {
     "name": "stdout",
     "output_type": "stream",
     "text": [
      "epoch 32 elapsed time: 0:47:39.935611\n"
     ]
    },
    {
     "data": {
      "application/vnd.jupyter.widget-view+json": {
       "model_id": "765833023b9d4dea9a77b7de8f9a37bb",
       "version_major": 2,
       "version_minor": 0
      },
      "text/plain": [
       "Epoch:   0%|          | 0/1 [00:00<?, ?it/s]"
      ]
     },
     "metadata": {},
     "output_type": "display_data"
    },
    {
     "data": {
      "application/vnd.jupyter.widget-view+json": {
       "model_id": "835831bdbeab4d85aa7c1cc05686d4c5",
       "version_major": 2,
       "version_minor": 0
      },
      "text/plain": [
       "Iteration:   0%|          | 0/646 [00:00<?, ?it/s]"
      ]
     },
     "metadata": {},
     "output_type": "display_data"
    },
    {
     "name": "stdout",
     "output_type": "stream",
     "text": [
      "epoch 33 elapsed time: 0:49:12.721428\n"
     ]
    },
    {
     "data": {
      "application/vnd.jupyter.widget-view+json": {
       "model_id": "b4376567fb174bcfa9c59147c869cef2",
       "version_major": 2,
       "version_minor": 0
      },
      "text/plain": [
       "Epoch:   0%|          | 0/1 [00:00<?, ?it/s]"
      ]
     },
     "metadata": {},
     "output_type": "display_data"
    },
    {
     "data": {
      "application/vnd.jupyter.widget-view+json": {
       "model_id": "92755927b1b04f4c8abd73b439b1958f",
       "version_major": 2,
       "version_minor": 0
      },
      "text/plain": [
       "Iteration:   0%|          | 0/646 [00:00<?, ?it/s]"
      ]
     },
     "metadata": {},
     "output_type": "display_data"
    },
    {
     "name": "stdout",
     "output_type": "stream",
     "text": [
      "epoch 34 elapsed time: 0:50:42.198497\n"
     ]
    },
    {
     "data": {
      "application/vnd.jupyter.widget-view+json": {
       "model_id": "19f9ceae90d04301bf8277593c9173c9",
       "version_major": 2,
       "version_minor": 0
      },
      "text/plain": [
       "Epoch:   0%|          | 0/1 [00:00<?, ?it/s]"
      ]
     },
     "metadata": {},
     "output_type": "display_data"
    },
    {
     "data": {
      "application/vnd.jupyter.widget-view+json": {
       "model_id": "d0bf00fc63cc431c96fbaeafaae33d26",
       "version_major": 2,
       "version_minor": 0
      },
      "text/plain": [
       "Iteration:   0%|          | 0/646 [00:00<?, ?it/s]"
      ]
     },
     "metadata": {},
     "output_type": "display_data"
    },
    {
     "name": "stdout",
     "output_type": "stream",
     "text": [
      "epoch 35 elapsed time: 0:52:13.019835\n"
     ]
    },
    {
     "data": {
      "application/vnd.jupyter.widget-view+json": {
       "model_id": "25595783721d474ea75f40680cbf5e4a",
       "version_major": 2,
       "version_minor": 0
      },
      "text/plain": [
       "Epoch:   0%|          | 0/1 [00:00<?, ?it/s]"
      ]
     },
     "metadata": {},
     "output_type": "display_data"
    },
    {
     "data": {
      "application/vnd.jupyter.widget-view+json": {
       "model_id": "d383605884a04e11a0a09635700ff3ed",
       "version_major": 2,
       "version_minor": 0
      },
      "text/plain": [
       "Iteration:   0%|          | 0/646 [00:00<?, ?it/s]"
      ]
     },
     "metadata": {},
     "output_type": "display_data"
    },
    {
     "name": "stdout",
     "output_type": "stream",
     "text": [
      "epoch 36 elapsed time: 0:53:43.057868\n"
     ]
    },
    {
     "data": {
      "application/vnd.jupyter.widget-view+json": {
       "model_id": "cc51164d6991487f9f25d411c6987e40",
       "version_major": 2,
       "version_minor": 0
      },
      "text/plain": [
       "Epoch:   0%|          | 0/1 [00:00<?, ?it/s]"
      ]
     },
     "metadata": {},
     "output_type": "display_data"
    },
    {
     "data": {
      "application/vnd.jupyter.widget-view+json": {
       "model_id": "0470734bc19b41b5ad60bfc53d0c3607",
       "version_major": 2,
       "version_minor": 0
      },
      "text/plain": [
       "Iteration:   0%|          | 0/646 [00:00<?, ?it/s]"
      ]
     },
     "metadata": {},
     "output_type": "display_data"
    },
    {
     "name": "stdout",
     "output_type": "stream",
     "text": [
      "epoch 37 elapsed time: 0:55:11.768732\n"
     ]
    },
    {
     "data": {
      "application/vnd.jupyter.widget-view+json": {
       "model_id": "a060a3903e644806abe305da71d7c30d",
       "version_major": 2,
       "version_minor": 0
      },
      "text/plain": [
       "Epoch:   0%|          | 0/1 [00:00<?, ?it/s]"
      ]
     },
     "metadata": {},
     "output_type": "display_data"
    },
    {
     "data": {
      "application/vnd.jupyter.widget-view+json": {
       "model_id": "111764d74f6d46a4bcaeb57a95987a8c",
       "version_major": 2,
       "version_minor": 0
      },
      "text/plain": [
       "Iteration:   0%|          | 0/646 [00:00<?, ?it/s]"
      ]
     },
     "metadata": {},
     "output_type": "display_data"
    },
    {
     "name": "stdout",
     "output_type": "stream",
     "text": [
      "epoch 38 elapsed time: 0:56:39.991297\n"
     ]
    },
    {
     "data": {
      "application/vnd.jupyter.widget-view+json": {
       "model_id": "699ff4e749bb4de9ba47d08dbea8a09b",
       "version_major": 2,
       "version_minor": 0
      },
      "text/plain": [
       "Epoch:   0%|          | 0/1 [00:00<?, ?it/s]"
      ]
     },
     "metadata": {},
     "output_type": "display_data"
    },
    {
     "data": {
      "application/vnd.jupyter.widget-view+json": {
       "model_id": "fce1439674e24721be31cdb74966df9d",
       "version_major": 2,
       "version_minor": 0
      },
      "text/plain": [
       "Iteration:   0%|          | 0/646 [00:00<?, ?it/s]"
      ]
     },
     "metadata": {},
     "output_type": "display_data"
    },
    {
     "name": "stdout",
     "output_type": "stream",
     "text": [
      "epoch 39 elapsed time: 0:58:09.063154\n"
     ]
    },
    {
     "data": {
      "application/vnd.jupyter.widget-view+json": {
       "model_id": "b053f81da95a432999a189f09889b9e1",
       "version_major": 2,
       "version_minor": 0
      },
      "text/plain": [
       "Epoch:   0%|          | 0/1 [00:00<?, ?it/s]"
      ]
     },
     "metadata": {},
     "output_type": "display_data"
    },
    {
     "data": {
      "application/vnd.jupyter.widget-view+json": {
       "model_id": "d59cc43073004ad8810c181630267230",
       "version_major": 2,
       "version_minor": 0
      },
      "text/plain": [
       "Iteration:   0%|          | 0/646 [00:00<?, ?it/s]"
      ]
     },
     "metadata": {},
     "output_type": "display_data"
    },
    {
     "name": "stdout",
     "output_type": "stream",
     "text": [
      "epoch 40 elapsed time: 0:59:37.866378\n"
     ]
    },
    {
     "data": {
      "application/vnd.jupyter.widget-view+json": {
       "model_id": "040ba87e097f4c0ba1bbdc290189dad9",
       "version_major": 2,
       "version_minor": 0
      },
      "text/plain": [
       "Epoch:   0%|          | 0/1 [00:00<?, ?it/s]"
      ]
     },
     "metadata": {},
     "output_type": "display_data"
    },
    {
     "data": {
      "application/vnd.jupyter.widget-view+json": {
       "model_id": "acd825af20644deba592ec3a64510923",
       "version_major": 2,
       "version_minor": 0
      },
      "text/plain": [
       "Iteration:   0%|          | 0/646 [00:00<?, ?it/s]"
      ]
     },
     "metadata": {},
     "output_type": "display_data"
    },
    {
     "name": "stdout",
     "output_type": "stream",
     "text": [
      "epoch 41 elapsed time: 1:01:07.584965\n"
     ]
    },
    {
     "data": {
      "application/vnd.jupyter.widget-view+json": {
       "model_id": "1801716c075b4161a8284af635d759b5",
       "version_major": 2,
       "version_minor": 0
      },
      "text/plain": [
       "Epoch:   0%|          | 0/1 [00:00<?, ?it/s]"
      ]
     },
     "metadata": {},
     "output_type": "display_data"
    },
    {
     "data": {
      "application/vnd.jupyter.widget-view+json": {
       "model_id": "e21315eb724b49c7a877a4aaecb2c484",
       "version_major": 2,
       "version_minor": 0
      },
      "text/plain": [
       "Iteration:   0%|          | 0/646 [00:00<?, ?it/s]"
      ]
     },
     "metadata": {},
     "output_type": "display_data"
    },
    {
     "name": "stdout",
     "output_type": "stream",
     "text": [
      "epoch 42 elapsed time: 1:02:37.881164\n"
     ]
    },
    {
     "data": {
      "application/vnd.jupyter.widget-view+json": {
       "model_id": "ac36e0f3cf9c4f7eacc1ab3a22d646a4",
       "version_major": 2,
       "version_minor": 0
      },
      "text/plain": [
       "Epoch:   0%|          | 0/1 [00:00<?, ?it/s]"
      ]
     },
     "metadata": {},
     "output_type": "display_data"
    },
    {
     "data": {
      "application/vnd.jupyter.widget-view+json": {
       "model_id": "c240b1ea299b4d7595fc62b8d67dfbc2",
       "version_major": 2,
       "version_minor": 0
      },
      "text/plain": [
       "Iteration:   0%|          | 0/646 [00:00<?, ?it/s]"
      ]
     },
     "metadata": {},
     "output_type": "display_data"
    },
    {
     "name": "stdout",
     "output_type": "stream",
     "text": [
      "epoch 43 elapsed time: 1:04:07.164721\n"
     ]
    },
    {
     "data": {
      "application/vnd.jupyter.widget-view+json": {
       "model_id": "49694a6d6178485787a8a76499d0585b",
       "version_major": 2,
       "version_minor": 0
      },
      "text/plain": [
       "Epoch:   0%|          | 0/1 [00:00<?, ?it/s]"
      ]
     },
     "metadata": {},
     "output_type": "display_data"
    },
    {
     "data": {
      "application/vnd.jupyter.widget-view+json": {
       "model_id": "4771bd66ebba41e8a38d44583f65b4c5",
       "version_major": 2,
       "version_minor": 0
      },
      "text/plain": [
       "Iteration:   0%|          | 0/646 [00:00<?, ?it/s]"
      ]
     },
     "metadata": {},
     "output_type": "display_data"
    },
    {
     "name": "stdout",
     "output_type": "stream",
     "text": [
      "epoch 44 elapsed time: 1:05:36.157336\n"
     ]
    },
    {
     "data": {
      "application/vnd.jupyter.widget-view+json": {
       "model_id": "1c4138f408454714b5adc4e318b0f8eb",
       "version_major": 2,
       "version_minor": 0
      },
      "text/plain": [
       "Epoch:   0%|          | 0/1 [00:00<?, ?it/s]"
      ]
     },
     "metadata": {},
     "output_type": "display_data"
    },
    {
     "data": {
      "application/vnd.jupyter.widget-view+json": {
       "model_id": "d3ff7b2f1b9143d9a65025ffbde470dc",
       "version_major": 2,
       "version_minor": 0
      },
      "text/plain": [
       "Iteration:   0%|          | 0/646 [00:00<?, ?it/s]"
      ]
     },
     "metadata": {},
     "output_type": "display_data"
    },
    {
     "name": "stdout",
     "output_type": "stream",
     "text": [
      "epoch 45 elapsed time: 1:07:06.121103\n"
     ]
    },
    {
     "data": {
      "application/vnd.jupyter.widget-view+json": {
       "model_id": "e94a1d916d124084a3b9281cb2f8ceaf",
       "version_major": 2,
       "version_minor": 0
      },
      "text/plain": [
       "Epoch:   0%|          | 0/1 [00:00<?, ?it/s]"
      ]
     },
     "metadata": {},
     "output_type": "display_data"
    },
    {
     "data": {
      "application/vnd.jupyter.widget-view+json": {
       "model_id": "f36e9b543d5942fd833713b6de2f2a16",
       "version_major": 2,
       "version_minor": 0
      },
      "text/plain": [
       "Iteration:   0%|          | 0/646 [00:00<?, ?it/s]"
      ]
     },
     "metadata": {},
     "output_type": "display_data"
    },
    {
     "name": "stdout",
     "output_type": "stream",
     "text": [
      "epoch 46 elapsed time: 1:08:37.649459\n"
     ]
    },
    {
     "data": {
      "application/vnd.jupyter.widget-view+json": {
       "model_id": "6ac40d4696d64cca9e2160b75c211bc3",
       "version_major": 2,
       "version_minor": 0
      },
      "text/plain": [
       "Epoch:   0%|          | 0/1 [00:00<?, ?it/s]"
      ]
     },
     "metadata": {},
     "output_type": "display_data"
    },
    {
     "data": {
      "application/vnd.jupyter.widget-view+json": {
       "model_id": "f8e86fbed332406d85e949f93dff8a1f",
       "version_major": 2,
       "version_minor": 0
      },
      "text/plain": [
       "Iteration:   0%|          | 0/646 [00:00<?, ?it/s]"
      ]
     },
     "metadata": {},
     "output_type": "display_data"
    },
    {
     "name": "stdout",
     "output_type": "stream",
     "text": [
      "epoch 47 elapsed time: 1:10:08.158151\n"
     ]
    },
    {
     "data": {
      "application/vnd.jupyter.widget-view+json": {
       "model_id": "059c1f0c22f34674af3f052b0e810173",
       "version_major": 2,
       "version_minor": 0
      },
      "text/plain": [
       "Epoch:   0%|          | 0/1 [00:00<?, ?it/s]"
      ]
     },
     "metadata": {},
     "output_type": "display_data"
    },
    {
     "data": {
      "application/vnd.jupyter.widget-view+json": {
       "model_id": "99458a89d55d41389ad789eb5792ac70",
       "version_major": 2,
       "version_minor": 0
      },
      "text/plain": [
       "Iteration:   0%|          | 0/646 [00:00<?, ?it/s]"
      ]
     },
     "metadata": {},
     "output_type": "display_data"
    },
    {
     "name": "stdout",
     "output_type": "stream",
     "text": [
      "epoch 48 elapsed time: 1:11:39.475136\n"
     ]
    },
    {
     "data": {
      "application/vnd.jupyter.widget-view+json": {
       "model_id": "07ca7c430d7c4df38ecabfd7464ac491",
       "version_major": 2,
       "version_minor": 0
      },
      "text/plain": [
       "Epoch:   0%|          | 0/1 [00:00<?, ?it/s]"
      ]
     },
     "metadata": {},
     "output_type": "display_data"
    },
    {
     "data": {
      "application/vnd.jupyter.widget-view+json": {
       "model_id": "2e60c316e8854fed917c2de116528c5d",
       "version_major": 2,
       "version_minor": 0
      },
      "text/plain": [
       "Iteration:   0%|          | 0/646 [00:00<?, ?it/s]"
      ]
     },
     "metadata": {},
     "output_type": "display_data"
    },
    {
     "name": "stdout",
     "output_type": "stream",
     "text": [
      "epoch 49 elapsed time: 1:13:08.393239\n"
     ]
    },
    {
     "data": {
      "application/vnd.jupyter.widget-view+json": {
       "model_id": "6ee3fba4e03e450f8af798465d9d2125",
       "version_major": 2,
       "version_minor": 0
      },
      "text/plain": [
       "Epoch:   0%|          | 0/1 [00:00<?, ?it/s]"
      ]
     },
     "metadata": {},
     "output_type": "display_data"
    },
    {
     "data": {
      "application/vnd.jupyter.widget-view+json": {
       "model_id": "92093a2a8f07416b8ec6f3dee5d0e95a",
       "version_major": 2,
       "version_minor": 0
      },
      "text/plain": [
       "Iteration:   0%|          | 0/646 [00:00<?, ?it/s]"
      ]
     },
     "metadata": {},
     "output_type": "display_data"
    },
    {
     "name": "stdout",
     "output_type": "stream",
     "text": [
      "epoch 50 elapsed time: 1:14:35.931442\n",
      "total elapsed time:  1:14:35.932006\n"
     ]
    },
    {
     "data": {
      "image/png": "[encoded data removed]",
      "text/plain": [
       "<Figure size 432x288 with 1 Axes>"
      ]
     },
     "metadata": {
      "needs_background": "light"
     },
     "output_type": "display_data"
    }
   ],
   "source": [
    "from sentence_transformers import SentenceTransformer, InputExample, models, losses\n",
    "from sentence_transformers.evaluation import EmbeddingSimilarityEvaluator\n",
    "from torch import nn\n",
    "from torch.utils.data import DataLoader\n",
    "import matplotlib.pyplot as plt\n",
    "from datetime import datetime\n",
    "\n",
    "word_embedding_model = models.Transformer('indobenchmark/indobert-base-p1', max_seq_length=256)\n",
    "pooling_model = models.Pooling(word_embedding_model.get_word_embedding_dimension(), pooling_mode=\"mean\")\n",
    "dense_model = models.Dense(in_features=pooling_model.get_sentence_embedding_dimension(), out_features=256, activation_function=nn.Tanh())\n",
    "\n",
    "model = SentenceTransformer(modules=[word_embedding_model, pooling_model, dense_model], device='cuda')\n",
    "\n",
    "train_examples = []\n",
    "for i, row in df_train.iterrows():\n",
    "    train_examples.append(InputExample(texts=[row[\"text1_id\"], row[\"text2_id\"]], label=row[\"score\"]))\n",
    "\n",
    "train_dataloader = DataLoader(train_examples, shuffle=True, batch_size=16)\n",
    "train_loss = losses.CosineSimilarityLoss(model)\n",
    "\n",
    "test_examples = []\n",
    "for i, row in df_test.iterrows():\n",
    "    test_examples.append(InputExample(texts=[row[\"text1_id\"], row[\"text2_id\"]], label=row[\"score\"]))\n",
    "evaluator = EmbeddingSimilarityEvaluator.from_input_examples(test_examples)\n",
    "\n",
    "evaluation_scores = []\n",
    "\n",
    "start = datetime.now()\n",
    "for epoch in range(50):\n",
    "    model.fit(train_objectives=[(train_dataloader, train_loss)], epochs=1, warmup_steps=100, evaluator=evaluator)\n",
    "    evaluation_score = model.evaluate(evaluator)\n",
    "    evaluation_scores.append(evaluation_score)\n",
    "    print(f\"epoch {epoch + 1} elapsed time: {datetime.now() - start}\")\n",
    "end = datetime.now()\n",
    "print(\"total elapsed time: \", end - start)\n",
    "\n",
    "epochs = range(1, len(evaluation_scores) + 1)\n",
    "plt.plot(epochs, evaluation_scores, 'b', label='Evaluation Score')\n",
    "plt.xlabel('Epochs')\n",
    "plt.ylabel('Score')\n",
    "plt.title('Evaluation Score per Epoch')\n",
    "plt.legend()\n",
    "plt.show()\n"
   ]
  },
  {
   "cell_type": "code",
   "execution_count": 15,
   "id": "copyrighted-chile",
   "metadata": {},
   "outputs": [
    {
     "name": "stdout",
     "output_type": "stream",
     "text": [
      "[0.8095893473996345, 0.8152125864419962, 0.8159184370864611, 0.8219262089697198, 0.8228916560809477, 0.8219942149718397, 0.8236477598504418, 0.8221943230011695, 0.8192231303816662, 0.823241975191931, 0.8208515826043556, 0.8214065345011847, 0.8227776480955219, 0.8254758300287441, 0.8206892993718147, 0.8179040809375583, 0.8196977604482426, 0.8200231007581852, 0.8234957473024366, 0.822566840223773, 0.8247343405263049, 0.8201822451872718, 0.8224361178291205, 0.8239647425856901, 0.820409941994017, 0.8238613009437983, 0.8232850199612572, 0.8217144857762476, 0.8201048639805956, 0.81775551467548, 0.819346300369164, 0.8201246355250239, 0.8197686922868331, 0.8194843484190386, 0.8212194955888871, 0.8214247882751186, 0.8188379586320697, 0.8174142805525069, 0.8184337710310939, 0.8200004371143869, 0.8207915346013532, 0.8218301653922808, 0.820867437740415, 0.8179811030273818, 0.8178889881389727, 0.8204880332596607, 0.8201721235681334, 0.8191891716305937, 0.8176192832724541, 0.81638839468813]\n"
     ]
    }
   ],
   "source": [
    "base_p1_score = evaluation_scores\n",
    "print(base_p1_score)"
   ]
  },
  {
   "cell_type": "code",
   "execution_count": 16,
   "id": "cultural-quilt",
   "metadata": {},
   "outputs": [
    {
     "data": {
      "image/png": "[encoded data removed]",
      "text/plain": [
       "<Figure size 432x288 with 1 Axes>"
      ]
     },
     "metadata": {
      "needs_background": "light"
     },
     "output_type": "display_data"
    }
   ],
   "source": [
    "import matplotlib.pyplot as plt\n",
    "\n",
    "# Create a figure and axis object\n",
    "fig, ax = plt.subplots()\n",
    "\n",
    "result = {\n",
    "    \"indolem/indobert-base-uncased\": [0.7819592898900307, 0.8140050312092975, 0.8257228143176361, 0.8335008785849065, 0.8359033767297225, 0.8393470159903176, 0.8392409623216069, 0.8409582811132297, 0.839341678293986, 0.840136996998779, 0.8413570144706057, 0.8401481353553615, 0.8421059924807303, 0.8422774939507592, 0.8422045443851396, 0.8436987584086902, 0.8448137559564487, 0.8427129159272722, 0.8426448115723246, 0.8432373615519031, 0.8452719235841619, 0.8438807058735336, 0.841618620486103, 0.8436362088259339, 0.8430981236730895, 0.8448383405171174, 0.8411947488867871, 0.8438376395742785, 0.8432342753740629, 0.8432658720753848, 0.8442072264381377, 0.8445788015296022, 0.8436384869209358, 0.8433412934378158, 0.841410681244876, 0.8417974880400155, 0.8420699032609268, 0.8434172828471387, 0.8418666467711823, 0.8425047131018241, 0.8425013953450967, 0.8400902381004034, 0.8395271144594955, 0.838794511063675, 0.8403486055914491, 0.8404638738151778, 0.838511129184538, 0.8357654997619649, 0.839447462581539, 0.8389520906019439],\n",
    "    \"indobenchmark/indobert-base-p2\": [0.8085053386988289, 0.8165432484565819, 0.820168769029833, 0.8187043232558585, 0.8206432512396722, 0.8228710797955354, 0.8237549141586206, 0.8247665349014611, 0.8233607103057918, 0.8224330831782423, 0.824783978991024, 0.8254360667374232, 0.8272806786957977, 0.8274774215923361, 0.8249397886773292, 0.825771710823586, 0.8247692817924468, 0.8242435224887681, 0.8236314351394075, 0.825579060834332, 0.823462229077621, 0.8226020696333698, 0.8240751711559504, 0.8218226471047447, 0.8228112143504368, 0.824144568407858, 0.8242581158288721, 0.8233667576396941, 0.8234771072417334, 0.8238805192423635, 0.8238658091670339, 0.8207646152286766, 0.8218521567566508, 0.8224135945019905, 0.8211287854287195, 0.8221862409497526, 0.8225152118051193, 0.8210551333321947, 0.8189021574437332, 0.8211208890057473, 0.8183611626048376, 0.8174813867032661, 0.8189313386242533, 0.8207432986816715, 0.8188721557272144, 0.8176946204449487, 0.8187910137558799, 0.8207675001864041, 0.8163743096710377, 0.8170279526199123],\n",
    "    \"indobenchmark/indobert-large-p1\": [0.8315078976903023, 0.8393966247310835, 0.8426599355490602, 0.841093518183017, 0.8489375609854036, 0.8473418364429638, 0.8474955663339047, 0.8475781956595125, 0.8461833224053023, 0.8476082908525395, 0.8448224396455638, 0.8484133824826133, 0.8483119550696693, 0.8479826321354582, 0.8461700351652722, 0.8483163270649906, 0.8485146868040369, 0.8485658365762082, 0.849530478549016, 0.8462373303675376, 0.8459802565243759, 0.8472565585809894, 0.8469884054519016, 0.847407970566147, 0.8450679182011321, 0.8466236524054417, 0.8455428217242251, 0.8464900071857574, 0.8446786803772331, 0.8454792389817756, 0.8457782056399813, 0.8457952478140714, 0.8454194893234065, 0.8448974637206675, 0.8447124306204972, 0.8439320729807629, 0.8439749651578358, 0.8433213045686972, 0.8458010030420565, 0.8447832372692544, 0.8428638557655167, 0.8433539121556196, 0.8423371964541934, 0.8413719543989051, 0.8420614623972067, 0.8419715034351637, 0.8415250053474609, 0.8415343411012034, 0.8431739334476908, 0.8417405411196827],\n",
    "    \"indobenchmark/indobert-base-p1\": [0.8095893473996345, 0.8152125864419962, 0.8159184370864611, 0.8219262089697198, 0.8228916560809477, 0.8219942149718397, 0.8236477598504418, 0.8221943230011695, 0.8192231303816662, 0.823241975191931, 0.8208515826043556, 0.8214065345011847, 0.8227776480955219, 0.8254758300287441, 0.8206892993718147, 0.8179040809375583, 0.8196977604482426, 0.8200231007581852, 0.8234957473024366, 0.822566840223773, 0.8247343405263049, 0.8201822451872718, 0.8224361178291205, 0.8239647425856901, 0.820409941994017, 0.8238613009437983, 0.8232850199612572, 0.8217144857762476, 0.8201048639805956, 0.81775551467548, 0.819346300369164, 0.8201246355250239, 0.8197686922868331, 0.8194843484190386, 0.8212194955888871, 0.8214247882751186, 0.8188379586320697, 0.8174142805525069, 0.8184337710310939, 0.8200004371143869, 0.8207915346013532, 0.8218301653922808, 0.820867437740415, 0.8179811030273818, 0.8178889881389727, 0.8204880332596607, 0.8201721235681334, 0.8191891716305937, 0.8176192832724541, 0.81638839468813] \n",
    "}\n",
    "\n",
    "# Plot each time series using a loop\n",
    "for key, values in result.items():\n",
    "    ax.plot(values, label=key)\n",
    "\n",
    "# Add labels and title\n",
    "ax.set_xlabel('Epoch')\n",
    "ax.set_ylabel('Spearman-Pearson Rank Correlation Score')\n",
    "ax.set_title('Indonesian Sentence BERT evaluation')\n",
    "\n",
    "# Add a legend to identify the keys\n",
    "ax.legend()\n",
    "\n",
    "# Show the plot\n",
    "plt.show()"
   ]
  },
  {
   "cell_type": "code",
   "execution_count": 6,
   "id": "regulation-memory",
   "metadata": {},
   "outputs": [
    {
     "data": {
      "application/vnd.jupyter.widget-view+json": {
       "model_id": "f06df9d39826449e98fb12435b67a7cb",
       "version_major": 2,
       "version_minor": 0
      },
      "text/plain": [
       "Epoch:   0%|          | 0/1 [00:00<?, ?it/s]"
      ]
     },
     "metadata": {},
     "output_type": "display_data"
    },
    {
     "data": {
      "application/vnd.jupyter.widget-view+json": {
       "model_id": "b2f77995cac74d12af6c0c7ecc323cf6",
       "version_major": 2,
       "version_minor": 0
      },
      "text/plain": [
       "Iteration:   0%|          | 0/1291 [00:00<?, ?it/s]"
      ]
     },
     "metadata": {},
     "output_type": "display_data"
    },
    {
     "name": "stdout",
     "output_type": "stream",
     "text": [
      "epoch 1 elapsed time: 0:06:58.926684\n"
     ]
    },
    {
     "data": {
      "application/vnd.jupyter.widget-view+json": {
       "model_id": "2cebe0c492ed4b92ac0b90efe856725b",
       "version_major": 2,
       "version_minor": 0
      },
      "text/plain": [
       "Epoch:   0%|          | 0/1 [00:00<?, ?it/s]"
      ]
     },
     "metadata": {},
     "output_type": "display_data"
    },
    {
     "data": {
      "application/vnd.jupyter.widget-view+json": {
       "model_id": "ba682fe97e594242abba2a5ababffd4f",
       "version_major": 2,
       "version_minor": 0
      },
      "text/plain": [
       "Iteration:   0%|          | 0/1291 [00:00<?, ?it/s]"
      ]
     },
     "metadata": {},
     "output_type": "display_data"
    },
    {
     "name": "stdout",
     "output_type": "stream",
     "text": [
      "epoch 2 elapsed time: 0:13:53.019928\n"
     ]
    },
    {
     "data": {
      "application/vnd.jupyter.widget-view+json": {
       "model_id": "21ba813017bc47aa8bd4f8c67fb8d6f4",
       "version_major": 2,
       "version_minor": 0
      },
      "text/plain": [
       "Epoch:   0%|          | 0/1 [00:00<?, ?it/s]"
      ]
     },
     "metadata": {},
     "output_type": "display_data"
    },
    {
     "data": {
      "application/vnd.jupyter.widget-view+json": {
       "model_id": "dd51e5b4c6e4493eb936c050b693eeb2",
       "version_major": 2,
       "version_minor": 0
      },
      "text/plain": [
       "Iteration:   0%|          | 0/1291 [00:00<?, ?it/s]"
      ]
     },
     "metadata": {},
     "output_type": "display_data"
    },
    {
     "name": "stdout",
     "output_type": "stream",
     "text": [
      "epoch 3 elapsed time: 0:20:45.569670\n"
     ]
    },
    {
     "data": {
      "application/vnd.jupyter.widget-view+json": {
       "model_id": "e2102ba578d24bbd954bfe1a87f38f88",
       "version_major": 2,
       "version_minor": 0
      },
      "text/plain": [
       "Epoch:   0%|          | 0/1 [00:00<?, ?it/s]"
      ]
     },
     "metadata": {},
     "output_type": "display_data"
    },
    {
     "data": {
      "application/vnd.jupyter.widget-view+json": {
       "model_id": "0a4570b04dd4437bbc87d897a97f6b58",
       "version_major": 2,
       "version_minor": 0
      },
      "text/plain": [
       "Iteration:   0%|          | 0/1291 [00:00<?, ?it/s]"
      ]
     },
     "metadata": {},
     "output_type": "display_data"
    },
    {
     "name": "stdout",
     "output_type": "stream",
     "text": [
      "epoch 4 elapsed time: 0:27:35.891986\n"
     ]
    },
    {
     "data": {
      "application/vnd.jupyter.widget-view+json": {
       "model_id": "c342baf8e3344b268b531736c4f456ae",
       "version_major": 2,
       "version_minor": 0
      },
      "text/plain": [
       "Epoch:   0%|          | 0/1 [00:00<?, ?it/s]"
      ]
     },
     "metadata": {},
     "output_type": "display_data"
    },
    {
     "data": {
      "application/vnd.jupyter.widget-view+json": {
       "model_id": "8337ae35b3724f6884b1b78dbd181ea8",
       "version_major": 2,
       "version_minor": 0
      },
      "text/plain": [
       "Iteration:   0%|          | 0/1291 [00:00<?, ?it/s]"
      ]
     },
     "metadata": {},
     "output_type": "display_data"
    },
    {
     "name": "stdout",
     "output_type": "stream",
     "text": [
      "epoch 5 elapsed time: 0:34:37.953521\n"
     ]
    },
    {
     "data": {
      "application/vnd.jupyter.widget-view+json": {
       "model_id": "0bf31a63113e420fbb0d71eedfb9f595",
       "version_major": 2,
       "version_minor": 0
      },
      "text/plain": [
       "Epoch:   0%|          | 0/1 [00:00<?, ?it/s]"
      ]
     },
     "metadata": {},
     "output_type": "display_data"
    },
    {
     "data": {
      "application/vnd.jupyter.widget-view+json": {
       "model_id": "58aa5a2031084400948ef88b63a9feb4",
       "version_major": 2,
       "version_minor": 0
      },
      "text/plain": [
       "Iteration:   0%|          | 0/1291 [00:00<?, ?it/s]"
      ]
     },
     "metadata": {},
     "output_type": "display_data"
    },
    {
     "name": "stdout",
     "output_type": "stream",
     "text": [
      "epoch 6 elapsed time: 0:41:36.809543\n"
     ]
    },
    {
     "data": {
      "application/vnd.jupyter.widget-view+json": {
       "model_id": "dae451dbd8d148da802fafabde96c004",
       "version_major": 2,
       "version_minor": 0
      },
      "text/plain": [
       "Epoch:   0%|          | 0/1 [00:00<?, ?it/s]"
      ]
     },
     "metadata": {},
     "output_type": "display_data"
    },
    {
     "data": {
      "application/vnd.jupyter.widget-view+json": {
       "model_id": "f5043dab710b494c98e9c4827e2ee577",
       "version_major": 2,
       "version_minor": 0
      },
      "text/plain": [
       "Iteration:   0%|          | 0/1291 [00:00<?, ?it/s]"
      ]
     },
     "metadata": {},
     "output_type": "display_data"
    },
    {
     "name": "stdout",
     "output_type": "stream",
     "text": [
      "epoch 7 elapsed time: 0:48:35.327421\n"
     ]
    },
    {
     "data": {
      "application/vnd.jupyter.widget-view+json": {
       "model_id": "11132a8574554867a845bff8459cf8d9",
       "version_major": 2,
       "version_minor": 0
      },
      "text/plain": [
       "Epoch:   0%|          | 0/1 [00:00<?, ?it/s]"
      ]
     },
     "metadata": {},
     "output_type": "display_data"
    },
    {
     "data": {
      "application/vnd.jupyter.widget-view+json": {
       "model_id": "5ea3c2ff4156441da77bab9477be1462",
       "version_major": 2,
       "version_minor": 0
      },
      "text/plain": [
       "Iteration:   0%|          | 0/1291 [00:00<?, ?it/s]"
      ]
     },
     "metadata": {},
     "output_type": "display_data"
    },
    {
     "name": "stdout",
     "output_type": "stream",
     "text": [
      "epoch 8 elapsed time: 0:55:25.966909\n"
     ]
    },
    {
     "data": {
      "application/vnd.jupyter.widget-view+json": {
       "model_id": "6fb6c65b46494ec2aa304063dd67f651",
       "version_major": 2,
       "version_minor": 0
      },
      "text/plain": [
       "Epoch:   0%|          | 0/1 [00:00<?, ?it/s]"
      ]
     },
     "metadata": {},
     "output_type": "display_data"
    },
    {
     "data": {
      "application/vnd.jupyter.widget-view+json": {
       "model_id": "d697ae02fd45415f96f57219519573a4",
       "version_major": 2,
       "version_minor": 0
      },
      "text/plain": [
       "Iteration:   0%|          | 0/1291 [00:00<?, ?it/s]"
      ]
     },
     "metadata": {},
     "output_type": "display_data"
    },
    {
     "name": "stdout",
     "output_type": "stream",
     "text": [
      "epoch 9 elapsed time: 1:02:30.258020\n"
     ]
    },
    {
     "data": {
      "application/vnd.jupyter.widget-view+json": {
       "model_id": "ade24bdd0db342509a8a8107d1fb9b44",
       "version_major": 2,
       "version_minor": 0
      },
      "text/plain": [
       "Epoch:   0%|          | 0/1 [00:00<?, ?it/s]"
      ]
     },
     "metadata": {},
     "output_type": "display_data"
    },
    {
     "data": {
      "application/vnd.jupyter.widget-view+json": {
       "model_id": "d3b09a8c09db4f5fb077488ad55c53d6",
       "version_major": 2,
       "version_minor": 0
      },
      "text/plain": [
       "Iteration:   0%|          | 0/1291 [00:00<?, ?it/s]"
      ]
     },
     "metadata": {},
     "output_type": "display_data"
    },
    {
     "name": "stdout",
     "output_type": "stream",
     "text": [
      "epoch 10 elapsed time: 1:09:41.442114\n"
     ]
    },
    {
     "data": {
      "application/vnd.jupyter.widget-view+json": {
       "model_id": "080d2bfc410a4402a0db0fa3f6bf61b8",
       "version_major": 2,
       "version_minor": 0
      },
      "text/plain": [
       "Epoch:   0%|          | 0/1 [00:00<?, ?it/s]"
      ]
     },
     "metadata": {},
     "output_type": "display_data"
    },
    {
     "data": {
      "application/vnd.jupyter.widget-view+json": {
       "model_id": "04d1b81450a2421f99e180e7052a90f8",
       "version_major": 2,
       "version_minor": 0
      },
      "text/plain": [
       "Iteration:   0%|          | 0/1291 [00:00<?, ?it/s]"
      ]
     },
     "metadata": {},
     "output_type": "display_data"
    },
    {
     "name": "stdout",
     "output_type": "stream",
     "text": [
      "epoch 11 elapsed time: 1:16:38.408776\n"
     ]
    },
    {
     "data": {
      "application/vnd.jupyter.widget-view+json": {
       "model_id": "cf697d220f65431b8ddfdeaa7aed09bc",
       "version_major": 2,
       "version_minor": 0
      },
      "text/plain": [
       "Epoch:   0%|          | 0/1 [00:00<?, ?it/s]"
      ]
     },
     "metadata": {},
     "output_type": "display_data"
    },
    {
     "data": {
      "application/vnd.jupyter.widget-view+json": {
       "model_id": "532f94fc3dc840a8aff50e51e69af7e1",
       "version_major": 2,
       "version_minor": 0
      },
      "text/plain": [
       "Iteration:   0%|          | 0/1291 [00:00<?, ?it/s]"
      ]
     },
     "metadata": {},
     "output_type": "display_data"
    },
    {
     "name": "stdout",
     "output_type": "stream",
     "text": [
      "epoch 12 elapsed time: 1:23:47.778219\n"
     ]
    },
    {
     "data": {
      "application/vnd.jupyter.widget-view+json": {
       "model_id": "05583364a6654a5c9eb8112e955efc34",
       "version_major": 2,
       "version_minor": 0
      },
      "text/plain": [
       "Epoch:   0%|          | 0/1 [00:00<?, ?it/s]"
      ]
     },
     "metadata": {},
     "output_type": "display_data"
    },
    {
     "data": {
      "application/vnd.jupyter.widget-view+json": {
       "model_id": "6ea9854bc7854459b7ba43db5f5cf2cb",
       "version_major": 2,
       "version_minor": 0
      },
      "text/plain": [
       "Iteration:   0%|          | 0/1291 [00:00<?, ?it/s]"
      ]
     },
     "metadata": {},
     "output_type": "display_data"
    },
    {
     "name": "stdout",
     "output_type": "stream",
     "text": [
      "epoch 13 elapsed time: 1:30:54.147804\n"
     ]
    },
    {
     "data": {
      "application/vnd.jupyter.widget-view+json": {
       "model_id": "44215d5da9a7478aa5b599509fc1c677",
       "version_major": 2,
       "version_minor": 0
      },
      "text/plain": [
       "Epoch:   0%|          | 0/1 [00:00<?, ?it/s]"
      ]
     },
     "metadata": {},
     "output_type": "display_data"
    },
    {
     "data": {
      "application/vnd.jupyter.widget-view+json": {
       "model_id": "0dd501ae21644ca3bd502d9af94c9e71",
       "version_major": 2,
       "version_minor": 0
      },
      "text/plain": [
       "Iteration:   0%|          | 0/1291 [00:00<?, ?it/s]"
      ]
     },
     "metadata": {},
     "output_type": "display_data"
    },
    {
     "name": "stdout",
     "output_type": "stream",
     "text": [
      "epoch 14 elapsed time: 1:37:47.781424\n"
     ]
    },
    {
     "data": {
      "application/vnd.jupyter.widget-view+json": {
       "model_id": "7c89ff18eda545b2b5e518aa5e2900ad",
       "version_major": 2,
       "version_minor": 0
      },
      "text/plain": [
       "Epoch:   0%|          | 0/1 [00:00<?, ?it/s]"
      ]
     },
     "metadata": {},
     "output_type": "display_data"
    },
    {
     "data": {
      "application/vnd.jupyter.widget-view+json": {
       "model_id": "1009c54431cb4cae829a80c093995c4a",
       "version_major": 2,
       "version_minor": 0
      },
      "text/plain": [
       "Iteration:   0%|          | 0/1291 [00:00<?, ?it/s]"
      ]
     },
     "metadata": {},
     "output_type": "display_data"
    },
    {
     "name": "stdout",
     "output_type": "stream",
     "text": [
      "epoch 15 elapsed time: 1:44:40.231855\n"
     ]
    },
    {
     "data": {
      "application/vnd.jupyter.widget-view+json": {
       "model_id": "8d9087613f38471cbdd66a2ff356c1de",
       "version_major": 2,
       "version_minor": 0
      },
      "text/plain": [
       "Epoch:   0%|          | 0/1 [00:00<?, ?it/s]"
      ]
     },
     "metadata": {},
     "output_type": "display_data"
    },
    {
     "data": {
      "application/vnd.jupyter.widget-view+json": {
       "model_id": "d2aadae7263448daa0fdd93f6ee85bc6",
       "version_major": 2,
       "version_minor": 0
      },
      "text/plain": [
       "Iteration:   0%|          | 0/1291 [00:00<?, ?it/s]"
      ]
     },
     "metadata": {},
     "output_type": "display_data"
    },
    {
     "name": "stdout",
     "output_type": "stream",
     "text": [
      "epoch 16 elapsed time: 1:51:31.424418\n"
     ]
    },
    {
     "data": {
      "application/vnd.jupyter.widget-view+json": {
       "model_id": "76084faa48184f2caa85c01136c33579",
       "version_major": 2,
       "version_minor": 0
      },
      "text/plain": [
       "Epoch:   0%|          | 0/1 [00:00<?, ?it/s]"
      ]
     },
     "metadata": {},
     "output_type": "display_data"
    },
    {
     "data": {
      "application/vnd.jupyter.widget-view+json": {
       "model_id": "9724b480e1ef40cabaafcec164d2b25f",
       "version_major": 2,
       "version_minor": 0
      },
      "text/plain": [
       "Iteration:   0%|          | 0/1291 [00:00<?, ?it/s]"
      ]
     },
     "metadata": {},
     "output_type": "display_data"
    },
    {
     "name": "stdout",
     "output_type": "stream",
     "text": [
      "epoch 17 elapsed time: 1:58:28.794765\n"
     ]
    },
    {
     "data": {
      "application/vnd.jupyter.widget-view+json": {
       "model_id": "044619b930d34c15a778ec53ed686fc3",
       "version_major": 2,
       "version_minor": 0
      },
      "text/plain": [
       "Epoch:   0%|          | 0/1 [00:00<?, ?it/s]"
      ]
     },
     "metadata": {},
     "output_type": "display_data"
    },
    {
     "data": {
      "application/vnd.jupyter.widget-view+json": {
       "model_id": "6ba4589674ee4932a11b7883d32e2dd4",
       "version_major": 2,
       "version_minor": 0
      },
      "text/plain": [
       "Iteration:   0%|          | 0/1291 [00:00<?, ?it/s]"
      ]
     },
     "metadata": {},
     "output_type": "display_data"
    },
    {
     "name": "stdout",
     "output_type": "stream",
     "text": [
      "epoch 18 elapsed time: 2:05:20.074500\n"
     ]
    },
    {
     "data": {
      "application/vnd.jupyter.widget-view+json": {
       "model_id": "6292120e183b41b5ba15c50d5e09461f",
       "version_major": 2,
       "version_minor": 0
      },
      "text/plain": [
       "Epoch:   0%|          | 0/1 [00:00<?, ?it/s]"
      ]
     },
     "metadata": {},
     "output_type": "display_data"
    },
    {
     "data": {
      "application/vnd.jupyter.widget-view+json": {
       "model_id": "cea92c1bc9cd4c43b93d60e398831f4f",
       "version_major": 2,
       "version_minor": 0
      },
      "text/plain": [
       "Iteration:   0%|          | 0/1291 [00:00<?, ?it/s]"
      ]
     },
     "metadata": {},
     "output_type": "display_data"
    },
    {
     "name": "stdout",
     "output_type": "stream",
     "text": [
      "epoch 19 elapsed time: 2:12:10.274472\n"
     ]
    },
    {
     "data": {
      "application/vnd.jupyter.widget-view+json": {
       "model_id": "0dec66b661594ce59e720a3c78c24aa5",
       "version_major": 2,
       "version_minor": 0
      },
      "text/plain": [
       "Epoch:   0%|          | 0/1 [00:00<?, ?it/s]"
      ]
     },
     "metadata": {},
     "output_type": "display_data"
    },
    {
     "data": {
      "application/vnd.jupyter.widget-view+json": {
       "model_id": "5428a2ca6ac74419a87cb445e02cccb1",
       "version_major": 2,
       "version_minor": 0
      },
      "text/plain": [
       "Iteration:   0%|          | 0/1291 [00:00<?, ?it/s]"
      ]
     },
     "metadata": {},
     "output_type": "display_data"
    },
    {
     "name": "stdout",
     "output_type": "stream",
     "text": [
      "epoch 20 elapsed time: 2:19:00.012921\n"
     ]
    },
    {
     "data": {
      "application/vnd.jupyter.widget-view+json": {
       "model_id": "6a7eb055b91a4f15b0748dde1bf6246e",
       "version_major": 2,
       "version_minor": 0
      },
      "text/plain": [
       "Epoch:   0%|          | 0/1 [00:00<?, ?it/s]"
      ]
     },
     "metadata": {},
     "output_type": "display_data"
    },
    {
     "data": {
      "application/vnd.jupyter.widget-view+json": {
       "model_id": "4fb37f3a97a046a59900fd850c3f1096",
       "version_major": 2,
       "version_minor": 0
      },
      "text/plain": [
       "Iteration:   0%|          | 0/1291 [00:00<?, ?it/s]"
      ]
     },
     "metadata": {},
     "output_type": "display_data"
    },
    {
     "name": "stdout",
     "output_type": "stream",
     "text": [
      "epoch 21 elapsed time: 2:26:01.403535\n"
     ]
    },
    {
     "data": {
      "application/vnd.jupyter.widget-view+json": {
       "model_id": "8c9d18f2b21f49d4a84c4e8faae3d482",
       "version_major": 2,
       "version_minor": 0
      },
      "text/plain": [
       "Epoch:   0%|          | 0/1 [00:00<?, ?it/s]"
      ]
     },
     "metadata": {},
     "output_type": "display_data"
    },
    {
     "data": {
      "application/vnd.jupyter.widget-view+json": {
       "model_id": "bb8bc4b043a8477897d5b12356910750",
       "version_major": 2,
       "version_minor": 0
      },
      "text/plain": [
       "Iteration:   0%|          | 0/1291 [00:00<?, ?it/s]"
      ]
     },
     "metadata": {},
     "output_type": "display_data"
    },
    {
     "name": "stdout",
     "output_type": "stream",
     "text": [
      "epoch 22 elapsed time: 2:32:58.162176\n"
     ]
    },
    {
     "data": {
      "application/vnd.jupyter.widget-view+json": {
       "model_id": "a068cc07577c4cd3a17abb13a24420bd",
       "version_major": 2,
       "version_minor": 0
      },
      "text/plain": [
       "Epoch:   0%|          | 0/1 [00:00<?, ?it/s]"
      ]
     },
     "metadata": {},
     "output_type": "display_data"
    },
    {
     "data": {
      "application/vnd.jupyter.widget-view+json": {
       "model_id": "ecfbc932345e4f9d895bc070a9951971",
       "version_major": 2,
       "version_minor": 0
      },
      "text/plain": [
       "Iteration:   0%|          | 0/1291 [00:00<?, ?it/s]"
      ]
     },
     "metadata": {},
     "output_type": "display_data"
    },
    {
     "name": "stdout",
     "output_type": "stream",
     "text": [
      "epoch 23 elapsed time: 2:39:47.372414\n"
     ]
    },
    {
     "data": {
      "application/vnd.jupyter.widget-view+json": {
       "model_id": "bc08e1e3e30b4846ac91a81a45cd7ccc",
       "version_major": 2,
       "version_minor": 0
      },
      "text/plain": [
       "Epoch:   0%|          | 0/1 [00:00<?, ?it/s]"
      ]
     },
     "metadata": {},
     "output_type": "display_data"
    },
    {
     "data": {
      "application/vnd.jupyter.widget-view+json": {
       "model_id": "6df67c62b36f46a3afc6bdd4640f3e5e",
       "version_major": 2,
       "version_minor": 0
      },
      "text/plain": [
       "Iteration:   0%|          | 0/1291 [00:00<?, ?it/s]"
      ]
     },
     "metadata": {},
     "output_type": "display_data"
    },
    {
     "name": "stdout",
     "output_type": "stream",
     "text": [
      "epoch 24 elapsed time: 2:46:38.511404\n"
     ]
    },
    {
     "data": {
      "application/vnd.jupyter.widget-view+json": {
       "model_id": "55532acbaeff4137ab00dc0db907d955",
       "version_major": 2,
       "version_minor": 0
      },
      "text/plain": [
       "Epoch:   0%|          | 0/1 [00:00<?, ?it/s]"
      ]
     },
     "metadata": {},
     "output_type": "display_data"
    },
    {
     "data": {
      "application/vnd.jupyter.widget-view+json": {
       "model_id": "b7329ecb699944d6ac1f6c3525aa8dc5",
       "version_major": 2,
       "version_minor": 0
      },
      "text/plain": [
       "Iteration:   0%|          | 0/1291 [00:00<?, ?it/s]"
      ]
     },
     "metadata": {},
     "output_type": "display_data"
    },
    {
     "name": "stdout",
     "output_type": "stream",
     "text": [
      "epoch 25 elapsed time: 2:53:31.565982\n"
     ]
    },
    {
     "data": {
      "application/vnd.jupyter.widget-view+json": {
       "model_id": "82347ad16dde473a93dca2b5f14cc111",
       "version_major": 2,
       "version_minor": 0
      },
      "text/plain": [
       "Epoch:   0%|          | 0/1 [00:00<?, ?it/s]"
      ]
     },
     "metadata": {},
     "output_type": "display_data"
    },
    {
     "data": {
      "application/vnd.jupyter.widget-view+json": {
       "model_id": "fc8872382bd34f5aa878562a072f5fe2",
       "version_major": 2,
       "version_minor": 0
      },
      "text/plain": [
       "Iteration:   0%|          | 0/1291 [00:00<?, ?it/s]"
      ]
     },
     "metadata": {},
     "output_type": "display_data"
    },
    {
     "name": "stdout",
     "output_type": "stream",
     "text": [
      "epoch 26 elapsed time: 3:00:25.186007\n"
     ]
    },
    {
     "data": {
      "application/vnd.jupyter.widget-view+json": {
       "model_id": "fd9ff354423a4fa19a5ec0ad9e7a0663",
       "version_major": 2,
       "version_minor": 0
      },
      "text/plain": [
       "Epoch:   0%|          | 0/1 [00:00<?, ?it/s]"
      ]
     },
     "metadata": {},
     "output_type": "display_data"
    },
    {
     "data": {
      "application/vnd.jupyter.widget-view+json": {
       "model_id": "eea1972e4f1b4b1fa698a1918647e248",
       "version_major": 2,
       "version_minor": 0
      },
      "text/plain": [
       "Iteration:   0%|          | 0/1291 [00:00<?, ?it/s]"
      ]
     },
     "metadata": {},
     "output_type": "display_data"
    },
    {
     "name": "stdout",
     "output_type": "stream",
     "text": [
      "epoch 27 elapsed time: 3:07:16.021811\n"
     ]
    },
    {
     "data": {
      "application/vnd.jupyter.widget-view+json": {
       "model_id": "fdf3bec1488a4225b255a5cc066e3668",
       "version_major": 2,
       "version_minor": 0
      },
      "text/plain": [
       "Epoch:   0%|          | 0/1 [00:00<?, ?it/s]"
      ]
     },
     "metadata": {},
     "output_type": "display_data"
    },
    {
     "data": {
      "application/vnd.jupyter.widget-view+json": {
       "model_id": "fe1bedb9858b439db269e23ed596f0a0",
       "version_major": 2,
       "version_minor": 0
      },
      "text/plain": [
       "Iteration:   0%|          | 0/1291 [00:00<?, ?it/s]"
      ]
     },
     "metadata": {},
     "output_type": "display_data"
    },
    {
     "name": "stdout",
     "output_type": "stream",
     "text": [
      "epoch 28 elapsed time: 3:14:03.319286\n"
     ]
    },
    {
     "data": {
      "application/vnd.jupyter.widget-view+json": {
       "model_id": "a7342ead15e4438f8136576366e4d0f8",
       "version_major": 2,
       "version_minor": 0
      },
      "text/plain": [
       "Epoch:   0%|          | 0/1 [00:00<?, ?it/s]"
      ]
     },
     "metadata": {},
     "output_type": "display_data"
    },
    {
     "data": {
      "application/vnd.jupyter.widget-view+json": {
       "model_id": "ac458cfca92045a9be3e5fd0db500ea2",
       "version_major": 2,
       "version_minor": 0
      },
      "text/plain": [
       "Iteration:   0%|          | 0/1291 [00:00<?, ?it/s]"
      ]
     },
     "metadata": {},
     "output_type": "display_data"
    },
    {
     "name": "stdout",
     "output_type": "stream",
     "text": [
      "epoch 29 elapsed time: 3:20:52.288083\n"
     ]
    },
    {
     "data": {
      "application/vnd.jupyter.widget-view+json": {
       "model_id": "fafbdbe3c09746bcaf591ac2814bfd22",
       "version_major": 2,
       "version_minor": 0
      },
      "text/plain": [
       "Epoch:   0%|          | 0/1 [00:00<?, ?it/s]"
      ]
     },
     "metadata": {},
     "output_type": "display_data"
    },
    {
     "data": {
      "application/vnd.jupyter.widget-view+json": {
       "model_id": "39ed99abbb7a42b0807917296d955396",
       "version_major": 2,
       "version_minor": 0
      },
      "text/plain": [
       "Iteration:   0%|          | 0/1291 [00:00<?, ?it/s]"
      ]
     },
     "metadata": {},
     "output_type": "display_data"
    },
    {
     "name": "stdout",
     "output_type": "stream",
     "text": [
      "epoch 30 elapsed time: 3:27:47.159206\n",
      "total elapsed time:  3:27:49.817492\n"
     ]
    },
    {
     "data": {
      "image/png": "[encoded data removed]",
      "text/plain": [
       "<Figure size 432x288 with 1 Axes>"
      ]
     },
     "metadata": {
      "needs_background": "light"
     },
     "output_type": "display_data"
    }
   ],
   "source": [
    "from sentence_transformers import SentenceTransformer, InputExample, models, losses\n",
    "from sentence_transformers.evaluation import EmbeddingSimilarityEvaluator\n",
    "from torch import nn\n",
    "from torch.utils.data import DataLoader\n",
    "import matplotlib.pyplot as plt\n",
    "from datetime import datetime\n",
    "\n",
    "word_embedding_model = models.Transformer('indobenchmark/indobert-large-p1', max_seq_length=256)\n",
    "pooling_model = models.Pooling(word_embedding_model.get_word_embedding_dimension(), pooling_mode=\"mean\")\n",
    "dense_model = models.Dense(in_features=pooling_model.get_sentence_embedding_dimension(), out_features=256, activation_function=nn.Tanh())\n",
    "\n",
    "model = SentenceTransformer(modules=[word_embedding_model, pooling_model, dense_model], device='cuda:2')\n",
    "\n",
    "train_examples = []\n",
    "for i, row in df_train.iterrows():\n",
    "    train_examples.append(InputExample(texts=[row[\"text1_id\"], row[\"text2_id\"]], label=row[\"score\"]))\n",
    "\n",
    "train_dataloader = DataLoader(train_examples, shuffle=True, batch_size=8)\n",
    "train_loss = losses.CosineSimilarityLoss(model)\n",
    "\n",
    "test_examples = []\n",
    "for i, row in df_test.iterrows():\n",
    "    test_examples.append(InputExample(texts=[row[\"text1_id\"], row[\"text2_id\"]], label=row[\"score\"]))\n",
    "evaluator = EmbeddingSimilarityEvaluator.from_input_examples(test_examples)\n",
    "\n",
    "evaluation_scores = []\n",
    "\n",
    "start = datetime.now()\n",
    "for epoch in range(30):\n",
    "    model.fit(train_objectives=[(train_dataloader, train_loss)], epochs=1, warmup_steps=100, evaluator=evaluator)\n",
    "    evaluation_score = model.evaluate(evaluator)\n",
    "    evaluation_scores.append(evaluation_score)\n",
    "    print(f\"epoch {epoch + 1} elapsed time: {datetime.now() - start}\")\n",
    "    \n",
    "    model.save(f\"/home/jupyter-23521027/refresh-bert/data/sbert/indobert-large-p1_dense_trained-epoch{epoch+1}\", model_name=f\"indobert-large-p1_dense_trained-epoch{epoch+1}\")\n",
    "\n",
    "end = datetime.now()\n",
    "print(\"total elapsed time: \", end - start)\n",
    "\n",
    "epochs = range(1, len(evaluation_scores) + 1)\n",
    "plt.plot(epochs, evaluation_scores, 'b', label='Evaluation Score')\n",
    "plt.xlabel('Epochs')\n",
    "plt.ylabel('Score')\n",
    "plt.title('Evaluation Score per Epoch')\n",
    "plt.legend()\n",
    "plt.grid(True)\n",
    "plt.show()"
   ]
  },
  {
   "cell_type": "code",
   "execution_count": 8,
   "id": "boring-central",
   "metadata": {},
   "outputs": [
    {
     "data": {
      "image/png": "[encoded data removed]",
      "text/plain": [
       "<Figure size 432x288 with 1 Axes>"
      ]
     },
     "metadata": {
      "needs_background": "light"
     },
     "output_type": "display_data"
    }
   ],
   "source": [
    "plt.plot(epochs, evaluation_scores, 'b', label='Evaluation Score', marker='o', linestyle='-')\n",
    "plt.xlabel('Epochs')\n",
    "plt.ylabel('Score')\n",
    "plt.title('Evaluation Score per Epoch')\n",
    "plt.legend()\n",
    "plt.grid(True)\n",
    "plt.show()"
   ]
  },
  {
   "cell_type": "code",
   "execution_count": 6,
   "id": "digital-glossary",
   "metadata": {},
   "outputs": [
    {
     "data": {
      "text/html": [
       "<div>\n",
       "<style scoped>\n",
       "    .dataframe tbody tr th:only-of-type {\n",
       "        vertical-align: middle;\n",
       "    }\n",
       "\n",
       "    .dataframe tbody tr th {\n",
       "        vertical-align: top;\n",
       "    }\n",
       "\n",
       "    .dataframe thead th {\n",
       "        text-align: right;\n",
       "    }\n",
       "</style>\n",
       "<table border=\"1\" class=\"dataframe\">\n",
       "  <thead>\n",
       "    <tr style=\"text-align: right;\">\n",
       "      <th></th>\n",
       "      <th>text1_id</th>\n",
       "      <th>text2_id</th>\n",
       "      <th>score</th>\n",
       "    </tr>\n",
       "  </thead>\n",
       "  <tbody>\n",
       "    <tr>\n",
       "      <th>0</th>\n",
       "      <td>Sebuah sepeda motor diparkir di dekat dinding ...</td>\n",
       "      <td>Sebuah sepeda motor diparkir oleh mural sebuah...</td>\n",
       "      <td>3.40</td>\n",
       "    </tr>\n",
       "    <tr>\n",
       "      <th>1</th>\n",
       "      <td>dia menikahimu, memilih untuk memiliki anak be...</td>\n",
       "      <td>mereka tidak pernah mengangkat masalah moral a...</td>\n",
       "      <td>0.50</td>\n",
       "    </tr>\n",
       "    <tr>\n",
       "      <th>2</th>\n",
       "      <td>Wanita yang meninggal itu juga mengenakan cinc...</td>\n",
       "      <td>Seorang wanita berambut pirang mengenakan arlo...</td>\n",
       "      <td>2.60</td>\n",
       "    </tr>\n",
       "    <tr>\n",
       "      <th>3</th>\n",
       "      <td>Kedua komponen harus berada di jalur tertutup.</td>\n",
       "      <td>bohlam dan baterai berada di jalur tertutup</td>\n",
       "      <td>3.80</td>\n",
       "    </tr>\n",
       "    <tr>\n",
       "      <th>4</th>\n",
       "      <td>Seperti yang sudah saya jelaskan pada bacaan k...</td>\n",
       "      <td>Seperti yang telah saya katakan dalam bacaan k...</td>\n",
       "      <td>4.75</td>\n",
       "    </tr>\n",
       "    <tr>\n",
       "      <th>...</th>\n",
       "      <td>...</td>\n",
       "      <td>...</td>\n",
       "      <td>...</td>\n",
       "    </tr>\n",
       "    <tr>\n",
       "      <th>2575</th>\n",
       "      <td>PM Turki mendesak untuk mengakhiri protes di I...</td>\n",
       "      <td>Polisi Turki menembakkan gas air mata ke pengu...</td>\n",
       "      <td>2.80</td>\n",
       "    </tr>\n",
       "    <tr>\n",
       "      <th>2576</th>\n",
       "      <td>Karena tegangannya tidak mencapai bohlam.</td>\n",
       "      <td>jalannya tidak tertutup</td>\n",
       "      <td>1.80</td>\n",
       "    </tr>\n",
       "    <tr>\n",
       "      <th>2577</th>\n",
       "      <td>Mereka kemudian jatuh dan telah mendukung sera...</td>\n",
       "      <td>Kedua negara yang menginvasi kemudian jatuh, d...</td>\n",
       "      <td>3.50</td>\n",
       "    </tr>\n",
       "    <tr>\n",
       "      <th>2578</th>\n",
       "      <td>Lem underlayment ke beton: berapa lama waktu y...</td>\n",
       "      <td>Berapa lama waktu yang dibutuhkan untuk menyem...</td>\n",
       "      <td>3.00</td>\n",
       "    </tr>\n",
       "    <tr>\n",
       "      <th>2579</th>\n",
       "      <td>Asosiasi Industri Rekaman Amerika mengatakan a...</td>\n",
       "      <td>Yaitu, jika Asosiasi Industri Rekaman Amerika ...</td>\n",
       "      <td>1.75</td>\n",
       "    </tr>\n",
       "  </tbody>\n",
       "</table>\n",
       "<p>12901 rows × 3 columns</p>\n",
       "</div>"
      ],
      "text/plain": [
       "                                               text1_id  \\\n",
       "0     Sebuah sepeda motor diparkir di dekat dinding ...   \n",
       "1     dia menikahimu, memilih untuk memiliki anak be...   \n",
       "2     Wanita yang meninggal itu juga mengenakan cinc...   \n",
       "3        Kedua komponen harus berada di jalur tertutup.   \n",
       "4     Seperti yang sudah saya jelaskan pada bacaan k...   \n",
       "...                                                 ...   \n",
       "2575  PM Turki mendesak untuk mengakhiri protes di I...   \n",
       "2576          Karena tegangannya tidak mencapai bohlam.   \n",
       "2577  Mereka kemudian jatuh dan telah mendukung sera...   \n",
       "2578  Lem underlayment ke beton: berapa lama waktu y...   \n",
       "2579  Asosiasi Industri Rekaman Amerika mengatakan a...   \n",
       "\n",
       "                                               text2_id  score  \n",
       "0     Sebuah sepeda motor diparkir oleh mural sebuah...   3.40  \n",
       "1     mereka tidak pernah mengangkat masalah moral a...   0.50  \n",
       "2     Seorang wanita berambut pirang mengenakan arlo...   2.60  \n",
       "3           bohlam dan baterai berada di jalur tertutup   3.80  \n",
       "4     Seperti yang telah saya katakan dalam bacaan k...   4.75  \n",
       "...                                                 ...    ...  \n",
       "2575  Polisi Turki menembakkan gas air mata ke pengu...   2.80  \n",
       "2576                            jalannya tidak tertutup   1.80  \n",
       "2577  Kedua negara yang menginvasi kemudian jatuh, d...   3.50  \n",
       "2578  Berapa lama waktu yang dibutuhkan untuk menyem...   3.00  \n",
       "2579  Yaitu, jika Asosiasi Industri Rekaman Amerika ...   1.75  \n",
       "\n",
       "[12901 rows x 3 columns]"
      ]
     },
     "execution_count": 6,
     "metadata": {},
     "output_type": "execute_result"
    }
   ],
   "source": [
    "import pandas as pd\n",
    "\n",
    "df_train = pd.read_csv(\"/home/jupyter-23521027/refresh-bert/data/sbert/train.tsv\", sep=\"\\t\")\n",
    "df_train = df_train[[\"text1_id\", \"text2_id\", \"score\"]]\n",
    "df_train\n",
    "\n",
    "df_test = pd.read_csv(\"/home/jupyter-23521027/refresh-bert/data/sbert/test.tsv\", sep=\"\\t\")\n",
    "df_test = df_test[[\"text1_id\", \"text2_id\", \"score\"]]\n",
    "df_test\n",
    "\n",
    "df = pd.concat([df_train, df_test])\n",
    "df"
   ]
  },
  {
   "cell_type": "code",
   "execution_count": 131,
   "id": "viral-chuck",
   "metadata": {},
   "outputs": [],
   "source": [
    "from sentence_transformers import SentenceTransformer\n",
    "\n",
    "model = SentenceTransformer(f\"/home/jupyter-23521027/refresh-bert/data/sbert/indobert-large-p1_dense_trained-epoch14\")"
   ]
  },
  {
   "cell_type": "code",
   "execution_count": 76,
   "id": "solid-jacksonville",
   "metadata": {},
   "outputs": [],
   "source": [
    "from sklearn.metrics.pairwise import paired_cosine_distances\n",
    "\n",
    "sentences1 = df.text1_id.to_list()\n",
    "sentences2 = df.text2_id.to_list()\n",
    "\n",
    "embeddings1 = model.encode(sentences1, convert_to_numpy=True)\n",
    "embeddings2 = model.encode(sentences2, convert_to_numpy=True)\n",
    "\n",
    "cosine_scores = 1 - (paired_cosine_distances(embeddings1, embeddings2))\n",
    "score_inference = cosine_scores.tolist()\n",
    "df[\"Model Score\"] = score_inference\n",
    "df[\"Human Score\"] = df[\"score\"]"
   ]
  },
  {
   "cell_type": "code",
   "execution_count": 77,
   "id": "proved-bandwidth",
   "metadata": {},
   "outputs": [
    {
     "data": {
      "text/html": [
       "<div>\n",
       "<style scoped>\n",
       "    .dataframe tbody tr th:only-of-type {\n",
       "        vertical-align: middle;\n",
       "    }\n",
       "\n",
       "    .dataframe tbody tr th {\n",
       "        vertical-align: top;\n",
       "    }\n",
       "\n",
       "    .dataframe thead th {\n",
       "        text-align: right;\n",
       "    }\n",
       "</style>\n",
       "<table border=\"1\" class=\"dataframe\">\n",
       "  <thead>\n",
       "    <tr style=\"text-align: right;\">\n",
       "      <th></th>\n",
       "      <th>text1_id</th>\n",
       "      <th>text2_id</th>\n",
       "      <th>score</th>\n",
       "      <th>score_inference</th>\n",
       "      <th>Model Score</th>\n",
       "      <th>Human Score</th>\n",
       "    </tr>\n",
       "  </thead>\n",
       "  <tbody>\n",
       "    <tr>\n",
       "      <th>0</th>\n",
       "      <td>Sebuah sepeda motor diparkir di dekat dinding ...</td>\n",
       "      <td>Sebuah sepeda motor diparkir oleh mural sebuah...</td>\n",
       "      <td>3.40</td>\n",
       "      <td>3.649769</td>\n",
       "      <td>3.649769</td>\n",
       "      <td>3.40</td>\n",
       "    </tr>\n",
       "    <tr>\n",
       "      <th>1</th>\n",
       "      <td>dia menikahimu, memilih untuk memiliki anak be...</td>\n",
       "      <td>mereka tidak pernah mengangkat masalah moral a...</td>\n",
       "      <td>0.50</td>\n",
       "      <td>1.622983</td>\n",
       "      <td>1.622983</td>\n",
       "      <td>0.50</td>\n",
       "    </tr>\n",
       "    <tr>\n",
       "      <th>2</th>\n",
       "      <td>Wanita yang meninggal itu juga mengenakan cinc...</td>\n",
       "      <td>Seorang wanita berambut pirang mengenakan arlo...</td>\n",
       "      <td>2.60</td>\n",
       "      <td>2.006056</td>\n",
       "      <td>2.006056</td>\n",
       "      <td>2.60</td>\n",
       "    </tr>\n",
       "    <tr>\n",
       "      <th>3</th>\n",
       "      <td>Kedua komponen harus berada di jalur tertutup.</td>\n",
       "      <td>bohlam dan baterai berada di jalur tertutup</td>\n",
       "      <td>3.80</td>\n",
       "      <td>3.965281</td>\n",
       "      <td>3.965281</td>\n",
       "      <td>3.80</td>\n",
       "    </tr>\n",
       "    <tr>\n",
       "      <th>4</th>\n",
       "      <td>Seperti yang sudah saya jelaskan pada bacaan k...</td>\n",
       "      <td>Seperti yang telah saya katakan dalam bacaan k...</td>\n",
       "      <td>4.75</td>\n",
       "      <td>4.843991</td>\n",
       "      <td>4.843991</td>\n",
       "      <td>4.75</td>\n",
       "    </tr>\n",
       "    <tr>\n",
       "      <th>...</th>\n",
       "      <td>...</td>\n",
       "      <td>...</td>\n",
       "      <td>...</td>\n",
       "      <td>...</td>\n",
       "      <td>...</td>\n",
       "      <td>...</td>\n",
       "    </tr>\n",
       "    <tr>\n",
       "      <th>2575</th>\n",
       "      <td>PM Turki mendesak untuk mengakhiri protes di I...</td>\n",
       "      <td>Polisi Turki menembakkan gas air mata ke pengu...</td>\n",
       "      <td>2.80</td>\n",
       "      <td>2.257206</td>\n",
       "      <td>2.257206</td>\n",
       "      <td>2.80</td>\n",
       "    </tr>\n",
       "    <tr>\n",
       "      <th>2576</th>\n",
       "      <td>Karena tegangannya tidak mencapai bohlam.</td>\n",
       "      <td>jalannya tidak tertutup</td>\n",
       "      <td>1.80</td>\n",
       "      <td>1.095597</td>\n",
       "      <td>1.095597</td>\n",
       "      <td>1.80</td>\n",
       "    </tr>\n",
       "    <tr>\n",
       "      <th>2577</th>\n",
       "      <td>Mereka kemudian jatuh dan telah mendukung sera...</td>\n",
       "      <td>Kedua negara yang menginvasi kemudian jatuh, d...</td>\n",
       "      <td>3.50</td>\n",
       "      <td>3.010490</td>\n",
       "      <td>3.010490</td>\n",
       "      <td>3.50</td>\n",
       "    </tr>\n",
       "    <tr>\n",
       "      <th>2578</th>\n",
       "      <td>Lem underlayment ke beton: berapa lama waktu y...</td>\n",
       "      <td>Berapa lama waktu yang dibutuhkan untuk menyem...</td>\n",
       "      <td>3.00</td>\n",
       "      <td>3.006836</td>\n",
       "      <td>3.006836</td>\n",
       "      <td>3.00</td>\n",
       "    </tr>\n",
       "    <tr>\n",
       "      <th>2579</th>\n",
       "      <td>Asosiasi Industri Rekaman Amerika mengatakan a...</td>\n",
       "      <td>Yaitu, jika Asosiasi Industri Rekaman Amerika ...</td>\n",
       "      <td>1.75</td>\n",
       "      <td>2.810634</td>\n",
       "      <td>2.810634</td>\n",
       "      <td>1.75</td>\n",
       "    </tr>\n",
       "  </tbody>\n",
       "</table>\n",
       "<p>12901 rows × 6 columns</p>\n",
       "</div>"
      ],
      "text/plain": [
       "                                               text1_id  \\\n",
       "0     Sebuah sepeda motor diparkir di dekat dinding ...   \n",
       "1     dia menikahimu, memilih untuk memiliki anak be...   \n",
       "2     Wanita yang meninggal itu juga mengenakan cinc...   \n",
       "3        Kedua komponen harus berada di jalur tertutup.   \n",
       "4     Seperti yang sudah saya jelaskan pada bacaan k...   \n",
       "...                                                 ...   \n",
       "2575  PM Turki mendesak untuk mengakhiri protes di I...   \n",
       "2576          Karena tegangannya tidak mencapai bohlam.   \n",
       "2577  Mereka kemudian jatuh dan telah mendukung sera...   \n",
       "2578  Lem underlayment ke beton: berapa lama waktu y...   \n",
       "2579  Asosiasi Industri Rekaman Amerika mengatakan a...   \n",
       "\n",
       "                                               text2_id  score  \\\n",
       "0     Sebuah sepeda motor diparkir oleh mural sebuah...   3.40   \n",
       "1     mereka tidak pernah mengangkat masalah moral a...   0.50   \n",
       "2     Seorang wanita berambut pirang mengenakan arlo...   2.60   \n",
       "3           bohlam dan baterai berada di jalur tertutup   3.80   \n",
       "4     Seperti yang telah saya katakan dalam bacaan k...   4.75   \n",
       "...                                                 ...    ...   \n",
       "2575  Polisi Turki menembakkan gas air mata ke pengu...   2.80   \n",
       "2576                            jalannya tidak tertutup   1.80   \n",
       "2577  Kedua negara yang menginvasi kemudian jatuh, d...   3.50   \n",
       "2578  Berapa lama waktu yang dibutuhkan untuk menyem...   3.00   \n",
       "2579  Yaitu, jika Asosiasi Industri Rekaman Amerika ...   1.75   \n",
       "\n",
       "      score_inference  Model Score  Human Score  \n",
       "0            3.649769     3.649769         3.40  \n",
       "1            1.622983     1.622983         0.50  \n",
       "2            2.006056     2.006056         2.60  \n",
       "3            3.965281     3.965281         3.80  \n",
       "4            4.843991     4.843991         4.75  \n",
       "...               ...          ...          ...  \n",
       "2575         2.257206     2.257206         2.80  \n",
       "2576         1.095597     1.095597         1.80  \n",
       "2577         3.010490     3.010490         3.50  \n",
       "2578         3.006836     3.006836         3.00  \n",
       "2579         2.810634     2.810634         1.75  \n",
       "\n",
       "[12901 rows x 6 columns]"
      ]
     },
     "execution_count": 77,
     "metadata": {},
     "output_type": "execute_result"
    }
   ],
   "source": [
    "df[\"Model Score\"] = df[\"Model Score\"] * 5\n",
    "df"
   ]
  },
  {
   "cell_type": "code",
   "execution_count": 78,
   "id": "annoying-charity",
   "metadata": {},
   "outputs": [
    {
     "data": {
      "text/plain": [
       "array([[<AxesSubplot:title={'center':'Human Score'}>,\n",
       "        <AxesSubplot:title={'center':'Model Score'}>]], dtype=object)"
      ]
     },
     "execution_count": 78,
     "metadata": {},
     "output_type": "execute_result"
    },
    {
     "data": {
      "image/png": "[encoded data removed]",
      "text/plain": [
       "<Figure size 648x252 with 2 Axes>"
      ]
     },
     "metadata": {
      "needs_background": "light"
     },
     "output_type": "display_data"
    }
   ],
   "source": [
    "df.hist(column=[\"Human Score\", \"Model Score\"], bins=5, figsize=(9,3.5))"
   ]
  },
  {
   "cell_type": "code",
   "execution_count": 79,
   "id": "hourly-application",
   "metadata": {},
   "outputs": [
    {
     "data": {
      "text/html": [
       "<div>\n",
       "<style scoped>\n",
       "    .dataframe tbody tr th:only-of-type {\n",
       "        vertical-align: middle;\n",
       "    }\n",
       "\n",
       "    .dataframe tbody tr th {\n",
       "        vertical-align: top;\n",
       "    }\n",
       "\n",
       "    .dataframe thead th {\n",
       "        text-align: right;\n",
       "    }\n",
       "</style>\n",
       "<table border=\"1\" class=\"dataframe\">\n",
       "  <thead>\n",
       "    <tr style=\"text-align: right;\">\n",
       "      <th></th>\n",
       "      <th>text1_id</th>\n",
       "      <th>text2_id</th>\n",
       "      <th>score</th>\n",
       "      <th>score_inference</th>\n",
       "      <th>Model Score</th>\n",
       "      <th>Human Score</th>\n",
       "    </tr>\n",
       "  </thead>\n",
       "  <tbody>\n",
       "    <tr>\n",
       "      <th>0</th>\n",
       "      <td>Sebuah sepeda motor diparkir di dekat dinding ...</td>\n",
       "      <td>Sebuah sepeda motor diparkir oleh mural sebuah...</td>\n",
       "      <td>3.40</td>\n",
       "      <td>3.649769</td>\n",
       "      <td>3.649769</td>\n",
       "      <td>3.40</td>\n",
       "    </tr>\n",
       "    <tr>\n",
       "      <th>1</th>\n",
       "      <td>dia menikahimu, memilih untuk memiliki anak be...</td>\n",
       "      <td>mereka tidak pernah mengangkat masalah moral a...</td>\n",
       "      <td>0.50</td>\n",
       "      <td>1.622983</td>\n",
       "      <td>1.622983</td>\n",
       "      <td>0.50</td>\n",
       "    </tr>\n",
       "    <tr>\n",
       "      <th>2</th>\n",
       "      <td>Wanita yang meninggal itu juga mengenakan cinc...</td>\n",
       "      <td>Seorang wanita berambut pirang mengenakan arlo...</td>\n",
       "      <td>2.60</td>\n",
       "      <td>2.006056</td>\n",
       "      <td>2.006056</td>\n",
       "      <td>2.60</td>\n",
       "    </tr>\n",
       "    <tr>\n",
       "      <th>3</th>\n",
       "      <td>Kedua komponen harus berada di jalur tertutup.</td>\n",
       "      <td>bohlam dan baterai berada di jalur tertutup</td>\n",
       "      <td>3.80</td>\n",
       "      <td>3.965281</td>\n",
       "      <td>3.965281</td>\n",
       "      <td>3.80</td>\n",
       "    </tr>\n",
       "    <tr>\n",
       "      <th>4</th>\n",
       "      <td>Seperti yang sudah saya jelaskan pada bacaan k...</td>\n",
       "      <td>Seperti yang telah saya katakan dalam bacaan k...</td>\n",
       "      <td>4.75</td>\n",
       "      <td>4.843991</td>\n",
       "      <td>4.843991</td>\n",
       "      <td>4.75</td>\n",
       "    </tr>\n",
       "    <tr>\n",
       "      <th>...</th>\n",
       "      <td>...</td>\n",
       "      <td>...</td>\n",
       "      <td>...</td>\n",
       "      <td>...</td>\n",
       "      <td>...</td>\n",
       "      <td>...</td>\n",
       "    </tr>\n",
       "    <tr>\n",
       "      <th>2575</th>\n",
       "      <td>PM Turki mendesak untuk mengakhiri protes di I...</td>\n",
       "      <td>Polisi Turki menembakkan gas air mata ke pengu...</td>\n",
       "      <td>2.80</td>\n",
       "      <td>2.257206</td>\n",
       "      <td>2.257206</td>\n",
       "      <td>2.80</td>\n",
       "    </tr>\n",
       "    <tr>\n",
       "      <th>2576</th>\n",
       "      <td>Karena tegangannya tidak mencapai bohlam.</td>\n",
       "      <td>jalannya tidak tertutup</td>\n",
       "      <td>1.80</td>\n",
       "      <td>1.095597</td>\n",
       "      <td>1.095597</td>\n",
       "      <td>1.80</td>\n",
       "    </tr>\n",
       "    <tr>\n",
       "      <th>2577</th>\n",
       "      <td>Mereka kemudian jatuh dan telah mendukung sera...</td>\n",
       "      <td>Kedua negara yang menginvasi kemudian jatuh, d...</td>\n",
       "      <td>3.50</td>\n",
       "      <td>3.010490</td>\n",
       "      <td>3.010490</td>\n",
       "      <td>3.50</td>\n",
       "    </tr>\n",
       "    <tr>\n",
       "      <th>2578</th>\n",
       "      <td>Lem underlayment ke beton: berapa lama waktu y...</td>\n",
       "      <td>Berapa lama waktu yang dibutuhkan untuk menyem...</td>\n",
       "      <td>3.00</td>\n",
       "      <td>3.006836</td>\n",
       "      <td>3.006836</td>\n",
       "      <td>3.00</td>\n",
       "    </tr>\n",
       "    <tr>\n",
       "      <th>2579</th>\n",
       "      <td>Asosiasi Industri Rekaman Amerika mengatakan a...</td>\n",
       "      <td>Yaitu, jika Asosiasi Industri Rekaman Amerika ...</td>\n",
       "      <td>1.75</td>\n",
       "      <td>2.810634</td>\n",
       "      <td>2.810634</td>\n",
       "      <td>1.75</td>\n",
       "    </tr>\n",
       "  </tbody>\n",
       "</table>\n",
       "<p>12901 rows × 6 columns</p>\n",
       "</div>"
      ],
      "text/plain": [
       "                                               text1_id  \\\n",
       "0     Sebuah sepeda motor diparkir di dekat dinding ...   \n",
       "1     dia menikahimu, memilih untuk memiliki anak be...   \n",
       "2     Wanita yang meninggal itu juga mengenakan cinc...   \n",
       "3        Kedua komponen harus berada di jalur tertutup.   \n",
       "4     Seperti yang sudah saya jelaskan pada bacaan k...   \n",
       "...                                                 ...   \n",
       "2575  PM Turki mendesak untuk mengakhiri protes di I...   \n",
       "2576          Karena tegangannya tidak mencapai bohlam.   \n",
       "2577  Mereka kemudian jatuh dan telah mendukung sera...   \n",
       "2578  Lem underlayment ke beton: berapa lama waktu y...   \n",
       "2579  Asosiasi Industri Rekaman Amerika mengatakan a...   \n",
       "\n",
       "                                               text2_id  score  \\\n",
       "0     Sebuah sepeda motor diparkir oleh mural sebuah...   3.40   \n",
       "1     mereka tidak pernah mengangkat masalah moral a...   0.50   \n",
       "2     Seorang wanita berambut pirang mengenakan arlo...   2.60   \n",
       "3           bohlam dan baterai berada di jalur tertutup   3.80   \n",
       "4     Seperti yang telah saya katakan dalam bacaan k...   4.75   \n",
       "...                                                 ...    ...   \n",
       "2575  Polisi Turki menembakkan gas air mata ke pengu...   2.80   \n",
       "2576                            jalannya tidak tertutup   1.80   \n",
       "2577  Kedua negara yang menginvasi kemudian jatuh, d...   3.50   \n",
       "2578  Berapa lama waktu yang dibutuhkan untuk menyem...   3.00   \n",
       "2579  Yaitu, jika Asosiasi Industri Rekaman Amerika ...   1.75   \n",
       "\n",
       "      score_inference  Model Score  Human Score  \n",
       "0            3.649769     3.649769         3.40  \n",
       "1            1.622983     1.622983         0.50  \n",
       "2            2.006056     2.006056         2.60  \n",
       "3            3.965281     3.965281         3.80  \n",
       "4            4.843991     4.843991         4.75  \n",
       "...               ...          ...          ...  \n",
       "2575         2.257206     2.257206         2.80  \n",
       "2576         1.095597     1.095597         1.80  \n",
       "2577         3.010490     3.010490         3.50  \n",
       "2578         3.006836     3.006836         3.00  \n",
       "2579         2.810634     2.810634         1.75  \n",
       "\n",
       "[12901 rows x 6 columns]"
      ]
     },
     "execution_count": 79,
     "metadata": {},
     "output_type": "execute_result"
    }
   ],
   "source": [
    "df.loc[df['Model Score'] < 0, ['Model Score']] = 0.0\n",
    "df"
   ]
  },
  {
   "cell_type": "code",
   "execution_count": 80,
   "id": "incorporated-academy",
   "metadata": {},
   "outputs": [
    {
     "data": {
      "text/plain": [
       "array([[<AxesSubplot:title={'center':'Human Score'}>,\n",
       "        <AxesSubplot:title={'center':'Model Score'}>]], dtype=object)"
      ]
     },
     "execution_count": 80,
     "metadata": {},
     "output_type": "execute_result"
    },
    {
     "data": {
      "image/png": "[encoded data removed]",
      "text/plain": [
       "<Figure size 648x252 with 2 Axes>"
      ]
     },
     "metadata": {
      "needs_background": "light"
     },
     "output_type": "display_data"
    }
   ],
   "source": [
    "df.hist(column=[\"Human Score\", \"Model Score\"], bins=5, figsize=(9,3.5))"
   ]
  },
  {
   "cell_type": "code",
   "execution_count": 81,
   "id": "infrared-adult",
   "metadata": {},
   "outputs": [
    {
     "data": {
      "text/plain": [
       "<AxesSubplot:>"
      ]
     },
     "execution_count": 81,
     "metadata": {},
     "output_type": "execute_result"
    },
    {
     "data": {
      "image/png": "[encoded data removed]",
      "text/plain": [
       "<Figure size 432x288 with 1 Axes>"
      ]
     },
     "metadata": {
      "needs_background": "light"
     },
     "output_type": "display_data"
    }
   ],
   "source": [
    "df.boxplot(column=[\"Human Score\", \"Model Score\"])"
   ]
  },
  {
   "cell_type": "code",
   "execution_count": 152,
   "id": "comparable-female",
   "metadata": {},
   "outputs": [],
   "source": [
    "import pandas as pd\n",
    "from sklearn.metrics.pairwise import paired_cosine_distances\n",
    "\n",
    "df_test = pd.read_csv(\"/home/jupyter-23521027/refresh-bert/data/sbert/test.tsv\", sep=\"\\t\")\n",
    "df_test = df_test[[\"text1_id\", \"text2_id\", \"score\"]]\n",
    "\n",
    "sentences1 = df_test.text1_id.to_list()\n",
    "sentences2 = df_test.text2_id.to_list()\n",
    "\n",
    "embeddings1 = model.encode(sentences1, convert_to_numpy=True)\n",
    "embeddings2 = model.encode(sentences2, convert_to_numpy=True)\n",
    "\n",
    "cosine_scores = 1 - (paired_cosine_distances(embeddings1, embeddings2))\n",
    "score_inference = cosine_scores.tolist()\n",
    "\n",
    "df_test[\"Model Score\"] = score_inference\n",
    "df_test[\"Model Score\"] = df_test[\"Model Score\"] * 5\n",
    "df_test.loc[df_test['Model Score'] < 0, ['Model Score']] = 0.0\n",
    "\n",
    "df_test[\"Human Score\"] = df_test[\"score\"]\n",
    "df_test.drop(\"score\", axis=1, inplace=True)"
   ]
  },
  {
   "cell_type": "code",
   "execution_count": 153,
   "id": "removed-waterproof",
   "metadata": {},
   "outputs": [
    {
     "data": {
      "text/plain": [
       "array([[<AxesSubplot:title={'center':'Human Score'}>]], dtype=object)"
      ]
     },
     "execution_count": 153,
     "metadata": {},
     "output_type": "execute_result"
    },
    {
     "data": {
      "image/png": "[encoded data removed]",
      "text/plain": [
       "<Figure size 252x252 with 1 Axes>"
      ]
     },
     "metadata": {
      "needs_background": "light"
     },
     "output_type": "display_data"
    }
   ],
   "source": [
    "df_test.hist(column=[\"Human Score\"], bins=5, figsize=(3.5,3.5))"
   ]
  },
  {
   "cell_type": "code",
   "execution_count": 154,
   "id": "worst-rubber",
   "metadata": {},
   "outputs": [
    {
     "data": {
      "image/png": "[encoded data removed]",
      "text/plain": [
       "<Figure size 360x360 with 1 Axes>"
      ]
     },
     "metadata": {
      "needs_background": "light"
     },
     "output_type": "display_data"
    }
   ],
   "source": [
    "import pandas as pd\n",
    "import matplotlib.pyplot as plt\n",
    "\n",
    "# Assuming you have a DataFrame named df_test with the \"Human Score\" column\n",
    "# For example:\n",
    "# df_test = pd.DataFrame({'Human Score': [3.2, 4.5, 2.8, 5.0, 3.9, 4.0, 4.1, 3.5, 4.8, 4.2]})\n",
    "\n",
    "# Plot the histogram with approximate bin counts\n",
    "plt.figure(figsize=(5, 5))\n",
    "n, bins, patches = plt.hist(df_test[\"Human Score\"], bins=5)\n",
    "\n",
    "# Display the approximate number of data points in each bin on the histogram\n",
    "for i in range(len(patches)):\n",
    "    plt.text(bins[i] + 0.5*(bins[i+1]-bins[i]), n[i], int(n[i]), ha='center', va='bottom')\n",
    "\n",
    "plt.xlabel(\"Human Score\")\n",
    "plt.ylabel(\"Frequency\")\n",
    "plt.show()"
   ]
  },
  {
   "cell_type": "code",
   "execution_count": 155,
   "id": "trying-spank",
   "metadata": {},
   "outputs": [
    {
     "data": {
      "text/plain": [
       "<AxesSubplot:>"
      ]
     },
     "execution_count": 155,
     "metadata": {},
     "output_type": "execute_result"
    },
    {
     "data": {
      "image/png": "[encoded data removed]",
      "text/plain": [
       "<Figure size 432x288 with 1 Axes>"
      ]
     },
     "metadata": {
      "needs_background": "light"
     },
     "output_type": "display_data"
    }
   ],
   "source": [
    "df_test.boxplot(column=[\"Human Score\", \"Model Score\"])"
   ]
  },
  {
   "cell_type": "code",
   "execution_count": 156,
   "id": "fitted-samba",
   "metadata": {},
   "outputs": [
    {
     "name": "stdout",
     "output_type": "stream",
     "text": [
      "Maximum Difference: 3.411407709121704\n",
      "Row with Maximum Difference:\n",
      "Mengapa Anda perlu mengupas buah persik agar bisa?\n",
      "Bagaimana cara mengupas buah persik?\n",
      "Human score: 1.0\n",
      "Model score: 4.411407709121704\n",
      "Total test dataset rows: 2580\n",
      "Total rows with difference below 1: 2011 / 2580\n",
      "Total rows with difference below 0.1: 365 / 2580\n",
      "Total rows with difference below 0.01: 53 / 2580\n",
      "Total rows with difference below 0.001: 24 / 2580\n"
     ]
    }
   ],
   "source": [
    "df_test['Difference'] = abs(df_test['Model Score'] - df_test['Human Score'])\n",
    "max_difference_row = df_test.loc[df_test['Difference'].idxmax()]\n",
    "max_difference = max_difference_row['Difference']\n",
    "\n",
    "print(\"Maximum Difference:\", max_difference)\n",
    "print(\"Row with Maximum Difference:\")\n",
    "print(max_difference_row.text1_id)\n",
    "print(max_difference_row.text2_id)\n",
    "print(\"Human score:\", max_difference_row[\"Human Score\"])\n",
    "print(\"Model score:\", max_difference_row[\"Model Score\"])\n",
    "\n",
    "thresholds = [1e-3, 1e-2, 1e-1, 1]\n",
    "print(f\"Total test dataset rows: {len(df_test)}\")\n",
    "for t in thresholds[::-1]:\n",
    "    total_rows_below_threshold = len(df_test[df_test['Difference'] < t])\n",
    "    print(f\"Total rows with difference below {t}:\", total_rows_below_threshold, \"/\", len(df_test))"
   ]
  },
  {
   "cell_type": "code",
   "execution_count": 159,
   "id": "lyric-scout",
   "metadata": {},
   "outputs": [
    {
     "name": "stdout",
     "output_type": "stream",
     "text": [
      "First Highest Difference:\n",
      "Row:\n",
      "Mengapa Anda perlu mengupas buah persik agar bisa? \n",
      " Bagaimana cara mengupas buah persik?\n",
      "Human Score: 1.0\n",
      "Model Score: 4.411407709121704\n",
      "\n",
      "Second Highest Difference:\n",
      "Row:\n",
      "Tidak ada tes yang dapat memberi tahu Anda apakah itu disegel atau tidak. \n",
      " Tidak ada kode yang memberi tahu Anda bahwa Anda tidak dapat melakukan ini.\n",
      "Human Score: 0.0\n",
      "Model Score: 3.110182285308838\n"
     ]
    }
   ],
   "source": [
    "df_test['Difference'] = abs(df_test['Model Score'] - df_test['Human Score'])\n",
    "\n",
    "# Get the two rows with the highest differences and their corresponding values\n",
    "two_max_difference_rows = df_test.nlargest(2, 'Difference')\n",
    "\n",
    "print(\"First Highest Difference:\")\n",
    "print(\"Row:\")\n",
    "print(two_max_difference_rows.iloc[0]['text1_id'], \"\\n\", two_max_difference_rows.iloc[0]['text2_id'])\n",
    "print(\"Human Score:\", two_max_difference_rows.iloc[0]['Human Score'])\n",
    "print(\"Model Score:\", two_max_difference_rows.iloc[0]['Model Score'])\n",
    "\n",
    "print(\"\\nSecond Highest Difference:\")\n",
    "print(\"Row:\")\n",
    "print(two_max_difference_rows.iloc[1]['text1_id'], \"\\n\", two_max_difference_rows.iloc[1]['text2_id'])\n",
    "print(\"Human Score:\", two_max_difference_rows.iloc[1]['Human Score'])\n",
    "print(\"Model Score:\", two_max_difference_rows.iloc[1]['Model Score'])"
   ]
  },
  {
   "cell_type": "code",
   "execution_count": 137,
   "id": "thorough-crash",
   "metadata": {},
   "outputs": [
    {
     "data": {
      "text/html": [
       "<div>\n",
       "<style scoped>\n",
       "    .dataframe tbody tr th:only-of-type {\n",
       "        vertical-align: middle;\n",
       "    }\n",
       "\n",
       "    .dataframe tbody tr th {\n",
       "        vertical-align: top;\n",
       "    }\n",
       "\n",
       "    .dataframe thead th {\n",
       "        text-align: right;\n",
       "    }\n",
       "</style>\n",
       "<table border=\"1\" class=\"dataframe\">\n",
       "  <thead>\n",
       "    <tr style=\"text-align: right;\">\n",
       "      <th></th>\n",
       "      <th>text1_id</th>\n",
       "      <th>text2_id</th>\n",
       "      <th>Model Score</th>\n",
       "      <th>Human Score</th>\n",
       "      <th>Difference</th>\n",
       "    </tr>\n",
       "  </thead>\n",
       "  <tbody>\n",
       "    <tr>\n",
       "      <th>128</th>\n",
       "      <td>Tunisia</td>\n",
       "      <td>Tunisia</td>\n",
       "      <td>5.000000</td>\n",
       "      <td>5.0</td>\n",
       "      <td>0.000000e+00</td>\n",
       "    </tr>\n",
       "    <tr>\n",
       "      <th>176</th>\n",
       "      <td>Dua tewas dalam ledakan mobil Bahrain</td>\n",
       "      <td>Dua tewas dalam ledakan mobil Bahrain</td>\n",
       "      <td>5.000000</td>\n",
       "      <td>5.0</td>\n",
       "      <td>2.980232e-07</td>\n",
       "    </tr>\n",
       "    <tr>\n",
       "      <th>178</th>\n",
       "      <td>Laporan Maij-Weggen (A5-0323 / 2000)</td>\n",
       "      <td>Laporan Maij-Weggen (A5-0323 / 2000)</td>\n",
       "      <td>5.000000</td>\n",
       "      <td>5.0</td>\n",
       "      <td>0.000000e+00</td>\n",
       "    </tr>\n",
       "    <tr>\n",
       "      <th>220</th>\n",
       "      <td>(Tepuk tangan)</td>\n",
       "      <td>Saya sudah menjawab tentang hal ini, dan saya ...</td>\n",
       "      <td>0.000000</td>\n",
       "      <td>0.0</td>\n",
       "      <td>0.000000e+00</td>\n",
       "    </tr>\n",
       "    <tr>\n",
       "      <th>228</th>\n",
       "      <td>Kenaikan harga pangan menimbulkan kekhawatiran...</td>\n",
       "      <td>Orang Amerika Chris Horner memenangkan Tur Spa...</td>\n",
       "      <td>0.000000</td>\n",
       "      <td>0.0</td>\n",
       "      <td>0.000000e+00</td>\n",
       "    </tr>\n",
       "    <tr>\n",
       "      <th>293</th>\n",
       "      <td>Itu bukan ide yang bagus.</td>\n",
       "      <td>Itu bukan ide yang bagus.</td>\n",
       "      <td>5.000000</td>\n",
       "      <td>5.0</td>\n",
       "      <td>0.000000e+00</td>\n",
       "    </tr>\n",
       "    <tr>\n",
       "      <th>413</th>\n",
       "      <td>Sebuah pesawat terbang di kejauhan.</td>\n",
       "      <td>Seorang wanita dengan kuda putih.</td>\n",
       "      <td>0.000000</td>\n",
       "      <td>0.0</td>\n",
       "      <td>0.000000e+00</td>\n",
       "    </tr>\n",
       "    <tr>\n",
       "      <th>429</th>\n",
       "      <td>Tapi itu perlu.</td>\n",
       "      <td>Tapi itu perlu.</td>\n",
       "      <td>5.000000</td>\n",
       "      <td>5.0</td>\n",
       "      <td>0.000000e+00</td>\n",
       "    </tr>\n",
       "    <tr>\n",
       "      <th>509</th>\n",
       "      <td>Seorang pria berlatih tinju</td>\n",
       "      <td>Seorang pria berlatih tinju</td>\n",
       "      <td>5.000000</td>\n",
       "      <td>5.0</td>\n",
       "      <td>2.980232e-07</td>\n",
       "    </tr>\n",
       "    <tr>\n",
       "      <th>597</th>\n",
       "      <td>Mereka TIDAK berdaulat seperti sebelumnya.</td>\n",
       "      <td>untuk mengulang: Mereka TIDAK berdaulat sepert...</td>\n",
       "      <td>4.400919</td>\n",
       "      <td>4.4</td>\n",
       "      <td>9.190798e-04</td>\n",
       "    </tr>\n",
       "    <tr>\n",
       "      <th>656</th>\n",
       "      <td>mereka &amp;quot;memiliki&amp;quot; rubah karena berit...</td>\n",
       "      <td>Saya menabung untuk itu karena saya tahu saya ...</td>\n",
       "      <td>0.000000</td>\n",
       "      <td>0.0</td>\n",
       "      <td>0.000000e+00</td>\n",
       "    </tr>\n",
       "    <tr>\n",
       "      <th>881</th>\n",
       "      <td>Definisi istilah tergantung pada aplikasi.</td>\n",
       "      <td>Definisi istilah tergantung pada aplikasi.</td>\n",
       "      <td>5.000000</td>\n",
       "      <td>5.0</td>\n",
       "      <td>0.000000e+00</td>\n",
       "    </tr>\n",
       "    <tr>\n",
       "      <th>893</th>\n",
       "      <td>Dua kambing berdiri di ladang dekat pohon.</td>\n",
       "      <td>Sebuah perahu besar menarik sebuah perahu puti...</td>\n",
       "      <td>0.000000</td>\n",
       "      <td>0.0</td>\n",
       "      <td>0.000000e+00</td>\n",
       "    </tr>\n",
       "    <tr>\n",
       "      <th>1077</th>\n",
       "      <td>Mungkin ini bisa berhasil untuk Anda.</td>\n",
       "      <td>Mungkin ini bisa berhasil untuk Anda.</td>\n",
       "      <td>5.000000</td>\n",
       "      <td>5.0</td>\n",
       "      <td>2.980232e-07</td>\n",
       "    </tr>\n",
       "    <tr>\n",
       "      <th>1112</th>\n",
       "      <td>Tiongkok Äė Äėakan melindungi kepentingan ‚Ä b...</td>\n",
       "      <td>Obama dalam konfrontasi langsung dengan Putin ...</td>\n",
       "      <td>0.000000</td>\n",
       "      <td>0.0</td>\n",
       "      <td>0.000000e+00</td>\n",
       "    </tr>\n",
       "    <tr>\n",
       "      <th>1247</th>\n",
       "      <td>Seorang wanita dan seekor anjing berdiri di ru...</td>\n",
       "      <td>Seorang pria membawa tanda sambil berdiri di t...</td>\n",
       "      <td>0.000000</td>\n",
       "      <td>0.0</td>\n",
       "      <td>0.000000e+00</td>\n",
       "    </tr>\n",
       "    <tr>\n",
       "      <th>1446</th>\n",
       "      <td>China mengirim armada terbesar ke pulau-pulau ...</td>\n",
       "      <td>Kapal-kapal Tiongkok memasuki perairan lepas d...</td>\n",
       "      <td>3.400590</td>\n",
       "      <td>3.4</td>\n",
       "      <td>5.901217e-04</td>\n",
       "    </tr>\n",
       "    <tr>\n",
       "      <th>1614</th>\n",
       "      <td>(Parlemen menerima amandemen lisan)</td>\n",
       "      <td>(Parlemen menerima amandemen lisan)</td>\n",
       "      <td>5.000000</td>\n",
       "      <td>5.0</td>\n",
       "      <td>0.000000e+00</td>\n",
       "    </tr>\n",
       "    <tr>\n",
       "      <th>1950</th>\n",
       "      <td>Seekor anjing coklat dan putih berlari melinta...</td>\n",
       "      <td>Seseorang tergantung di tebing berbatu.</td>\n",
       "      <td>0.000000</td>\n",
       "      <td>0.0</td>\n",
       "      <td>0.000000e+00</td>\n",
       "    </tr>\n",
       "    <tr>\n",
       "      <th>1969</th>\n",
       "      <td>seekor anjing melompat ke dalam air.</td>\n",
       "      <td>Seekor anjing melompat ke dalam air.</td>\n",
       "      <td>5.000000</td>\n",
       "      <td>5.0</td>\n",
       "      <td>0.000000e+00</td>\n",
       "    </tr>\n",
       "    <tr>\n",
       "      <th>2045</th>\n",
       "      <td>Seekor anjing hitam mengambil di salju.</td>\n",
       "      <td>Seorang pemain skateboard melompat di jalan.</td>\n",
       "      <td>0.000000</td>\n",
       "      <td>0.0</td>\n",
       "      <td>0.000000e+00</td>\n",
       "    </tr>\n",
       "    <tr>\n",
       "      <th>2078</th>\n",
       "      <td>Debat ditutup.</td>\n",
       "      <td>Debat ditutup.</td>\n",
       "      <td>5.000000</td>\n",
       "      <td>5.0</td>\n",
       "      <td>0.000000e+00</td>\n",
       "    </tr>\n",
       "    <tr>\n",
       "      <th>2149</th>\n",
       "      <td>(Ilmu komputer) terjadinya hasil yang salah ya...</td>\n",
       "      <td>(Ilmu komputer) terjadinya hasil yang salah ya...</td>\n",
       "      <td>5.000000</td>\n",
       "      <td>5.0</td>\n",
       "      <td>2.980232e-07</td>\n",
       "    </tr>\n",
       "    <tr>\n",
       "      <th>2169</th>\n",
       "      <td>Persetujuan Risalah dari pertemuan sebelumnya</td>\n",
       "      <td>Persetujuan Risalah dari pertemuan sebelumnya</td>\n",
       "      <td>5.000000</td>\n",
       "      <td>5.0</td>\n",
       "      <td>0.000000e+00</td>\n",
       "    </tr>\n",
       "  </tbody>\n",
       "</table>\n",
       "</div>"
      ],
      "text/plain": [
       "                                               text1_id  \\\n",
       "128                                             Tunisia   \n",
       "176               Dua tewas dalam ledakan mobil Bahrain   \n",
       "178                Laporan Maij-Weggen (A5-0323 / 2000)   \n",
       "220                                      (Tepuk tangan)   \n",
       "228   Kenaikan harga pangan menimbulkan kekhawatiran...   \n",
       "293                           Itu bukan ide yang bagus.   \n",
       "413                 Sebuah pesawat terbang di kejauhan.   \n",
       "429                                     Tapi itu perlu.   \n",
       "509                         Seorang pria berlatih tinju   \n",
       "597          Mereka TIDAK berdaulat seperti sebelumnya.   \n",
       "656   mereka &quot;memiliki&quot; rubah karena berit...   \n",
       "881          Definisi istilah tergantung pada aplikasi.   \n",
       "893          Dua kambing berdiri di ladang dekat pohon.   \n",
       "1077              Mungkin ini bisa berhasil untuk Anda.   \n",
       "1112  Tiongkok Äė Äėakan melindungi kepentingan ‚Ä b...   \n",
       "1247  Seorang wanita dan seekor anjing berdiri di ru...   \n",
       "1446  China mengirim armada terbesar ke pulau-pulau ...   \n",
       "1614                (Parlemen menerima amandemen lisan)   \n",
       "1950  Seekor anjing coklat dan putih berlari melinta...   \n",
       "1969               seekor anjing melompat ke dalam air.   \n",
       "2045            Seekor anjing hitam mengambil di salju.   \n",
       "2078                                     Debat ditutup.   \n",
       "2149  (Ilmu komputer) terjadinya hasil yang salah ya...   \n",
       "2169      Persetujuan Risalah dari pertemuan sebelumnya   \n",
       "\n",
       "                                               text2_id  Model Score  \\\n",
       "128                                             Tunisia     5.000000   \n",
       "176               Dua tewas dalam ledakan mobil Bahrain     5.000000   \n",
       "178                Laporan Maij-Weggen (A5-0323 / 2000)     5.000000   \n",
       "220   Saya sudah menjawab tentang hal ini, dan saya ...     0.000000   \n",
       "228   Orang Amerika Chris Horner memenangkan Tur Spa...     0.000000   \n",
       "293                           Itu bukan ide yang bagus.     5.000000   \n",
       "413                   Seorang wanita dengan kuda putih.     0.000000   \n",
       "429                                     Tapi itu perlu.     5.000000   \n",
       "509                         Seorang pria berlatih tinju     5.000000   \n",
       "597   untuk mengulang: Mereka TIDAK berdaulat sepert...     4.400919   \n",
       "656   Saya menabung untuk itu karena saya tahu saya ...     0.000000   \n",
       "881          Definisi istilah tergantung pada aplikasi.     5.000000   \n",
       "893   Sebuah perahu besar menarik sebuah perahu puti...     0.000000   \n",
       "1077              Mungkin ini bisa berhasil untuk Anda.     5.000000   \n",
       "1112  Obama dalam konfrontasi langsung dengan Putin ...     0.000000   \n",
       "1247  Seorang pria membawa tanda sambil berdiri di t...     0.000000   \n",
       "1446  Kapal-kapal Tiongkok memasuki perairan lepas d...     3.400590   \n",
       "1614                (Parlemen menerima amandemen lisan)     5.000000   \n",
       "1950            Seseorang tergantung di tebing berbatu.     0.000000   \n",
       "1969               Seekor anjing melompat ke dalam air.     5.000000   \n",
       "2045       Seorang pemain skateboard melompat di jalan.     0.000000   \n",
       "2078                                     Debat ditutup.     5.000000   \n",
       "2149  (Ilmu komputer) terjadinya hasil yang salah ya...     5.000000   \n",
       "2169      Persetujuan Risalah dari pertemuan sebelumnya     5.000000   \n",
       "\n",
       "      Human Score    Difference  \n",
       "128           5.0  0.000000e+00  \n",
       "176           5.0  2.980232e-07  \n",
       "178           5.0  0.000000e+00  \n",
       "220           0.0  0.000000e+00  \n",
       "228           0.0  0.000000e+00  \n",
       "293           5.0  0.000000e+00  \n",
       "413           0.0  0.000000e+00  \n",
       "429           5.0  0.000000e+00  \n",
       "509           5.0  2.980232e-07  \n",
       "597           4.4  9.190798e-04  \n",
       "656           0.0  0.000000e+00  \n",
       "881           5.0  0.000000e+00  \n",
       "893           0.0  0.000000e+00  \n",
       "1077          5.0  2.980232e-07  \n",
       "1112          0.0  0.000000e+00  \n",
       "1247          0.0  0.000000e+00  \n",
       "1446          3.4  5.901217e-04  \n",
       "1614          5.0  0.000000e+00  \n",
       "1950          0.0  0.000000e+00  \n",
       "1969          5.0  0.000000e+00  \n",
       "2045          0.0  0.000000e+00  \n",
       "2078          5.0  0.000000e+00  \n",
       "2149          5.0  2.980232e-07  \n",
       "2169          5.0  0.000000e+00  "
      ]
     },
     "execution_count": 137,
     "metadata": {},
     "output_type": "execute_result"
    }
   ],
   "source": [
    "below_thres_df = df_test[df_test['Difference'] < 0.001]\n",
    "below_thres_df"
   ]
  },
  {
   "cell_type": "code",
   "execution_count": 138,
   "id": "beautiful-gender",
   "metadata": {},
   "outputs": [
    {
     "data": {
      "text/html": [
       "<div>\n",
       "<style scoped>\n",
       "    .dataframe tbody tr th:only-of-type {\n",
       "        vertical-align: middle;\n",
       "    }\n",
       "\n",
       "    .dataframe tbody tr th {\n",
       "        vertical-align: top;\n",
       "    }\n",
       "\n",
       "    .dataframe thead th {\n",
       "        text-align: right;\n",
       "    }\n",
       "</style>\n",
       "<table border=\"1\" class=\"dataframe\">\n",
       "  <thead>\n",
       "    <tr style=\"text-align: right;\">\n",
       "      <th></th>\n",
       "      <th>text1_id</th>\n",
       "      <th>text2_id</th>\n",
       "      <th>Model Score</th>\n",
       "      <th>Human Score</th>\n",
       "      <th>Difference</th>\n",
       "    </tr>\n",
       "  </thead>\n",
       "  <tbody>\n",
       "    <tr>\n",
       "      <th>128</th>\n",
       "      <td>Tunisia</td>\n",
       "      <td>Tunisia</td>\n",
       "      <td>5.0</td>\n",
       "      <td>5.00</td>\n",
       "      <td>0.000000e+00</td>\n",
       "    </tr>\n",
       "    <tr>\n",
       "      <th>176</th>\n",
       "      <td>Dua tewas dalam ledakan mobil Bahrain</td>\n",
       "      <td>Dua tewas dalam ledakan mobil Bahrain</td>\n",
       "      <td>5.0</td>\n",
       "      <td>5.00</td>\n",
       "      <td>2.980232e-07</td>\n",
       "    </tr>\n",
       "    <tr>\n",
       "      <th>178</th>\n",
       "      <td>Laporan Maij-Weggen (A5-0323 / 2000)</td>\n",
       "      <td>Laporan Maij-Weggen (A5-0323 / 2000)</td>\n",
       "      <td>5.0</td>\n",
       "      <td>5.00</td>\n",
       "      <td>0.000000e+00</td>\n",
       "    </tr>\n",
       "    <tr>\n",
       "      <th>293</th>\n",
       "      <td>Itu bukan ide yang bagus.</td>\n",
       "      <td>Itu bukan ide yang bagus.</td>\n",
       "      <td>5.0</td>\n",
       "      <td>5.00</td>\n",
       "      <td>0.000000e+00</td>\n",
       "    </tr>\n",
       "    <tr>\n",
       "      <th>429</th>\n",
       "      <td>Tapi itu perlu.</td>\n",
       "      <td>Tapi itu perlu.</td>\n",
       "      <td>5.0</td>\n",
       "      <td>5.00</td>\n",
       "      <td>0.000000e+00</td>\n",
       "    </tr>\n",
       "    <tr>\n",
       "      <th>509</th>\n",
       "      <td>Seorang pria berlatih tinju</td>\n",
       "      <td>Seorang pria berlatih tinju</td>\n",
       "      <td>5.0</td>\n",
       "      <td>5.00</td>\n",
       "      <td>2.980232e-07</td>\n",
       "    </tr>\n",
       "    <tr>\n",
       "      <th>881</th>\n",
       "      <td>Definisi istilah tergantung pada aplikasi.</td>\n",
       "      <td>Definisi istilah tergantung pada aplikasi.</td>\n",
       "      <td>5.0</td>\n",
       "      <td>5.00</td>\n",
       "      <td>0.000000e+00</td>\n",
       "    </tr>\n",
       "    <tr>\n",
       "      <th>1077</th>\n",
       "      <td>Mungkin ini bisa berhasil untuk Anda.</td>\n",
       "      <td>Mungkin ini bisa berhasil untuk Anda.</td>\n",
       "      <td>5.0</td>\n",
       "      <td>5.00</td>\n",
       "      <td>2.980232e-07</td>\n",
       "    </tr>\n",
       "    <tr>\n",
       "      <th>1498</th>\n",
       "      <td>Pria tertua di dunia meninggal pada usia 116</td>\n",
       "      <td>Pria tertua di dunia meninggal pada usia 116</td>\n",
       "      <td>5.0</td>\n",
       "      <td>4.60</td>\n",
       "      <td>3.999997e-01</td>\n",
       "    </tr>\n",
       "    <tr>\n",
       "      <th>1614</th>\n",
       "      <td>(Parlemen menerima amandemen lisan)</td>\n",
       "      <td>(Parlemen menerima amandemen lisan)</td>\n",
       "      <td>5.0</td>\n",
       "      <td>5.00</td>\n",
       "      <td>0.000000e+00</td>\n",
       "    </tr>\n",
       "    <tr>\n",
       "      <th>2078</th>\n",
       "      <td>Debat ditutup.</td>\n",
       "      <td>Debat ditutup.</td>\n",
       "      <td>5.0</td>\n",
       "      <td>5.00</td>\n",
       "      <td>0.000000e+00</td>\n",
       "    </tr>\n",
       "    <tr>\n",
       "      <th>2149</th>\n",
       "      <td>(Ilmu komputer) terjadinya hasil yang salah ya...</td>\n",
       "      <td>(Ilmu komputer) terjadinya hasil yang salah ya...</td>\n",
       "      <td>5.0</td>\n",
       "      <td>5.00</td>\n",
       "      <td>2.980232e-07</td>\n",
       "    </tr>\n",
       "    <tr>\n",
       "      <th>2169</th>\n",
       "      <td>Persetujuan Risalah dari pertemuan sebelumnya</td>\n",
       "      <td>Persetujuan Risalah dari pertemuan sebelumnya</td>\n",
       "      <td>5.0</td>\n",
       "      <td>5.00</td>\n",
       "      <td>0.000000e+00</td>\n",
       "    </tr>\n",
       "    <tr>\n",
       "      <th>2473</th>\n",
       "      <td>Laporan Van Orden (A5-0241 / 2000)</td>\n",
       "      <td>Laporan Van Orden (A5-0241 / 2000)</td>\n",
       "      <td>5.0</td>\n",
       "      <td>4.75</td>\n",
       "      <td>2.500000e-01</td>\n",
       "    </tr>\n",
       "  </tbody>\n",
       "</table>\n",
       "</div>"
      ],
      "text/plain": [
       "                                               text1_id  \\\n",
       "128                                             Tunisia   \n",
       "176               Dua tewas dalam ledakan mobil Bahrain   \n",
       "178                Laporan Maij-Weggen (A5-0323 / 2000)   \n",
       "293                           Itu bukan ide yang bagus.   \n",
       "429                                     Tapi itu perlu.   \n",
       "509                         Seorang pria berlatih tinju   \n",
       "881          Definisi istilah tergantung pada aplikasi.   \n",
       "1077              Mungkin ini bisa berhasil untuk Anda.   \n",
       "1498       Pria tertua di dunia meninggal pada usia 116   \n",
       "1614                (Parlemen menerima amandemen lisan)   \n",
       "2078                                     Debat ditutup.   \n",
       "2149  (Ilmu komputer) terjadinya hasil yang salah ya...   \n",
       "2169      Persetujuan Risalah dari pertemuan sebelumnya   \n",
       "2473                 Laporan Van Orden (A5-0241 / 2000)   \n",
       "\n",
       "                                               text2_id  Model Score  \\\n",
       "128                                             Tunisia          5.0   \n",
       "176               Dua tewas dalam ledakan mobil Bahrain          5.0   \n",
       "178                Laporan Maij-Weggen (A5-0323 / 2000)          5.0   \n",
       "293                           Itu bukan ide yang bagus.          5.0   \n",
       "429                                     Tapi itu perlu.          5.0   \n",
       "509                         Seorang pria berlatih tinju          5.0   \n",
       "881          Definisi istilah tergantung pada aplikasi.          5.0   \n",
       "1077              Mungkin ini bisa berhasil untuk Anda.          5.0   \n",
       "1498       Pria tertua di dunia meninggal pada usia 116          5.0   \n",
       "1614                (Parlemen menerima amandemen lisan)          5.0   \n",
       "2078                                     Debat ditutup.          5.0   \n",
       "2149  (Ilmu komputer) terjadinya hasil yang salah ya...          5.0   \n",
       "2169      Persetujuan Risalah dari pertemuan sebelumnya          5.0   \n",
       "2473                 Laporan Van Orden (A5-0241 / 2000)          5.0   \n",
       "\n",
       "      Human Score    Difference  \n",
       "128          5.00  0.000000e+00  \n",
       "176          5.00  2.980232e-07  \n",
       "178          5.00  0.000000e+00  \n",
       "293          5.00  0.000000e+00  \n",
       "429          5.00  0.000000e+00  \n",
       "509          5.00  2.980232e-07  \n",
       "881          5.00  0.000000e+00  \n",
       "1077         5.00  2.980232e-07  \n",
       "1498         4.60  3.999997e-01  \n",
       "1614         5.00  0.000000e+00  \n",
       "2078         5.00  0.000000e+00  \n",
       "2149         5.00  2.980232e-07  \n",
       "2169         5.00  0.000000e+00  \n",
       "2473         4.75  2.500000e-01  "
      ]
     },
     "execution_count": 138,
     "metadata": {},
     "output_type": "execute_result"
    }
   ],
   "source": [
    "same_values_df = df_test.loc[df_test['text1_id'] == df_test['text2_id']]\n",
    "same_values_df"
   ]
  },
  {
   "cell_type": "code",
   "execution_count": 139,
   "id": "major-brooks",
   "metadata": {},
   "outputs": [
    {
     "data": {
      "text/html": [
       "<div>\n",
       "<style scoped>\n",
       "    .dataframe tbody tr th:only-of-type {\n",
       "        vertical-align: middle;\n",
       "    }\n",
       "\n",
       "    .dataframe tbody tr th {\n",
       "        vertical-align: top;\n",
       "    }\n",
       "\n",
       "    .dataframe thead th {\n",
       "        text-align: right;\n",
       "    }\n",
       "</style>\n",
       "<table border=\"1\" class=\"dataframe\">\n",
       "  <thead>\n",
       "    <tr style=\"text-align: right;\">\n",
       "      <th></th>\n",
       "      <th>text1_id</th>\n",
       "      <th>text2_id</th>\n",
       "      <th>Model Score</th>\n",
       "      <th>Human Score</th>\n",
       "      <th>Difference</th>\n",
       "    </tr>\n",
       "  </thead>\n",
       "  <tbody>\n",
       "    <tr>\n",
       "      <th>4</th>\n",
       "      <td>perbatasan atau batas suatu objek</td>\n",
       "      <td>merencanakan, mengatur, dan melaksanakan (suat...</td>\n",
       "      <td>0.331348</td>\n",
       "      <td>0.0</td>\n",
       "      <td>0.331348</td>\n",
       "    </tr>\n",
       "    <tr>\n",
       "      <th>8</th>\n",
       "      <td>tahan dalam keadaan atau situasi tertentu</td>\n",
       "      <td>buat dan isi dengan tugas atau fungsi.</td>\n",
       "      <td>1.346072</td>\n",
       "      <td>0.0</td>\n",
       "      <td>1.346072</td>\n",
       "    </tr>\n",
       "    <tr>\n",
       "      <th>58</th>\n",
       "      <td>Bebek putih berdiri di tanah.</td>\n",
       "      <td>Seorang wanita bertopi hitam berdiri di dekat ...</td>\n",
       "      <td>1.159547</td>\n",
       "      <td>0.0</td>\n",
       "      <td>1.159547</td>\n",
       "    </tr>\n",
       "    <tr>\n",
       "      <th>62</th>\n",
       "      <td>Pesawat terbang menghadap kamera.</td>\n",
       "      <td>Seekor sapi sendirian duduk di dingin halaman.</td>\n",
       "      <td>0.633700</td>\n",
       "      <td>0.0</td>\n",
       "      <td>0.633700</td>\n",
       "    </tr>\n",
       "    <tr>\n",
       "      <th>70</th>\n",
       "      <td>Mereka bisa keluar dari level sedikit, tetapi ...</td>\n",
       "      <td>Ya, meskipun mereka bisa sedikit asam.</td>\n",
       "      <td>1.620105</td>\n",
       "      <td>0.0</td>\n",
       "      <td>1.620105</td>\n",
       "    </tr>\n",
       "    <tr>\n",
       "      <th>...</th>\n",
       "      <td>...</td>\n",
       "      <td>...</td>\n",
       "      <td>...</td>\n",
       "      <td>...</td>\n",
       "      <td>...</td>\n",
       "    </tr>\n",
       "    <tr>\n",
       "      <th>2531</th>\n",
       "      <td>Sekelompok orang menembakkan balon udara panas.</td>\n",
       "      <td>Sekelompok besar orang menunggang kuda coklat ...</td>\n",
       "      <td>0.616109</td>\n",
       "      <td>0.0</td>\n",
       "      <td>0.616109</td>\n",
       "    </tr>\n",
       "    <tr>\n",
       "      <th>2539</th>\n",
       "      <td>Saya terkejut dia bahkan terpilih ...</td>\n",
       "      <td>itu bekerja dalam kasus snyder.</td>\n",
       "      <td>1.182706</td>\n",
       "      <td>0.0</td>\n",
       "      <td>1.182706</td>\n",
       "    </tr>\n",
       "    <tr>\n",
       "      <th>2543</th>\n",
       "      <td>Semua mata tertuju pada panglima militer baru ...</td>\n",
       "      <td>Peringatan banjir di Prancis saat permukaan ai...</td>\n",
       "      <td>0.591049</td>\n",
       "      <td>0.0</td>\n",
       "      <td>0.591049</td>\n",
       "    </tr>\n",
       "    <tr>\n",
       "      <th>2556</th>\n",
       "      <td>Batuan bulan menunjukkan bola bumi yang lahir ...</td>\n",
       "      <td>Menteri India terbunuh dalam tabrakan langsung</td>\n",
       "      <td>0.220681</td>\n",
       "      <td>0.0</td>\n",
       "      <td>0.220681</td>\n",
       "    </tr>\n",
       "    <tr>\n",
       "      <th>2570</th>\n",
       "      <td>Anda MUNGKIN tidak memiliki peluang saat ini.</td>\n",
       "      <td>Mengatakan &amp;quot;terima kasih, saya tidak puny...</td>\n",
       "      <td>1.835099</td>\n",
       "      <td>0.0</td>\n",
       "      <td>1.835099</td>\n",
       "    </tr>\n",
       "  </tbody>\n",
       "</table>\n",
       "<p>165 rows × 5 columns</p>\n",
       "</div>"
      ],
      "text/plain": [
       "                                               text1_id  \\\n",
       "4                     perbatasan atau batas suatu objek   \n",
       "8             tahan dalam keadaan atau situasi tertentu   \n",
       "58                        Bebek putih berdiri di tanah.   \n",
       "62                    Pesawat terbang menghadap kamera.   \n",
       "70    Mereka bisa keluar dari level sedikit, tetapi ...   \n",
       "...                                                 ...   \n",
       "2531    Sekelompok orang menembakkan balon udara panas.   \n",
       "2539              Saya terkejut dia bahkan terpilih ...   \n",
       "2543  Semua mata tertuju pada panglima militer baru ...   \n",
       "2556  Batuan bulan menunjukkan bola bumi yang lahir ...   \n",
       "2570      Anda MUNGKIN tidak memiliki peluang saat ini.   \n",
       "\n",
       "                                               text2_id  Model Score  \\\n",
       "4     merencanakan, mengatur, dan melaksanakan (suat...     0.331348   \n",
       "8                buat dan isi dengan tugas atau fungsi.     1.346072   \n",
       "58    Seorang wanita bertopi hitam berdiri di dekat ...     1.159547   \n",
       "62       Seekor sapi sendirian duduk di dingin halaman.     0.633700   \n",
       "70               Ya, meskipun mereka bisa sedikit asam.     1.620105   \n",
       "...                                                 ...          ...   \n",
       "2531  Sekelompok besar orang menunggang kuda coklat ...     0.616109   \n",
       "2539                    itu bekerja dalam kasus snyder.     1.182706   \n",
       "2543  Peringatan banjir di Prancis saat permukaan ai...     0.591049   \n",
       "2556     Menteri India terbunuh dalam tabrakan langsung     0.220681   \n",
       "2570  Mengatakan &quot;terima kasih, saya tidak puny...     1.835099   \n",
       "\n",
       "      Human Score  Difference  \n",
       "4             0.0    0.331348  \n",
       "8             0.0    1.346072  \n",
       "58            0.0    1.159547  \n",
       "62            0.0    0.633700  \n",
       "70            0.0    1.620105  \n",
       "...           ...         ...  \n",
       "2531          0.0    0.616109  \n",
       "2539          0.0    1.182706  \n",
       "2543          0.0    0.591049  \n",
       "2556          0.0    0.220681  \n",
       "2570          0.0    1.835099  \n",
       "\n",
       "[165 rows x 5 columns]"
      ]
     },
     "execution_count": 139,
     "metadata": {},
     "output_type": "execute_result"
    }
   ],
   "source": [
    "rows_condition = (df_test['Human Score'] == 0) & (df_test['Model Score'] > 0)\n",
    "result_rows = df_test.loc[rows_condition]\n",
    "result_rows"
   ]
  },
  {
   "cell_type": "code",
   "execution_count": 24,
   "id": "supreme-planet",
   "metadata": {},
   "outputs": [
    {
     "data": {
      "image/png": "[encoded data removed]",
      "text/plain": [
       "<Figure size 432x288 with 1 Axes>"
      ]
     },
     "metadata": {
      "needs_background": "light"
     },
     "output_type": "display_data"
    }
   ],
   "source": [
    "import matplotlib.pyplot as plt\n",
    "\n",
    "# Create a figure and axis object\n",
    "fig, ax = plt.subplots()\n",
    "\n",
    "result = {\n",
    "    \"indolem/indobert-base-uncased\": [0.7819592898900307, 0.8140050312092975, 0.8257228143176361, 0.8335008785849065, 0.8359033767297225, 0.8393470159903176, 0.8392409623216069, 0.8409582811132297, 0.839341678293986, 0.840136996998779, 0.8413570144706057, 0.8401481353553615, 0.8421059924807303, 0.8422774939507592, 0.8422045443851396, 0.8436987584086902, 0.8448137559564487, 0.8427129159272722, 0.8426448115723246, 0.8432373615519031, 0.8452719235841619, 0.8438807058735336, 0.841618620486103, 0.8436362088259339, 0.8430981236730895, 0.8448383405171174, 0.8411947488867871, 0.8438376395742785, 0.8432342753740629, 0.8432658720753848, 0.8442072264381377, 0.8445788015296022, 0.8436384869209358, 0.8433412934378158, 0.841410681244876, 0.8417974880400155, 0.8420699032609268, 0.8434172828471387, 0.8418666467711823, 0.8425047131018241, 0.8425013953450967, 0.8400902381004034, 0.8395271144594955, 0.838794511063675, 0.8403486055914491, 0.8404638738151778, 0.838511129184538, 0.8357654997619649, 0.839447462581539, 0.8389520906019439],\n",
    "    \"indobenchmark/indobert-large-p1\": [0.8315078976903023, 0.8393966247310835, 0.8426599355490602, 0.841093518183017, 0.8489375609854036, 0.8473418364429638, 0.8474955663339047, 0.8475781956595125, 0.8461833224053023, 0.8476082908525395, 0.8448224396455638, 0.8484133824826133, 0.8483119550696693, 0.8479826321354582, 0.8461700351652722, 0.8483163270649906, 0.8485146868040369, 0.8485658365762082, 0.849530478549016, 0.8462373303675376, 0.8459802565243759, 0.8472565585809894, 0.8469884054519016, 0.847407970566147, 0.8450679182011321, 0.8466236524054417, 0.8455428217242251, 0.8464900071857574, 0.8446786803772331, 0.8454792389817756, 0.8457782056399813, 0.8457952478140714, 0.8454194893234065, 0.8448974637206675, 0.8447124306204972, 0.8439320729807629, 0.8439749651578358, 0.8433213045686972, 0.8458010030420565, 0.8447832372692544, 0.8428638557655167, 0.8433539121556196, 0.8423371964541934, 0.8413719543989051, 0.8420614623972067, 0.8419715034351637, 0.8415250053474609, 0.8415343411012034, 0.8431739334476908, 0.8417405411196827],\n",
    "    \"indobenchmark/indobert-base-p1\": [0.8095893473996345, 0.8152125864419962, 0.8159184370864611, 0.8219262089697198, 0.8228916560809477, 0.8219942149718397, 0.8236477598504418, 0.8221943230011695, 0.8192231303816662, 0.823241975191931, 0.8208515826043556, 0.8214065345011847, 0.8227776480955219, 0.8254758300287441, 0.8206892993718147, 0.8179040809375583, 0.8196977604482426, 0.8200231007581852, 0.8234957473024366, 0.822566840223773, 0.8247343405263049, 0.8201822451872718, 0.8224361178291205, 0.8239647425856901, 0.820409941994017, 0.8238613009437983, 0.8232850199612572, 0.8217144857762476, 0.8201048639805956, 0.81775551467548, 0.819346300369164, 0.8201246355250239, 0.8197686922868331, 0.8194843484190386, 0.8212194955888871, 0.8214247882751186, 0.8188379586320697, 0.8174142805525069, 0.8184337710310939, 0.8200004371143869, 0.8207915346013532, 0.8218301653922808, 0.820867437740415, 0.8179811030273818, 0.8178889881389727, 0.8204880332596607, 0.8201721235681334, 0.8191891716305937, 0.8176192832724541, 0.81638839468813] \n",
    "}\n",
    "\n",
    "# Plot each time series using a loop\n",
    "for key, values in result.items():\n",
    "    ax.plot(values, label=key)\n",
    "\n",
    "# Add labels and title\n",
    "ax.set_xlabel('Epoch')\n",
    "ax.set_ylabel('Spearman-Pearson Rank Correlation Score')\n",
    "ax.set_title('Indonesian Sentence BERT evaluation')\n",
    "\n",
    "# Add a legend to identify the keys\n",
    "ax.legend()\n",
    "\n",
    "# Show the plot\n",
    "plt.show()"
   ]
  },
  {
   "cell_type": "code",
   "execution_count": 161,
   "id": "saved-lender",
   "metadata": {},
   "outputs": [
    {
     "name": "stdout",
     "output_type": "stream",
     "text": [
      "['8279', '1774', '11207', '2125', '421']\n",
      "10972\n"
     ]
    }
   ],
   "source": [
    "file_path = \"/home/jupyter-23521027/refresh-bert/data/preprocessed-input-directory/liputan6.validation.indobertlargep1.sbert\"\n",
    "\n",
    "existing_ids = []\n",
    "with open(file_path, 'r') as file:\n",
    "    lines = file.readlines()\n",
    "\n",
    "    for line in lines:\n",
    "        line = line.strip()\n",
    "\n",
    "        if line and ' ' not in line:\n",
    "            existing_ids.append(line.split(\"-\")[1])\n",
    "            \n",
    "print(existing_ids[:5])\n",
    "print(len(existing_ids))"
   ]
  },
  {
   "cell_type": "code",
   "execution_count": 27,
   "id": "fallen-wallet",
   "metadata": {},
   "outputs": [],
   "source": [
    "from sentence_transformers import SentenceTransformer, util\n",
    "\n",
    "def find_similarity(model: SentenceTransformer, sentence1: str, sentence2: str) -> float:\n",
    "    embeddings1 = model.encode(sentence1, convert_to_tensor=True)\n",
    "    embeddings2 = model.encode(sentence2, convert_to_tensor=True)\n",
    "\n",
    "    cosine_scores = util.cos_sim(embeddings1, embeddings2)\n",
    "    return float(cosine_scores[0][0])\n",
    "\n",
    "model = SentenceTransformer(\"/home/jupyter-23521027/refresh-bert/data/sbert/indobert-large-p1_dense_trained-epoch14\")"
   ]
  },
  {
   "cell_type": "code",
   "execution_count": 67,
   "id": "satellite-glass",
   "metadata": {},
   "outputs": [
    {
     "data": {
      "text/plain": [
       "-0.28312675654888153"
      ]
     },
     "execution_count": 67,
     "metadata": {},
     "output_type": "execute_result"
    }
   ],
   "source": [
    "sent1 = \"Apa perbedaan antara shawarma dan gyros?\"\n",
    "sent2 = \"Apa perbedaan antara portamento dan glissando?\"\n",
    "find_similarity(model, sentence1=sent1, sentence2=sent2) * 5"
   ]
  },
  {
   "cell_type": "code",
   "execution_count": 63,
   "id": "closed-northwest",
   "metadata": {},
   "outputs": [
    {
     "name": "stdout",
     "output_type": "stream",
     "text": [
      "Apakah ada cara untuk mengetahui apakah saya memerlukan visa transit untuk singgah di Inggris?\n",
      "Saya memiliki Layover di Jepang, Akan tinggal selama sebulan, Apakah saya memerlukan Visa Transit?\n",
      "1.0\n",
      "1.0691159963607788\n"
     ]
    }
   ],
   "source": [
    "idx = 29\n",
    "print(df.loc[df['score_inference'] < 2.5].iloc[idx].text1_id)\n",
    "print(df.loc[df['score_inference'] < 2.5].iloc[idx].text2_id)\n",
    "print(df.loc[df['score_inference'] < 2.5].iloc[idx].score)\n",
    "print(df.loc[df['score_inference'] < 2.5].iloc[idx].score_inference)"
   ]
  },
  {
   "cell_type": "markdown",
   "id": "equivalent-oracle",
   "metadata": {},
   "source": [
    "###### "
   ]
  }
 ],
 "metadata": {
  "kernelspec": {
   "display_name": "Python 3",
   "language": "python",
   "name": "python3"
  },
  "language_info": {
   "codemirror_mode": {
    "name": "ipython",
    "version": 3
   },
   "file_extension": ".py",
   "mimetype": "text/x-python",
   "name": "python",
   "nbconvert_exporter": "python",
   "pygments_lexer": "ipython3",
   "version": "3.7.9"
  }
 },
 "nbformat": 4,
 "nbformat_minor": 5
}
